{
 "cells": [
  {
   "cell_type": "code",
   "execution_count": 48,
   "metadata": {
    "pycharm": {
     "name": "#%%\n"
    }
   },
   "outputs": [],
   "source": [
    "import pandas as pd\n",
    "store = pd.HDFStore(\"q5-20230713180802-e1b79e949f22335aa42433db821c6296-details.h5\")"
   ]
  },
  {
   "cell_type": "code",
   "execution_count": 49,
   "metadata": {
    "pycharm": {
     "name": "#%%\n"
    }
   },
   "outputs": [
    {
     "data": {
      "text/plain": [
       "['/bp_time_avg',\n",
       " '/busy_time_avg',\n",
       " '/cpu_kafka_rate',\n",
       " '/cpu_tm_rate',\n",
       " '/idle_time_avg',\n",
       " '/rate_in_sum',\n",
       " '/rate_out_sum']"
      ]
     },
     "metadata": {},
     "output_type": "display_data"
    }
   ],
   "source": [
    "display(store.keys())"
   ]
  },
  {
   "cell_type": "code",
   "execution_count": 50,
   "metadata": {
    "pycharm": {
     "name": "#%%\n"
    }
   },
   "outputs": [],
   "source": [
    "df = store[\"/rate_out_sum\"]\n",
    "\n",
    "df[\"from_beginning\"] = df.index - df.index.min()\n",
    "df.index = df[\"from_beginning\"]"
   ]
  },
  {
   "cell_type": "code",
   "execution_count": 51,
   "metadata": {
    "pycharm": {
     "name": "#%%\n"
    }
   },
   "outputs": [
    {
     "data": {
      "text/plain": [
       "Index([                                                                                                  'Calc_select__bid_auction_AS__f0__Reinterpret_CASE__event_type___0___person_dateTime___event_type___1___auction_dateTime__bid_dateTime___AS_dateTime___where___event_type___2___',\n",
       "                                                                                                                                                                                                'Sink:_Sink_table__default_catalog_default_database_discard_sink___fields__auction__num__',\n",
       "                                                                                                                                                                                                                              'Calc_select__w_start_AS_starttime__w_end_AS_endtime__num__',\n",
       "                                                                                                                                                                                                                                                             'Calc_select__auction__num__',\n",
       "                                                                                                                                                                                                              'Calc_select___f0_AS_auction__num__w_start_AS_starttime__w_end_AS_endtime__',\n",
       "                               'Join_joinType__InnerJoin___where____starttime___starttime0__AND__endtime___endtime0__AND__num____maxn_____select__auction__num__starttime__endtime__maxn__starttime0__endtime0___leftInputSpec__HasUniqueKey___rightInputSpec__JoinKeyContainsUniqueKey__',\n",
       "                                                                                                                                                                                                                                                 'Calc_select__maxn__starttime__endtime__',\n",
       "                                                                                                                                                                                                                              'Source:_KafkaSource_default_catalog_default_database_kafka',\n",
       "                                                                                                                                                                                             'GroupAggregate_groupBy__starttime__endtime___select__starttime__endtime__MAX_num__AS_maxn__',\n",
       "       'GroupWindowAggregate_groupBy___f0___window__SlidingGroupWindow__w___dateTime__10000__2000____properties__w_start__w_end__w_rowtime__w_proctime___select___f0__COUNT____AS_num__start__w___AS_w_start__end__w___AS_w_end__rowtime__w___AS_w_rowtime__proctime__w___AS_w_proctime__',\n",
       "                                                                                                                                                                                                                                                                                       nan],\n",
       "      dtype='object')"
      ]
     },
     "execution_count": 51,
     "metadata": {},
     "output_type": "execute_result"
    }
   ],
   "source": [
    "df.columns.str.extract(r'task_name=\"([^\"]+)\"', expand=False).unique()"
   ]
  },
  {
   "cell_type": "code",
   "execution_count": 52,
   "metadata": {
    "pycharm": {
     "name": "#%%\n"
    }
   },
   "outputs": [],
   "source": [
    "df = df[df.index > pd.Timedelta(seconds=120)]\n",
    "df = df[df.index < pd.Timedelta(seconds=300-30)] # limit to the actual duration of the experiment"
   ]
  },
  {
   "cell_type": "code",
   "execution_count": 53,
   "metadata": {
    "pycharm": {
     "name": "#%%\n"
    }
   },
   "outputs": [
    {
     "data": {
      "text/plain": [
       "Index(['{task_id=\"bc764cd8ddf7a0cff126f51c16239658\",task_name=\"Source:_KafkaSource_default_catalog_default_database_kafka\"}'], dtype='object')"
      ]
     },
     "metadata": {},
     "output_type": "display_data"
    },
    {
     "data": {
      "text/plain": [
       "<seaborn.axisgrid.FacetGrid at 0x7ff05cf28640>"
      ]
     },
     "execution_count": 53,
     "metadata": {},
     "output_type": "execute_result"
    },
    {
     "data": {
      "image/png": "[encoded data removed]",
      "text/plain": [
       "<Figure size 432x288 with 1 Axes>"
      ]
     },
     "metadata": {
      "needs_background": "light"
     },
     "output_type": "display_data"
    },
    {
     "data": {
      "image/png": "[encoded data removed]",
      "text/plain": [
       "<Figure size 360x360 with 1 Axes>"
      ]
     },
     "metadata": {
      "needs_background": "light"
     },
     "output_type": "display_data"
    }
   ],
   "source": [
    "import matplotlib.pyplot as plt\n",
    "import re\n",
    "import seaborn as sns\n",
    "df2 = df.filter(regex=r'.*task_name=\"Source.*', axis=1)\n",
    "\n",
    "fig, ax = plt.subplots()\n",
    "df2.plot(ax=ax, legend=False)\n",
    "\n",
    "#df2 = df2.mean(axis=1)\n",
    "#fig, ax = plt.subplots()\n",
    "#import seaborn as sns\n",
    "display(df2.columns)\n",
    "for i, c in enumerate(df2.columns):\n",
    "    df2= df2.rename(columns={c: \"{}\".format(i)})\n",
    "    \n",
    "sns.catplot(data=df2, kind=\"box\")\n"
   ]
  },
  {
   "cell_type": "code",
   "execution_count": null,
   "metadata": {
    "pycharm": {
     "name": "#%%\n"
    }
   },
   "outputs": [],
   "source": []
  }
 ],
 "metadata": {
  "kernelspec": {
   "display_name": "Python 3",
   "language": "python",
   "name": "python3"
  },
  "language_info": {
   "codemirror_mode": {
    "name": "ipython",
    "version": 3
   },
   "file_extension": ".py",
   "mimetype": "text/x-python",
   "name": "python",
   "nbconvert_exporter": "python",
   "pygments_lexer": "ipython3",
   "version": "3.9.2"
  },
  "orig_nbformat": 4
 },
 "nbformat": 4,
 "nbformat_minor": 2
}