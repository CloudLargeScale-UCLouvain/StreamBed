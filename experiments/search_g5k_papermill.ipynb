{
 "cells": [
  {
   "cell_type": "code",
   "execution_count": 1,
   "metadata": {
    "tags": [
     "parameters"
    ]
   },
   "outputs": [],
   "source": [
    "results_path = \"search-results/\"\n",
    "xp_name = \"query\"\n",
    "\n",
    "job_managers_qty= 2\n",
    "kafka_qty= 8\n",
    "kafka_partitions= 32\n",
    "kafka_replicas= 8\n",
    "kafka_node_selector= \"kafka\"\n",
    "# eval\n",
    "events_num= 12000000000\n",
    "source_parallelism= 32\n",
    "\n",
    "memory_granularity = 32768\n",
    "memory_range = [32768, 65536]\n",
    "task_slots_minimal = 9\n",
    "task_slots_limits = [80]\n",
    "initial_parallelism = 1\n",
    "reset_kafka_data = True\n",
    "limit_backpressure_source = 0\n",
    "monitoring_step = \"5s\"\n",
    "notebooks = [\"/xp_intro_q5_kafka_custom_ratelimit\"]\n",
    "cpu = 16\n",
    "task_slots_per_task_manager = 16\n",
    "task_managers_qty = 8\n",
    "run = 0\n",
    "warmup = 450\n",
    "timeout = 600\n",
    "nb_runs_throughput = 1\n",
    "nb_runs_parallelism = 1\n",
    "kind = False\n",
    "g5k = True\n",
    "proxmox = False\n",
    "results = \"\"\n",
    "previous_results = [] \n",
    "filter_data = \"\"\n",
    "dichotomic_mst_tuning = { #q5/q8! beware\n",
    "    \"initial_rate\": 10**8,\n",
    "    \"slide_window\": 75,\n",
    "    \"size_window\": 60,\n",
    "    \"observation_size\": 30,\n",
    "    \"timeout\": 900,\n",
    "    \"mean_threshold\": 0.01,\n",
    "    \"higher_bound_ratio\": 2,\n",
    "    \"cooldown_throughput\": 200,\n",
    "    #\"warmup\": 120 # usage of higher level parameter\n",
    "    #\"nb_sources\": usage of of higher level parameter\n",
    "}\n",
    "\n",
    "optimization = {\n",
    "    \"nb_iterations\": 20,\n",
    "    \"base_estimator\": \"gp\",\n",
    "    \"n_initial_points\": 6,\n",
    "    \"initial_point_generator\": \"grid\",\n",
    "    \"acq_func\": \"EI\",\n",
    "    \"random_state\": 42,\n",
    "}"
   ]
  },
  {
   "cell_type": "code",
   "execution_count": 2,
   "metadata": {},
   "outputs": [
    {
     "name": "stderr",
     "output_type": "stream",
     "text": [
      "/home/grosinosky/.local/lib/python3.9/site-packages/pandas/core/computation/expressions.py:20: UserWarning: Pandas requires version '2.7.3' or newer of 'numexpr' (version '2.7.2' currently installed).\n",
      "  from pandas.core.computation.check import NUMEXPR_INSTALLED\n",
      "/home/grosinosky/.local/lib/python3.9/site-packages/pandas/core/arrays/masked.py:64: UserWarning: Pandas requires version '1.3.2' or newer of 'bottleneck' (version '1.2.1' currently installed).\n",
      "  from pandas.core import (\n"
     ]
    }
   ],
   "source": [
    "import pandas as pd\n",
    "from sklearn.model_selection import train_test_split\n",
    "from sklearn.preprocessing import PolynomialFeatures, FunctionTransformer\n",
    "from sklearn.linear_model import LinearRegression\n",
    "from sklearn.metrics import mean_squared_error, r2_score\n",
    "from sklearn.model_selection import LeaveOneOut, cross_val_score\n",
    "from sklearn.pipeline import make_pipeline\n",
    "import seaborn as sns\n",
    "from matplotlib import pyplot as plt\n",
    "import logging\n",
    "import numpy as np\n",
    "from time import sleep\n",
    "import sys\n",
    "%run ../common/scripts.ipynb\n",
    "if \"../streambed\" not in sys.path:\n",
    "    sys.path.append(\"../streambed\")\n",
    "import streambed\n",
    "streambed.setup_logging(default_path=\"./logging.yaml\", default_level=logging.WARN)\n",
    "logger = logging.getLogger('streambed')\n",
    "if kind:\n",
    "    streambed.init_kind()\n",
    "elif g5k:\n",
    "    streambed.init_g5k()\n",
    "else:\n",
    "    streambed.init_remote()\n",
    "\n",
    "logging.info(\"Execute notebook\")"
   ]
  },
  {
   "cell_type": "code",
   "execution_count": 3,
   "metadata": {},
   "outputs": [
    {
     "name": "stdout",
     "output_type": "stream",
     "text": [
      "gros-1.nancy.grid5000.fr\t{'beta.kubernetes.io/arch': 'amd64', 'beta.kubernetes.io/os': 'linux', 'kubernetes.io/arch': 'amd64', 'kubernetes.io/hostname': 'gros-1.nancy.grid5000.fr', 'kubernetes.io/os': 'linux', 'node-role.kubernetes.io/controlplane': 'true', 'node-role.kubernetes.io/etcd': 'true'}\n",
      "gros-10.nancy.grid5000.fr\t{'beta.kubernetes.io/arch': 'amd64', 'beta.kubernetes.io/os': 'linux', 'kubernetes.io/arch': 'amd64', 'kubernetes.io/hostname': 'gros-10.nancy.grid5000.fr', 'kubernetes.io/os': 'linux', 'node-role.kubernetes.io/worker': 'true', 'tier': 'manager'}\n",
      "gros-100.nancy.grid5000.fr\t{'beta.kubernetes.io/arch': 'amd64', 'beta.kubernetes.io/os': 'linux', 'kubernetes.io/arch': 'amd64', 'kubernetes.io/hostname': 'gros-100.nancy.grid5000.fr', 'kubernetes.io/os': 'linux', 'node-role.kubernetes.io/worker': 'true', 'tier': 'jobmanager'}\n",
      "gros-101.nancy.grid5000.fr\t{'beta.kubernetes.io/arch': 'amd64', 'beta.kubernetes.io/os': 'linux', 'kubernetes.io/arch': 'amd64', 'kubernetes.io/hostname': 'gros-101.nancy.grid5000.fr', 'kubernetes.io/os': 'linux', 'node-role.kubernetes.io/worker': 'true', 'tier': 'jobmanager'}\n",
      "gros-102.nancy.grid5000.fr\t{'beta.kubernetes.io/arch': 'amd64', 'beta.kubernetes.io/os': 'linux', 'kubernetes.io/arch': 'amd64', 'kubernetes.io/hostname': 'gros-102.nancy.grid5000.fr', 'kubernetes.io/os': 'linux', 'node-role.kubernetes.io/worker': 'true', 'tier': 'taskmanager'}\n",
      "gros-103.nancy.grid5000.fr\t{'beta.kubernetes.io/arch': 'amd64', 'beta.kubernetes.io/os': 'linux', 'kubernetes.io/arch': 'amd64', 'kubernetes.io/hostname': 'gros-103.nancy.grid5000.fr', 'kubernetes.io/os': 'linux', 'node-role.kubernetes.io/worker': 'true', 'tier': 'taskmanager'}\n",
      "gros-104.nancy.grid5000.fr\t{'beta.kubernetes.io/arch': 'amd64', 'beta.kubernetes.io/os': 'linux', 'kubernetes.io/arch': 'amd64', 'kubernetes.io/hostname': 'gros-104.nancy.grid5000.fr', 'kubernetes.io/os': 'linux', 'node-role.kubernetes.io/worker': 'true', 'tier': 'taskmanager'}\n",
      "gros-105.nancy.grid5000.fr\t{'beta.kubernetes.io/arch': 'amd64', 'beta.kubernetes.io/os': 'linux', 'kubernetes.io/arch': 'amd64', 'kubernetes.io/hostname': 'gros-105.nancy.grid5000.fr', 'kubernetes.io/os': 'linux', 'node-role.kubernetes.io/worker': 'true', 'tier': 'taskmanager'}\n",
      "gros-106.nancy.grid5000.fr\t{'beta.kubernetes.io/arch': 'amd64', 'beta.kubernetes.io/os': 'linux', 'kubernetes.io/arch': 'amd64', 'kubernetes.io/hostname': 'gros-106.nancy.grid5000.fr', 'kubernetes.io/os': 'linux', 'node-role.kubernetes.io/worker': 'true', 'tier': 'taskmanager'}\n",
      "gros-107.nancy.grid5000.fr\t{'beta.kubernetes.io/arch': 'amd64', 'beta.kubernetes.io/os': 'linux', 'kubernetes.io/arch': 'amd64', 'kubernetes.io/hostname': 'gros-107.nancy.grid5000.fr', 'kubernetes.io/os': 'linux', 'node-role.kubernetes.io/worker': 'true', 'tier': 'taskmanager'}\n",
      "gros-108.nancy.grid5000.fr\t{'beta.kubernetes.io/arch': 'amd64', 'beta.kubernetes.io/os': 'linux', 'kubernetes.io/arch': 'amd64', 'kubernetes.io/hostname': 'gros-108.nancy.grid5000.fr', 'kubernetes.io/os': 'linux', 'node-role.kubernetes.io/worker': 'true', 'tier': 'taskmanager'}\n",
      "gros-109.nancy.grid5000.fr\t{'beta.kubernetes.io/arch': 'amd64', 'beta.kubernetes.io/os': 'linux', 'kubernetes.io/arch': 'amd64', 'kubernetes.io/hostname': 'gros-109.nancy.grid5000.fr', 'kubernetes.io/os': 'linux', 'node-role.kubernetes.io/worker': 'true', 'tier': 'taskmanager'}\n",
      "gros-11.nancy.grid5000.fr\t{'beta.kubernetes.io/arch': 'amd64', 'beta.kubernetes.io/os': 'linux', 'kubernetes.io/arch': 'amd64', 'kubernetes.io/hostname': 'gros-11.nancy.grid5000.fr', 'kubernetes.io/os': 'linux', 'node-role.kubernetes.io/worker': 'true', 'tier': 'taskmanager'}\n",
      "gros-110.nancy.grid5000.fr\t{'beta.kubernetes.io/arch': 'amd64', 'beta.kubernetes.io/os': 'linux', 'kubernetes.io/arch': 'amd64', 'kubernetes.io/hostname': 'gros-110.nancy.grid5000.fr', 'kubernetes.io/os': 'linux', 'node-role.kubernetes.io/worker': 'true', 'tier': 'taskmanager'}\n",
      "gros-111.nancy.grid5000.fr\t{'beta.kubernetes.io/arch': 'amd64', 'beta.kubernetes.io/os': 'linux', 'kubernetes.io/arch': 'amd64', 'kubernetes.io/hostname': 'gros-111.nancy.grid5000.fr', 'kubernetes.io/os': 'linux', 'node-role.kubernetes.io/worker': 'true', 'tier': 'taskmanager'}\n",
      "gros-112.nancy.grid5000.fr\t{'beta.kubernetes.io/arch': 'amd64', 'beta.kubernetes.io/os': 'linux', 'kubernetes.io/arch': 'amd64', 'kubernetes.io/hostname': 'gros-112.nancy.grid5000.fr', 'kubernetes.io/os': 'linux', 'node-role.kubernetes.io/worker': 'true', 'tier': 'taskmanager'}\n",
      "gros-113.nancy.grid5000.fr\t{'beta.kubernetes.io/arch': 'amd64', 'beta.kubernetes.io/os': 'linux', 'kubernetes.io/arch': 'amd64', 'kubernetes.io/hostname': 'gros-113.nancy.grid5000.fr', 'kubernetes.io/os': 'linux', 'node-role.kubernetes.io/worker': 'true', 'tier': 'taskmanager'}\n",
      "gros-114.nancy.grid5000.fr\t{'beta.kubernetes.io/arch': 'amd64', 'beta.kubernetes.io/os': 'linux', 'kubernetes.io/arch': 'amd64', 'kubernetes.io/hostname': 'gros-114.nancy.grid5000.fr', 'kubernetes.io/os': 'linux', 'node-role.kubernetes.io/worker': 'true', 'tier': 'taskmanager'}\n",
      "gros-115.nancy.grid5000.fr\t{'beta.kubernetes.io/arch': 'amd64', 'beta.kubernetes.io/os': 'linux', 'kubernetes.io/arch': 'amd64', 'kubernetes.io/hostname': 'gros-115.nancy.grid5000.fr', 'kubernetes.io/os': 'linux', 'node-role.kubernetes.io/worker': 'true', 'tier': 'taskmanager'}\n",
      "gros-116.nancy.grid5000.fr\t{'beta.kubernetes.io/arch': 'amd64', 'beta.kubernetes.io/os': 'linux', 'kubernetes.io/arch': 'amd64', 'kubernetes.io/hostname': 'gros-116.nancy.grid5000.fr', 'kubernetes.io/os': 'linux', 'node-role.kubernetes.io/worker': 'true', 'tier': 'taskmanager'}\n",
      "gros-117.nancy.grid5000.fr\t{'beta.kubernetes.io/arch': 'amd64', 'beta.kubernetes.io/os': 'linux', 'kubernetes.io/arch': 'amd64', 'kubernetes.io/hostname': 'gros-117.nancy.grid5000.fr', 'kubernetes.io/os': 'linux', 'node-role.kubernetes.io/worker': 'true', 'tier': 'taskmanager'}\n",
      "gros-118.nancy.grid5000.fr\t{'beta.kubernetes.io/arch': 'amd64', 'beta.kubernetes.io/os': 'linux', 'kubernetes.io/arch': 'amd64', 'kubernetes.io/hostname': 'gros-118.nancy.grid5000.fr', 'kubernetes.io/os': 'linux', 'node-role.kubernetes.io/worker': 'true', 'tier': 'taskmanager'}\n",
      "gros-119.nancy.grid5000.fr\t{'beta.kubernetes.io/arch': 'amd64', 'beta.kubernetes.io/os': 'linux', 'kubernetes.io/arch': 'amd64', 'kubernetes.io/hostname': 'gros-119.nancy.grid5000.fr', 'kubernetes.io/os': 'linux', 'node-role.kubernetes.io/worker': 'true', 'tier': 'taskmanager'}\n",
      "gros-12.nancy.grid5000.fr\t{'beta.kubernetes.io/arch': 'amd64', 'beta.kubernetes.io/os': 'linux', 'kubernetes.io/arch': 'amd64', 'kubernetes.io/hostname': 'gros-12.nancy.grid5000.fr', 'kubernetes.io/os': 'linux', 'node-role.kubernetes.io/worker': 'true', 'tier': 'taskmanager'}\n",
      "gros-120.nancy.grid5000.fr\t{'beta.kubernetes.io/arch': 'amd64', 'beta.kubernetes.io/os': 'linux', 'kubernetes.io/arch': 'amd64', 'kubernetes.io/hostname': 'gros-120.nancy.grid5000.fr', 'kubernetes.io/os': 'linux', 'node-role.kubernetes.io/worker': 'true', 'tier': 'taskmanager'}\n",
      "gros-121.nancy.grid5000.fr\t{'beta.kubernetes.io/arch': 'amd64', 'beta.kubernetes.io/os': 'linux', 'kubernetes.io/arch': 'amd64', 'kubernetes.io/hostname': 'gros-121.nancy.grid5000.fr', 'kubernetes.io/os': 'linux', 'node-role.kubernetes.io/worker': 'true', 'tier': 'taskmanager'}\n",
      "gros-122.nancy.grid5000.fr\t{'beta.kubernetes.io/arch': 'amd64', 'beta.kubernetes.io/os': 'linux', 'kubernetes.io/arch': 'amd64', 'kubernetes.io/hostname': 'gros-122.nancy.grid5000.fr', 'kubernetes.io/os': 'linux', 'node-role.kubernetes.io/worker': 'true', 'tier': 'taskmanager'}\n",
      "gros-123.nancy.grid5000.fr\t{'beta.kubernetes.io/arch': 'amd64', 'beta.kubernetes.io/os': 'linux', 'kubernetes.io/arch': 'amd64', 'kubernetes.io/hostname': 'gros-123.nancy.grid5000.fr', 'kubernetes.io/os': 'linux', 'node-role.kubernetes.io/worker': 'true', 'tier': 'taskmanager'}\n",
      "gros-124.nancy.grid5000.fr\t{'beta.kubernetes.io/arch': 'amd64', 'beta.kubernetes.io/os': 'linux', 'kubernetes.io/arch': 'amd64', 'kubernetes.io/hostname': 'gros-124.nancy.grid5000.fr', 'kubernetes.io/os': 'linux', 'node-role.kubernetes.io/worker': 'true', 'tier': 'taskmanager'}\n",
      "gros-13.nancy.grid5000.fr\t{'beta.kubernetes.io/arch': 'amd64', 'beta.kubernetes.io/os': 'linux', 'kubernetes.io/arch': 'amd64', 'kubernetes.io/hostname': 'gros-13.nancy.grid5000.fr', 'kubernetes.io/os': 'linux', 'node-role.kubernetes.io/worker': 'true', 'tier': 'taskmanager'}\n",
      "gros-14.nancy.grid5000.fr\t{'beta.kubernetes.io/arch': 'amd64', 'beta.kubernetes.io/os': 'linux', 'kubernetes.io/arch': 'amd64', 'kubernetes.io/hostname': 'gros-14.nancy.grid5000.fr', 'kubernetes.io/os': 'linux', 'node-role.kubernetes.io/worker': 'true', 'tier': 'taskmanager'}\n",
      "gros-15.nancy.grid5000.fr\t{'beta.kubernetes.io/arch': 'amd64', 'beta.kubernetes.io/os': 'linux', 'kubernetes.io/arch': 'amd64', 'kubernetes.io/hostname': 'gros-15.nancy.grid5000.fr', 'kubernetes.io/os': 'linux', 'node-role.kubernetes.io/worker': 'true', 'tier': 'taskmanager'}\n",
      "gros-16.nancy.grid5000.fr\t{'beta.kubernetes.io/arch': 'amd64', 'beta.kubernetes.io/os': 'linux', 'kubernetes.io/arch': 'amd64', 'kubernetes.io/hostname': 'gros-16.nancy.grid5000.fr', 'kubernetes.io/os': 'linux', 'node-role.kubernetes.io/worker': 'true', 'tier': 'taskmanager'}\n",
      "gros-17.nancy.grid5000.fr\t{'beta.kubernetes.io/arch': 'amd64', 'beta.kubernetes.io/os': 'linux', 'kubernetes.io/arch': 'amd64', 'kubernetes.io/hostname': 'gros-17.nancy.grid5000.fr', 'kubernetes.io/os': 'linux', 'node-role.kubernetes.io/worker': 'true', 'tier': 'taskmanager'}\n",
      "gros-18.nancy.grid5000.fr\t{'beta.kubernetes.io/arch': 'amd64', 'beta.kubernetes.io/os': 'linux', 'kubernetes.io/arch': 'amd64', 'kubernetes.io/hostname': 'gros-18.nancy.grid5000.fr', 'kubernetes.io/os': 'linux', 'node-role.kubernetes.io/worker': 'true', 'tier': 'taskmanager'}\n",
      "gros-19.nancy.grid5000.fr\t{'beta.kubernetes.io/arch': 'amd64', 'beta.kubernetes.io/os': 'linux', 'kubernetes.io/arch': 'amd64', 'kubernetes.io/hostname': 'gros-19.nancy.grid5000.fr', 'kubernetes.io/os': 'linux', 'node-role.kubernetes.io/worker': 'true', 'tier': 'taskmanager'}\n",
      "gros-2.nancy.grid5000.fr\t{'beta.kubernetes.io/arch': 'amd64', 'beta.kubernetes.io/os': 'linux', 'kubernetes.io/arch': 'amd64', 'kubernetes.io/hostname': 'gros-2.nancy.grid5000.fr', 'kubernetes.io/os': 'linux', 'node-role.kubernetes.io/worker': 'true', 'tier': 'taskmanager'}\n",
      "gros-20.nancy.grid5000.fr\t{'beta.kubernetes.io/arch': 'amd64', 'beta.kubernetes.io/os': 'linux', 'kubernetes.io/arch': 'amd64', 'kubernetes.io/hostname': 'gros-20.nancy.grid5000.fr', 'kubernetes.io/os': 'linux', 'node-role.kubernetes.io/worker': 'true', 'tier': 'taskmanager'}\n",
      "gros-21.nancy.grid5000.fr\t{'beta.kubernetes.io/arch': 'amd64', 'beta.kubernetes.io/os': 'linux', 'kubernetes.io/arch': 'amd64', 'kubernetes.io/hostname': 'gros-21.nancy.grid5000.fr', 'kubernetes.io/os': 'linux', 'node-role.kubernetes.io/worker': 'true', 'tier': 'taskmanager'}\n",
      "gros-22.nancy.grid5000.fr\t{'beta.kubernetes.io/arch': 'amd64', 'beta.kubernetes.io/os': 'linux', 'kubernetes.io/arch': 'amd64', 'kubernetes.io/hostname': 'gros-22.nancy.grid5000.fr', 'kubernetes.io/os': 'linux', 'node-role.kubernetes.io/worker': 'true', 'tier': 'taskmanager'}\n",
      "gros-23.nancy.grid5000.fr\t{'beta.kubernetes.io/arch': 'amd64', 'beta.kubernetes.io/os': 'linux', 'kubernetes.io/arch': 'amd64', 'kubernetes.io/hostname': 'gros-23.nancy.grid5000.fr', 'kubernetes.io/os': 'linux', 'node-role.kubernetes.io/worker': 'true', 'tier': 'taskmanager'}\n",
      "gros-24.nancy.grid5000.fr\t{'beta.kubernetes.io/arch': 'amd64', 'beta.kubernetes.io/os': 'linux', 'kubernetes.io/arch': 'amd64', 'kubernetes.io/hostname': 'gros-24.nancy.grid5000.fr', 'kubernetes.io/os': 'linux', 'node-role.kubernetes.io/worker': 'true', 'tier': 'taskmanager'}\n",
      "gros-25.nancy.grid5000.fr\t{'beta.kubernetes.io/arch': 'amd64', 'beta.kubernetes.io/os': 'linux', 'kubernetes.io/arch': 'amd64', 'kubernetes.io/hostname': 'gros-25.nancy.grid5000.fr', 'kubernetes.io/os': 'linux', 'node-role.kubernetes.io/worker': 'true', 'tier': 'taskmanager'}\n",
      "gros-26.nancy.grid5000.fr\t{'beta.kubernetes.io/arch': 'amd64', 'beta.kubernetes.io/os': 'linux', 'kubernetes.io/arch': 'amd64', 'kubernetes.io/hostname': 'gros-26.nancy.grid5000.fr', 'kubernetes.io/os': 'linux', 'node-role.kubernetes.io/worker': 'true', 'tier': 'taskmanager'}\n",
      "gros-27.nancy.grid5000.fr\t{'beta.kubernetes.io/arch': 'amd64', 'beta.kubernetes.io/os': 'linux', 'kubernetes.io/arch': 'amd64', 'kubernetes.io/hostname': 'gros-27.nancy.grid5000.fr', 'kubernetes.io/os': 'linux', 'node-role.kubernetes.io/worker': 'true', 'tier': 'taskmanager'}\n",
      "gros-28.nancy.grid5000.fr\t{'beta.kubernetes.io/arch': 'amd64', 'beta.kubernetes.io/os': 'linux', 'kubernetes.io/arch': 'amd64', 'kubernetes.io/hostname': 'gros-28.nancy.grid5000.fr', 'kubernetes.io/os': 'linux', 'node-role.kubernetes.io/worker': 'true', 'tier': 'taskmanager'}\n",
      "gros-29.nancy.grid5000.fr\t{'beta.kubernetes.io/arch': 'amd64', 'beta.kubernetes.io/os': 'linux', 'kubernetes.io/arch': 'amd64', 'kubernetes.io/hostname': 'gros-29.nancy.grid5000.fr', 'kubernetes.io/os': 'linux', 'node-role.kubernetes.io/worker': 'true', 'tier': 'taskmanager'}\n",
      "gros-3.nancy.grid5000.fr\t{'beta.kubernetes.io/arch': 'amd64', 'beta.kubernetes.io/os': 'linux', 'kubernetes.io/arch': 'amd64', 'kubernetes.io/hostname': 'gros-3.nancy.grid5000.fr', 'kubernetes.io/os': 'linux', 'node-role.kubernetes.io/worker': 'true', 'tier': 'taskmanager'}\n",
      "gros-30.nancy.grid5000.fr\t{'beta.kubernetes.io/arch': 'amd64', 'beta.kubernetes.io/os': 'linux', 'kubernetes.io/arch': 'amd64', 'kubernetes.io/hostname': 'gros-30.nancy.grid5000.fr', 'kubernetes.io/os': 'linux', 'node-role.kubernetes.io/worker': 'true', 'tier': 'taskmanager'}\n",
      "gros-31.nancy.grid5000.fr\t{'beta.kubernetes.io/arch': 'amd64', 'beta.kubernetes.io/os': 'linux', 'kubernetes.io/arch': 'amd64', 'kubernetes.io/hostname': 'gros-31.nancy.grid5000.fr', 'kubernetes.io/os': 'linux', 'node-role.kubernetes.io/worker': 'true', 'tier': 'taskmanager'}\n",
      "gros-32.nancy.grid5000.fr\t{'beta.kubernetes.io/arch': 'amd64', 'beta.kubernetes.io/os': 'linux', 'kubernetes.io/arch': 'amd64', 'kubernetes.io/hostname': 'gros-32.nancy.grid5000.fr', 'kubernetes.io/os': 'linux', 'node-role.kubernetes.io/worker': 'true', 'tier': 'taskmanager'}\n",
      "gros-33.nancy.grid5000.fr\t{'beta.kubernetes.io/arch': 'amd64', 'beta.kubernetes.io/os': 'linux', 'kubernetes.io/arch': 'amd64', 'kubernetes.io/hostname': 'gros-33.nancy.grid5000.fr', 'kubernetes.io/os': 'linux', 'node-role.kubernetes.io/worker': 'true', 'tier': 'taskmanager'}\n",
      "gros-34.nancy.grid5000.fr\t{'beta.kubernetes.io/arch': 'amd64', 'beta.kubernetes.io/os': 'linux', 'kubernetes.io/arch': 'amd64', 'kubernetes.io/hostname': 'gros-34.nancy.grid5000.fr', 'kubernetes.io/os': 'linux', 'node-role.kubernetes.io/worker': 'true', 'tier': 'taskmanager'}\n",
      "gros-35.nancy.grid5000.fr\t{'beta.kubernetes.io/arch': 'amd64', 'beta.kubernetes.io/os': 'linux', 'kubernetes.io/arch': 'amd64', 'kubernetes.io/hostname': 'gros-35.nancy.grid5000.fr', 'kubernetes.io/os': 'linux', 'node-role.kubernetes.io/worker': 'true', 'tier': 'taskmanager'}\n",
      "gros-36.nancy.grid5000.fr\t{'beta.kubernetes.io/arch': 'amd64', 'beta.kubernetes.io/os': 'linux', 'kubernetes.io/arch': 'amd64', 'kubernetes.io/hostname': 'gros-36.nancy.grid5000.fr', 'kubernetes.io/os': 'linux', 'node-role.kubernetes.io/worker': 'true', 'tier': 'taskmanager'}\n",
      "gros-37.nancy.grid5000.fr\t{'beta.kubernetes.io/arch': 'amd64', 'beta.kubernetes.io/os': 'linux', 'kubernetes.io/arch': 'amd64', 'kubernetes.io/hostname': 'gros-37.nancy.grid5000.fr', 'kubernetes.io/os': 'linux', 'node-role.kubernetes.io/worker': 'true', 'tier': 'taskmanager'}\n",
      "gros-38.nancy.grid5000.fr\t{'beta.kubernetes.io/arch': 'amd64', 'beta.kubernetes.io/os': 'linux', 'kubernetes.io/arch': 'amd64', 'kubernetes.io/hostname': 'gros-38.nancy.grid5000.fr', 'kubernetes.io/os': 'linux', 'node-role.kubernetes.io/worker': 'true', 'tier': 'taskmanager'}\n",
      "gros-39.nancy.grid5000.fr\t{'beta.kubernetes.io/arch': 'amd64', 'beta.kubernetes.io/os': 'linux', 'kubernetes.io/arch': 'amd64', 'kubernetes.io/hostname': 'gros-39.nancy.grid5000.fr', 'kubernetes.io/os': 'linux', 'node-role.kubernetes.io/worker': 'true', 'tier': 'taskmanager'}\n",
      "gros-4.nancy.grid5000.fr\t{'beta.kubernetes.io/arch': 'amd64', 'beta.kubernetes.io/os': 'linux', 'kubernetes.io/arch': 'amd64', 'kubernetes.io/hostname': 'gros-4.nancy.grid5000.fr', 'kubernetes.io/os': 'linux', 'node-role.kubernetes.io/worker': 'true', 'tier': 'taskmanager'}\n",
      "gros-40.nancy.grid5000.fr\t{'beta.kubernetes.io/arch': 'amd64', 'beta.kubernetes.io/os': 'linux', 'kubernetes.io/arch': 'amd64', 'kubernetes.io/hostname': 'gros-40.nancy.grid5000.fr', 'kubernetes.io/os': 'linux', 'node-role.kubernetes.io/worker': 'true', 'tier': 'taskmanager'}\n",
      "gros-41.nancy.grid5000.fr\t{'beta.kubernetes.io/arch': 'amd64', 'beta.kubernetes.io/os': 'linux', 'kubernetes.io/arch': 'amd64', 'kubernetes.io/hostname': 'gros-41.nancy.grid5000.fr', 'kubernetes.io/os': 'linux', 'node-role.kubernetes.io/worker': 'true', 'tier': 'taskmanager'}\n",
      "gros-42.nancy.grid5000.fr\t{'beta.kubernetes.io/arch': 'amd64', 'beta.kubernetes.io/os': 'linux', 'kubernetes.io/arch': 'amd64', 'kubernetes.io/hostname': 'gros-42.nancy.grid5000.fr', 'kubernetes.io/os': 'linux', 'node-role.kubernetes.io/worker': 'true', 'tier': 'taskmanager'}\n",
      "gros-43.nancy.grid5000.fr\t{'beta.kubernetes.io/arch': 'amd64', 'beta.kubernetes.io/os': 'linux', 'kubernetes.io/arch': 'amd64', 'kubernetes.io/hostname': 'gros-43.nancy.grid5000.fr', 'kubernetes.io/os': 'linux', 'node-role.kubernetes.io/worker': 'true', 'tier': 'taskmanager'}\n",
      "gros-44.nancy.grid5000.fr\t{'beta.kubernetes.io/arch': 'amd64', 'beta.kubernetes.io/os': 'linux', 'kubernetes.io/arch': 'amd64', 'kubernetes.io/hostname': 'gros-44.nancy.grid5000.fr', 'kubernetes.io/os': 'linux', 'node-role.kubernetes.io/worker': 'true', 'tier': 'taskmanager'}\n",
      "gros-45.nancy.grid5000.fr\t{'beta.kubernetes.io/arch': 'amd64', 'beta.kubernetes.io/os': 'linux', 'kubernetes.io/arch': 'amd64', 'kubernetes.io/hostname': 'gros-45.nancy.grid5000.fr', 'kubernetes.io/os': 'linux', 'node-role.kubernetes.io/worker': 'true', 'tier': 'taskmanager'}\n",
      "gros-46.nancy.grid5000.fr\t{'beta.kubernetes.io/arch': 'amd64', 'beta.kubernetes.io/os': 'linux', 'kubernetes.io/arch': 'amd64', 'kubernetes.io/hostname': 'gros-46.nancy.grid5000.fr', 'kubernetes.io/os': 'linux', 'node-role.kubernetes.io/worker': 'true', 'tier': 'taskmanager'}\n",
      "gros-47.nancy.grid5000.fr\t{'beta.kubernetes.io/arch': 'amd64', 'beta.kubernetes.io/os': 'linux', 'kubernetes.io/arch': 'amd64', 'kubernetes.io/hostname': 'gros-47.nancy.grid5000.fr', 'kubernetes.io/os': 'linux', 'node-role.kubernetes.io/worker': 'true', 'tier': 'taskmanager'}\n",
      "gros-48.nancy.grid5000.fr\t{'beta.kubernetes.io/arch': 'amd64', 'beta.kubernetes.io/os': 'linux', 'kubernetes.io/arch': 'amd64', 'kubernetes.io/hostname': 'gros-48.nancy.grid5000.fr', 'kubernetes.io/os': 'linux', 'node-role.kubernetes.io/worker': 'true', 'tier': 'taskmanager'}\n",
      "gros-49.nancy.grid5000.fr\t{'beta.kubernetes.io/arch': 'amd64', 'beta.kubernetes.io/os': 'linux', 'kubernetes.io/arch': 'amd64', 'kubernetes.io/hostname': 'gros-49.nancy.grid5000.fr', 'kubernetes.io/os': 'linux', 'node-role.kubernetes.io/worker': 'true', 'tier': 'taskmanager'}\n",
      "gros-5.nancy.grid5000.fr\t{'beta.kubernetes.io/arch': 'amd64', 'beta.kubernetes.io/os': 'linux', 'kubernetes.io/arch': 'amd64', 'kubernetes.io/hostname': 'gros-5.nancy.grid5000.fr', 'kubernetes.io/os': 'linux', 'node-role.kubernetes.io/worker': 'true', 'tier': 'taskmanager'}\n",
      "gros-50.nancy.grid5000.fr\t{'beta.kubernetes.io/arch': 'amd64', 'beta.kubernetes.io/os': 'linux', 'kubernetes.io/arch': 'amd64', 'kubernetes.io/hostname': 'gros-50.nancy.grid5000.fr', 'kubernetes.io/os': 'linux', 'node-role.kubernetes.io/worker': 'true', 'tier': 'taskmanager'}\n",
      "gros-51.nancy.grid5000.fr\t{'beta.kubernetes.io/arch': 'amd64', 'beta.kubernetes.io/os': 'linux', 'kubernetes.io/arch': 'amd64', 'kubernetes.io/hostname': 'gros-51.nancy.grid5000.fr', 'kubernetes.io/os': 'linux', 'node-role.kubernetes.io/worker': 'true', 'tier': 'taskmanager'}\n",
      "gros-52.nancy.grid5000.fr\t{'beta.kubernetes.io/arch': 'amd64', 'beta.kubernetes.io/os': 'linux', 'kubernetes.io/arch': 'amd64', 'kubernetes.io/hostname': 'gros-52.nancy.grid5000.fr', 'kubernetes.io/os': 'linux', 'node-role.kubernetes.io/worker': 'true', 'tier': 'taskmanager'}\n",
      "gros-53.nancy.grid5000.fr\t{'beta.kubernetes.io/arch': 'amd64', 'beta.kubernetes.io/os': 'linux', 'kubernetes.io/arch': 'amd64', 'kubernetes.io/hostname': 'gros-53.nancy.grid5000.fr', 'kubernetes.io/os': 'linux', 'node-role.kubernetes.io/worker': 'true', 'tier': 'taskmanager'}\n",
      "gros-54.nancy.grid5000.fr\t{'beta.kubernetes.io/arch': 'amd64', 'beta.kubernetes.io/os': 'linux', 'kubernetes.io/arch': 'amd64', 'kubernetes.io/hostname': 'gros-54.nancy.grid5000.fr', 'kubernetes.io/os': 'linux', 'node-role.kubernetes.io/worker': 'true', 'tier': 'taskmanager'}\n",
      "gros-55.nancy.grid5000.fr\t{'beta.kubernetes.io/arch': 'amd64', 'beta.kubernetes.io/os': 'linux', 'kubernetes.io/arch': 'amd64', 'kubernetes.io/hostname': 'gros-55.nancy.grid5000.fr', 'kubernetes.io/os': 'linux', 'node-role.kubernetes.io/worker': 'true', 'tier': 'taskmanager'}\n",
      "gros-56.nancy.grid5000.fr\t{'beta.kubernetes.io/arch': 'amd64', 'beta.kubernetes.io/os': 'linux', 'kubernetes.io/arch': 'amd64', 'kubernetes.io/hostname': 'gros-56.nancy.grid5000.fr', 'kubernetes.io/os': 'linux', 'node-role.kubernetes.io/worker': 'true', 'tier': 'taskmanager'}\n",
      "gros-57.nancy.grid5000.fr\t{'beta.kubernetes.io/arch': 'amd64', 'beta.kubernetes.io/os': 'linux', 'kubernetes.io/arch': 'amd64', 'kubernetes.io/hostname': 'gros-57.nancy.grid5000.fr', 'kubernetes.io/os': 'linux', 'node-role.kubernetes.io/worker': 'true', 'tier': 'taskmanager'}\n",
      "gros-58.nancy.grid5000.fr\t{'beta.kubernetes.io/arch': 'amd64', 'beta.kubernetes.io/os': 'linux', 'kubernetes.io/arch': 'amd64', 'kubernetes.io/hostname': 'gros-58.nancy.grid5000.fr', 'kubernetes.io/os': 'linux', 'node-role.kubernetes.io/worker': 'true', 'tier': 'taskmanager'}\n",
      "gros-59.nancy.grid5000.fr\t{'beta.kubernetes.io/arch': 'amd64', 'beta.kubernetes.io/os': 'linux', 'kubernetes.io/arch': 'amd64', 'kubernetes.io/hostname': 'gros-59.nancy.grid5000.fr', 'kubernetes.io/os': 'linux', 'node-role.kubernetes.io/worker': 'true', 'tier': 'taskmanager'}\n",
      "gros-6.nancy.grid5000.fr\t{'beta.kubernetes.io/arch': 'amd64', 'beta.kubernetes.io/os': 'linux', 'kubernetes.io/arch': 'amd64', 'kubernetes.io/hostname': 'gros-6.nancy.grid5000.fr', 'kubernetes.io/os': 'linux', 'node-role.kubernetes.io/worker': 'true', 'tier': 'taskmanager'}\n",
      "gros-60.nancy.grid5000.fr\t{'beta.kubernetes.io/arch': 'amd64', 'beta.kubernetes.io/os': 'linux', 'kubernetes.io/arch': 'amd64', 'kubernetes.io/hostname': 'gros-60.nancy.grid5000.fr', 'kubernetes.io/os': 'linux', 'node-role.kubernetes.io/worker': 'true', 'tier': 'taskmanager'}\n",
      "gros-61.nancy.grid5000.fr\t{'beta.kubernetes.io/arch': 'amd64', 'beta.kubernetes.io/os': 'linux', 'kubernetes.io/arch': 'amd64', 'kubernetes.io/hostname': 'gros-61.nancy.grid5000.fr', 'kubernetes.io/os': 'linux', 'node-role.kubernetes.io/worker': 'true', 'tier': 'taskmanager'}\n",
      "gros-62.nancy.grid5000.fr\t{'beta.kubernetes.io/arch': 'amd64', 'beta.kubernetes.io/os': 'linux', 'kubernetes.io/arch': 'amd64', 'kubernetes.io/hostname': 'gros-62.nancy.grid5000.fr', 'kubernetes.io/os': 'linux', 'node-role.kubernetes.io/worker': 'true', 'tier': 'taskmanager'}\n",
      "gros-63.nancy.grid5000.fr\t{'beta.kubernetes.io/arch': 'amd64', 'beta.kubernetes.io/os': 'linux', 'kubernetes.io/arch': 'amd64', 'kubernetes.io/hostname': 'gros-63.nancy.grid5000.fr', 'kubernetes.io/os': 'linux', 'node-role.kubernetes.io/worker': 'true', 'tier': 'taskmanager'}\n",
      "gros-64.nancy.grid5000.fr\t{'beta.kubernetes.io/arch': 'amd64', 'beta.kubernetes.io/os': 'linux', 'kubernetes.io/arch': 'amd64', 'kubernetes.io/hostname': 'gros-64.nancy.grid5000.fr', 'kubernetes.io/os': 'linux', 'node-role.kubernetes.io/worker': 'true', 'tier': 'taskmanager'}\n",
      "gros-65.nancy.grid5000.fr\t{'beta.kubernetes.io/arch': 'amd64', 'beta.kubernetes.io/os': 'linux', 'kubernetes.io/arch': 'amd64', 'kubernetes.io/hostname': 'gros-65.nancy.grid5000.fr', 'kubernetes.io/os': 'linux', 'node-role.kubernetes.io/worker': 'true', 'tier': 'taskmanager'}\n",
      "gros-66.nancy.grid5000.fr\t{'beta.kubernetes.io/arch': 'amd64', 'beta.kubernetes.io/os': 'linux', 'kubernetes.io/arch': 'amd64', 'kubernetes.io/hostname': 'gros-66.nancy.grid5000.fr', 'kubernetes.io/os': 'linux', 'node-role.kubernetes.io/worker': 'true', 'tier': 'taskmanager'}\n",
      "gros-67.nancy.grid5000.fr\t{'beta.kubernetes.io/arch': 'amd64', 'beta.kubernetes.io/os': 'linux', 'kubernetes.io/arch': 'amd64', 'kubernetes.io/hostname': 'gros-67.nancy.grid5000.fr', 'kubernetes.io/os': 'linux', 'node-role.kubernetes.io/worker': 'true', 'tier': 'taskmanager'}\n",
      "gros-68.nancy.grid5000.fr\t{'beta.kubernetes.io/arch': 'amd64', 'beta.kubernetes.io/os': 'linux', 'kubernetes.io/arch': 'amd64', 'kubernetes.io/hostname': 'gros-68.nancy.grid5000.fr', 'kubernetes.io/os': 'linux', 'node-role.kubernetes.io/worker': 'true', 'tier': 'taskmanager'}\n",
      "gros-69.nancy.grid5000.fr\t{'beta.kubernetes.io/arch': 'amd64', 'beta.kubernetes.io/os': 'linux', 'kubernetes.io/arch': 'amd64', 'kubernetes.io/hostname': 'gros-69.nancy.grid5000.fr', 'kubernetes.io/os': 'linux', 'node-role.kubernetes.io/worker': 'true', 'tier': 'taskmanager'}\n",
      "gros-7.nancy.grid5000.fr\t{'beta.kubernetes.io/arch': 'amd64', 'beta.kubernetes.io/os': 'linux', 'kubernetes.io/arch': 'amd64', 'kubernetes.io/hostname': 'gros-7.nancy.grid5000.fr', 'kubernetes.io/os': 'linux', 'node-role.kubernetes.io/worker': 'true', 'tier': 'taskmanager'}\n",
      "gros-70.nancy.grid5000.fr\t{'beta.kubernetes.io/arch': 'amd64', 'beta.kubernetes.io/os': 'linux', 'kubernetes.io/arch': 'amd64', 'kubernetes.io/hostname': 'gros-70.nancy.grid5000.fr', 'kubernetes.io/os': 'linux', 'node-role.kubernetes.io/worker': 'true', 'tier': 'taskmanager'}\n",
      "gros-71.nancy.grid5000.fr\t{'beta.kubernetes.io/arch': 'amd64', 'beta.kubernetes.io/os': 'linux', 'kubernetes.io/arch': 'amd64', 'kubernetes.io/hostname': 'gros-71.nancy.grid5000.fr', 'kubernetes.io/os': 'linux', 'node-role.kubernetes.io/worker': 'true', 'tier': 'taskmanager'}\n",
      "gros-72.nancy.grid5000.fr\t{'beta.kubernetes.io/arch': 'amd64', 'beta.kubernetes.io/os': 'linux', 'kubernetes.io/arch': 'amd64', 'kubernetes.io/hostname': 'gros-72.nancy.grid5000.fr', 'kubernetes.io/os': 'linux', 'node-role.kubernetes.io/worker': 'true', 'tier': 'taskmanager'}\n",
      "gros-73.nancy.grid5000.fr\t{'beta.kubernetes.io/arch': 'amd64', 'beta.kubernetes.io/os': 'linux', 'kubernetes.io/arch': 'amd64', 'kubernetes.io/hostname': 'gros-73.nancy.grid5000.fr', 'kubernetes.io/os': 'linux', 'node-role.kubernetes.io/worker': 'true', 'tier': 'taskmanager'}\n",
      "gros-74.nancy.grid5000.fr\t{'beta.kubernetes.io/arch': 'amd64', 'beta.kubernetes.io/os': 'linux', 'kubernetes.io/arch': 'amd64', 'kubernetes.io/hostname': 'gros-74.nancy.grid5000.fr', 'kubernetes.io/os': 'linux', 'node-role.kubernetes.io/worker': 'true', 'tier': 'taskmanager'}\n",
      "gros-75.nancy.grid5000.fr\t{'beta.kubernetes.io/arch': 'amd64', 'beta.kubernetes.io/os': 'linux', 'kubernetes.io/arch': 'amd64', 'kubernetes.io/hostname': 'gros-75.nancy.grid5000.fr', 'kubernetes.io/os': 'linux', 'node-role.kubernetes.io/worker': 'true', 'tier': 'taskmanager'}\n",
      "gros-76.nancy.grid5000.fr\t{'beta.kubernetes.io/arch': 'amd64', 'beta.kubernetes.io/os': 'linux', 'kubernetes.io/arch': 'amd64', 'kubernetes.io/hostname': 'gros-76.nancy.grid5000.fr', 'kubernetes.io/os': 'linux', 'node-role.kubernetes.io/worker': 'true', 'tier': 'taskmanager'}\n",
      "gros-77.nancy.grid5000.fr\t{'beta.kubernetes.io/arch': 'amd64', 'beta.kubernetes.io/os': 'linux', 'kubernetes.io/arch': 'amd64', 'kubernetes.io/hostname': 'gros-77.nancy.grid5000.fr', 'kubernetes.io/os': 'linux', 'node-role.kubernetes.io/worker': 'true', 'tier': 'taskmanager'}\n",
      "gros-78.nancy.grid5000.fr\t{'beta.kubernetes.io/arch': 'amd64', 'beta.kubernetes.io/os': 'linux', 'kubernetes.io/arch': 'amd64', 'kubernetes.io/hostname': 'gros-78.nancy.grid5000.fr', 'kubernetes.io/os': 'linux', 'node-role.kubernetes.io/worker': 'true', 'tier': 'taskmanager'}\n",
      "gros-79.nancy.grid5000.fr\t{'beta.kubernetes.io/arch': 'amd64', 'beta.kubernetes.io/os': 'linux', 'kubernetes.io/arch': 'amd64', 'kubernetes.io/hostname': 'gros-79.nancy.grid5000.fr', 'kubernetes.io/os': 'linux', 'node-role.kubernetes.io/worker': 'true', 'tier': 'taskmanager'}\n",
      "gros-8.nancy.grid5000.fr\t{'beta.kubernetes.io/arch': 'amd64', 'beta.kubernetes.io/os': 'linux', 'kubernetes.io/arch': 'amd64', 'kubernetes.io/hostname': 'gros-8.nancy.grid5000.fr', 'kubernetes.io/os': 'linux', 'node-role.kubernetes.io/worker': 'true', 'tier': 'taskmanager'}\n",
      "gros-80.nancy.grid5000.fr\t{'beta.kubernetes.io/arch': 'amd64', 'beta.kubernetes.io/os': 'linux', 'kubernetes.io/arch': 'amd64', 'kubernetes.io/hostname': 'gros-80.nancy.grid5000.fr', 'kubernetes.io/os': 'linux', 'node-role.kubernetes.io/worker': 'true', 'tier': 'taskmanager'}\n",
      "gros-81.nancy.grid5000.fr\t{'beta.kubernetes.io/arch': 'amd64', 'beta.kubernetes.io/os': 'linux', 'kubernetes.io/arch': 'amd64', 'kubernetes.io/hostname': 'gros-81.nancy.grid5000.fr', 'kubernetes.io/os': 'linux', 'node-role.kubernetes.io/worker': 'true', 'tier': 'taskmanager'}\n",
      "gros-82.nancy.grid5000.fr\t{'beta.kubernetes.io/arch': 'amd64', 'beta.kubernetes.io/os': 'linux', 'kubernetes.io/arch': 'amd64', 'kubernetes.io/hostname': 'gros-82.nancy.grid5000.fr', 'kubernetes.io/os': 'linux', 'node-role.kubernetes.io/worker': 'true', 'tier': 'taskmanager'}\n",
      "gros-83.nancy.grid5000.fr\t{'beta.kubernetes.io/arch': 'amd64', 'beta.kubernetes.io/os': 'linux', 'kubernetes.io/arch': 'amd64', 'kubernetes.io/hostname': 'gros-83.nancy.grid5000.fr', 'kubernetes.io/os': 'linux', 'node-role.kubernetes.io/worker': 'true', 'tier': 'taskmanager'}\n",
      "gros-84.nancy.grid5000.fr\t{'beta.kubernetes.io/arch': 'amd64', 'beta.kubernetes.io/os': 'linux', 'kubernetes.io/arch': 'amd64', 'kubernetes.io/hostname': 'gros-84.nancy.grid5000.fr', 'kubernetes.io/os': 'linux', 'node-role.kubernetes.io/worker': 'true', 'tier': 'taskmanager'}\n",
      "gros-85.nancy.grid5000.fr\t{'beta.kubernetes.io/arch': 'amd64', 'beta.kubernetes.io/os': 'linux', 'kubernetes.io/arch': 'amd64', 'kubernetes.io/hostname': 'gros-85.nancy.grid5000.fr', 'kubernetes.io/os': 'linux', 'node-role.kubernetes.io/worker': 'true', 'tier': 'taskmanager'}\n",
      "gros-86.nancy.grid5000.fr\t{'beta.kubernetes.io/arch': 'amd64', 'beta.kubernetes.io/os': 'linux', 'kubernetes.io/arch': 'amd64', 'kubernetes.io/hostname': 'gros-86.nancy.grid5000.fr', 'kubernetes.io/os': 'linux', 'node-role.kubernetes.io/worker': 'true', 'tier': 'taskmanager'}\n",
      "gros-87.nancy.grid5000.fr\t{'beta.kubernetes.io/arch': 'amd64', 'beta.kubernetes.io/os': 'linux', 'kubernetes.io/arch': 'amd64', 'kubernetes.io/hostname': 'gros-87.nancy.grid5000.fr', 'kubernetes.io/os': 'linux', 'node-role.kubernetes.io/worker': 'true', 'tier': 'taskmanager'}\n",
      "gros-88.nancy.grid5000.fr\t{'beta.kubernetes.io/arch': 'amd64', 'beta.kubernetes.io/os': 'linux', 'kubernetes.io/arch': 'amd64', 'kubernetes.io/hostname': 'gros-88.nancy.grid5000.fr', 'kubernetes.io/os': 'linux', 'node-role.kubernetes.io/worker': 'true', 'tier': 'taskmanager'}\n",
      "gros-89.nancy.grid5000.fr\t{'beta.kubernetes.io/arch': 'amd64', 'beta.kubernetes.io/os': 'linux', 'kubernetes.io/arch': 'amd64', 'kubernetes.io/hostname': 'gros-89.nancy.grid5000.fr', 'kubernetes.io/os': 'linux', 'node-role.kubernetes.io/worker': 'true', 'tier': 'taskmanager'}\n",
      "gros-9.nancy.grid5000.fr\t{'beta.kubernetes.io/arch': 'amd64', 'beta.kubernetes.io/os': 'linux', 'kubernetes.io/arch': 'amd64', 'kubernetes.io/hostname': 'gros-9.nancy.grid5000.fr', 'kubernetes.io/os': 'linux', 'node-role.kubernetes.io/worker': 'true', 'tier': 'taskmanager'}\n",
      "gros-90.nancy.grid5000.fr\t{'beta.kubernetes.io/arch': 'amd64', 'beta.kubernetes.io/os': 'linux', 'kubernetes.io/arch': 'amd64', 'kubernetes.io/hostname': 'gros-90.nancy.grid5000.fr', 'kubernetes.io/os': 'linux', 'node-role.kubernetes.io/worker': 'true', 'tier': 'taskmanager'}\n",
      "gros-91.nancy.grid5000.fr\t{'beta.kubernetes.io/arch': 'amd64', 'beta.kubernetes.io/os': 'linux', 'kubernetes.io/arch': 'amd64', 'kubernetes.io/hostname': 'gros-91.nancy.grid5000.fr', 'kubernetes.io/os': 'linux', 'node-role.kubernetes.io/worker': 'true', 'tier': 'taskmanager'}\n",
      "gros-92.nancy.grid5000.fr\t{'beta.kubernetes.io/arch': 'amd64', 'beta.kubernetes.io/os': 'linux', 'kubernetes.io/arch': 'amd64', 'kubernetes.io/hostname': 'gros-92.nancy.grid5000.fr', 'kubernetes.io/os': 'linux', 'node-role.kubernetes.io/worker': 'true', 'tier': 'taskmanager'}\n",
      "gros-93.nancy.grid5000.fr\t{'beta.kubernetes.io/arch': 'amd64', 'beta.kubernetes.io/os': 'linux', 'kubernetes.io/arch': 'amd64', 'kubernetes.io/hostname': 'gros-93.nancy.grid5000.fr', 'kubernetes.io/os': 'linux', 'node-role.kubernetes.io/worker': 'true', 'tier': 'taskmanager'}\n",
      "gros-94.nancy.grid5000.fr\t{'beta.kubernetes.io/arch': 'amd64', 'beta.kubernetes.io/os': 'linux', 'kubernetes.io/arch': 'amd64', 'kubernetes.io/hostname': 'gros-94.nancy.grid5000.fr', 'kubernetes.io/os': 'linux', 'node-role.kubernetes.io/worker': 'true', 'tier': 'taskmanager'}\n",
      "gros-95.nancy.grid5000.fr\t{'beta.kubernetes.io/arch': 'amd64', 'beta.kubernetes.io/os': 'linux', 'kubernetes.io/arch': 'amd64', 'kubernetes.io/hostname': 'gros-95.nancy.grid5000.fr', 'kubernetes.io/os': 'linux', 'node-role.kubernetes.io/worker': 'true', 'tier': 'taskmanager'}\n",
      "gros-96.nancy.grid5000.fr\t{'beta.kubernetes.io/arch': 'amd64', 'beta.kubernetes.io/os': 'linux', 'kubernetes.io/arch': 'amd64', 'kubernetes.io/hostname': 'gros-96.nancy.grid5000.fr', 'kubernetes.io/os': 'linux', 'node-role.kubernetes.io/worker': 'true', 'tier': 'taskmanager'}\n",
      "gros-97.nancy.grid5000.fr\t{'beta.kubernetes.io/arch': 'amd64', 'beta.kubernetes.io/os': 'linux', 'kubernetes.io/arch': 'amd64', 'kubernetes.io/hostname': 'gros-97.nancy.grid5000.fr', 'kubernetes.io/os': 'linux', 'node-role.kubernetes.io/worker': 'true', 'tier': 'taskmanager'}\n",
      "gros-98.nancy.grid5000.fr\t{'beta.kubernetes.io/arch': 'amd64', 'beta.kubernetes.io/os': 'linux', 'kubernetes.io/arch': 'amd64', 'kubernetes.io/hostname': 'gros-98.nancy.grid5000.fr', 'kubernetes.io/os': 'linux', 'node-role.kubernetes.io/worker': 'true', 'tier': 'taskmanager'}\n",
      "gros-99.nancy.grid5000.fr\t{'beta.kubernetes.io/arch': 'amd64', 'beta.kubernetes.io/os': 'linux', 'kubernetes.io/arch': 'amd64', 'kubernetes.io/hostname': 'gros-99.nancy.grid5000.fr', 'kubernetes.io/os': 'linux', 'node-role.kubernetes.io/worker': 'true', 'tier': 'taskmanager'}\n",
      "Error from server (NotFound): kafkas.kafka.strimzi.io \"my-cluster\" not found\n",
      "kubectl wait kafka/my-cluster --for=condition=Ready --timeout=300s -n kafka\n",
      "kubectl wait kafka/my-cluster --for=condition=Ready --timeout=300s -n kafka\n",
      "Log 0 - 2023-06-07 20:08:50 : kafka.kafka.strimzi.io/my-cluster condition met\n",
      "helm install -f values-kowl.yaml -n kafka kowl cloudhut/kowl\n",
      "helm install -f values-kowl.yaml -n kafka kowl cloudhut/kowl\n",
      "Log 0 - 2023-06-07 20:08:50 : WARNING: Kubernetes configuration file is group-readable. This is insecure. Location: /home/grosinosky/.kube/config\n",
      "Log 0 - 2023-06-07 20:08:50 : WARNING: Kubernetes configuration file is world-readable. This is insecure. Location: /home/grosinosky/.kube/config\n",
      "Log 0 - 2023-06-07 20:08:51 : NAME: kowl\n",
      "Log 0 - 2023-06-07 20:08:51 : LAST DEPLOYED: Wed Jun  7 20:08:50 2023\n",
      "Log 0 - 2023-06-07 20:08:51 : NAMESPACE: kafka\n",
      "Log 0 - 2023-06-07 20:08:51 : STATUS: deployed\n",
      "Log 0 - 2023-06-07 20:08:51 : REVISION: 1\n",
      "Log 0 - 2023-06-07 20:08:51 : NOTES:\n",
      "Log 0 - 2023-06-07 20:08:51 : 1. Get the application URL by running these commands:\n",
      "Log 0 - 2023-06-07 20:08:51 : http://kowl.127-0-0-1.sslip.iomap[backend:map[service:map[name:kowl port:map[number:8081]]] path:/ pathType:Prefix]\n",
      "gros-1.nancy.grid5000.fr\t{'beta.kubernetes.io/arch': 'amd64', 'beta.kubernetes.io/os': 'linux', 'kubernetes.io/arch': 'amd64', 'kubernetes.io/hostname': 'gros-1.nancy.grid5000.fr', 'kubernetes.io/os': 'linux', 'node-role.kubernetes.io/controlplane': 'true', 'node-role.kubernetes.io/etcd': 'true'}\n",
      "gros-10.nancy.grid5000.fr\t{'beta.kubernetes.io/arch': 'amd64', 'beta.kubernetes.io/os': 'linux', 'kubernetes.io/arch': 'amd64', 'kubernetes.io/hostname': 'gros-10.nancy.grid5000.fr', 'kubernetes.io/os': 'linux', 'node-role.kubernetes.io/worker': 'true', 'tier': 'manager'}\n",
      "gros-100.nancy.grid5000.fr\t{'beta.kubernetes.io/arch': 'amd64', 'beta.kubernetes.io/os': 'linux', 'kubernetes.io/arch': 'amd64', 'kubernetes.io/hostname': 'gros-100.nancy.grid5000.fr', 'kubernetes.io/os': 'linux', 'node-role.kubernetes.io/worker': 'true', 'tier': 'jobmanager'}\n",
      "gros-101.nancy.grid5000.fr\t{'beta.kubernetes.io/arch': 'amd64', 'beta.kubernetes.io/os': 'linux', 'kubernetes.io/arch': 'amd64', 'kubernetes.io/hostname': 'gros-101.nancy.grid5000.fr', 'kubernetes.io/os': 'linux', 'node-role.kubernetes.io/worker': 'true', 'tier': 'jobmanager'}\n",
      "gros-102.nancy.grid5000.fr\t{'beta.kubernetes.io/arch': 'amd64', 'beta.kubernetes.io/os': 'linux', 'kubernetes.io/arch': 'amd64', 'kubernetes.io/hostname': 'gros-102.nancy.grid5000.fr', 'kubernetes.io/os': 'linux', 'node-role.kubernetes.io/worker': 'true', 'tier': 'kafka'}\n",
      "gros-103.nancy.grid5000.fr\t{'beta.kubernetes.io/arch': 'amd64', 'beta.kubernetes.io/os': 'linux', 'kubernetes.io/arch': 'amd64', 'kubernetes.io/hostname': 'gros-103.nancy.grid5000.fr', 'kubernetes.io/os': 'linux', 'node-role.kubernetes.io/worker': 'true', 'tier': 'kafka'}\n",
      "gros-104.nancy.grid5000.fr\t{'beta.kubernetes.io/arch': 'amd64', 'beta.kubernetes.io/os': 'linux', 'kubernetes.io/arch': 'amd64', 'kubernetes.io/hostname': 'gros-104.nancy.grid5000.fr', 'kubernetes.io/os': 'linux', 'node-role.kubernetes.io/worker': 'true', 'tier': 'kafka'}\n",
      "gros-105.nancy.grid5000.fr\t{'beta.kubernetes.io/arch': 'amd64', 'beta.kubernetes.io/os': 'linux', 'kubernetes.io/arch': 'amd64', 'kubernetes.io/hostname': 'gros-105.nancy.grid5000.fr', 'kubernetes.io/os': 'linux', 'node-role.kubernetes.io/worker': 'true', 'tier': 'kafka'}\n",
      "gros-106.nancy.grid5000.fr\t{'beta.kubernetes.io/arch': 'amd64', 'beta.kubernetes.io/os': 'linux', 'kubernetes.io/arch': 'amd64', 'kubernetes.io/hostname': 'gros-106.nancy.grid5000.fr', 'kubernetes.io/os': 'linux', 'node-role.kubernetes.io/worker': 'true', 'tier': 'kafka'}\n",
      "gros-107.nancy.grid5000.fr\t{'beta.kubernetes.io/arch': 'amd64', 'beta.kubernetes.io/os': 'linux', 'kubernetes.io/arch': 'amd64', 'kubernetes.io/hostname': 'gros-107.nancy.grid5000.fr', 'kubernetes.io/os': 'linux', 'node-role.kubernetes.io/worker': 'true', 'tier': 'kafka'}\n",
      "gros-108.nancy.grid5000.fr\t{'beta.kubernetes.io/arch': 'amd64', 'beta.kubernetes.io/os': 'linux', 'kubernetes.io/arch': 'amd64', 'kubernetes.io/hostname': 'gros-108.nancy.grid5000.fr', 'kubernetes.io/os': 'linux', 'node-role.kubernetes.io/worker': 'true', 'tier': 'kafka'}\n",
      "gros-109.nancy.grid5000.fr\t{'beta.kubernetes.io/arch': 'amd64', 'beta.kubernetes.io/os': 'linux', 'kubernetes.io/arch': 'amd64', 'kubernetes.io/hostname': 'gros-109.nancy.grid5000.fr', 'kubernetes.io/os': 'linux', 'node-role.kubernetes.io/worker': 'true', 'tier': 'kafka'}\n",
      "gros-11.nancy.grid5000.fr\t{'beta.kubernetes.io/arch': 'amd64', 'beta.kubernetes.io/os': 'linux', 'kubernetes.io/arch': 'amd64', 'kubernetes.io/hostname': 'gros-11.nancy.grid5000.fr', 'kubernetes.io/os': 'linux', 'node-role.kubernetes.io/worker': 'true', 'tier': 'taskmanager'}\n",
      "gros-110.nancy.grid5000.fr\t{'beta.kubernetes.io/arch': 'amd64', 'beta.kubernetes.io/os': 'linux', 'kubernetes.io/arch': 'amd64', 'kubernetes.io/hostname': 'gros-110.nancy.grid5000.fr', 'kubernetes.io/os': 'linux', 'node-role.kubernetes.io/worker': 'true', 'tier': 'taskmanager'}\n",
      "gros-111.nancy.grid5000.fr\t{'beta.kubernetes.io/arch': 'amd64', 'beta.kubernetes.io/os': 'linux', 'kubernetes.io/arch': 'amd64', 'kubernetes.io/hostname': 'gros-111.nancy.grid5000.fr', 'kubernetes.io/os': 'linux', 'node-role.kubernetes.io/worker': 'true', 'tier': 'taskmanager'}\n",
      "gros-112.nancy.grid5000.fr\t{'beta.kubernetes.io/arch': 'amd64', 'beta.kubernetes.io/os': 'linux', 'kubernetes.io/arch': 'amd64', 'kubernetes.io/hostname': 'gros-112.nancy.grid5000.fr', 'kubernetes.io/os': 'linux', 'node-role.kubernetes.io/worker': 'true', 'tier': 'taskmanager'}\n",
      "gros-113.nancy.grid5000.fr\t{'beta.kubernetes.io/arch': 'amd64', 'beta.kubernetes.io/os': 'linux', 'kubernetes.io/arch': 'amd64', 'kubernetes.io/hostname': 'gros-113.nancy.grid5000.fr', 'kubernetes.io/os': 'linux', 'node-role.kubernetes.io/worker': 'true', 'tier': 'taskmanager'}\n",
      "gros-114.nancy.grid5000.fr\t{'beta.kubernetes.io/arch': 'amd64', 'beta.kubernetes.io/os': 'linux', 'kubernetes.io/arch': 'amd64', 'kubernetes.io/hostname': 'gros-114.nancy.grid5000.fr', 'kubernetes.io/os': 'linux', 'node-role.kubernetes.io/worker': 'true', 'tier': 'taskmanager'}\n",
      "gros-115.nancy.grid5000.fr\t{'beta.kubernetes.io/arch': 'amd64', 'beta.kubernetes.io/os': 'linux', 'kubernetes.io/arch': 'amd64', 'kubernetes.io/hostname': 'gros-115.nancy.grid5000.fr', 'kubernetes.io/os': 'linux', 'node-role.kubernetes.io/worker': 'true', 'tier': 'taskmanager'}\n",
      "gros-116.nancy.grid5000.fr\t{'beta.kubernetes.io/arch': 'amd64', 'beta.kubernetes.io/os': 'linux', 'kubernetes.io/arch': 'amd64', 'kubernetes.io/hostname': 'gros-116.nancy.grid5000.fr', 'kubernetes.io/os': 'linux', 'node-role.kubernetes.io/worker': 'true', 'tier': 'taskmanager'}\n",
      "gros-117.nancy.grid5000.fr\t{'beta.kubernetes.io/arch': 'amd64', 'beta.kubernetes.io/os': 'linux', 'kubernetes.io/arch': 'amd64', 'kubernetes.io/hostname': 'gros-117.nancy.grid5000.fr', 'kubernetes.io/os': 'linux', 'node-role.kubernetes.io/worker': 'true', 'tier': 'taskmanager'}\n",
      "gros-118.nancy.grid5000.fr\t{'beta.kubernetes.io/arch': 'amd64', 'beta.kubernetes.io/os': 'linux', 'kubernetes.io/arch': 'amd64', 'kubernetes.io/hostname': 'gros-118.nancy.grid5000.fr', 'kubernetes.io/os': 'linux', 'node-role.kubernetes.io/worker': 'true', 'tier': 'taskmanager'}\n",
      "gros-119.nancy.grid5000.fr\t{'beta.kubernetes.io/arch': 'amd64', 'beta.kubernetes.io/os': 'linux', 'kubernetes.io/arch': 'amd64', 'kubernetes.io/hostname': 'gros-119.nancy.grid5000.fr', 'kubernetes.io/os': 'linux', 'node-role.kubernetes.io/worker': 'true', 'tier': 'taskmanager'}\n",
      "gros-12.nancy.grid5000.fr\t{'beta.kubernetes.io/arch': 'amd64', 'beta.kubernetes.io/os': 'linux', 'kubernetes.io/arch': 'amd64', 'kubernetes.io/hostname': 'gros-12.nancy.grid5000.fr', 'kubernetes.io/os': 'linux', 'node-role.kubernetes.io/worker': 'true', 'tier': 'taskmanager'}\n",
      "gros-120.nancy.grid5000.fr\t{'beta.kubernetes.io/arch': 'amd64', 'beta.kubernetes.io/os': 'linux', 'kubernetes.io/arch': 'amd64', 'kubernetes.io/hostname': 'gros-120.nancy.grid5000.fr', 'kubernetes.io/os': 'linux', 'node-role.kubernetes.io/worker': 'true', 'tier': 'taskmanager'}\n",
      "gros-121.nancy.grid5000.fr\t{'beta.kubernetes.io/arch': 'amd64', 'beta.kubernetes.io/os': 'linux', 'kubernetes.io/arch': 'amd64', 'kubernetes.io/hostname': 'gros-121.nancy.grid5000.fr', 'kubernetes.io/os': 'linux', 'node-role.kubernetes.io/worker': 'true', 'tier': 'taskmanager'}\n",
      "gros-122.nancy.grid5000.fr\t{'beta.kubernetes.io/arch': 'amd64', 'beta.kubernetes.io/os': 'linux', 'kubernetes.io/arch': 'amd64', 'kubernetes.io/hostname': 'gros-122.nancy.grid5000.fr', 'kubernetes.io/os': 'linux', 'node-role.kubernetes.io/worker': 'true', 'tier': 'taskmanager'}\n",
      "gros-123.nancy.grid5000.fr\t{'beta.kubernetes.io/arch': 'amd64', 'beta.kubernetes.io/os': 'linux', 'kubernetes.io/arch': 'amd64', 'kubernetes.io/hostname': 'gros-123.nancy.grid5000.fr', 'kubernetes.io/os': 'linux', 'node-role.kubernetes.io/worker': 'true', 'tier': 'taskmanager'}\n",
      "gros-124.nancy.grid5000.fr\t{'beta.kubernetes.io/arch': 'amd64', 'beta.kubernetes.io/os': 'linux', 'kubernetes.io/arch': 'amd64', 'kubernetes.io/hostname': 'gros-124.nancy.grid5000.fr', 'kubernetes.io/os': 'linux', 'node-role.kubernetes.io/worker': 'true', 'tier': 'taskmanager'}\n",
      "gros-13.nancy.grid5000.fr\t{'beta.kubernetes.io/arch': 'amd64', 'beta.kubernetes.io/os': 'linux', 'kubernetes.io/arch': 'amd64', 'kubernetes.io/hostname': 'gros-13.nancy.grid5000.fr', 'kubernetes.io/os': 'linux', 'node-role.kubernetes.io/worker': 'true', 'tier': 'taskmanager'}\n",
      "gros-14.nancy.grid5000.fr\t{'beta.kubernetes.io/arch': 'amd64', 'beta.kubernetes.io/os': 'linux', 'kubernetes.io/arch': 'amd64', 'kubernetes.io/hostname': 'gros-14.nancy.grid5000.fr', 'kubernetes.io/os': 'linux', 'node-role.kubernetes.io/worker': 'true', 'tier': 'taskmanager'}\n",
      "gros-15.nancy.grid5000.fr\t{'beta.kubernetes.io/arch': 'amd64', 'beta.kubernetes.io/os': 'linux', 'kubernetes.io/arch': 'amd64', 'kubernetes.io/hostname': 'gros-15.nancy.grid5000.fr', 'kubernetes.io/os': 'linux', 'node-role.kubernetes.io/worker': 'true', 'tier': 'taskmanager'}\n",
      "gros-16.nancy.grid5000.fr\t{'beta.kubernetes.io/arch': 'amd64', 'beta.kubernetes.io/os': 'linux', 'kubernetes.io/arch': 'amd64', 'kubernetes.io/hostname': 'gros-16.nancy.grid5000.fr', 'kubernetes.io/os': 'linux', 'node-role.kubernetes.io/worker': 'true', 'tier': 'taskmanager'}\n",
      "gros-17.nancy.grid5000.fr\t{'beta.kubernetes.io/arch': 'amd64', 'beta.kubernetes.io/os': 'linux', 'kubernetes.io/arch': 'amd64', 'kubernetes.io/hostname': 'gros-17.nancy.grid5000.fr', 'kubernetes.io/os': 'linux', 'node-role.kubernetes.io/worker': 'true', 'tier': 'taskmanager'}\n",
      "gros-18.nancy.grid5000.fr\t{'beta.kubernetes.io/arch': 'amd64', 'beta.kubernetes.io/os': 'linux', 'kubernetes.io/arch': 'amd64', 'kubernetes.io/hostname': 'gros-18.nancy.grid5000.fr', 'kubernetes.io/os': 'linux', 'node-role.kubernetes.io/worker': 'true', 'tier': 'taskmanager'}\n",
      "gros-19.nancy.grid5000.fr\t{'beta.kubernetes.io/arch': 'amd64', 'beta.kubernetes.io/os': 'linux', 'kubernetes.io/arch': 'amd64', 'kubernetes.io/hostname': 'gros-19.nancy.grid5000.fr', 'kubernetes.io/os': 'linux', 'node-role.kubernetes.io/worker': 'true', 'tier': 'taskmanager'}\n",
      "gros-2.nancy.grid5000.fr\t{'beta.kubernetes.io/arch': 'amd64', 'beta.kubernetes.io/os': 'linux', 'kubernetes.io/arch': 'amd64', 'kubernetes.io/hostname': 'gros-2.nancy.grid5000.fr', 'kubernetes.io/os': 'linux', 'node-role.kubernetes.io/worker': 'true', 'tier': 'taskmanager'}\n",
      "gros-20.nancy.grid5000.fr\t{'beta.kubernetes.io/arch': 'amd64', 'beta.kubernetes.io/os': 'linux', 'kubernetes.io/arch': 'amd64', 'kubernetes.io/hostname': 'gros-20.nancy.grid5000.fr', 'kubernetes.io/os': 'linux', 'node-role.kubernetes.io/worker': 'true', 'tier': 'taskmanager'}\n",
      "gros-21.nancy.grid5000.fr\t{'beta.kubernetes.io/arch': 'amd64', 'beta.kubernetes.io/os': 'linux', 'kubernetes.io/arch': 'amd64', 'kubernetes.io/hostname': 'gros-21.nancy.grid5000.fr', 'kubernetes.io/os': 'linux', 'node-role.kubernetes.io/worker': 'true', 'tier': 'taskmanager'}\n",
      "gros-22.nancy.grid5000.fr\t{'beta.kubernetes.io/arch': 'amd64', 'beta.kubernetes.io/os': 'linux', 'kubernetes.io/arch': 'amd64', 'kubernetes.io/hostname': 'gros-22.nancy.grid5000.fr', 'kubernetes.io/os': 'linux', 'node-role.kubernetes.io/worker': 'true', 'tier': 'taskmanager'}\n",
      "gros-23.nancy.grid5000.fr\t{'beta.kubernetes.io/arch': 'amd64', 'beta.kubernetes.io/os': 'linux', 'kubernetes.io/arch': 'amd64', 'kubernetes.io/hostname': 'gros-23.nancy.grid5000.fr', 'kubernetes.io/os': 'linux', 'node-role.kubernetes.io/worker': 'true', 'tier': 'taskmanager'}\n",
      "gros-24.nancy.grid5000.fr\t{'beta.kubernetes.io/arch': 'amd64', 'beta.kubernetes.io/os': 'linux', 'kubernetes.io/arch': 'amd64', 'kubernetes.io/hostname': 'gros-24.nancy.grid5000.fr', 'kubernetes.io/os': 'linux', 'node-role.kubernetes.io/worker': 'true', 'tier': 'taskmanager'}\n",
      "gros-25.nancy.grid5000.fr\t{'beta.kubernetes.io/arch': 'amd64', 'beta.kubernetes.io/os': 'linux', 'kubernetes.io/arch': 'amd64', 'kubernetes.io/hostname': 'gros-25.nancy.grid5000.fr', 'kubernetes.io/os': 'linux', 'node-role.kubernetes.io/worker': 'true', 'tier': 'taskmanager'}\n",
      "gros-26.nancy.grid5000.fr\t{'beta.kubernetes.io/arch': 'amd64', 'beta.kubernetes.io/os': 'linux', 'kubernetes.io/arch': 'amd64', 'kubernetes.io/hostname': 'gros-26.nancy.grid5000.fr', 'kubernetes.io/os': 'linux', 'node-role.kubernetes.io/worker': 'true', 'tier': 'taskmanager'}\n",
      "gros-27.nancy.grid5000.fr\t{'beta.kubernetes.io/arch': 'amd64', 'beta.kubernetes.io/os': 'linux', 'kubernetes.io/arch': 'amd64', 'kubernetes.io/hostname': 'gros-27.nancy.grid5000.fr', 'kubernetes.io/os': 'linux', 'node-role.kubernetes.io/worker': 'true', 'tier': 'taskmanager'}\n",
      "gros-28.nancy.grid5000.fr\t{'beta.kubernetes.io/arch': 'amd64', 'beta.kubernetes.io/os': 'linux', 'kubernetes.io/arch': 'amd64', 'kubernetes.io/hostname': 'gros-28.nancy.grid5000.fr', 'kubernetes.io/os': 'linux', 'node-role.kubernetes.io/worker': 'true', 'tier': 'taskmanager'}\n",
      "gros-29.nancy.grid5000.fr\t{'beta.kubernetes.io/arch': 'amd64', 'beta.kubernetes.io/os': 'linux', 'kubernetes.io/arch': 'amd64', 'kubernetes.io/hostname': 'gros-29.nancy.grid5000.fr', 'kubernetes.io/os': 'linux', 'node-role.kubernetes.io/worker': 'true', 'tier': 'taskmanager'}\n",
      "gros-3.nancy.grid5000.fr\t{'beta.kubernetes.io/arch': 'amd64', 'beta.kubernetes.io/os': 'linux', 'kubernetes.io/arch': 'amd64', 'kubernetes.io/hostname': 'gros-3.nancy.grid5000.fr', 'kubernetes.io/os': 'linux', 'node-role.kubernetes.io/worker': 'true', 'tier': 'taskmanager'}\n",
      "gros-30.nancy.grid5000.fr\t{'beta.kubernetes.io/arch': 'amd64', 'beta.kubernetes.io/os': 'linux', 'kubernetes.io/arch': 'amd64', 'kubernetes.io/hostname': 'gros-30.nancy.grid5000.fr', 'kubernetes.io/os': 'linux', 'node-role.kubernetes.io/worker': 'true', 'tier': 'taskmanager'}\n",
      "gros-31.nancy.grid5000.fr\t{'beta.kubernetes.io/arch': 'amd64', 'beta.kubernetes.io/os': 'linux', 'kubernetes.io/arch': 'amd64', 'kubernetes.io/hostname': 'gros-31.nancy.grid5000.fr', 'kubernetes.io/os': 'linux', 'node-role.kubernetes.io/worker': 'true', 'tier': 'taskmanager'}\n",
      "gros-32.nancy.grid5000.fr\t{'beta.kubernetes.io/arch': 'amd64', 'beta.kubernetes.io/os': 'linux', 'kubernetes.io/arch': 'amd64', 'kubernetes.io/hostname': 'gros-32.nancy.grid5000.fr', 'kubernetes.io/os': 'linux', 'node-role.kubernetes.io/worker': 'true', 'tier': 'taskmanager'}\n",
      "gros-33.nancy.grid5000.fr\t{'beta.kubernetes.io/arch': 'amd64', 'beta.kubernetes.io/os': 'linux', 'kubernetes.io/arch': 'amd64', 'kubernetes.io/hostname': 'gros-33.nancy.grid5000.fr', 'kubernetes.io/os': 'linux', 'node-role.kubernetes.io/worker': 'true', 'tier': 'taskmanager'}\n",
      "gros-34.nancy.grid5000.fr\t{'beta.kubernetes.io/arch': 'amd64', 'beta.kubernetes.io/os': 'linux', 'kubernetes.io/arch': 'amd64', 'kubernetes.io/hostname': 'gros-34.nancy.grid5000.fr', 'kubernetes.io/os': 'linux', 'node-role.kubernetes.io/worker': 'true', 'tier': 'taskmanager'}\n",
      "gros-35.nancy.grid5000.fr\t{'beta.kubernetes.io/arch': 'amd64', 'beta.kubernetes.io/os': 'linux', 'kubernetes.io/arch': 'amd64', 'kubernetes.io/hostname': 'gros-35.nancy.grid5000.fr', 'kubernetes.io/os': 'linux', 'node-role.kubernetes.io/worker': 'true', 'tier': 'taskmanager'}\n",
      "gros-36.nancy.grid5000.fr\t{'beta.kubernetes.io/arch': 'amd64', 'beta.kubernetes.io/os': 'linux', 'kubernetes.io/arch': 'amd64', 'kubernetes.io/hostname': 'gros-36.nancy.grid5000.fr', 'kubernetes.io/os': 'linux', 'node-role.kubernetes.io/worker': 'true', 'tier': 'taskmanager'}\n",
      "gros-37.nancy.grid5000.fr\t{'beta.kubernetes.io/arch': 'amd64', 'beta.kubernetes.io/os': 'linux', 'kubernetes.io/arch': 'amd64', 'kubernetes.io/hostname': 'gros-37.nancy.grid5000.fr', 'kubernetes.io/os': 'linux', 'node-role.kubernetes.io/worker': 'true', 'tier': 'taskmanager'}\n",
      "gros-38.nancy.grid5000.fr\t{'beta.kubernetes.io/arch': 'amd64', 'beta.kubernetes.io/os': 'linux', 'kubernetes.io/arch': 'amd64', 'kubernetes.io/hostname': 'gros-38.nancy.grid5000.fr', 'kubernetes.io/os': 'linux', 'node-role.kubernetes.io/worker': 'true', 'tier': 'taskmanager'}\n",
      "gros-39.nancy.grid5000.fr\t{'beta.kubernetes.io/arch': 'amd64', 'beta.kubernetes.io/os': 'linux', 'kubernetes.io/arch': 'amd64', 'kubernetes.io/hostname': 'gros-39.nancy.grid5000.fr', 'kubernetes.io/os': 'linux', 'node-role.kubernetes.io/worker': 'true', 'tier': 'taskmanager'}\n",
      "gros-4.nancy.grid5000.fr\t{'beta.kubernetes.io/arch': 'amd64', 'beta.kubernetes.io/os': 'linux', 'kubernetes.io/arch': 'amd64', 'kubernetes.io/hostname': 'gros-4.nancy.grid5000.fr', 'kubernetes.io/os': 'linux', 'node-role.kubernetes.io/worker': 'true', 'tier': 'taskmanager'}\n",
      "gros-40.nancy.grid5000.fr\t{'beta.kubernetes.io/arch': 'amd64', 'beta.kubernetes.io/os': 'linux', 'kubernetes.io/arch': 'amd64', 'kubernetes.io/hostname': 'gros-40.nancy.grid5000.fr', 'kubernetes.io/os': 'linux', 'node-role.kubernetes.io/worker': 'true', 'tier': 'taskmanager'}\n",
      "gros-41.nancy.grid5000.fr\t{'beta.kubernetes.io/arch': 'amd64', 'beta.kubernetes.io/os': 'linux', 'kubernetes.io/arch': 'amd64', 'kubernetes.io/hostname': 'gros-41.nancy.grid5000.fr', 'kubernetes.io/os': 'linux', 'node-role.kubernetes.io/worker': 'true', 'tier': 'taskmanager'}\n",
      "gros-42.nancy.grid5000.fr\t{'beta.kubernetes.io/arch': 'amd64', 'beta.kubernetes.io/os': 'linux', 'kubernetes.io/arch': 'amd64', 'kubernetes.io/hostname': 'gros-42.nancy.grid5000.fr', 'kubernetes.io/os': 'linux', 'node-role.kubernetes.io/worker': 'true', 'tier': 'taskmanager'}\n",
      "gros-43.nancy.grid5000.fr\t{'beta.kubernetes.io/arch': 'amd64', 'beta.kubernetes.io/os': 'linux', 'kubernetes.io/arch': 'amd64', 'kubernetes.io/hostname': 'gros-43.nancy.grid5000.fr', 'kubernetes.io/os': 'linux', 'node-role.kubernetes.io/worker': 'true', 'tier': 'taskmanager'}\n",
      "gros-44.nancy.grid5000.fr\t{'beta.kubernetes.io/arch': 'amd64', 'beta.kubernetes.io/os': 'linux', 'kubernetes.io/arch': 'amd64', 'kubernetes.io/hostname': 'gros-44.nancy.grid5000.fr', 'kubernetes.io/os': 'linux', 'node-role.kubernetes.io/worker': 'true', 'tier': 'taskmanager'}\n",
      "gros-45.nancy.grid5000.fr\t{'beta.kubernetes.io/arch': 'amd64', 'beta.kubernetes.io/os': 'linux', 'kubernetes.io/arch': 'amd64', 'kubernetes.io/hostname': 'gros-45.nancy.grid5000.fr', 'kubernetes.io/os': 'linux', 'node-role.kubernetes.io/worker': 'true', 'tier': 'taskmanager'}\n",
      "gros-46.nancy.grid5000.fr\t{'beta.kubernetes.io/arch': 'amd64', 'beta.kubernetes.io/os': 'linux', 'kubernetes.io/arch': 'amd64', 'kubernetes.io/hostname': 'gros-46.nancy.grid5000.fr', 'kubernetes.io/os': 'linux', 'node-role.kubernetes.io/worker': 'true', 'tier': 'taskmanager'}\n",
      "gros-47.nancy.grid5000.fr\t{'beta.kubernetes.io/arch': 'amd64', 'beta.kubernetes.io/os': 'linux', 'kubernetes.io/arch': 'amd64', 'kubernetes.io/hostname': 'gros-47.nancy.grid5000.fr', 'kubernetes.io/os': 'linux', 'node-role.kubernetes.io/worker': 'true', 'tier': 'taskmanager'}\n",
      "gros-48.nancy.grid5000.fr\t{'beta.kubernetes.io/arch': 'amd64', 'beta.kubernetes.io/os': 'linux', 'kubernetes.io/arch': 'amd64', 'kubernetes.io/hostname': 'gros-48.nancy.grid5000.fr', 'kubernetes.io/os': 'linux', 'node-role.kubernetes.io/worker': 'true', 'tier': 'taskmanager'}\n",
      "gros-49.nancy.grid5000.fr\t{'beta.kubernetes.io/arch': 'amd64', 'beta.kubernetes.io/os': 'linux', 'kubernetes.io/arch': 'amd64', 'kubernetes.io/hostname': 'gros-49.nancy.grid5000.fr', 'kubernetes.io/os': 'linux', 'node-role.kubernetes.io/worker': 'true', 'tier': 'taskmanager'}\n",
      "gros-5.nancy.grid5000.fr\t{'beta.kubernetes.io/arch': 'amd64', 'beta.kubernetes.io/os': 'linux', 'kubernetes.io/arch': 'amd64', 'kubernetes.io/hostname': 'gros-5.nancy.grid5000.fr', 'kubernetes.io/os': 'linux', 'node-role.kubernetes.io/worker': 'true', 'tier': 'taskmanager'}\n",
      "gros-50.nancy.grid5000.fr\t{'beta.kubernetes.io/arch': 'amd64', 'beta.kubernetes.io/os': 'linux', 'kubernetes.io/arch': 'amd64', 'kubernetes.io/hostname': 'gros-50.nancy.grid5000.fr', 'kubernetes.io/os': 'linux', 'node-role.kubernetes.io/worker': 'true', 'tier': 'taskmanager'}\n",
      "gros-51.nancy.grid5000.fr\t{'beta.kubernetes.io/arch': 'amd64', 'beta.kubernetes.io/os': 'linux', 'kubernetes.io/arch': 'amd64', 'kubernetes.io/hostname': 'gros-51.nancy.grid5000.fr', 'kubernetes.io/os': 'linux', 'node-role.kubernetes.io/worker': 'true', 'tier': 'taskmanager'}\n",
      "gros-52.nancy.grid5000.fr\t{'beta.kubernetes.io/arch': 'amd64', 'beta.kubernetes.io/os': 'linux', 'kubernetes.io/arch': 'amd64', 'kubernetes.io/hostname': 'gros-52.nancy.grid5000.fr', 'kubernetes.io/os': 'linux', 'node-role.kubernetes.io/worker': 'true', 'tier': 'taskmanager'}\n",
      "gros-53.nancy.grid5000.fr\t{'beta.kubernetes.io/arch': 'amd64', 'beta.kubernetes.io/os': 'linux', 'kubernetes.io/arch': 'amd64', 'kubernetes.io/hostname': 'gros-53.nancy.grid5000.fr', 'kubernetes.io/os': 'linux', 'node-role.kubernetes.io/worker': 'true', 'tier': 'taskmanager'}\n",
      "gros-54.nancy.grid5000.fr\t{'beta.kubernetes.io/arch': 'amd64', 'beta.kubernetes.io/os': 'linux', 'kubernetes.io/arch': 'amd64', 'kubernetes.io/hostname': 'gros-54.nancy.grid5000.fr', 'kubernetes.io/os': 'linux', 'node-role.kubernetes.io/worker': 'true', 'tier': 'taskmanager'}\n",
      "gros-55.nancy.grid5000.fr\t{'beta.kubernetes.io/arch': 'amd64', 'beta.kubernetes.io/os': 'linux', 'kubernetes.io/arch': 'amd64', 'kubernetes.io/hostname': 'gros-55.nancy.grid5000.fr', 'kubernetes.io/os': 'linux', 'node-role.kubernetes.io/worker': 'true', 'tier': 'taskmanager'}\n",
      "gros-56.nancy.grid5000.fr\t{'beta.kubernetes.io/arch': 'amd64', 'beta.kubernetes.io/os': 'linux', 'kubernetes.io/arch': 'amd64', 'kubernetes.io/hostname': 'gros-56.nancy.grid5000.fr', 'kubernetes.io/os': 'linux', 'node-role.kubernetes.io/worker': 'true', 'tier': 'taskmanager'}\n",
      "gros-57.nancy.grid5000.fr\t{'beta.kubernetes.io/arch': 'amd64', 'beta.kubernetes.io/os': 'linux', 'kubernetes.io/arch': 'amd64', 'kubernetes.io/hostname': 'gros-57.nancy.grid5000.fr', 'kubernetes.io/os': 'linux', 'node-role.kubernetes.io/worker': 'true', 'tier': 'taskmanager'}\n",
      "gros-58.nancy.grid5000.fr\t{'beta.kubernetes.io/arch': 'amd64', 'beta.kubernetes.io/os': 'linux', 'kubernetes.io/arch': 'amd64', 'kubernetes.io/hostname': 'gros-58.nancy.grid5000.fr', 'kubernetes.io/os': 'linux', 'node-role.kubernetes.io/worker': 'true', 'tier': 'taskmanager'}\n",
      "gros-59.nancy.grid5000.fr\t{'beta.kubernetes.io/arch': 'amd64', 'beta.kubernetes.io/os': 'linux', 'kubernetes.io/arch': 'amd64', 'kubernetes.io/hostname': 'gros-59.nancy.grid5000.fr', 'kubernetes.io/os': 'linux', 'node-role.kubernetes.io/worker': 'true', 'tier': 'taskmanager'}\n",
      "gros-6.nancy.grid5000.fr\t{'beta.kubernetes.io/arch': 'amd64', 'beta.kubernetes.io/os': 'linux', 'kubernetes.io/arch': 'amd64', 'kubernetes.io/hostname': 'gros-6.nancy.grid5000.fr', 'kubernetes.io/os': 'linux', 'node-role.kubernetes.io/worker': 'true', 'tier': 'taskmanager'}\n",
      "gros-60.nancy.grid5000.fr\t{'beta.kubernetes.io/arch': 'amd64', 'beta.kubernetes.io/os': 'linux', 'kubernetes.io/arch': 'amd64', 'kubernetes.io/hostname': 'gros-60.nancy.grid5000.fr', 'kubernetes.io/os': 'linux', 'node-role.kubernetes.io/worker': 'true', 'tier': 'taskmanager'}\n",
      "gros-61.nancy.grid5000.fr\t{'beta.kubernetes.io/arch': 'amd64', 'beta.kubernetes.io/os': 'linux', 'kubernetes.io/arch': 'amd64', 'kubernetes.io/hostname': 'gros-61.nancy.grid5000.fr', 'kubernetes.io/os': 'linux', 'node-role.kubernetes.io/worker': 'true', 'tier': 'taskmanager'}\n",
      "gros-62.nancy.grid5000.fr\t{'beta.kubernetes.io/arch': 'amd64', 'beta.kubernetes.io/os': 'linux', 'kubernetes.io/arch': 'amd64', 'kubernetes.io/hostname': 'gros-62.nancy.grid5000.fr', 'kubernetes.io/os': 'linux', 'node-role.kubernetes.io/worker': 'true', 'tier': 'taskmanager'}\n",
      "gros-63.nancy.grid5000.fr\t{'beta.kubernetes.io/arch': 'amd64', 'beta.kubernetes.io/os': 'linux', 'kubernetes.io/arch': 'amd64', 'kubernetes.io/hostname': 'gros-63.nancy.grid5000.fr', 'kubernetes.io/os': 'linux', 'node-role.kubernetes.io/worker': 'true', 'tier': 'taskmanager'}\n",
      "gros-64.nancy.grid5000.fr\t{'beta.kubernetes.io/arch': 'amd64', 'beta.kubernetes.io/os': 'linux', 'kubernetes.io/arch': 'amd64', 'kubernetes.io/hostname': 'gros-64.nancy.grid5000.fr', 'kubernetes.io/os': 'linux', 'node-role.kubernetes.io/worker': 'true', 'tier': 'taskmanager'}\n",
      "gros-65.nancy.grid5000.fr\t{'beta.kubernetes.io/arch': 'amd64', 'beta.kubernetes.io/os': 'linux', 'kubernetes.io/arch': 'amd64', 'kubernetes.io/hostname': 'gros-65.nancy.grid5000.fr', 'kubernetes.io/os': 'linux', 'node-role.kubernetes.io/worker': 'true', 'tier': 'taskmanager'}\n",
      "gros-66.nancy.grid5000.fr\t{'beta.kubernetes.io/arch': 'amd64', 'beta.kubernetes.io/os': 'linux', 'kubernetes.io/arch': 'amd64', 'kubernetes.io/hostname': 'gros-66.nancy.grid5000.fr', 'kubernetes.io/os': 'linux', 'node-role.kubernetes.io/worker': 'true', 'tier': 'taskmanager'}\n",
      "gros-67.nancy.grid5000.fr\t{'beta.kubernetes.io/arch': 'amd64', 'beta.kubernetes.io/os': 'linux', 'kubernetes.io/arch': 'amd64', 'kubernetes.io/hostname': 'gros-67.nancy.grid5000.fr', 'kubernetes.io/os': 'linux', 'node-role.kubernetes.io/worker': 'true', 'tier': 'taskmanager'}\n",
      "gros-68.nancy.grid5000.fr\t{'beta.kubernetes.io/arch': 'amd64', 'beta.kubernetes.io/os': 'linux', 'kubernetes.io/arch': 'amd64', 'kubernetes.io/hostname': 'gros-68.nancy.grid5000.fr', 'kubernetes.io/os': 'linux', 'node-role.kubernetes.io/worker': 'true', 'tier': 'taskmanager'}\n",
      "gros-69.nancy.grid5000.fr\t{'beta.kubernetes.io/arch': 'amd64', 'beta.kubernetes.io/os': 'linux', 'kubernetes.io/arch': 'amd64', 'kubernetes.io/hostname': 'gros-69.nancy.grid5000.fr', 'kubernetes.io/os': 'linux', 'node-role.kubernetes.io/worker': 'true', 'tier': 'taskmanager'}\n",
      "gros-7.nancy.grid5000.fr\t{'beta.kubernetes.io/arch': 'amd64', 'beta.kubernetes.io/os': 'linux', 'kubernetes.io/arch': 'amd64', 'kubernetes.io/hostname': 'gros-7.nancy.grid5000.fr', 'kubernetes.io/os': 'linux', 'node-role.kubernetes.io/worker': 'true', 'tier': 'taskmanager'}\n",
      "gros-70.nancy.grid5000.fr\t{'beta.kubernetes.io/arch': 'amd64', 'beta.kubernetes.io/os': 'linux', 'kubernetes.io/arch': 'amd64', 'kubernetes.io/hostname': 'gros-70.nancy.grid5000.fr', 'kubernetes.io/os': 'linux', 'node-role.kubernetes.io/worker': 'true', 'tier': 'taskmanager'}\n",
      "gros-71.nancy.grid5000.fr\t{'beta.kubernetes.io/arch': 'amd64', 'beta.kubernetes.io/os': 'linux', 'kubernetes.io/arch': 'amd64', 'kubernetes.io/hostname': 'gros-71.nancy.grid5000.fr', 'kubernetes.io/os': 'linux', 'node-role.kubernetes.io/worker': 'true', 'tier': 'taskmanager'}\n",
      "gros-72.nancy.grid5000.fr\t{'beta.kubernetes.io/arch': 'amd64', 'beta.kubernetes.io/os': 'linux', 'kubernetes.io/arch': 'amd64', 'kubernetes.io/hostname': 'gros-72.nancy.grid5000.fr', 'kubernetes.io/os': 'linux', 'node-role.kubernetes.io/worker': 'true', 'tier': 'taskmanager'}\n",
      "gros-73.nancy.grid5000.fr\t{'beta.kubernetes.io/arch': 'amd64', 'beta.kubernetes.io/os': 'linux', 'kubernetes.io/arch': 'amd64', 'kubernetes.io/hostname': 'gros-73.nancy.grid5000.fr', 'kubernetes.io/os': 'linux', 'node-role.kubernetes.io/worker': 'true', 'tier': 'taskmanager'}\n",
      "gros-74.nancy.grid5000.fr\t{'beta.kubernetes.io/arch': 'amd64', 'beta.kubernetes.io/os': 'linux', 'kubernetes.io/arch': 'amd64', 'kubernetes.io/hostname': 'gros-74.nancy.grid5000.fr', 'kubernetes.io/os': 'linux', 'node-role.kubernetes.io/worker': 'true', 'tier': 'taskmanager'}\n",
      "gros-75.nancy.grid5000.fr\t{'beta.kubernetes.io/arch': 'amd64', 'beta.kubernetes.io/os': 'linux', 'kubernetes.io/arch': 'amd64', 'kubernetes.io/hostname': 'gros-75.nancy.grid5000.fr', 'kubernetes.io/os': 'linux', 'node-role.kubernetes.io/worker': 'true', 'tier': 'taskmanager'}\n",
      "gros-76.nancy.grid5000.fr\t{'beta.kubernetes.io/arch': 'amd64', 'beta.kubernetes.io/os': 'linux', 'kubernetes.io/arch': 'amd64', 'kubernetes.io/hostname': 'gros-76.nancy.grid5000.fr', 'kubernetes.io/os': 'linux', 'node-role.kubernetes.io/worker': 'true', 'tier': 'taskmanager'}\n",
      "gros-77.nancy.grid5000.fr\t{'beta.kubernetes.io/arch': 'amd64', 'beta.kubernetes.io/os': 'linux', 'kubernetes.io/arch': 'amd64', 'kubernetes.io/hostname': 'gros-77.nancy.grid5000.fr', 'kubernetes.io/os': 'linux', 'node-role.kubernetes.io/worker': 'true', 'tier': 'taskmanager'}\n",
      "gros-78.nancy.grid5000.fr\t{'beta.kubernetes.io/arch': 'amd64', 'beta.kubernetes.io/os': 'linux', 'kubernetes.io/arch': 'amd64', 'kubernetes.io/hostname': 'gros-78.nancy.grid5000.fr', 'kubernetes.io/os': 'linux', 'node-role.kubernetes.io/worker': 'true', 'tier': 'taskmanager'}\n",
      "gros-79.nancy.grid5000.fr\t{'beta.kubernetes.io/arch': 'amd64', 'beta.kubernetes.io/os': 'linux', 'kubernetes.io/arch': 'amd64', 'kubernetes.io/hostname': 'gros-79.nancy.grid5000.fr', 'kubernetes.io/os': 'linux', 'node-role.kubernetes.io/worker': 'true', 'tier': 'taskmanager'}\n",
      "gros-8.nancy.grid5000.fr\t{'beta.kubernetes.io/arch': 'amd64', 'beta.kubernetes.io/os': 'linux', 'kubernetes.io/arch': 'amd64', 'kubernetes.io/hostname': 'gros-8.nancy.grid5000.fr', 'kubernetes.io/os': 'linux', 'node-role.kubernetes.io/worker': 'true', 'tier': 'taskmanager'}\n",
      "gros-80.nancy.grid5000.fr\t{'beta.kubernetes.io/arch': 'amd64', 'beta.kubernetes.io/os': 'linux', 'kubernetes.io/arch': 'amd64', 'kubernetes.io/hostname': 'gros-80.nancy.grid5000.fr', 'kubernetes.io/os': 'linux', 'node-role.kubernetes.io/worker': 'true', 'tier': 'taskmanager'}\n",
      "gros-81.nancy.grid5000.fr\t{'beta.kubernetes.io/arch': 'amd64', 'beta.kubernetes.io/os': 'linux', 'kubernetes.io/arch': 'amd64', 'kubernetes.io/hostname': 'gros-81.nancy.grid5000.fr', 'kubernetes.io/os': 'linux', 'node-role.kubernetes.io/worker': 'true', 'tier': 'taskmanager'}\n",
      "gros-82.nancy.grid5000.fr\t{'beta.kubernetes.io/arch': 'amd64', 'beta.kubernetes.io/os': 'linux', 'kubernetes.io/arch': 'amd64', 'kubernetes.io/hostname': 'gros-82.nancy.grid5000.fr', 'kubernetes.io/os': 'linux', 'node-role.kubernetes.io/worker': 'true', 'tier': 'taskmanager'}\n",
      "gros-83.nancy.grid5000.fr\t{'beta.kubernetes.io/arch': 'amd64', 'beta.kubernetes.io/os': 'linux', 'kubernetes.io/arch': 'amd64', 'kubernetes.io/hostname': 'gros-83.nancy.grid5000.fr', 'kubernetes.io/os': 'linux', 'node-role.kubernetes.io/worker': 'true', 'tier': 'taskmanager'}\n",
      "gros-84.nancy.grid5000.fr\t{'beta.kubernetes.io/arch': 'amd64', 'beta.kubernetes.io/os': 'linux', 'kubernetes.io/arch': 'amd64', 'kubernetes.io/hostname': 'gros-84.nancy.grid5000.fr', 'kubernetes.io/os': 'linux', 'node-role.kubernetes.io/worker': 'true', 'tier': 'taskmanager'}\n",
      "gros-85.nancy.grid5000.fr\t{'beta.kubernetes.io/arch': 'amd64', 'beta.kubernetes.io/os': 'linux', 'kubernetes.io/arch': 'amd64', 'kubernetes.io/hostname': 'gros-85.nancy.grid5000.fr', 'kubernetes.io/os': 'linux', 'node-role.kubernetes.io/worker': 'true', 'tier': 'taskmanager'}\n",
      "gros-86.nancy.grid5000.fr\t{'beta.kubernetes.io/arch': 'amd64', 'beta.kubernetes.io/os': 'linux', 'kubernetes.io/arch': 'amd64', 'kubernetes.io/hostname': 'gros-86.nancy.grid5000.fr', 'kubernetes.io/os': 'linux', 'node-role.kubernetes.io/worker': 'true', 'tier': 'taskmanager'}\n",
      "gros-87.nancy.grid5000.fr\t{'beta.kubernetes.io/arch': 'amd64', 'beta.kubernetes.io/os': 'linux', 'kubernetes.io/arch': 'amd64', 'kubernetes.io/hostname': 'gros-87.nancy.grid5000.fr', 'kubernetes.io/os': 'linux', 'node-role.kubernetes.io/worker': 'true', 'tier': 'taskmanager'}\n",
      "gros-88.nancy.grid5000.fr\t{'beta.kubernetes.io/arch': 'amd64', 'beta.kubernetes.io/os': 'linux', 'kubernetes.io/arch': 'amd64', 'kubernetes.io/hostname': 'gros-88.nancy.grid5000.fr', 'kubernetes.io/os': 'linux', 'node-role.kubernetes.io/worker': 'true', 'tier': 'taskmanager'}\n",
      "gros-89.nancy.grid5000.fr\t{'beta.kubernetes.io/arch': 'amd64', 'beta.kubernetes.io/os': 'linux', 'kubernetes.io/arch': 'amd64', 'kubernetes.io/hostname': 'gros-89.nancy.grid5000.fr', 'kubernetes.io/os': 'linux', 'node-role.kubernetes.io/worker': 'true', 'tier': 'taskmanager'}\n",
      "gros-9.nancy.grid5000.fr\t{'beta.kubernetes.io/arch': 'amd64', 'beta.kubernetes.io/os': 'linux', 'kubernetes.io/arch': 'amd64', 'kubernetes.io/hostname': 'gros-9.nancy.grid5000.fr', 'kubernetes.io/os': 'linux', 'node-role.kubernetes.io/worker': 'true', 'tier': 'taskmanager'}\n",
      "gros-90.nancy.grid5000.fr\t{'beta.kubernetes.io/arch': 'amd64', 'beta.kubernetes.io/os': 'linux', 'kubernetes.io/arch': 'amd64', 'kubernetes.io/hostname': 'gros-90.nancy.grid5000.fr', 'kubernetes.io/os': 'linux', 'node-role.kubernetes.io/worker': 'true', 'tier': 'taskmanager'}\n",
      "gros-91.nancy.grid5000.fr\t{'beta.kubernetes.io/arch': 'amd64', 'beta.kubernetes.io/os': 'linux', 'kubernetes.io/arch': 'amd64', 'kubernetes.io/hostname': 'gros-91.nancy.grid5000.fr', 'kubernetes.io/os': 'linux', 'node-role.kubernetes.io/worker': 'true', 'tier': 'taskmanager'}\n",
      "gros-92.nancy.grid5000.fr\t{'beta.kubernetes.io/arch': 'amd64', 'beta.kubernetes.io/os': 'linux', 'kubernetes.io/arch': 'amd64', 'kubernetes.io/hostname': 'gros-92.nancy.grid5000.fr', 'kubernetes.io/os': 'linux', 'node-role.kubernetes.io/worker': 'true', 'tier': 'taskmanager'}\n",
      "gros-93.nancy.grid5000.fr\t{'beta.kubernetes.io/arch': 'amd64', 'beta.kubernetes.io/os': 'linux', 'kubernetes.io/arch': 'amd64', 'kubernetes.io/hostname': 'gros-93.nancy.grid5000.fr', 'kubernetes.io/os': 'linux', 'node-role.kubernetes.io/worker': 'true', 'tier': 'taskmanager'}\n",
      "gros-94.nancy.grid5000.fr\t{'beta.kubernetes.io/arch': 'amd64', 'beta.kubernetes.io/os': 'linux', 'kubernetes.io/arch': 'amd64', 'kubernetes.io/hostname': 'gros-94.nancy.grid5000.fr', 'kubernetes.io/os': 'linux', 'node-role.kubernetes.io/worker': 'true', 'tier': 'taskmanager'}\n",
      "gros-95.nancy.grid5000.fr\t{'beta.kubernetes.io/arch': 'amd64', 'beta.kubernetes.io/os': 'linux', 'kubernetes.io/arch': 'amd64', 'kubernetes.io/hostname': 'gros-95.nancy.grid5000.fr', 'kubernetes.io/os': 'linux', 'node-role.kubernetes.io/worker': 'true', 'tier': 'taskmanager'}\n",
      "gros-96.nancy.grid5000.fr\t{'beta.kubernetes.io/arch': 'amd64', 'beta.kubernetes.io/os': 'linux', 'kubernetes.io/arch': 'amd64', 'kubernetes.io/hostname': 'gros-96.nancy.grid5000.fr', 'kubernetes.io/os': 'linux', 'node-role.kubernetes.io/worker': 'true', 'tier': 'taskmanager'}\n",
      "gros-97.nancy.grid5000.fr\t{'beta.kubernetes.io/arch': 'amd64', 'beta.kubernetes.io/os': 'linux', 'kubernetes.io/arch': 'amd64', 'kubernetes.io/hostname': 'gros-97.nancy.grid5000.fr', 'kubernetes.io/os': 'linux', 'node-role.kubernetes.io/worker': 'true', 'tier': 'taskmanager'}\n",
      "gros-98.nancy.grid5000.fr\t{'beta.kubernetes.io/arch': 'amd64', 'beta.kubernetes.io/os': 'linux', 'kubernetes.io/arch': 'amd64', 'kubernetes.io/hostname': 'gros-98.nancy.grid5000.fr', 'kubernetes.io/os': 'linux', 'node-role.kubernetes.io/worker': 'true', 'tier': 'taskmanager'}\n",
      "gros-99.nancy.grid5000.fr\t{'beta.kubernetes.io/arch': 'amd64', 'beta.kubernetes.io/os': 'linux', 'kubernetes.io/arch': 'amd64', 'kubernetes.io/hostname': 'gros-99.nancy.grid5000.fr', 'kubernetes.io/os': 'linux', 'node-role.kubernetes.io/worker': 'true', 'tier': 'taskmanager'}\n",
      "Kafka Kowl: gros-10.nancy.grid5000.fr - Ingress: http://kowl.127-0-0-1.sslip.io:30081\n",
      "kafkabridge.kafka.strimzi.io/my-bridge created\n",
      "ingress.networking.k8s.io/my-bridge created\n",
      "service/kafka-bridge-svc created\n"
     ]
    }
   ],
   "source": [
    "#papermill_description=Reset_Kafka\n",
    "if reset_kafka_data:\n",
    "    #papermill_description=Initialize libraries\n",
    "    init_label_nodes(jobmanagers_qty=job_managers_qty, kafka_qty=kafka_qty)\n",
    "\n",
    "    address = \"127-0-0-1\"\n",
    "    port=30081\n",
    "\n",
    "    !kubectl delete -n kafka kafka/my-cluster\n",
    "    sleep(10)\n",
    "    #run_command(\"kubectl create -f ./kafka.yaml\", shell=False)\n",
    "    streambed.deploy_kafka(kafka_partitions, kafka_replicas, node_selector=kafka_node_selector, antiaffinity=g5k)\n",
    "    run_command(\"kubectl wait kafka/my-cluster --for=condition=Ready --timeout=300s -n kafka\", shell=False)\n",
    "    # Kafka UI\n",
    "    run_command(\"helm install -f values-kowl.yaml -n kafka kowl cloudhut/kowl\", shell=False)\n",
    "    #(ip_url, dns_url) = get_service_public_address(\"kafka\", \"manager\", \"kowl\", 80)\n",
    "    (manager_node, jobmanager_node, taskmanager_node) = get_label_nodes()\n",
    "    print(\"Kafka Kowl: {} - Ingress: {}\".format(manager_node, \"http://kowl.{}.sslip.io:{}\".format(address,port)))    \n",
    "    !kubectl apply -f ./kafka-bridge.yaml\n",
    "    !kubectl apply -f ./kafka-bridge-service.yaml"
   ]
  },
  {
   "cell_type": "code",
   "execution_count": 5,
   "metadata": {},
   "outputs": [
    {
     "data": {
      "application/vnd.jupyter.widget-view+json": {
       "model_id": "6d46ba6a542049e783ea1efe6e70060b",
       "version_major": 2,
       "version_minor": 0
      },
      "text/plain": [
       "  0%|          | 0/8 [00:00<?, ?it/s]"
      ]
     },
     "metadata": {},
     "output_type": "display_data"
    }
   ],
   "source": [
    "#papermill_description=Initialize_data\n",
    "if reset_kafka_data:\n",
    "    streambed.deploy(\"nexmark\", streambed.flink_configuration(cpu=cpu,memory=max(memory_range),task_managers=task_managers_qty, task_slots=task_slots_per_task_manager, evenly_spread=\"true\", custom_memory=None))\n",
    "    if streambed.common.dynamic_flink_url:\n",
    "        (_, base_url) = get_service_public_address(\"default\", \"jobmanager\", \"nexmark-flink-jobmanager\", 8081)\n",
    "        streambed.common.flink_base_url = base_url\n",
    "    streambed.wait_for_task_managers(task_managers_qty=task_managers_qty, base_url=streambed.common.flink_base_url)\n",
    "\n",
    "    streambed.delete_kafka_topic(\"nexmark\")\n",
    "    sleep(10)\n",
    "    streambed.launch_job_async(notebook=\"/xp_intro_init_kafka\", params_datagen={\n",
    "        \"params\":{\n",
    "            \"TOPIC\" : \"nexmark\",\n",
    "            \"BOOTSTRAP_SERVERS\": \"my-cluster-kafka-bootstrap.kafka:9092\",\n",
    "            \"TPS\": \"1000000000\",\n",
    "            \"EVENTS_NUM\": str(events_num),\n",
    "            \"PERSON_PROPORTION\" : \"1\",\n",
    "            \"AUCTION_PROPORTION\": \"3\",\n",
    "            \"BID_PROPORTION\": \"46\",\n",
    "            \"NEXMARK_TABLE\": \"kafka\"\n",
    "        }}, params_query = {}, timeout=1200)"
   ]
  },
  {
   "cell_type": "code",
   "execution_count": 6,
   "metadata": {},
   "outputs": [
    {
     "data": {
      "text/plain": [
       "[{'cpu': 16,\n",
       "  'memory': 32768,\n",
       "  'run': 0,\n",
       "  'task_slots_per_task_manager': 16,\n",
       "  'task_managers_qty': 8,\n",
       "  'source_parallelism': 32,\n",
       "  'parallelism': 1,\n",
       "  'evenly_spread': 'true',\n",
       "  'warmup': 180,\n",
       "  'custom_memory': None,\n",
       "  'dichotomic_mst_tuning': {'initial_rate': 100000000,\n",
       "   'slide_window': 75,\n",
       "   'size_window': 60,\n",
       "   'observation_size': 30,\n",
       "   'timeout': 900,\n",
       "   'mean_threshold': 0.01,\n",
       "   'higher_bound_ratio': 2,\n",
       "   'cooldown_throughput': 200},\n",
       "  'task_slots_limit': 80,\n",
       "  'throughputs': [100000000],\n",
       "  'timeout': 600,\n",
       "  'limit_backpressure_source': 250,\n",
       "  'nb_runs_throughput': 1,\n",
       "  'nb_runs_parallelism': 1,\n",
       "  'notebook': '/xp_intro_q5_kafka_custom_ratelimit'},\n",
       " {'cpu': 16,\n",
       "  'memory': 65536,\n",
       "  'run': 0,\n",
       "  'task_slots_per_task_manager': 16,\n",
       "  'task_managers_qty': 8,\n",
       "  'source_parallelism': 32,\n",
       "  'parallelism': 1,\n",
       "  'evenly_spread': 'true',\n",
       "  'warmup': 180,\n",
       "  'custom_memory': None,\n",
       "  'dichotomic_mst_tuning': {'initial_rate': 100000000,\n",
       "   'slide_window': 75,\n",
       "   'size_window': 60,\n",
       "   'observation_size': 30,\n",
       "   'timeout': 900,\n",
       "   'mean_threshold': 0.01,\n",
       "   'higher_bound_ratio': 2,\n",
       "   'cooldown_throughput': 200},\n",
       "  'task_slots_limit': 80,\n",
       "  'throughputs': [100000000],\n",
       "  'timeout': 600,\n",
       "  'limit_backpressure_source': 250,\n",
       "  'nb_runs_throughput': 1,\n",
       "  'nb_runs_parallelism': 1,\n",
       "  'notebook': '/xp_intro_q5_kafka_custom_ratelimit'}]"
      ]
     },
     "metadata": {},
     "output_type": "display_data"
    }
   ],
   "source": [
    "list_xp=[]\n",
    "for notebook in notebooks:\n",
    "    for memory in memory_range:\n",
    "        for task_slots_limit in task_slots_limits:\n",
    "            list_xp.append(\n",
    "                {\"cpu\": cpu, \n",
    "                \"memory\": memory, \n",
    "                \"run\": run, \n",
    "                \"task_slots_per_task_manager\": task_slots_per_task_manager, \n",
    "                \"task_managers_qty\": task_managers_qty,\n",
    "                \"source_parallelism\": source_parallelism, \n",
    "                \"parallelism\": initial_parallelism, \n",
    "                \"evenly_spread\": \"true\", \n",
    "                \"warmup\": warmup,\n",
    "                \"custom_memory\": None, \n",
    "                \"dichotomic_mst_tuning\": dichotomic_mst_tuning,\n",
    "                \"task_slots_limit\": task_slots_limit,\n",
    "                \"throughputs\": [10**8],\n",
    "                \"timeout\": timeout,\n",
    "                \"limit_backpressure_source\": limit_backpressure_source,\n",
    "                \"monitoring_step\": monitoring_step,\n",
    "                \"nb_runs_throughput\": nb_runs_throughput,\n",
    "                \"nb_runs_parallelism\": nb_runs_parallelism,\n",
    "                \"notebook\": notebook})\n",
    "import datetime            \n",
    "now = datetime.datetime.now()\n",
    "now_str = now.strftime(\"%Y%m%d%H%M%S\")     \n",
    "path= \"{}/{}-{}\".format(results_path, xp_name, now_str)\n",
    "display(list_xp)\n"
   ]
  },
  {
   "cell_type": "code",
   "execution_count": 7,
   "metadata": {},
   "outputs": [
    {
     "data": {
      "text/html": [
       "<div>\n",
       "<style scoped>\n",
       "    .dataframe tbody tr th:only-of-type {\n",
       "        vertical-align: middle;\n",
       "    }\n",
       "\n",
       "    .dataframe tbody tr th {\n",
       "        vertical-align: top;\n",
       "    }\n",
       "\n",
       "    .dataframe thead th {\n",
       "        text-align: right;\n",
       "    }\n",
       "</style>\n",
       "<table border=\"1\" class=\"dataframe\">\n",
       "  <thead>\n",
       "    <tr style=\"text-align: right;\">\n",
       "      <th></th>\n",
       "      <th>notebook</th>\n",
       "      <th>timeout</th>\n",
       "      <th>params.TPS</th>\n",
       "      <th>params.EVENTS_NUM</th>\n",
       "      <th>params.PERSON_PROPORTION</th>\n",
       "      <th>params.AUCTION_PROPORTION</th>\n",
       "      <th>params.BID_PROPORTION</th>\n",
       "      <th>params.NEXMARK_TABLE</th>\n",
       "      <th>params.TOPIC</th>\n",
       "      <th>params.BOOTSTRAP_SERVERS</th>\n",
       "      <th>...</th>\n",
       "      <th>query.GroupWindowAggregate(groupBy=[\\$f0], window=[SlidingGroupWindow('w\\$, processingTime, 10000, 2000)], properties=[w\\$start, w\\$end, w\\$proctime], select=[\\$f0, COUNT(*) AS num, start('w\\$) AS w\\$start, end('w\\$) AS w\\$end, proctime('w\\$) AS w\\$proctime])</th>\n",
       "      <th>query.Calc(select=[\\$f0 AS auction, num, w\\$start AS starttime, w\\$end AS endtime])</th>\n",
       "      <th>query.Calc(select=[w\\$start AS starttime, w\\$end AS endtime, num])</th>\n",
       "      <th>query.GroupAggregate(groupBy=[starttime, endtime], select=[starttime, endtime, MAX(num) AS maxn])</th>\n",
       "      <th>query.Calc(select=[maxn, starttime, endtime])</th>\n",
       "      <th>query.Join(joinType=[InnerJoin], where=[((starttime = starttime0) AND (endtime = endtime0) AND (num &gt;= maxn))], select=[auction, num, starttime, endtime, maxn, starttime0, endtime0], leftInputSpec=[HasUniqueKey], rightInputSpec=[JoinKeyContainsUniqueKey])</th>\n",
       "      <th>query.Calc(select=[auction, num])</th>\n",
       "      <th>query.Sink: Sink(table=[default_catalog.default_database.discard_sink], fields=[auction, num])</th>\n",
       "      <th>used_task_slots</th>\n",
       "      <th>task_slot_memory</th>\n",
       "    </tr>\n",
       "  </thead>\n",
       "  <tbody>\n",
       "    <tr>\n",
       "      <th>11</th>\n",
       "      <td>/xp_intro_q5_kafka_custom_ratelimit</td>\n",
       "      <td>120</td>\n",
       "      <td>100000000</td>\n",
       "      <td>0</td>\n",
       "      <td>1</td>\n",
       "      <td>3</td>\n",
       "      <td>46</td>\n",
       "      <td>kafka</td>\n",
       "      <td>nexmark;nexmark-control</td>\n",
       "      <td>my-cluster-kafka-bootstrap.kafka:9092</td>\n",
       "      <td>...</td>\n",
       "      <td>35</td>\n",
       "      <td>1</td>\n",
       "      <td>1</td>\n",
       "      <td>2</td>\n",
       "      <td>1</td>\n",
       "      <td>3</td>\n",
       "      <td>1</td>\n",
       "      <td>1</td>\n",
       "      <td>48</td>\n",
       "      <td>4096.0</td>\n",
       "    </tr>\n",
       "    <tr>\n",
       "      <th>0</th>\n",
       "      <td>/xp_intro_q5_kafka_custom_ratelimit</td>\n",
       "      <td>120</td>\n",
       "      <td>100000000</td>\n",
       "      <td>0</td>\n",
       "      <td>1</td>\n",
       "      <td>3</td>\n",
       "      <td>46</td>\n",
       "      <td>kafka</td>\n",
       "      <td>nexmark;nexmark-control</td>\n",
       "      <td>my-cluster-kafka-bootstrap.kafka:9092</td>\n",
       "      <td>...</td>\n",
       "      <td>1</td>\n",
       "      <td>1</td>\n",
       "      <td>1</td>\n",
       "      <td>1</td>\n",
       "      <td>1</td>\n",
       "      <td>1</td>\n",
       "      <td>1</td>\n",
       "      <td>1</td>\n",
       "      <td>9</td>\n",
       "      <td>4096.0</td>\n",
       "    </tr>\n",
       "    <tr>\n",
       "      <th>35</th>\n",
       "      <td>/xp_intro_q5_kafka_custom_ratelimit</td>\n",
       "      <td>120</td>\n",
       "      <td>100000000</td>\n",
       "      <td>0</td>\n",
       "      <td>1</td>\n",
       "      <td>3</td>\n",
       "      <td>46</td>\n",
       "      <td>kafka</td>\n",
       "      <td>nexmark;nexmark-control</td>\n",
       "      <td>my-cluster-kafka-bootstrap.kafka:9092</td>\n",
       "      <td>...</td>\n",
       "      <td>35</td>\n",
       "      <td>1</td>\n",
       "      <td>1</td>\n",
       "      <td>2</td>\n",
       "      <td>1</td>\n",
       "      <td>3</td>\n",
       "      <td>1</td>\n",
       "      <td>1</td>\n",
       "      <td>48</td>\n",
       "      <td>2048.0</td>\n",
       "    </tr>\n",
       "    <tr>\n",
       "      <th>24</th>\n",
       "      <td>/xp_intro_q5_kafka_custom_ratelimit</td>\n",
       "      <td>120</td>\n",
       "      <td>100000000</td>\n",
       "      <td>0</td>\n",
       "      <td>1</td>\n",
       "      <td>3</td>\n",
       "      <td>46</td>\n",
       "      <td>kafka</td>\n",
       "      <td>nexmark;nexmark-control</td>\n",
       "      <td>my-cluster-kafka-bootstrap.kafka:9092</td>\n",
       "      <td>...</td>\n",
       "      <td>1</td>\n",
       "      <td>1</td>\n",
       "      <td>1</td>\n",
       "      <td>1</td>\n",
       "      <td>1</td>\n",
       "      <td>1</td>\n",
       "      <td>1</td>\n",
       "      <td>1</td>\n",
       "      <td>9</td>\n",
       "      <td>2048.0</td>\n",
       "    </tr>\n",
       "  </tbody>\n",
       "</table>\n",
       "<p>4 rows × 37 columns</p>\n",
       "</div>"
      ],
      "text/plain": [
       "                               notebook  timeout  params.TPS  \\\n",
       "11  /xp_intro_q5_kafka_custom_ratelimit      120   100000000   \n",
       "0   /xp_intro_q5_kafka_custom_ratelimit      120   100000000   \n",
       "35  /xp_intro_q5_kafka_custom_ratelimit      120   100000000   \n",
       "24  /xp_intro_q5_kafka_custom_ratelimit      120   100000000   \n",
       "\n",
       "   params.EVENTS_NUM params.PERSON_PROPORTION params.AUCTION_PROPORTION  \\\n",
       "11                 0                        1                         3   \n",
       "0                  0                        1                         3   \n",
       "35                 0                        1                         3   \n",
       "24                 0                        1                         3   \n",
       "\n",
       "   params.BID_PROPORTION params.NEXMARK_TABLE             params.TOPIC  \\\n",
       "11                    46                kafka  nexmark;nexmark-control   \n",
       "0                     46                kafka  nexmark;nexmark-control   \n",
       "35                    46                kafka  nexmark;nexmark-control   \n",
       "24                    46                kafka  nexmark;nexmark-control   \n",
       "\n",
       "                 params.BOOTSTRAP_SERVERS  ...  \\\n",
       "11  my-cluster-kafka-bootstrap.kafka:9092  ...   \n",
       "0   my-cluster-kafka-bootstrap.kafka:9092  ...   \n",
       "35  my-cluster-kafka-bootstrap.kafka:9092  ...   \n",
       "24  my-cluster-kafka-bootstrap.kafka:9092  ...   \n",
       "\n",
       "   query.GroupWindowAggregate(groupBy=[\\$f0], window=[SlidingGroupWindow('w\\$, processingTime, 10000, 2000)], properties=[w\\$start, w\\$end, w\\$proctime], select=[\\$f0, COUNT(*) AS num, start('w\\$) AS w\\$start, end('w\\$) AS w\\$end, proctime('w\\$) AS w\\$proctime])  \\\n",
       "11                                                 35                                                                                                                                                                                                                    \n",
       "0                                                   1                                                                                                                                                                                                                    \n",
       "35                                                 35                                                                                                                                                                                                                    \n",
       "24                                                  1                                                                                                                                                                                                                    \n",
       "\n",
       "   query.Calc(select=[\\$f0 AS auction, num, w\\$start AS starttime, w\\$end AS endtime])  \\\n",
       "11                                                  1                                    \n",
       "0                                                   1                                    \n",
       "35                                                  1                                    \n",
       "24                                                  1                                    \n",
       "\n",
       "   query.Calc(select=[w\\$start AS starttime, w\\$end AS endtime, num])  \\\n",
       "11                                                  1                   \n",
       "0                                                   1                   \n",
       "35                                                  1                   \n",
       "24                                                  1                   \n",
       "\n",
       "    query.GroupAggregate(groupBy=[starttime, endtime], select=[starttime, endtime, MAX(num) AS maxn])  \\\n",
       "11                                                  2                                                   \n",
       "0                                                   1                                                   \n",
       "35                                                  2                                                   \n",
       "24                                                  1                                                   \n",
       "\n",
       "    query.Calc(select=[maxn, starttime, endtime])  \\\n",
       "11                                              1   \n",
       "0                                               1   \n",
       "35                                              1   \n",
       "24                                              1   \n",
       "\n",
       "    query.Join(joinType=[InnerJoin], where=[((starttime = starttime0) AND (endtime = endtime0) AND (num >= maxn))], select=[auction, num, starttime, endtime, maxn, starttime0, endtime0], leftInputSpec=[HasUniqueKey], rightInputSpec=[JoinKeyContainsUniqueKey])  \\\n",
       "11                                                  3                                                                                                                                                                                                                 \n",
       "0                                                   1                                                                                                                                                                                                                 \n",
       "35                                                  3                                                                                                                                                                                                                 \n",
       "24                                                  1                                                                                                                                                                                                                 \n",
       "\n",
       "    query.Calc(select=[auction, num])  \\\n",
       "11                                  1   \n",
       "0                                   1   \n",
       "35                                  1   \n",
       "24                                  1   \n",
       "\n",
       "    query.Sink: Sink(table=[default_catalog.default_database.discard_sink], fields=[auction, num])  \\\n",
       "11                                                  1                                                \n",
       "0                                                   1                                                \n",
       "35                                                  1                                                \n",
       "24                                                  1                                                \n",
       "\n",
       "    used_task_slots  task_slot_memory  \n",
       "11               48            4096.0  \n",
       "0                 9            4096.0  \n",
       "35               48            2048.0  \n",
       "24                9            2048.0  \n",
       "\n",
       "[4 rows x 37 columns]"
      ]
     },
     "execution_count": 7,
     "metadata": {},
     "output_type": "execute_result"
    }
   ],
   "source": [
    "#papermill_description=Load precomputed data\n",
    "reg = streambed.InfrastructureRegression()\n",
    "if len(previous_results) == 0:\n",
    "    results_estimation = streambed.loop_estimation(list_xp, results_path=path)\n",
    "    reg.load_full([path])\n",
    "    #reg.load(path + \".csv\")\n",
    "    #reg.load_details(path + \".yaml\")\n",
    "else:\n",
    "    reg.load_full(previous_results)\n",
    "    #for p in previous_results:\n",
    "    #    reg.load(p + \".csv\")\n",
    "    #    reg.load_details(p + \"-details.yaml\")\n",
    "min_memory = min(memory_range)\n",
    "max_memory = max(memory_range)\n",
    "min_ts = task_slots_minimal\n",
    "max_ts = max(task_slots_limits) - source_parallelism\n",
    "reg.filter_data(\"((memory=={})|(memory=={}))&((used_task_slots=={})|(used_task_slots=={}))\".format(min_memory,max_memory,min_ts,max_ts), drop_duplicates=True) # task_slots_limit & memory\n",
    "reg.data"
   ]
  },
  {
   "cell_type": "code",
   "execution_count": 8,
   "metadata": {},
   "outputs": [],
   "source": [
    "# Function to evaluate the model performance\n",
    "def evaluate_model(model, X_val, y_val):\n",
    "    y_pred = model.predict(X_val)\n",
    "    mse = mean_squared_error(y_val, y_pred)\n",
    "    return mse\n",
    "\n",
    "sqrt_regression = make_pipeline(FunctionTransformer(np.sqrt, validate=True), LinearRegression())\n",
    "_, score = reg.generic_model(\"sqrt\", sqrt_regression)\n",
    "\n",
    "logarithmic_regression = make_pipeline(FunctionTransformer(np.log1p, validate=True), LinearRegression())\n",
    "_, score = reg.generic_model(\"log\", logarithmic_regression)\n",
    "\n",
    "linear_regression = make_pipeline(PolynomialFeatures(degree=1), LinearRegression())\n",
    "_, score = reg.generic_model(\"linear\", linear_regression)"
   ]
  },
  {
   "cell_type": "code",
   "execution_count": 9,
   "metadata": {},
   "outputs": [
    {
     "data": {
      "text/plain": [
       "array([41, 80])"
      ]
     },
     "metadata": {},
     "output_type": "display_data"
    },
    {
     "data": {
      "text/plain": [
       "array([1, 2])"
      ]
     },
     "metadata": {},
     "output_type": "display_data"
    }
   ],
   "source": [
    "if len(task_slots_limits) == 1: \n",
    "    # get minimal number of task slots\n",
    "    task_slots_range = np.array([source_parallelism + task_slots_minimal, task_slots_limits[0]]).astype(int)\n",
    "else:\n",
    "    task_slots_range = np.array(task_slots_limits).astype(int)\n",
    "memory_range_reduced = (np.array(memory_range) / memory_granularity).astype(int)\n",
    "display(task_slots_range)\n",
    "display(memory_range_reduced)"
   ]
  },
  {
   "cell_type": "code",
   "execution_count": 10,
   "metadata": {},
   "outputs": [],
   "source": [
    "def get_configuration(task_slots_qty, memory_qty):\n",
    "    return [{\"cpu\": cpu, \n",
    "            \"memory\": memory_qty, \n",
    "            \"run\": run, \n",
    "            \"task_slots_per_task_manager\": task_slots_per_task_manager, \n",
    "            \"task_managers_qty\": task_managers_qty,\n",
    "            \"source_parallelism\": source_parallelism, \n",
    "            \"parallelism\": initial_parallelism, \n",
    "            \"evenly_spread\": \"true\", \n",
    "            \"warmup\": warmup,\n",
    "            \"custom_memory\": None, \n",
    "            \"dichotomic_mst_tuning\": dichotomic_mst_tuning,\n",
    "            \"task_slots_limit\": task_slots_qty,\n",
    "            \"throughputs\": [10**8],\n",
    "            \"timeout\": timeout,\n",
    "            \"limit_backpressure_source\": limit_backpressure_source,\n",
    "            \"monitoring_step\": monitoring_step,\n",
    "            \"nb_runs_throughput\": nb_runs_throughput,\n",
    "            \"nb_runs_parallelism\": nb_runs_parallelism,\n",
    "            \"notebook\": notebook}]"
   ]
  },
  {
   "cell_type": "code",
   "execution_count": 11,
   "metadata": {},
   "outputs": [
    {
     "name": "stderr",
     "output_type": "stream",
     "text": [
      "/tmp/ipykernel_1264300/1678561466.py:42: SettingWithCopyWarning: \n",
      "A value is trying to be set on a copy of a slice from a DataFrame.\n",
      "Try using .loc[row_indexer,col_indexer] = value instead\n",
      "\n",
      "See the caveats in the documentation: https://pandas.pydata.org/pandas-docs/stable/user_guide/indexing.html#returning-a-view-versus-a-copy\n",
      "  df[\"used_task_slots\"] = df[\"used_task_slots\"] + source_parallelism\n",
      "/tmp/ipykernel_1264300/1678561466.py:43: SettingWithCopyWarning: \n",
      "A value is trying to be set on a copy of a slice from a DataFrame.\n",
      "Try using .loc[row_indexer,col_indexer] = value instead\n",
      "\n",
      "See the caveats in the documentation: https://pandas.pydata.org/pandas-docs/stable/user_guide/indexing.html#returning-a-view-versus-a-copy\n",
      "  df[\"memory\"] = df[\"memory\"] / memory_granularity\n"
     ]
    }
   ],
   "source": [
    "from sklearn.metrics import mean_squared_error\n",
    "from sklearn.model_selection import train_test_split\n",
    "from skopt import Optimizer\n",
    "from skopt.space import Integer, Categorical\n",
    "from functools import partial\n",
    "\n",
    "def objective_function(models, X, y):\n",
    "    for model_name in models:\n",
    "        models[model_name].fit(X, y)\n",
    "   \n",
    "    mse_by_model = {}\n",
    "    min_mse = float('inf')\n",
    "    for model_name in models:\n",
    "        y_pred = models[model_name].predict(X)    \n",
    "        mse = mean_squared_error(y_pred, y)\n",
    "        mse_by_model[model_name] = mse\n",
    "        if mse < min_mse:\n",
    "            min_mse = mse\n",
    "    return min_mse ,mse_by_model\n",
    "\n",
    "def objective_function_loo(models, X, y):\n",
    "    loo = LeaveOneOut()\n",
    "    \n",
    "    min_mse = float('inf')\n",
    "    mse_by_model = {}\n",
    "    if len(X) > 1:\n",
    "        for model_name in models:\n",
    "            model = models[model_name]\n",
    "            scores = cross_val_score(model, X, y, cv=loo, scoring='neg_root_mean_squared_error')\n",
    "            \n",
    "            # Compute the average MSE (scores are negative, so we negate the result)\n",
    "            mse_avg = -1 * scores.mean()\n",
    "            mse_by_model[model_name] = mse_avg\n",
    "\n",
    "            if mse_avg < min_mse:\n",
    "                min_mse = mse_avg\n",
    "    else:\n",
    "        return 0, {}\n",
    "    return min_mse, mse_by_model\n",
    "\n",
    "df = reg.data[[\"used_task_slots\", \"memory\", \"observed_source_rate\"]]\n",
    "df[\"used_task_slots\"] = df[\"used_task_slots\"] + source_parallelism\n",
    "df[\"memory\"] = df[\"memory\"] / memory_granularity\n",
    "X = df[[\"used_task_slots\",\"memory\"]].values \n",
    "y = df[[\"observed_source_rate\"]].values "
   ]
  },
  {
   "cell_type": "code",
   "execution_count": 12,
   "metadata": {},
   "outputs": [],
   "source": [
    "sqrt_regression = make_pipeline(FunctionTransformer(np.sqrt, validate=True), LinearRegression())\n",
    "_, score = reg.generic_model(\"sqrt\", sqrt_regression)\n",
    "logarithmic_regression = make_pipeline(FunctionTransformer(np.log1p, validate=True), LinearRegression())\n",
    "_, score = reg.generic_model(\"log\", logarithmic_regression)\n",
    "linear_regression = make_pipeline(PolynomialFeatures(degree=1), LinearRegression())\n",
    "_, score = reg.generic_model(\"linear\", linear_regression)\n"
   ]
  },
  {
   "cell_type": "code",
   "execution_count": 13,
   "metadata": {},
   "outputs": [
    {
     "name": "stdout",
     "output_type": "stream",
     "text": [
      "[80.  2.] - {}\n",
      "[41.  2.] - {'sqrt': 823592.2857142858, 'log': 823592.2857142858, 'linear': 823592.2857142858}\n",
      "[80.  1.] - {'sqrt': 299357.49946493667, 'log': 451681.1707379395, 'linear': 306690.5972529878}\n",
      "[41.  1.] - {'sqrt': 51022.6282104866, 'log': 51022.62821048677, 'linear': 51022.62821048639}\n"
     ]
    }
   ],
   "source": [
    "x_array = []\n",
    "y_array = []\n",
    "for i,x in enumerate(X):\n",
    "    x_reshaped = x.reshape(1, 2)\n",
    "    x_array.append(x)\n",
    "    y_array.append(y[i])\n",
    "    _, mse_by_model = objective_function_loo(reg.models, x_array, y_array)\n",
    "    print(\"{} - {}\".format(x, mse_by_model))"
   ]
  },
  {
   "cell_type": "code",
   "execution_count": 14,
   "metadata": {},
   "outputs": [
    {
     "name": "stdout",
     "output_type": "stream",
     "text": [
      "[80.  2.] - {'sqrt': 0.0, 'log': 0.0, 'linear': 0.0}\n",
      "[41.  2.] - {'sqrt': 6.88214269644119e-21, 'log': 1.2207862352302604e-19, 'linear': 3.7375328797596e-20}\n",
      "[80.  1.] - {'sqrt': 3.524362921367268e-19, 'log': 1.1926929758129927e-18, 'linear': 4.588095130960794e-21}\n",
      "[41.  1.] - {'sqrt': 162706786.8440961, 'log': 162706786.84409612, 'linear': 162706786.84409535}\n"
     ]
    }
   ],
   "source": [
    "x_array = []\n",
    "y_array = []\n",
    "for i,x in enumerate(X):\n",
    "    x_reshaped = x.reshape(1, 2)\n",
    "    x_array.append(x)\n",
    "    y_array.append(y[i])\n",
    "    _, mse_by_model = objective_function(reg.models, x_array, y_array)\n",
    "    print(\"{} - {}\".format(x, mse_by_model))"
   ]
  },
  {
   "cell_type": "code",
   "execution_count": 15,
   "metadata": {},
   "outputs": [
    {
     "name": "stdout",
     "output_type": "stream",
     "text": [
      "Tell:[80.0, 2.0] 0\n",
      "Tell:[41.0, 2.0] 0\n",
      "Tell:[80.0, 1.0] 0\n",
      "Tell:[41.0, 1.0] 0\n"
     ]
    },
    {
     "data": {
      "text/plain": [
       "[41, 2]"
      ]
     },
     "metadata": {},
     "output_type": "display_data"
    },
    {
     "data": {
      "text/plain": [
       "[67, 2]"
      ]
     },
     "metadata": {},
     "output_type": "display_data"
    },
    {
     "name": "stderr",
     "output_type": "stream",
     "text": [
      "/home/grosinosky/.local/lib/python3.9/site-packages/skopt/optimizer/optimizer.py:449: UserWarning: The objective has been evaluated at this point before.\n",
      "  warnings.warn(\"The objective has been evaluated \"\n"
     ]
    },
    {
     "data": {
      "text/plain": [
       "[80, 1]"
      ]
     },
     "metadata": {},
     "output_type": "display_data"
    },
    {
     "name": "stderr",
     "output_type": "stream",
     "text": [
      "/home/grosinosky/.local/lib/python3.9/site-packages/skopt/optimizer/optimizer.py:449: UserWarning: The objective has been evaluated at this point before.\n",
      "  warnings.warn(\"The objective has been evaluated \"\n"
     ]
    },
    {
     "data": {
      "text/plain": [
       "[80, 2]"
      ]
     },
     "metadata": {},
     "output_type": "display_data"
    },
    {
     "name": "stderr",
     "output_type": "stream",
     "text": [
      "/home/grosinosky/.local/lib/python3.9/site-packages/skopt/optimizer/optimizer.py:449: UserWarning: The objective has been evaluated at this point before.\n",
      "  warnings.warn(\"The objective has been evaluated \"\n"
     ]
    },
    {
     "data": {
      "text/plain": [
       "[41, 1]"
      ]
     },
     "metadata": {},
     "output_type": "display_data"
    },
    {
     "data": {
      "text/plain": [
       "[45, 1]"
      ]
     },
     "metadata": {},
     "output_type": "display_data"
    },
    {
     "data": {
      "text/plain": [
       "[78, 1]"
      ]
     },
     "metadata": {},
     "output_type": "display_data"
    },
    {
     "data": {
      "text/plain": [
       "[42, 2]"
      ]
     },
     "metadata": {},
     "output_type": "display_data"
    },
    {
     "data": {
      "text/plain": [
       "[79, 2]"
      ]
     },
     "metadata": {},
     "output_type": "display_data"
    },
    {
     "data": {
      "text/plain": [
       "[42, 1]"
      ]
     },
     "metadata": {},
     "output_type": "display_data"
    },
    {
     "name": "stderr",
     "output_type": "stream",
     "text": [
      "/home/grosinosky/.local/lib/python3.9/site-packages/skopt/optimizer/optimizer.py:449: UserWarning: The objective has been evaluated at this point before.\n",
      "  warnings.warn(\"The objective has been evaluated \"\n"
     ]
    },
    {
     "data": {
      "text/plain": [
       "[80, 1]"
      ]
     },
     "metadata": {},
     "output_type": "display_data"
    },
    {
     "name": "stderr",
     "output_type": "stream",
     "text": [
      "/home/grosinosky/.local/lib/python3.9/site-packages/skopt/optimizer/optimizer.py:449: UserWarning: The objective has been evaluated at this point before.\n",
      "  warnings.warn(\"The objective has been evaluated \"\n"
     ]
    },
    {
     "data": {
      "text/plain": [
       "[41, 2]"
      ]
     },
     "metadata": {},
     "output_type": "display_data"
    },
    {
     "name": "stderr",
     "output_type": "stream",
     "text": [
      "/home/grosinosky/.local/lib/python3.9/site-packages/skopt/optimizer/optimizer.py:449: UserWarning: The objective has been evaluated at this point before.\n",
      "  warnings.warn(\"The objective has been evaluated \"\n"
     ]
    },
    {
     "data": {
      "text/plain": [
       "[80, 2]"
      ]
     },
     "metadata": {},
     "output_type": "display_data"
    },
    {
     "name": "stderr",
     "output_type": "stream",
     "text": [
      "/home/grosinosky/.local/lib/python3.9/site-packages/skopt/optimizer/optimizer.py:449: UserWarning: The objective has been evaluated at this point before.\n",
      "  warnings.warn(\"The objective has been evaluated \"\n"
     ]
    },
    {
     "data": {
      "text/plain": [
       "[41, 1]"
      ]
     },
     "metadata": {},
     "output_type": "display_data"
    },
    {
     "name": "stderr",
     "output_type": "stream",
     "text": [
      "/home/grosinosky/.local/lib/python3.9/site-packages/skopt/optimizer/optimizer.py:449: UserWarning: The objective has been evaluated at this point before.\n",
      "  warnings.warn(\"The objective has been evaluated \"\n"
     ]
    },
    {
     "data": {
      "text/plain": [
       "[80, 1]"
      ]
     },
     "metadata": {},
     "output_type": "display_data"
    },
    {
     "name": "stderr",
     "output_type": "stream",
     "text": [
      "/home/grosinosky/.local/lib/python3.9/site-packages/skopt/optimizer/optimizer.py:449: UserWarning: The objective has been evaluated at this point before.\n",
      "  warnings.warn(\"The objective has been evaluated \"\n"
     ]
    },
    {
     "data": {
      "text/plain": [
       "[41, 2]"
      ]
     },
     "metadata": {},
     "output_type": "display_data"
    },
    {
     "name": "stderr",
     "output_type": "stream",
     "text": [
      "/home/grosinosky/.local/lib/python3.9/site-packages/skopt/optimizer/optimizer.py:449: UserWarning: The objective has been evaluated at this point before.\n",
      "  warnings.warn(\"The objective has been evaluated \"\n"
     ]
    },
    {
     "data": {
      "text/plain": [
       "[80, 2]"
      ]
     },
     "metadata": {},
     "output_type": "display_data"
    },
    {
     "data": {
      "text/plain": [
       "[51, 1]"
      ]
     },
     "metadata": {},
     "output_type": "display_data"
    },
    {
     "data": {
      "text/plain": [
       "[48, 2]"
      ]
     },
     "metadata": {},
     "output_type": "display_data"
    },
    {
     "name": "stderr",
     "output_type": "stream",
     "text": [
      "/home/grosinosky/.local/lib/python3.9/site-packages/skopt/optimizer/optimizer.py:449: UserWarning: The objective has been evaluated at this point before.\n",
      "  warnings.warn(\"The objective has been evaluated \"\n"
     ]
    },
    {
     "data": {
      "text/plain": [
       "[80, 1]"
      ]
     },
     "metadata": {},
     "output_type": "display_data"
    }
   ],
   "source": [
    "#papermill_description=\n",
    "space = [Integer(min(task_slots_range), max(task_slots_range), name=\"task_slots\"), Integer(min(memory_range_reduced), max(memory_range_reduced), name=\"memory\")]\n",
    "optimizer = Optimizer(dimensions=space, base_estimator=\"gp\", n_initial_points=6, initial_point_generator=\"grid\", acq_func=\"EI\", random_state=42)\n",
    "\n",
    "for model in reg.models:\n",
    "    reg.models[model].fit(X, y)\n",
    "for i,x in enumerate(X):\n",
    "    x_reshaped = x.reshape(1, 2)\n",
    "    mse,_ = objective_function_loo(reg.models, x_reshaped, y[i])\n",
    "    print(\"Tell:{} {}\".format(x.tolist(), mse))\n",
    "    optimizer.tell(x.tolist(), mse)\n",
    "for i in range(optimization[\"nb_iterations\"]):\n",
    "    val = optimizer.ask()\n",
    "    display(val)\n",
    "    optimizer.tell(val,10000)"
   ]
  },
  {
   "cell_type": "code",
   "execution_count": 16,
   "metadata": {},
   "outputs": [
    {
     "name": "stdout",
     "output_type": "stream",
     "text": [
      "[41, 2]\n",
      "[{'cpu': 16, 'memory': 65536, 'run': 0, 'task_slots_per_task_manager': 16, 'task_managers_qty': 8, 'source_parallelism': 32, 'parallelism': 1, 'evenly_spread': 'true', 'warmup': 180, 'custom_memory': None, 'dichotomic_mst_tuning': {'initial_rate': 100000000, 'slide_window': 75, 'size_window': 60, 'observation_size': 30, 'timeout': 900, 'mean_threshold': 0.01, 'higher_bound_ratio': 2, 'cooldown_throughput': 200}, 'task_slots_limit': 41, 'throughputs': [100000000], 'timeout': 600, 'limit_backpressure_source': 250, 'nb_runs_throughput': 1, 'nb_runs_parallelism': 1, 'notebook': '/xp_intro_q5_kafka_custom_ratelimit'}]\n"
     ]
    },
    {
     "data": {
      "application/vnd.jupyter.widget-view+json": {
       "model_id": "23f817ea6072481dbe127e4b2d4c9ac9",
       "version_major": 2,
       "version_minor": 0
      },
      "text/plain": [
       "  0%|          | 0/1 [00:00<?, ?it/s]"
      ]
     },
     "metadata": {},
     "output_type": "display_data"
    },
    {
     "data": {
      "application/vnd.jupyter.widget-view+json": {
       "model_id": "2316f90f936e4ad78399a7b144af29b5",
       "version_major": 2,
       "version_minor": 0
      },
      "text/plain": [
       "  0%|          | 0/8 [00:00<?, ?it/s]"
      ]
     },
     "metadata": {},
     "output_type": "display_data"
    },
    {
     "data": {
      "application/vnd.jupyter.widget-view+json": {
       "model_id": "da98b92e57c74c4c86e333a08d5082c1",
       "version_major": 2,
       "version_minor": 0
      },
      "text/plain": [
       "0it [00:00, ?it/s]"
      ]
     },
     "metadata": {},
     "output_type": "display_data"
    },
    {
     "data": {
      "application/vnd.jupyter.widget-view+json": {
       "model_id": "f48df24f2bd3458287e705a938ec4bd2",
       "version_major": 2,
       "version_minor": 0
      },
      "text/plain": [
       "  0%|          | 0/900 [00:00<?, ?it/s]"
      ]
     },
     "metadata": {},
     "output_type": "display_data"
    },
    {
     "name": "stdout",
     "output_type": "stream",
     "text": [
      "Found MSE: {'sqrt': 35571.60974734051, 'log': 35571.60974734063, 'linear': 35571.60974734051}\n",
      "[67, 2]\n",
      "[{'cpu': 16, 'memory': 65536, 'run': 0, 'task_slots_per_task_manager': 16, 'task_managers_qty': 8, 'source_parallelism': 32, 'parallelism': 1, 'evenly_spread': 'true', 'warmup': 180, 'custom_memory': None, 'dichotomic_mst_tuning': {'initial_rate': 100000000, 'slide_window': 75, 'size_window': 60, 'observation_size': 30, 'timeout': 900, 'mean_threshold': 0.01, 'higher_bound_ratio': 2, 'cooldown_throughput': 200}, 'task_slots_limit': 67, 'throughputs': [100000000], 'timeout': 600, 'limit_backpressure_source': 250, 'nb_runs_throughput': 1, 'nb_runs_parallelism': 1, 'notebook': '/xp_intro_q5_kafka_custom_ratelimit'}]\n"
     ]
    },
    {
     "name": "stderr",
     "output_type": "stream",
     "text": [
      "/tmp/ipykernel_1264300/1726620047.py:32: SettingWithCopyWarning: \n",
      "A value is trying to be set on a copy of a slice from a DataFrame.\n",
      "Try using .loc[row_indexer,col_indexer] = value instead\n",
      "\n",
      "See the caveats in the documentation: https://pandas.pydata.org/pandas-docs/stable/user_guide/indexing.html#returning-a-view-versus-a-copy\n",
      "  df[\"memory\"] = df[\"memory\"] / memory_granularity\n"
     ]
    },
    {
     "data": {
      "application/vnd.jupyter.widget-view+json": {
       "model_id": "e64fa8fac77d4b75a9b382a456f1e458",
       "version_major": 2,
       "version_minor": 0
      },
      "text/plain": [
       "  0%|          | 0/1 [00:00<?, ?it/s]"
      ]
     },
     "metadata": {},
     "output_type": "display_data"
    },
    {
     "data": {
      "application/vnd.jupyter.widget-view+json": {
       "model_id": "c66423d2f8a541e9b811e3ee7388bbcf",
       "version_major": 2,
       "version_minor": 0
      },
      "text/plain": [
       "  0%|          | 0/8 [00:00<?, ?it/s]"
      ]
     },
     "metadata": {},
     "output_type": "display_data"
    },
    {
     "data": {
      "application/vnd.jupyter.widget-view+json": {
       "model_id": "5b8f2bcf94cb4f53b67ae5c43e3e83ce",
       "version_major": 2,
       "version_minor": 0
      },
      "text/plain": [
       "0it [00:00, ?it/s]"
      ]
     },
     "metadata": {},
     "output_type": "display_data"
    },
    {
     "data": {
      "application/vnd.jupyter.widget-view+json": {
       "model_id": "1e858e3f3f7b4aacb5317f306d13bfc8",
       "version_major": 2,
       "version_minor": 0
      },
      "text/plain": [
       "  0%|          | 0/900 [00:00<?, ?it/s]"
      ]
     },
     "metadata": {},
     "output_type": "display_data"
    },
    {
     "name": "stderr",
     "output_type": "stream",
     "text": [
      "/tmp/ipykernel_1264300/1726620047.py:32: SettingWithCopyWarning: \n",
      "A value is trying to be set on a copy of a slice from a DataFrame.\n",
      "Try using .loc[row_indexer,col_indexer] = value instead\n",
      "\n",
      "See the caveats in the documentation: https://pandas.pydata.org/pandas-docs/stable/user_guide/indexing.html#returning-a-view-versus-a-copy\n",
      "  df[\"memory\"] = df[\"memory\"] / memory_granularity\n"
     ]
    },
    {
     "name": "stdout",
     "output_type": "stream",
     "text": [
      "Found MSE: {'sqrt': 39227.98912964317, 'log': 27142.699751318247, 'linear': 62515.91561560325}\n",
      "[41, 1]\n",
      "[{'cpu': 16, 'memory': 32768, 'run': 0, 'task_slots_per_task_manager': 16, 'task_managers_qty': 8, 'source_parallelism': 32, 'parallelism': 1, 'evenly_spread': 'true', 'warmup': 180, 'custom_memory': None, 'dichotomic_mst_tuning': {'initial_rate': 100000000, 'slide_window': 75, 'size_window': 60, 'observation_size': 30, 'timeout': 900, 'mean_threshold': 0.01, 'higher_bound_ratio': 2, 'cooldown_throughput': 200}, 'task_slots_limit': 41, 'throughputs': [100000000], 'timeout': 600, 'limit_backpressure_source': 250, 'nb_runs_throughput': 1, 'nb_runs_parallelism': 1, 'notebook': '/xp_intro_q5_kafka_custom_ratelimit'}]\n"
     ]
    },
    {
     "name": "stderr",
     "output_type": "stream",
     "text": [
      "/home/grosinosky/.local/lib/python3.9/site-packages/skopt/optimizer/optimizer.py:449: UserWarning: The objective has been evaluated at this point before.\n",
      "  warnings.warn(\"The objective has been evaluated \"\n"
     ]
    },
    {
     "data": {
      "application/vnd.jupyter.widget-view+json": {
       "model_id": "2a7f99f628984a61b7513b4adf8bb8c4",
       "version_major": 2,
       "version_minor": 0
      },
      "text/plain": [
       "  0%|          | 0/1 [00:00<?, ?it/s]"
      ]
     },
     "metadata": {},
     "output_type": "display_data"
    },
    {
     "data": {
      "application/vnd.jupyter.widget-view+json": {
       "model_id": "e7cb1ac456b74b0ca478d083582786f0",
       "version_major": 2,
       "version_minor": 0
      },
      "text/plain": [
       "  0%|          | 0/8 [00:00<?, ?it/s]"
      ]
     },
     "metadata": {},
     "output_type": "display_data"
    },
    {
     "data": {
      "application/vnd.jupyter.widget-view+json": {
       "model_id": "f74c97f8b3634aa1b63e05556f5889d7",
       "version_major": 2,
       "version_minor": 0
      },
      "text/plain": [
       "0it [00:00, ?it/s]"
      ]
     },
     "metadata": {},
     "output_type": "display_data"
    },
    {
     "data": {
      "application/vnd.jupyter.widget-view+json": {
       "model_id": "9a51e251786d418fb06992fbfd48664c",
       "version_major": 2,
       "version_minor": 0
      },
      "text/plain": [
       "  0%|          | 0/900 [00:00<?, ?it/s]"
      ]
     },
     "metadata": {},
     "output_type": "display_data"
    },
    {
     "name": "stdout",
     "output_type": "stream",
     "text": [
      "Found MSE: {'sqrt': 32009.43592532823, 'log': 21971.231867871385, 'linear': 51515.42487467656}\n",
      "[80, 1]\n",
      "[{'cpu': 16, 'memory': 32768, 'run': 0, 'task_slots_per_task_manager': 16, 'task_managers_qty': 8, 'source_parallelism': 32, 'parallelism': 1, 'evenly_spread': 'true', 'warmup': 180, 'custom_memory': None, 'dichotomic_mst_tuning': {'initial_rate': 100000000, 'slide_window': 75, 'size_window': 60, 'observation_size': 30, 'timeout': 900, 'mean_threshold': 0.01, 'higher_bound_ratio': 2, 'cooldown_throughput': 200}, 'task_slots_limit': 80, 'throughputs': [100000000], 'timeout': 600, 'limit_backpressure_source': 250, 'nb_runs_throughput': 1, 'nb_runs_parallelism': 1, 'notebook': '/xp_intro_q5_kafka_custom_ratelimit'}]\n"
     ]
    },
    {
     "name": "stderr",
     "output_type": "stream",
     "text": [
      "/tmp/ipykernel_1264300/1726620047.py:32: SettingWithCopyWarning: \n",
      "A value is trying to be set on a copy of a slice from a DataFrame.\n",
      "Try using .loc[row_indexer,col_indexer] = value instead\n",
      "\n",
      "See the caveats in the documentation: https://pandas.pydata.org/pandas-docs/stable/user_guide/indexing.html#returning-a-view-versus-a-copy\n",
      "  df[\"memory\"] = df[\"memory\"] / memory_granularity\n",
      "/home/grosinosky/.local/lib/python3.9/site-packages/skopt/optimizer/optimizer.py:449: UserWarning: The objective has been evaluated at this point before.\n",
      "  warnings.warn(\"The objective has been evaluated \"\n"
     ]
    },
    {
     "data": {
      "application/vnd.jupyter.widget-view+json": {
       "model_id": "6d1fac0f4a4a40e2927d9488bd54acce",
       "version_major": 2,
       "version_minor": 0
      },
      "text/plain": [
       "  0%|          | 0/1 [00:00<?, ?it/s]"
      ]
     },
     "metadata": {},
     "output_type": "display_data"
    },
    {
     "data": {
      "application/vnd.jupyter.widget-view+json": {
       "model_id": "80cb679122f44bfdbf8b89b2cca9487e",
       "version_major": 2,
       "version_minor": 0
      },
      "text/plain": [
       "  0%|          | 0/8 [00:00<?, ?it/s]"
      ]
     },
     "metadata": {},
     "output_type": "display_data"
    },
    {
     "data": {
      "application/vnd.jupyter.widget-view+json": {
       "model_id": "f5b8fa12617c406d8dcb254d12e891c6",
       "version_major": 2,
       "version_minor": 0
      },
      "text/plain": [
       "0it [00:00, ?it/s]"
      ]
     },
     "metadata": {},
     "output_type": "display_data"
    },
    {
     "data": {
      "application/vnd.jupyter.widget-view+json": {
       "model_id": "5c6c8c0953dd4e218fdf481b7e26cae4",
       "version_major": 2,
       "version_minor": 0
      },
      "text/plain": [
       "  0%|          | 0/900 [00:00<?, ?it/s]"
      ]
     },
     "metadata": {},
     "output_type": "display_data"
    },
    {
     "name": "stderr",
     "output_type": "stream",
     "text": [
      "/tmp/ipykernel_1264300/1726620047.py:32: SettingWithCopyWarning: \n",
      "A value is trying to be set on a copy of a slice from a DataFrame.\n",
      "Try using .loc[row_indexer,col_indexer] = value instead\n",
      "\n",
      "See the caveats in the documentation: https://pandas.pydata.org/pandas-docs/stable/user_guide/indexing.html#returning-a-view-versus-a-copy\n",
      "  df[\"memory\"] = df[\"memory\"] / memory_granularity\n"
     ]
    },
    {
     "name": "stdout",
     "output_type": "stream",
     "text": [
      "Found MSE: {'sqrt': 34171.22422663578, 'log': 19830.605100107903, 'linear': 53490.413765977144}\n",
      "[80, 2]\n",
      "[{'cpu': 16, 'memory': 65536, 'run': 0, 'task_slots_per_task_manager': 16, 'task_managers_qty': 8, 'source_parallelism': 32, 'parallelism': 1, 'evenly_spread': 'true', 'warmup': 180, 'custom_memory': None, 'dichotomic_mst_tuning': {'initial_rate': 100000000, 'slide_window': 75, 'size_window': 60, 'observation_size': 30, 'timeout': 900, 'mean_threshold': 0.01, 'higher_bound_ratio': 2, 'cooldown_throughput': 200}, 'task_slots_limit': 80, 'throughputs': [100000000], 'timeout': 600, 'limit_backpressure_source': 250, 'nb_runs_throughput': 1, 'nb_runs_parallelism': 1, 'notebook': '/xp_intro_q5_kafka_custom_ratelimit'}]\n"
     ]
    },
    {
     "name": "stderr",
     "output_type": "stream",
     "text": [
      "/home/grosinosky/.local/lib/python3.9/site-packages/skopt/optimizer/optimizer.py:449: UserWarning: The objective has been evaluated at this point before.\n",
      "  warnings.warn(\"The objective has been evaluated \"\n"
     ]
    },
    {
     "data": {
      "application/vnd.jupyter.widget-view+json": {
       "model_id": "f8c2a0e0b58245a889055ef46278a74e",
       "version_major": 2,
       "version_minor": 0
      },
      "text/plain": [
       "  0%|          | 0/1 [00:00<?, ?it/s]"
      ]
     },
     "metadata": {},
     "output_type": "display_data"
    },
    {
     "data": {
      "application/vnd.jupyter.widget-view+json": {
       "model_id": "d3585e8f2ad94693b5bb7fbfe01d044d",
       "version_major": 2,
       "version_minor": 0
      },
      "text/plain": [
       "  0%|          | 0/8 [00:00<?, ?it/s]"
      ]
     },
     "metadata": {},
     "output_type": "display_data"
    },
    {
     "data": {
      "application/vnd.jupyter.widget-view+json": {
       "model_id": "bf6815b7cabf458fa1d10bdbc274261c",
       "version_major": 2,
       "version_minor": 0
      },
      "text/plain": [
       "0it [00:00, ?it/s]"
      ]
     },
     "metadata": {},
     "output_type": "display_data"
    },
    {
     "data": {
      "application/vnd.jupyter.widget-view+json": {
       "model_id": "e75d08588b0540b8b70825fa48da6a95",
       "version_major": 2,
       "version_minor": 0
      },
      "text/plain": [
       "  0%|          | 0/900 [00:00<?, ?it/s]"
      ]
     },
     "metadata": {},
     "output_type": "display_data"
    },
    {
     "name": "stderr",
     "output_type": "stream",
     "text": [
      "/tmp/ipykernel_1264300/1726620047.py:32: SettingWithCopyWarning: \n",
      "A value is trying to be set on a copy of a slice from a DataFrame.\n",
      "Try using .loc[row_indexer,col_indexer] = value instead\n",
      "\n",
      "See the caveats in the documentation: https://pandas.pydata.org/pandas-docs/stable/user_guide/indexing.html#returning-a-view-versus-a-copy\n",
      "  df[\"memory\"] = df[\"memory\"] / memory_granularity\n"
     ]
    },
    {
     "name": "stdout",
     "output_type": "stream",
     "text": [
      "Found MSE: {'sqrt': 42847.552901894254, 'log': 32761.718213989036, 'linear': 54845.46137057054}\n",
      "[80, 1]\n",
      "[{'cpu': 16, 'memory': 32768, 'run': 0, 'task_slots_per_task_manager': 16, 'task_managers_qty': 8, 'source_parallelism': 32, 'parallelism': 1, 'evenly_spread': 'true', 'warmup': 180, 'custom_memory': None, 'dichotomic_mst_tuning': {'initial_rate': 100000000, 'slide_window': 75, 'size_window': 60, 'observation_size': 30, 'timeout': 900, 'mean_threshold': 0.01, 'higher_bound_ratio': 2, 'cooldown_throughput': 200}, 'task_slots_limit': 80, 'throughputs': [100000000], 'timeout': 600, 'limit_backpressure_source': 250, 'nb_runs_throughput': 1, 'nb_runs_parallelism': 1, 'notebook': '/xp_intro_q5_kafka_custom_ratelimit'}]\n"
     ]
    },
    {
     "name": "stderr",
     "output_type": "stream",
     "text": [
      "/home/grosinosky/.local/lib/python3.9/site-packages/skopt/optimizer/optimizer.py:449: UserWarning: The objective has been evaluated at this point before.\n",
      "  warnings.warn(\"The objective has been evaluated \"\n"
     ]
    },
    {
     "data": {
      "application/vnd.jupyter.widget-view+json": {
       "model_id": "aedc2b83ee32476797203f73537671d3",
       "version_major": 2,
       "version_minor": 0
      },
      "text/plain": [
       "  0%|          | 0/1 [00:00<?, ?it/s]"
      ]
     },
     "metadata": {},
     "output_type": "display_data"
    },
    {
     "data": {
      "application/vnd.jupyter.widget-view+json": {
       "model_id": "1fbf83ce9bd043658ebb37c9ff879c57",
       "version_major": 2,
       "version_minor": 0
      },
      "text/plain": [
       "  0%|          | 0/8 [00:00<?, ?it/s]"
      ]
     },
     "metadata": {},
     "output_type": "display_data"
    },
    {
     "data": {
      "application/vnd.jupyter.widget-view+json": {
       "model_id": "5bd374f66bd5464c823b73d84768f336",
       "version_major": 2,
       "version_minor": 0
      },
      "text/plain": [
       "0it [00:00, ?it/s]"
      ]
     },
     "metadata": {},
     "output_type": "display_data"
    },
    {
     "data": {
      "application/vnd.jupyter.widget-view+json": {
       "model_id": "f88f4aff3ddf492186f0239fba33778e",
       "version_major": 2,
       "version_minor": 0
      },
      "text/plain": [
       "  0%|          | 0/900 [00:00<?, ?it/s]"
      ]
     },
     "metadata": {},
     "output_type": "display_data"
    },
    {
     "name": "stdout",
     "output_type": "stream",
     "text": [
      "Found MSE: {'sqrt': 39095.62655095762, 'log': 29717.60324668505, 'linear': 49976.619923242215}\n",
      "[41, 1]\n",
      "[{'cpu': 16, 'memory': 32768, 'run': 0, 'task_slots_per_task_manager': 16, 'task_managers_qty': 8, 'source_parallelism': 32, 'parallelism': 1, 'evenly_spread': 'true', 'warmup': 180, 'custom_memory': None, 'dichotomic_mst_tuning': {'initial_rate': 100000000, 'slide_window': 75, 'size_window': 60, 'observation_size': 30, 'timeout': 900, 'mean_threshold': 0.01, 'higher_bound_ratio': 2, 'cooldown_throughput': 200}, 'task_slots_limit': 41, 'throughputs': [100000000], 'timeout': 600, 'limit_backpressure_source': 250, 'nb_runs_throughput': 1, 'nb_runs_parallelism': 1, 'notebook': '/xp_intro_q5_kafka_custom_ratelimit'}]\n"
     ]
    },
    {
     "name": "stderr",
     "output_type": "stream",
     "text": [
      "/tmp/ipykernel_1264300/1726620047.py:32: SettingWithCopyWarning: \n",
      "A value is trying to be set on a copy of a slice from a DataFrame.\n",
      "Try using .loc[row_indexer,col_indexer] = value instead\n",
      "\n",
      "See the caveats in the documentation: https://pandas.pydata.org/pandas-docs/stable/user_guide/indexing.html#returning-a-view-versus-a-copy\n",
      "  df[\"memory\"] = df[\"memory\"] / memory_granularity\n",
      "/home/grosinosky/.local/lib/python3.9/site-packages/skopt/optimizer/optimizer.py:449: UserWarning: The objective has been evaluated at this point before.\n",
      "  warnings.warn(\"The objective has been evaluated \"\n"
     ]
    },
    {
     "data": {
      "application/vnd.jupyter.widget-view+json": {
       "model_id": "6e5c4afe85c9435fa54a1472da895de2",
       "version_major": 2,
       "version_minor": 0
      },
      "text/plain": [
       "  0%|          | 0/1 [00:00<?, ?it/s]"
      ]
     },
     "metadata": {},
     "output_type": "display_data"
    },
    {
     "data": {
      "application/vnd.jupyter.widget-view+json": {
       "model_id": "7eb8ed3473f44285bdf9e81965e6b347",
       "version_major": 2,
       "version_minor": 0
      },
      "text/plain": [
       "  0%|          | 0/8 [00:00<?, ?it/s]"
      ]
     },
     "metadata": {},
     "output_type": "display_data"
    },
    {
     "data": {
      "application/vnd.jupyter.widget-view+json": {
       "model_id": "23cec53900914c04b190a7af8885eaff",
       "version_major": 2,
       "version_minor": 0
      },
      "text/plain": [
       "0it [00:00, ?it/s]"
      ]
     },
     "metadata": {},
     "output_type": "display_data"
    },
    {
     "data": {
      "application/vnd.jupyter.widget-view+json": {
       "model_id": "34735dfda66048739812f86653be2015",
       "version_major": 2,
       "version_minor": 0
      },
      "text/plain": [
       "  0%|          | 0/900 [00:00<?, ?it/s]"
      ]
     },
     "metadata": {},
     "output_type": "display_data"
    },
    {
     "name": "stderr",
     "output_type": "stream",
     "text": [
      "/tmp/ipykernel_1264300/1726620047.py:32: SettingWithCopyWarning: \n",
      "A value is trying to be set on a copy of a slice from a DataFrame.\n",
      "Try using .loc[row_indexer,col_indexer] = value instead\n",
      "\n",
      "See the caveats in the documentation: https://pandas.pydata.org/pandas-docs/stable/user_guide/indexing.html#returning-a-view-versus-a-copy\n",
      "  df[\"memory\"] = df[\"memory\"] / memory_granularity\n"
     ]
    },
    {
     "name": "stdout",
     "output_type": "stream",
     "text": [
      "Found MSE: {'sqrt': 35652.49013083169, 'log': 27157.63764198683, 'linear': 45448.85636086828}\n",
      "[41, 1]\n",
      "[{'cpu': 16, 'memory': 32768, 'run': 0, 'task_slots_per_task_manager': 16, 'task_managers_qty': 8, 'source_parallelism': 32, 'parallelism': 1, 'evenly_spread': 'true', 'warmup': 180, 'custom_memory': None, 'dichotomic_mst_tuning': {'initial_rate': 100000000, 'slide_window': 75, 'size_window': 60, 'observation_size': 30, 'timeout': 900, 'mean_threshold': 0.01, 'higher_bound_ratio': 2, 'cooldown_throughput': 200}, 'task_slots_limit': 41, 'throughputs': [100000000], 'timeout': 600, 'limit_backpressure_source': 250, 'nb_runs_throughput': 1, 'nb_runs_parallelism': 1, 'notebook': '/xp_intro_q5_kafka_custom_ratelimit'}]\n"
     ]
    },
    {
     "name": "stderr",
     "output_type": "stream",
     "text": [
      "/home/grosinosky/.local/lib/python3.9/site-packages/skopt/optimizer/optimizer.py:449: UserWarning: The objective has been evaluated at this point before.\n",
      "  warnings.warn(\"The objective has been evaluated \"\n"
     ]
    },
    {
     "data": {
      "application/vnd.jupyter.widget-view+json": {
       "model_id": "42bba66ba5e74fcd85bc264083cc32ee",
       "version_major": 2,
       "version_minor": 0
      },
      "text/plain": [
       "  0%|          | 0/1 [00:00<?, ?it/s]"
      ]
     },
     "metadata": {},
     "output_type": "display_data"
    },
    {
     "data": {
      "application/vnd.jupyter.widget-view+json": {
       "model_id": "72fb2cb928634dfd932f1bef78a6c672",
       "version_major": 2,
       "version_minor": 0
      },
      "text/plain": [
       "  0%|          | 0/8 [00:00<?, ?it/s]"
      ]
     },
     "metadata": {},
     "output_type": "display_data"
    },
    {
     "data": {
      "application/vnd.jupyter.widget-view+json": {
       "model_id": "a38eeef40a6f49d8874e5b0b57bd94a4",
       "version_major": 2,
       "version_minor": 0
      },
      "text/plain": [
       "0it [00:00, ?it/s]"
      ]
     },
     "metadata": {},
     "output_type": "display_data"
    },
    {
     "data": {
      "application/vnd.jupyter.widget-view+json": {
       "model_id": "273b3a30a7e94a308836b45b873eaf8c",
       "version_major": 2,
       "version_minor": 0
      },
      "text/plain": [
       "  0%|          | 0/900 [00:00<?, ?it/s]"
      ]
     },
     "metadata": {},
     "output_type": "display_data"
    },
    {
     "name": "stderr",
     "output_type": "stream",
     "text": [
      "/tmp/ipykernel_1264300/1726620047.py:32: SettingWithCopyWarning: \n",
      "A value is trying to be set on a copy of a slice from a DataFrame.\n",
      "Try using .loc[row_indexer,col_indexer] = value instead\n",
      "\n",
      "See the caveats in the documentation: https://pandas.pydata.org/pandas-docs/stable/user_guide/indexing.html#returning-a-view-versus-a-copy\n",
      "  df[\"memory\"] = df[\"memory\"] / memory_granularity\n"
     ]
    },
    {
     "name": "stdout",
     "output_type": "stream",
     "text": [
      "Found MSE: {'sqrt': 32720.58531479731, 'log': 24944.98578864547, 'linear': 41655.11038354017}\n",
      "[76, 1]\n",
      "[{'cpu': 16, 'memory': 32768, 'run': 0, 'task_slots_per_task_manager': 16, 'task_managers_qty': 8, 'source_parallelism': 32, 'parallelism': 1, 'evenly_spread': 'true', 'warmup': 180, 'custom_memory': None, 'dichotomic_mst_tuning': {'initial_rate': 100000000, 'slide_window': 75, 'size_window': 60, 'observation_size': 30, 'timeout': 900, 'mean_threshold': 0.01, 'higher_bound_ratio': 2, 'cooldown_throughput': 200}, 'task_slots_limit': 76, 'throughputs': [100000000], 'timeout': 600, 'limit_backpressure_source': 250, 'nb_runs_throughput': 1, 'nb_runs_parallelism': 1, 'notebook': '/xp_intro_q5_kafka_custom_ratelimit'}]\n"
     ]
    },
    {
     "data": {
      "application/vnd.jupyter.widget-view+json": {
       "model_id": "cf2652e166fd44c1b30af8444b9db09b",
       "version_major": 2,
       "version_minor": 0
      },
      "text/plain": [
       "  0%|          | 0/1 [00:00<?, ?it/s]"
      ]
     },
     "metadata": {},
     "output_type": "display_data"
    },
    {
     "data": {
      "application/vnd.jupyter.widget-view+json": {
       "model_id": "38ffbc4fef654b059e104619925440a1",
       "version_major": 2,
       "version_minor": 0
      },
      "text/plain": [
       "  0%|          | 0/8 [00:00<?, ?it/s]"
      ]
     },
     "metadata": {},
     "output_type": "display_data"
    },
    {
     "data": {
      "application/vnd.jupyter.widget-view+json": {
       "model_id": "3199dffa34e04b619d071c13544a44dc",
       "version_major": 2,
       "version_minor": 0
      },
      "text/plain": [
       "0it [00:00, ?it/s]"
      ]
     },
     "metadata": {},
     "output_type": "display_data"
    },
    {
     "data": {
      "application/vnd.jupyter.widget-view+json": {
       "model_id": "357e91c14ef84351bc3db2a04a2e27cc",
       "version_major": 2,
       "version_minor": 0
      },
      "text/plain": [
       "  0%|          | 0/900 [00:00<?, ?it/s]"
      ]
     },
     "metadata": {},
     "output_type": "display_data"
    },
    {
     "name": "stderr",
     "output_type": "stream",
     "text": [
      "/tmp/ipykernel_1264300/1726620047.py:32: SettingWithCopyWarning: \n",
      "A value is trying to be set on a copy of a slice from a DataFrame.\n",
      "Try using .loc[row_indexer,col_indexer] = value instead\n",
      "\n",
      "See the caveats in the documentation: https://pandas.pydata.org/pandas-docs/stable/user_guide/indexing.html#returning-a-view-versus-a-copy\n",
      "  df[\"memory\"] = df[\"memory\"] / memory_granularity\n"
     ]
    },
    {
     "name": "stdout",
     "output_type": "stream",
     "text": [
      "Found MSE: {'sqrt': 39766.710258094135, 'log': 30909.951561287628, 'linear': 50777.44369062704}\n",
      "[79, 1]\n",
      "[{'cpu': 16, 'memory': 32768, 'run': 0, 'task_slots_per_task_manager': 16, 'task_managers_qty': 8, 'source_parallelism': 32, 'parallelism': 1, 'evenly_spread': 'true', 'warmup': 180, 'custom_memory': None, 'dichotomic_mst_tuning': {'initial_rate': 100000000, 'slide_window': 75, 'size_window': 60, 'observation_size': 30, 'timeout': 900, 'mean_threshold': 0.01, 'higher_bound_ratio': 2, 'cooldown_throughput': 200}, 'task_slots_limit': 79, 'throughputs': [100000000], 'timeout': 600, 'limit_backpressure_source': 250, 'nb_runs_throughput': 1, 'nb_runs_parallelism': 1, 'notebook': '/xp_intro_q5_kafka_custom_ratelimit'}]\n"
     ]
    },
    {
     "data": {
      "application/vnd.jupyter.widget-view+json": {
       "model_id": "e4e0137b8720421d83d4216a37ca7b30",
       "version_major": 2,
       "version_minor": 0
      },
      "text/plain": [
       "  0%|          | 0/1 [00:00<?, ?it/s]"
      ]
     },
     "metadata": {},
     "output_type": "display_data"
    },
    {
     "data": {
      "application/vnd.jupyter.widget-view+json": {
       "model_id": "97c61401e99843bea980b0ae3d405e09",
       "version_major": 2,
       "version_minor": 0
      },
      "text/plain": [
       "  0%|          | 0/8 [00:00<?, ?it/s]"
      ]
     },
     "metadata": {},
     "output_type": "display_data"
    },
    {
     "data": {
      "application/vnd.jupyter.widget-view+json": {
       "model_id": "22b822635f6848328157dbffe2a91fe9",
       "version_major": 2,
       "version_minor": 0
      },
      "text/plain": [
       "0it [00:00, ?it/s]"
      ]
     },
     "metadata": {},
     "output_type": "display_data"
    },
    {
     "data": {
      "application/vnd.jupyter.widget-view+json": {
       "model_id": "8f4f064068604c14ad029afeebb901ba",
       "version_major": 2,
       "version_minor": 0
      },
      "text/plain": [
       "  0%|          | 0/900 [00:00<?, ?it/s]"
      ]
     },
     "metadata": {},
     "output_type": "display_data"
    },
    {
     "name": "stderr",
     "output_type": "stream",
     "text": [
      "/tmp/ipykernel_1264300/1726620047.py:32: SettingWithCopyWarning: \n",
      "A value is trying to be set on a copy of a slice from a DataFrame.\n",
      "Try using .loc[row_indexer,col_indexer] = value instead\n",
      "\n",
      "See the caveats in the documentation: https://pandas.pydata.org/pandas-docs/stable/user_guide/indexing.html#returning-a-view-versus-a-copy\n",
      "  df[\"memory\"] = df[\"memory\"] / memory_granularity\n"
     ]
    },
    {
     "name": "stdout",
     "output_type": "stream",
     "text": [
      "Found MSE: {'sqrt': 39527.015707492355, 'log': 32273.10171325895, 'linear': 50069.32730497652}\n",
      "[79, 2]\n",
      "[{'cpu': 16, 'memory': 65536, 'run': 0, 'task_slots_per_task_manager': 16, 'task_managers_qty': 8, 'source_parallelism': 32, 'parallelism': 1, 'evenly_spread': 'true', 'warmup': 180, 'custom_memory': None, 'dichotomic_mst_tuning': {'initial_rate': 100000000, 'slide_window': 75, 'size_window': 60, 'observation_size': 30, 'timeout': 900, 'mean_threshold': 0.01, 'higher_bound_ratio': 2, 'cooldown_throughput': 200}, 'task_slots_limit': 79, 'throughputs': [100000000], 'timeout': 600, 'limit_backpressure_source': 250, 'nb_runs_throughput': 1, 'nb_runs_parallelism': 1, 'notebook': '/xp_intro_q5_kafka_custom_ratelimit'}]\n"
     ]
    },
    {
     "data": {
      "application/vnd.jupyter.widget-view+json": {
       "model_id": "e28159bf60a54e0486b303f4026c48e5",
       "version_major": 2,
       "version_minor": 0
      },
      "text/plain": [
       "  0%|          | 0/1 [00:00<?, ?it/s]"
      ]
     },
     "metadata": {},
     "output_type": "display_data"
    },
    {
     "data": {
      "application/vnd.jupyter.widget-view+json": {
       "model_id": "152501f0e40d48ffb11fed4f39d452fa",
       "version_major": 2,
       "version_minor": 0
      },
      "text/plain": [
       "  0%|          | 0/8 [00:00<?, ?it/s]"
      ]
     },
     "metadata": {},
     "output_type": "display_data"
    },
    {
     "data": {
      "application/vnd.jupyter.widget-view+json": {
       "model_id": "f8ce2f541c034be3929baa9ac8b51311",
       "version_major": 2,
       "version_minor": 0
      },
      "text/plain": [
       "0it [00:00, ?it/s]"
      ]
     },
     "metadata": {},
     "output_type": "display_data"
    },
    {
     "data": {
      "application/vnd.jupyter.widget-view+json": {
       "model_id": "53b50b8da40349a09bc74caf6d5e7f4d",
       "version_major": 2,
       "version_minor": 0
      },
      "text/plain": [
       "  0%|          | 0/900 [00:00<?, ?it/s]"
      ]
     },
     "metadata": {},
     "output_type": "display_data"
    },
    {
     "name": "stderr",
     "output_type": "stream",
     "text": [
      "/tmp/ipykernel_1264300/1726620047.py:32: SettingWithCopyWarning: \n",
      "A value is trying to be set on a copy of a slice from a DataFrame.\n",
      "Try using .loc[row_indexer,col_indexer] = value instead\n",
      "\n",
      "See the caveats in the documentation: https://pandas.pydata.org/pandas-docs/stable/user_guide/indexing.html#returning-a-view-versus-a-copy\n",
      "  df[\"memory\"] = df[\"memory\"] / memory_granularity\n"
     ]
    },
    {
     "name": "stdout",
     "output_type": "stream",
     "text": [
      "Found MSE: {'sqrt': 41128.69890468622, 'log': 36792.33487277004, 'linear': 49421.94182735686}\n",
      "[42, 1]\n",
      "[{'cpu': 16, 'memory': 32768, 'run': 0, 'task_slots_per_task_manager': 16, 'task_managers_qty': 8, 'source_parallelism': 32, 'parallelism': 1, 'evenly_spread': 'true', 'warmup': 180, 'custom_memory': None, 'dichotomic_mst_tuning': {'initial_rate': 100000000, 'slide_window': 75, 'size_window': 60, 'observation_size': 30, 'timeout': 900, 'mean_threshold': 0.01, 'higher_bound_ratio': 2, 'cooldown_throughput': 200}, 'task_slots_limit': 42, 'throughputs': [100000000], 'timeout': 600, 'limit_backpressure_source': 250, 'nb_runs_throughput': 1, 'nb_runs_parallelism': 1, 'notebook': '/xp_intro_q5_kafka_custom_ratelimit'}]\n"
     ]
    },
    {
     "data": {
      "application/vnd.jupyter.widget-view+json": {
       "model_id": "0105426c162f414abd4069454fa5a7b9",
       "version_major": 2,
       "version_minor": 0
      },
      "text/plain": [
       "  0%|          | 0/1 [00:00<?, ?it/s]"
      ]
     },
     "metadata": {},
     "output_type": "display_data"
    },
    {
     "data": {
      "application/vnd.jupyter.widget-view+json": {
       "model_id": "56e4e80c8fe24e8eb2baf8533ae8019c",
       "version_major": 2,
       "version_minor": 0
      },
      "text/plain": [
       "  0%|          | 0/8 [00:00<?, ?it/s]"
      ]
     },
     "metadata": {},
     "output_type": "display_data"
    },
    {
     "data": {
      "application/vnd.jupyter.widget-view+json": {
       "model_id": "289eb366e799429194a48b9b0a269559",
       "version_major": 2,
       "version_minor": 0
      },
      "text/plain": [
       "0it [00:00, ?it/s]"
      ]
     },
     "metadata": {},
     "output_type": "display_data"
    },
    {
     "data": {
      "application/vnd.jupyter.widget-view+json": {
       "model_id": "0a2557fb762f42909f4d280d8ec38f26",
       "version_major": 2,
       "version_minor": 0
      },
      "text/plain": [
       "  0%|          | 0/900 [00:00<?, ?it/s]"
      ]
     },
     "metadata": {},
     "output_type": "display_data"
    },
    {
     "name": "stderr",
     "output_type": "stream",
     "text": [
      "/tmp/ipykernel_1264300/1726620047.py:32: SettingWithCopyWarning: \n",
      "A value is trying to be set on a copy of a slice from a DataFrame.\n",
      "Try using .loc[row_indexer,col_indexer] = value instead\n",
      "\n",
      "See the caveats in the documentation: https://pandas.pydata.org/pandas-docs/stable/user_guide/indexing.html#returning-a-view-versus-a-copy\n",
      "  df[\"memory\"] = df[\"memory\"] / memory_granularity\n"
     ]
    },
    {
     "name": "stdout",
     "output_type": "stream",
     "text": [
      "Found MSE: {'sqrt': 39344.98989149756, 'log': 34387.92637305802, 'linear': 49163.55833246682}\n",
      "[42, 2]\n",
      "[{'cpu': 16, 'memory': 65536, 'run': 0, 'task_slots_per_task_manager': 16, 'task_managers_qty': 8, 'source_parallelism': 32, 'parallelism': 1, 'evenly_spread': 'true', 'warmup': 180, 'custom_memory': None, 'dichotomic_mst_tuning': {'initial_rate': 100000000, 'slide_window': 75, 'size_window': 60, 'observation_size': 30, 'timeout': 900, 'mean_threshold': 0.01, 'higher_bound_ratio': 2, 'cooldown_throughput': 200}, 'task_slots_limit': 42, 'throughputs': [100000000], 'timeout': 600, 'limit_backpressure_source': 250, 'nb_runs_throughput': 1, 'nb_runs_parallelism': 1, 'notebook': '/xp_intro_q5_kafka_custom_ratelimit'}]\n"
     ]
    },
    {
     "data": {
      "application/vnd.jupyter.widget-view+json": {
       "model_id": "2ad9bde33db548d4a8153f2ddf03b9ce",
       "version_major": 2,
       "version_minor": 0
      },
      "text/plain": [
       "  0%|          | 0/1 [00:00<?, ?it/s]"
      ]
     },
     "metadata": {},
     "output_type": "display_data"
    },
    {
     "data": {
      "application/vnd.jupyter.widget-view+json": {
       "model_id": "6b48dec54e994dd181a5962bda5fc487",
       "version_major": 2,
       "version_minor": 0
      },
      "text/plain": [
       "  0%|          | 0/8 [00:00<?, ?it/s]"
      ]
     },
     "metadata": {},
     "output_type": "display_data"
    },
    {
     "data": {
      "application/vnd.jupyter.widget-view+json": {
       "model_id": "0c493891e9cb4ad4b8184275d03acc33",
       "version_major": 2,
       "version_minor": 0
      },
      "text/plain": [
       "0it [00:00, ?it/s]"
      ]
     },
     "metadata": {},
     "output_type": "display_data"
    },
    {
     "data": {
      "application/vnd.jupyter.widget-view+json": {
       "model_id": "ed34cc993f1940c2be3f79d2692b4cd5",
       "version_major": 2,
       "version_minor": 0
      },
      "text/plain": [
       "  0%|          | 0/900 [00:00<?, ?it/s]"
      ]
     },
     "metadata": {},
     "output_type": "display_data"
    },
    {
     "name": "stderr",
     "output_type": "stream",
     "text": [
      "/tmp/ipykernel_1264300/1726620047.py:32: SettingWithCopyWarning: \n",
      "A value is trying to be set on a copy of a slice from a DataFrame.\n",
      "Try using .loc[row_indexer,col_indexer] = value instead\n",
      "\n",
      "See the caveats in the documentation: https://pandas.pydata.org/pandas-docs/stable/user_guide/indexing.html#returning-a-view-versus-a-copy\n",
      "  df[\"memory\"] = df[\"memory\"] / memory_granularity\n"
     ]
    },
    {
     "name": "stdout",
     "output_type": "stream",
     "text": [
      "Found MSE: {'sqrt': 36656.55095965602, 'log': 32519.1846075859, 'linear': 45651.02100879521}\n",
      "[48, 2]\n",
      "[{'cpu': 16, 'memory': 65536, 'run': 0, 'task_slots_per_task_manager': 16, 'task_managers_qty': 8, 'source_parallelism': 32, 'parallelism': 1, 'evenly_spread': 'true', 'warmup': 180, 'custom_memory': None, 'dichotomic_mst_tuning': {'initial_rate': 100000000, 'slide_window': 75, 'size_window': 60, 'observation_size': 30, 'timeout': 900, 'mean_threshold': 0.01, 'higher_bound_ratio': 2, 'cooldown_throughput': 200}, 'task_slots_limit': 48, 'throughputs': [100000000], 'timeout': 600, 'limit_backpressure_source': 250, 'nb_runs_throughput': 1, 'nb_runs_parallelism': 1, 'notebook': '/xp_intro_q5_kafka_custom_ratelimit'}]\n"
     ]
    },
    {
     "data": {
      "application/vnd.jupyter.widget-view+json": {
       "model_id": "0f52dc46adad41fba7ae1da9c0c31d72",
       "version_major": 2,
       "version_minor": 0
      },
      "text/plain": [
       "  0%|          | 0/1 [00:00<?, ?it/s]"
      ]
     },
     "metadata": {},
     "output_type": "display_data"
    },
    {
     "data": {
      "application/vnd.jupyter.widget-view+json": {
       "model_id": "f3903e523f394f37bd6785423de7e3ea",
       "version_major": 2,
       "version_minor": 0
      },
      "text/plain": [
       "  0%|          | 0/8 [00:00<?, ?it/s]"
      ]
     },
     "metadata": {},
     "output_type": "display_data"
    },
    {
     "data": {
      "application/vnd.jupyter.widget-view+json": {
       "model_id": "cae077b770f54314bff874abf57bbfb1",
       "version_major": 2,
       "version_minor": 0
      },
      "text/plain": [
       "0it [00:00, ?it/s]"
      ]
     },
     "metadata": {},
     "output_type": "display_data"
    },
    {
     "data": {
      "application/vnd.jupyter.widget-view+json": {
       "model_id": "e6829856876544f69155947dddf0aca3",
       "version_major": 2,
       "version_minor": 0
      },
      "text/plain": [
       "  0%|          | 0/900 [00:00<?, ?it/s]"
      ]
     },
     "metadata": {},
     "output_type": "display_data"
    },
    {
     "name": "stderr",
     "output_type": "stream",
     "text": [
      "/tmp/ipykernel_1264300/1726620047.py:32: SettingWithCopyWarning: \n",
      "A value is trying to be set on a copy of a slice from a DataFrame.\n",
      "Try using .loc[row_indexer,col_indexer] = value instead\n",
      "\n",
      "See the caveats in the documentation: https://pandas.pydata.org/pandas-docs/stable/user_guide/indexing.html#returning-a-view-versus-a-copy\n",
      "  df[\"memory\"] = df[\"memory\"] / memory_granularity\n"
     ]
    },
    {
     "name": "stdout",
     "output_type": "stream",
     "text": [
      "Found MSE: {'sqrt': 39781.99919718373, 'log': 31525.60628631835, 'linear': 52935.176383913866}\n",
      "[61, 2]\n",
      "[{'cpu': 16, 'memory': 65536, 'run': 0, 'task_slots_per_task_manager': 16, 'task_managers_qty': 8, 'source_parallelism': 32, 'parallelism': 1, 'evenly_spread': 'true', 'warmup': 180, 'custom_memory': None, 'dichotomic_mst_tuning': {'initial_rate': 100000000, 'slide_window': 75, 'size_window': 60, 'observation_size': 30, 'timeout': 900, 'mean_threshold': 0.01, 'higher_bound_ratio': 2, 'cooldown_throughput': 200}, 'task_slots_limit': 61, 'throughputs': [100000000], 'timeout': 600, 'limit_backpressure_source': 250, 'nb_runs_throughput': 1, 'nb_runs_parallelism': 1, 'notebook': '/xp_intro_q5_kafka_custom_ratelimit'}]\n"
     ]
    },
    {
     "data": {
      "application/vnd.jupyter.widget-view+json": {
       "model_id": "b4f2dbbb31b047138bde81dba7c9f1f7",
       "version_major": 2,
       "version_minor": 0
      },
      "text/plain": [
       "  0%|          | 0/1 [00:00<?, ?it/s]"
      ]
     },
     "metadata": {},
     "output_type": "display_data"
    },
    {
     "data": {
      "application/vnd.jupyter.widget-view+json": {
       "model_id": "9e756d73ef7842a3b0fc5ed42f0a7337",
       "version_major": 2,
       "version_minor": 0
      },
      "text/plain": [
       "  0%|          | 0/8 [00:00<?, ?it/s]"
      ]
     },
     "metadata": {},
     "output_type": "display_data"
    },
    {
     "data": {
      "application/vnd.jupyter.widget-view+json": {
       "model_id": "8daa751b63254e00a2994924ed0867ae",
       "version_major": 2,
       "version_minor": 0
      },
      "text/plain": [
       "0it [00:00, ?it/s]"
      ]
     },
     "metadata": {},
     "output_type": "display_data"
    },
    {
     "data": {
      "application/vnd.jupyter.widget-view+json": {
       "model_id": "3f187a74eb0543a89007307c0dbce8db",
       "version_major": 2,
       "version_minor": 0
      },
      "text/plain": [
       "  0%|          | 0/900 [00:00<?, ?it/s]"
      ]
     },
     "metadata": {},
     "output_type": "display_data"
    },
    {
     "name": "stderr",
     "output_type": "stream",
     "text": [
      "/tmp/ipykernel_1264300/1726620047.py:32: SettingWithCopyWarning: \n",
      "A value is trying to be set on a copy of a slice from a DataFrame.\n",
      "Try using .loc[row_indexer,col_indexer] = value instead\n",
      "\n",
      "See the caveats in the documentation: https://pandas.pydata.org/pandas-docs/stable/user_guide/indexing.html#returning-a-view-versus-a-copy\n",
      "  df[\"memory\"] = df[\"memory\"] / memory_granularity\n"
     ]
    },
    {
     "name": "stdout",
     "output_type": "stream",
     "text": [
      "Found MSE: {'sqrt': 41540.14169137548, 'log': 31550.528354106576, 'linear': 58153.14412133048}\n",
      "[56, 1]\n",
      "[{'cpu': 16, 'memory': 32768, 'run': 0, 'task_slots_per_task_manager': 16, 'task_managers_qty': 8, 'source_parallelism': 32, 'parallelism': 1, 'evenly_spread': 'true', 'warmup': 180, 'custom_memory': None, 'dichotomic_mst_tuning': {'initial_rate': 100000000, 'slide_window': 75, 'size_window': 60, 'observation_size': 30, 'timeout': 900, 'mean_threshold': 0.01, 'higher_bound_ratio': 2, 'cooldown_throughput': 200}, 'task_slots_limit': 56, 'throughputs': [100000000], 'timeout': 600, 'limit_backpressure_source': 250, 'nb_runs_throughput': 1, 'nb_runs_parallelism': 1, 'notebook': '/xp_intro_q5_kafka_custom_ratelimit'}]\n"
     ]
    },
    {
     "data": {
      "application/vnd.jupyter.widget-view+json": {
       "model_id": "40a68319c67440eea4613b8089b60c40",
       "version_major": 2,
       "version_minor": 0
      },
      "text/plain": [
       "  0%|          | 0/1 [00:00<?, ?it/s]"
      ]
     },
     "metadata": {},
     "output_type": "display_data"
    },
    {
     "data": {
      "application/vnd.jupyter.widget-view+json": {
       "model_id": "f2028c09b1e3490ca445f0e9641b6d60",
       "version_major": 2,
       "version_minor": 0
      },
      "text/plain": [
       "  0%|          | 0/8 [00:00<?, ?it/s]"
      ]
     },
     "metadata": {},
     "output_type": "display_data"
    },
    {
     "data": {
      "application/vnd.jupyter.widget-view+json": {
       "model_id": "38b02dc2872d4e92aa9939fd0954b003",
       "version_major": 2,
       "version_minor": 0
      },
      "text/plain": [
       "0it [00:00, ?it/s]"
      ]
     },
     "metadata": {},
     "output_type": "display_data"
    },
    {
     "data": {
      "application/vnd.jupyter.widget-view+json": {
       "model_id": "8dadd34c4eed48cb8e30e85cef36e7c2",
       "version_major": 2,
       "version_minor": 0
      },
      "text/plain": [
       "  0%|          | 0/900 [00:00<?, ?it/s]"
      ]
     },
     "metadata": {},
     "output_type": "display_data"
    },
    {
     "name": "stderr",
     "output_type": "stream",
     "text": [
      "/tmp/ipykernel_1264300/1726620047.py:32: SettingWithCopyWarning: \n",
      "A value is trying to be set on a copy of a slice from a DataFrame.\n",
      "Try using .loc[row_indexer,col_indexer] = value instead\n",
      "\n",
      "See the caveats in the documentation: https://pandas.pydata.org/pandas-docs/stable/user_guide/indexing.html#returning-a-view-versus-a-copy\n",
      "  df[\"memory\"] = df[\"memory\"] / memory_granularity\n"
     ]
    },
    {
     "name": "stdout",
     "output_type": "stream",
     "text": [
      "Found MSE: {'sqrt': 45519.34824587083, 'log': 30007.28619970351, 'linear': 67643.21548554672}\n",
      "[69, 1]\n",
      "[{'cpu': 16, 'memory': 32768, 'run': 0, 'task_slots_per_task_manager': 16, 'task_managers_qty': 8, 'source_parallelism': 32, 'parallelism': 1, 'evenly_spread': 'true', 'warmup': 180, 'custom_memory': None, 'dichotomic_mst_tuning': {'initial_rate': 100000000, 'slide_window': 75, 'size_window': 60, 'observation_size': 30, 'timeout': 900, 'mean_threshold': 0.01, 'higher_bound_ratio': 2, 'cooldown_throughput': 200}, 'task_slots_limit': 69, 'throughputs': [100000000], 'timeout': 600, 'limit_backpressure_source': 250, 'nb_runs_throughput': 1, 'nb_runs_parallelism': 1, 'notebook': '/xp_intro_q5_kafka_custom_ratelimit'}]\n"
     ]
    },
    {
     "data": {
      "application/vnd.jupyter.widget-view+json": {
       "model_id": "03f304c69c2d44ba933c43c0841104a6",
       "version_major": 2,
       "version_minor": 0
      },
      "text/plain": [
       "  0%|          | 0/1 [00:00<?, ?it/s]"
      ]
     },
     "metadata": {},
     "output_type": "display_data"
    },
    {
     "data": {
      "application/vnd.jupyter.widget-view+json": {
       "model_id": "db21601c2da44f5fa3ff8b02b12f7f42",
       "version_major": 2,
       "version_minor": 0
      },
      "text/plain": [
       "  0%|          | 0/8 [00:00<?, ?it/s]"
      ]
     },
     "metadata": {},
     "output_type": "display_data"
    },
    {
     "data": {
      "application/vnd.jupyter.widget-view+json": {
       "model_id": "d4ffb7e1ec8543a5a3c81239815205d8",
       "version_major": 2,
       "version_minor": 0
      },
      "text/plain": [
       "0it [00:00, ?it/s]"
      ]
     },
     "metadata": {},
     "output_type": "display_data"
    },
    {
     "data": {
      "application/vnd.jupyter.widget-view+json": {
       "model_id": "73ef0c13c3c74734b3e0d244ed0d4d63",
       "version_major": 2,
       "version_minor": 0
      },
      "text/plain": [
       "  0%|          | 0/900 [00:00<?, ?it/s]"
      ]
     },
     "metadata": {},
     "output_type": "display_data"
    },
    {
     "name": "stderr",
     "output_type": "stream",
     "text": [
      "/tmp/ipykernel_1264300/1726620047.py:32: SettingWithCopyWarning: \n",
      "A value is trying to be set on a copy of a slice from a DataFrame.\n",
      "Try using .loc[row_indexer,col_indexer] = value instead\n",
      "\n",
      "See the caveats in the documentation: https://pandas.pydata.org/pandas-docs/stable/user_guide/indexing.html#returning-a-view-versus-a-copy\n",
      "  df[\"memory\"] = df[\"memory\"] / memory_granularity\n"
     ]
    },
    {
     "name": "stdout",
     "output_type": "stream",
     "text": [
      "Found MSE: {'sqrt': 47326.09424426063, 'log': 30068.167818231763, 'linear': 72285.25786738834}\n",
      "[55, 2]\n",
      "[{'cpu': 16, 'memory': 65536, 'run': 0, 'task_slots_per_task_manager': 16, 'task_managers_qty': 8, 'source_parallelism': 32, 'parallelism': 1, 'evenly_spread': 'true', 'warmup': 180, 'custom_memory': None, 'dichotomic_mst_tuning': {'initial_rate': 100000000, 'slide_window': 75, 'size_window': 60, 'observation_size': 30, 'timeout': 900, 'mean_threshold': 0.01, 'higher_bound_ratio': 2, 'cooldown_throughput': 200}, 'task_slots_limit': 55, 'throughputs': [100000000], 'timeout': 600, 'limit_backpressure_source': 250, 'nb_runs_throughput': 1, 'nb_runs_parallelism': 1, 'notebook': '/xp_intro_q5_kafka_custom_ratelimit'}]\n"
     ]
    },
    {
     "data": {
      "application/vnd.jupyter.widget-view+json": {
       "model_id": "d6849d7ab5a54e9889d1aae5468fe9f0",
       "version_major": 2,
       "version_minor": 0
      },
      "text/plain": [
       "  0%|          | 0/1 [00:00<?, ?it/s]"
      ]
     },
     "metadata": {},
     "output_type": "display_data"
    },
    {
     "data": {
      "application/vnd.jupyter.widget-view+json": {
       "model_id": "901107460bf241d1bad88ec22b55c9c0",
       "version_major": 2,
       "version_minor": 0
      },
      "text/plain": [
       "  0%|          | 0/8 [00:00<?, ?it/s]"
      ]
     },
     "metadata": {},
     "output_type": "display_data"
    },
    {
     "data": {
      "application/vnd.jupyter.widget-view+json": {
       "model_id": "1edf7cebc3074a6aacbb42e07f6f9f56",
       "version_major": 2,
       "version_minor": 0
      },
      "text/plain": [
       "0it [00:00, ?it/s]"
      ]
     },
     "metadata": {},
     "output_type": "display_data"
    },
    {
     "data": {
      "application/vnd.jupyter.widget-view+json": {
       "model_id": "9bb62168ff534239a56e8c2ade710e9f",
       "version_major": 2,
       "version_minor": 0
      },
      "text/plain": [
       "  0%|          | 0/900 [00:00<?, ?it/s]"
      ]
     },
     "metadata": {},
     "output_type": "display_data"
    },
    {
     "name": "stderr",
     "output_type": "stream",
     "text": [
      "/tmp/ipykernel_1264300/1726620047.py:32: SettingWithCopyWarning: \n",
      "A value is trying to be set on a copy of a slice from a DataFrame.\n",
      "Try using .loc[row_indexer,col_indexer] = value instead\n",
      "\n",
      "See the caveats in the documentation: https://pandas.pydata.org/pandas-docs/stable/user_guide/indexing.html#returning-a-view-versus-a-copy\n",
      "  df[\"memory\"] = df[\"memory\"] / memory_granularity\n"
     ]
    },
    {
     "name": "stdout",
     "output_type": "stream",
     "text": [
      "Found MSE: {'sqrt': 48847.35461925929, 'log': 30123.647616701866, 'linear': 77025.36545674439}\n",
      "[73, 2]\n",
      "[{'cpu': 16, 'memory': 65536, 'run': 0, 'task_slots_per_task_manager': 16, 'task_managers_qty': 8, 'source_parallelism': 32, 'parallelism': 1, 'evenly_spread': 'true', 'warmup': 180, 'custom_memory': None, 'dichotomic_mst_tuning': {'initial_rate': 100000000, 'slide_window': 75, 'size_window': 60, 'observation_size': 30, 'timeout': 900, 'mean_threshold': 0.01, 'higher_bound_ratio': 2, 'cooldown_throughput': 200}, 'task_slots_limit': 73, 'throughputs': [100000000], 'timeout': 600, 'limit_backpressure_source': 250, 'nb_runs_throughput': 1, 'nb_runs_parallelism': 1, 'notebook': '/xp_intro_q5_kafka_custom_ratelimit'}]\n"
     ]
    },
    {
     "data": {
      "application/vnd.jupyter.widget-view+json": {
       "model_id": "3f67b6f475d647e482c02e365d9b7fc4",
       "version_major": 2,
       "version_minor": 0
      },
      "text/plain": [
       "  0%|          | 0/1 [00:00<?, ?it/s]"
      ]
     },
     "metadata": {},
     "output_type": "display_data"
    },
    {
     "data": {
      "application/vnd.jupyter.widget-view+json": {
       "model_id": "760ff5d389b64dbbb9e87088d45ef8ba",
       "version_major": 2,
       "version_minor": 0
      },
      "text/plain": [
       "  0%|          | 0/8 [00:00<?, ?it/s]"
      ]
     },
     "metadata": {},
     "output_type": "display_data"
    },
    {
     "data": {
      "application/vnd.jupyter.widget-view+json": {
       "model_id": "5dd78b6f21964274bf34454f2753b412",
       "version_major": 2,
       "version_minor": 0
      },
      "text/plain": [
       "0it [00:00, ?it/s]"
      ]
     },
     "metadata": {},
     "output_type": "display_data"
    },
    {
     "data": {
      "application/vnd.jupyter.widget-view+json": {
       "model_id": "61a0403079374ff49dfb7679bfdfc4f4",
       "version_major": 2,
       "version_minor": 0
      },
      "text/plain": [
       "  0%|          | 0/900 [00:00<?, ?it/s]"
      ]
     },
     "metadata": {},
     "output_type": "display_data"
    },
    {
     "name": "stderr",
     "output_type": "stream",
     "text": [
      "/tmp/ipykernel_1264300/1726620047.py:32: SettingWithCopyWarning: \n",
      "A value is trying to be set on a copy of a slice from a DataFrame.\n",
      "Try using .loc[row_indexer,col_indexer] = value instead\n",
      "\n",
      "See the caveats in the documentation: https://pandas.pydata.org/pandas-docs/stable/user_guide/indexing.html#returning-a-view-versus-a-copy\n",
      "  df[\"memory\"] = df[\"memory\"] / memory_granularity\n"
     ]
    },
    {
     "name": "stdout",
     "output_type": "stream",
     "text": [
      "Found MSE: {'sqrt': 46593.111069024315, 'log': 28813.8250636035, 'linear': 74000.05226620928}\n",
      "[62, 1]\n",
      "[{'cpu': 16, 'memory': 32768, 'run': 0, 'task_slots_per_task_manager': 16, 'task_managers_qty': 8, 'source_parallelism': 32, 'parallelism': 1, 'evenly_spread': 'true', 'warmup': 180, 'custom_memory': None, 'dichotomic_mst_tuning': {'initial_rate': 100000000, 'slide_window': 75, 'size_window': 60, 'observation_size': 30, 'timeout': 900, 'mean_threshold': 0.01, 'higher_bound_ratio': 2, 'cooldown_throughput': 200}, 'task_slots_limit': 62, 'throughputs': [100000000], 'timeout': 600, 'limit_backpressure_source': 250, 'nb_runs_throughput': 1, 'nb_runs_parallelism': 1, 'notebook': '/xp_intro_q5_kafka_custom_ratelimit'}]\n"
     ]
    },
    {
     "data": {
      "application/vnd.jupyter.widget-view+json": {
       "model_id": "b3d09923a1f64ecf9058a2354011e48d",
       "version_major": 2,
       "version_minor": 0
      },
      "text/plain": [
       "  0%|          | 0/1 [00:00<?, ?it/s]"
      ]
     },
     "metadata": {},
     "output_type": "display_data"
    },
    {
     "data": {
      "application/vnd.jupyter.widget-view+json": {
       "model_id": "154d075b35f047ceabeabd65afbb44b9",
       "version_major": 2,
       "version_minor": 0
      },
      "text/plain": [
       "  0%|          | 0/8 [00:00<?, ?it/s]"
      ]
     },
     "metadata": {},
     "output_type": "display_data"
    },
    {
     "data": {
      "application/vnd.jupyter.widget-view+json": {
       "model_id": "6c707658e07a4976a58df4367002a8a2",
       "version_major": 2,
       "version_minor": 0
      },
      "text/plain": [
       "0it [00:00, ?it/s]"
      ]
     },
     "metadata": {},
     "output_type": "display_data"
    },
    {
     "data": {
      "application/vnd.jupyter.widget-view+json": {
       "model_id": "e3a81c2a7afb419988cb0a5028f72fb9",
       "version_major": 2,
       "version_minor": 0
      },
      "text/plain": [
       "  0%|          | 0/900 [00:00<?, ?it/s]"
      ]
     },
     "metadata": {},
     "output_type": "display_data"
    },
    {
     "name": "stderr",
     "output_type": "stream",
     "text": [
      "/tmp/ipykernel_1264300/1726620047.py:32: SettingWithCopyWarning: \n",
      "A value is trying to be set on a copy of a slice from a DataFrame.\n",
      "Try using .loc[row_indexer,col_indexer] = value instead\n",
      "\n",
      "See the caveats in the documentation: https://pandas.pydata.org/pandas-docs/stable/user_guide/indexing.html#returning-a-view-versus-a-copy\n",
      "  df[\"memory\"] = df[\"memory\"] / memory_granularity\n"
     ]
    },
    {
     "name": "stdout",
     "output_type": "stream",
     "text": [
      "Found MSE: {'sqrt': 45999.79498836464, 'log': 33390.88272001807, 'linear': 72151.2251548203}\n"
     ]
    }
   ],
   "source": [
    "#papermill_description=Streambed_estimation\n",
    "reg.save(path)\n",
    "space = [Integer(min(task_slots_range), max(task_slots_range), name=\"task_slots\"), Integer(min(memory_range_reduced), max(memory_range_reduced), name=\"memory\")]\n",
    "optimizer = Optimizer(dimensions = space, \n",
    "                      base_estimator = optimization[\"base_estimator\"], \n",
    "                      n_initial_points = optimization[\"n_initial_points\"], \n",
    "                      initial_point_generator = optimization[\"initial_point_generator\"], \n",
    "                      acq_func = optimization[\"acq_func\"], \n",
    "                      random_state = optimization[\"random_state\"])\n",
    "\n",
    "for model in reg.models:\n",
    "    reg.models[model].fit(X, y)\n",
    "for i,x in enumerate(X):\n",
    "    x_reshaped = x.reshape(1, 2)\n",
    "    mse,_ = objective_function_loo(reg.models, x_reshaped, y[i])\n",
    "    optimizer.tell(x.tolist(), mse)\n",
    "\n",
    "\n",
    "for i in range(optimization[\"nb_iterations\"]):\n",
    "    x = optimizer.ask()\n",
    "    print(x)\n",
    "    logger.debug(\"BO iteration {} gives solutions: {} \".format(i, x))\n",
    "    # evaluate this x\n",
    "    task_slots = x[0]\n",
    "    memory = x[1] * memory_granularity\n",
    "    list_xp = get_configuration(task_slots, memory)\n",
    "    print(\"{}\".format(list_xp))\n",
    "    results_estimation = streambed.loop_estimation(list_xp, results_path=path, details=reg.data_details)\n",
    "    reg = streambed.InfrastructureRegression()\n",
    "    reg.load_full([path])\n",
    "    df = reg.data[[\"used_task_slots\", \"memory\", \"observed_source_rate\"]]\n",
    "    df[\"memory\"] = df[\"memory\"] / memory_granularity \n",
    "    X = df[[\"used_task_slots\",\"memory\"]].values\n",
    "    y = df[[\"observed_source_rate\"]].values \n",
    "    # Evaluate the objective function\n",
    "    mse_val, mse_by_model = objective_function_loo(reg.models, X, y)  \n",
    "    logger.info(\"Found MSE: {}\".format(mse_by_model))\n",
    "    print(\"Found MSE: {}\".format(mse_by_model))\n",
    "    optimizer.tell(x, mse_val)"
   ]
  },
  {
   "cell_type": "code",
   "execution_count": null,
   "metadata": {},
   "outputs": [
    {
     "data": {
      "text/plain": [
       "[{'cpu': 16,\n",
       "  'memory': 65536,\n",
       "  'run': 0,\n",
       "  'task_slots_per_task_manager': 16,\n",
       "  'task_managers_qty': 8,\n",
       "  'source_parallelism': 32,\n",
       "  'parallelism': 1,\n",
       "  'evenly_spread': 'true',\n",
       "  'warmup': 180,\n",
       "  'custom_memory': None,\n",
       "  'dichotomic_mst_tuning': {'initial_rate': 100000000,\n",
       "   'slide_window': 75,\n",
       "   'size_window': 60,\n",
       "   'observation_size': 30,\n",
       "   'timeout': 900,\n",
       "   'mean_threshold': 0.01,\n",
       "   'higher_bound_ratio': 2,\n",
       "   'cooldown_throughput': 200},\n",
       "  'task_slots_limit': 40,\n",
       "  'throughputs': [100000000],\n",
       "  'timeout': 600,\n",
       "  'limit_backpressure_source': 250,\n",
       "  'nb_runs_throughput': 1,\n",
       "  'nb_runs_parallelism': 1,\n",
       "  'notebook': '/xp_intro_q5_kafka_custom_ratelimit'}]"
      ]
     },
     "execution_count": 15,
     "metadata": {},
     "output_type": "execute_result"
    }
   ],
   "source": [
    "list_xp"
   ]
  },
  {
   "cell_type": "code",
   "execution_count": null,
   "metadata": {},
   "outputs": [],
   "source": []
  }
 ],
 "metadata": {
  "kernelspec": {
   "display_name": "Python 3",
   "language": "python",
   "name": "python3"
  },
  "language_info": {
   "codemirror_mode": {
    "name": "ipython",
    "version": 3
   },
   "file_extension": ".py",
   "mimetype": "text/x-python",
   "name": "python",
   "nbconvert_exporter": "python",
   "pygments_lexer": "ipython3",
   "version": "3.9.2"
  },
  "orig_nbformat": 4
 },
 "nbformat": 4,
 "nbformat_minor": 2
}
