{
 "cells": [
  {
   "cell_type": "code",
   "execution_count": 1,
   "id": "b021b518",
   "metadata": {
    "execution": {
     "iopub.execute_input": "2023-08-16T01:54:37.705506Z",
     "iopub.status.busy": "2023-08-16T01:54:37.704713Z",
     "iopub.status.idle": "2023-08-16T01:54:37.733408Z",
     "shell.execute_reply": "2023-08-16T01:54:37.731344Z"
    },
    "papermill": {
     "duration": 0.043575,
     "end_time": "2023-08-16T01:54:37.738040",
     "exception": false,
     "start_time": "2023-08-16T01:54:37.694465",
     "status": "completed"
    },
    "tags": [
     "parameters"
    ]
   },
   "outputs": [],
   "source": [
    "# infra\n",
    "job_managers_qty = 2\n",
    "kafka_qty = 8\n",
    "kafka_partitions=32\n",
    "kafka_replicas=8\n",
    "kafka_node_selector=\"jobmanager\"\n",
    "# eval\n",
    "events_num = 600000000\n",
    "source_parallelism = 32\n",
    "memory_range = [8192,16384,32768,65536] \n",
    "#memory_range = [16384] \n",
    "task_slots_limits = [source_parallelism + 11, source_parallelism + 18, source_parallelism + 25, source_parallelism + 32]\n",
    "#task_slots_limits = [source_parallelism + 32]\n",
    "results_path = \"verification-results/\"\n",
    "monitoring_step = \"5s\"\n",
    "reset_kafka_data = True\n",
    "limit_backpressure_source = 1000\n",
    "notebooks = [\"/xp_intro_q5_kafka_custom_ratelimit\"]\n",
    "cpu = 16\n",
    "task_slots_per_task_manager = 16\n",
    "task_managers_qty = 4\n",
    "run = 0\n",
    "warmup = 120\n",
    "nb_runs_throughput = 3\n",
    "nb_runs_parallelism = 1\n",
    "g5k=False\n",
    "proxmox = False\n",
    "xp_name=\"query\"\n",
    "\n",
    "dichotomic_mst_tuning = {\n",
    "    \"initial_rate\": 10**8,\n",
    "    \"slide_window\": 75,\n",
    "    \"size_window\": 60,\n",
    "    \"observation_size\": 30,\n",
    "    \"timeout\": 600,\n",
    "    \"mean_threshold\": 0.01,\n",
    "    \"higher_bound_ratio\": 2,\n",
    "    \"cooldown_throughput\": 200,\n",
    "    #\"warmup\": 120 # usage of higher level parameter\n",
    "    #\"nb_sources\": usage of of higher level parameter\n",
    "}"
   ]
  },
  {
   "cell_type": "code",
   "execution_count": 2,
   "id": "c8af880f",
   "metadata": {
    "execution": {
     "iopub.execute_input": "2023-08-16T01:54:37.751844Z",
     "iopub.status.busy": "2023-08-16T01:54:37.751174Z",
     "iopub.status.idle": "2023-08-16T01:54:37.763161Z",
     "shell.execute_reply": "2023-08-16T01:54:37.761209Z"
    },
    "papermill": {
     "duration": 0.023309,
     "end_time": "2023-08-16T01:54:37.767368",
     "exception": false,
     "start_time": "2023-08-16T01:54:37.744059",
     "status": "completed"
    },
    "tags": [
     "injected-parameters"
    ]
   },
   "outputs": [],
   "source": [
    "# Parameters\n",
    "xp_name = \"q5-kind\"\n",
    "results_path = \"variable-results\"\n",
    "job_managers_qty = 1\n",
    "kafka_qty = 1\n",
    "kafka_partitions = 4\n",
    "kafka_replicas = 1\n",
    "kafka_node_selector = \"jobmanager\"\n",
    "events_num = 1200000000\n",
    "source_parallelism = 4\n",
    "memory_range = [4096]\n",
    "task_slots_limits = [16]\n",
    "reset_kafka_data = True\n",
    "notebooks = [\"/xp_intro_q1_kafka_custom_ratelimit\"]\n",
    "cpu = 4\n",
    "task_slots_per_task_manager = 16\n",
    "task_managers_qty = 1\n",
    "run = 0\n",
    "warmup = 120\n",
    "nb_runs_throughput = 3\n",
    "nb_runs_parallelism = 1\n",
    "g5k = False\n"
   ]
  },
  {
   "cell_type": "code",
   "execution_count": 3,
   "id": "73e19e49",
   "metadata": {
    "execution": {
     "iopub.execute_input": "2023-08-16T01:54:37.779324Z",
     "iopub.status.busy": "2023-08-16T01:54:37.778853Z",
     "iopub.status.idle": "2023-08-16T01:54:49.780989Z",
     "shell.execute_reply": "2023-08-16T01:54:49.780531Z"
    },
    "papermill": {
     "duration": 12.009704,
     "end_time": "2023-08-16T01:54:49.782334",
     "exception": false,
     "start_time": "2023-08-16T01:54:37.772630",
     "status": "completed"
    },
    "tags": []
   },
   "outputs": [],
   "source": [
    "#papermill_description=Initialize libraries\n",
    "import sys\n",
    "import os\n",
    "from pathlib import Path \n",
    "from time import sleep\n",
    "import logging \n",
    "%run ../common/scripts.ipynb\n",
    "if \"../../streambed\" not in sys.path:\n",
    "    sys.path.append(\"../../streambed\")\n",
    "import streambed\n",
    "streambed.setup_logging(default_path=\"./logging.yaml\", default_level=logging.WARN)\n",
    "logger = logging.getLogger('streambed')\n",
    "if g5k:\n",
    "    streambed.init_g5k()\n",
    "if proxmox:\n",
    "    streambed.init_remote()\n",
    "logging.info(\"Execute notebook\")"
   ]
  },
  {
   "cell_type": "code",
   "execution_count": 4,
   "id": "36b07a3d",
   "metadata": {
    "execution": {
     "iopub.execute_input": "2023-08-16T01:54:49.786200Z",
     "iopub.status.busy": "2023-08-16T01:54:49.786070Z",
     "iopub.status.idle": "2023-08-16T01:56:29.587212Z",
     "shell.execute_reply": "2023-08-16T01:56:29.584864Z"
    },
    "papermill": {
     "duration": 99.808815,
     "end_time": "2023-08-16T01:56:29.592592",
     "exception": false,
     "start_time": "2023-08-16T01:54:49.783777",
     "status": "completed"
    },
    "tags": []
   },
   "outputs": [
    {
     "name": "stdout",
     "output_type": "stream",
     "text": [
      "kind-control-plane\t{'beta.kubernetes.io/arch': 'amd64', 'beta.kubernetes.io/os': 'linux', 'kubernetes.io/arch': 'amd64', 'kubernetes.io/hostname': 'kind-control-plane', 'kubernetes.io/os': 'linux', 'node-role.kubernetes.io/control-plane': '', 'node-role.kubernetes.io/master': '', 'node.kubernetes.io/exclude-from-external-load-balancers': ''}\n",
      "kind-worker\t{'beta.kubernetes.io/arch': 'amd64', 'beta.kubernetes.io/os': 'linux', 'ingress-ready': 'true', 'kubernetes.io/arch': 'amd64', 'kubernetes.io/hostname': 'kind-worker', 'kubernetes.io/os': 'linux', 'tier': 'manager'}\n",
      "kind-worker2\t{'beta.kubernetes.io/arch': 'amd64', 'beta.kubernetes.io/os': 'linux', 'kubernetes.io/arch': 'amd64', 'kubernetes.io/hostname': 'kind-worker2', 'kubernetes.io/os': 'linux', 'tier': 'jobmanager'}\n",
      "kind-worker3\t{'beta.kubernetes.io/arch': 'amd64', 'beta.kubernetes.io/os': 'linux', 'kubernetes.io/arch': 'amd64', 'kubernetes.io/hostname': 'kind-worker3', 'kubernetes.io/os': 'linux', 'tier': 'taskmanager'}\n"
     ]
    },
    {
     "name": "stdout",
     "output_type": "stream",
     "text": [
      "kafka.kafka.strimzi.io \"my-cluster\" deleted\r\n"
     ]
    },
    {
     "name": "stdout",
     "output_type": "stream",
     "text": [
      "kubectl wait kafka/my-cluster --for=condition=Ready --timeout=300s -n kafka\n",
      "kubectl wait kafka/my-cluster --for=condition=Ready --timeout=300s -n kafka\n"
     ]
    },
    {
     "name": "stdout",
     "output_type": "stream",
     "text": [
      "Log 0 - 2023-08-16 03:56:28 : kafka.kafka.strimzi.io/my-cluster condition met\n",
      "helm install -f values-kowl.yaml -n kafka kowl cloudhut/kowl\n",
      "helm install -f values-kowl.yaml -n kafka kowl cloudhut/kowl\n"
     ]
    },
    {
     "name": "stdout",
     "output_type": "stream",
     "text": [
      "Log 0 - 2023-08-16 03:56:28 : Error: INSTALLATION FAILED: cannot re-use a name that is still in use\n",
      "kind-control-plane\t{'beta.kubernetes.io/arch': 'amd64', 'beta.kubernetes.io/os': 'linux', 'kubernetes.io/arch': 'amd64', 'kubernetes.io/hostname': 'kind-control-plane', 'kubernetes.io/os': 'linux', 'node-role.kubernetes.io/control-plane': '', 'node-role.kubernetes.io/master': '', 'node.kubernetes.io/exclude-from-external-load-balancers': ''}\n",
      "kind-worker\t{'beta.kubernetes.io/arch': 'amd64', 'beta.kubernetes.io/os': 'linux', 'ingress-ready': 'true', 'kubernetes.io/arch': 'amd64', 'kubernetes.io/hostname': 'kind-worker', 'kubernetes.io/os': 'linux', 'tier': 'manager'}\n",
      "kind-worker2\t{'beta.kubernetes.io/arch': 'amd64', 'beta.kubernetes.io/os': 'linux', 'kubernetes.io/arch': 'amd64', 'kubernetes.io/hostname': 'kind-worker2', 'kubernetes.io/os': 'linux', 'tier': 'jobmanager'}\n",
      "kind-worker3\t{'beta.kubernetes.io/arch': 'amd64', 'beta.kubernetes.io/os': 'linux', 'kubernetes.io/arch': 'amd64', 'kubernetes.io/hostname': 'kind-worker3', 'kubernetes.io/os': 'linux', 'tier': 'taskmanager'}\n",
      "Kafka Kowl: kind-worker - Ingress: http://kowl.127-0-0-1.sslip.io:30081\n"
     ]
    },
    {
     "name": "stdout",
     "output_type": "stream",
     "text": [
      "kafkabridge.kafka.strimzi.io/my-bridge unchanged\r\n",
      "ingress.networking.k8s.io/my-bridge unchanged\r\n"
     ]
    },
    {
     "name": "stdout",
     "output_type": "stream",
     "text": [
      "service/kafka-bridge-svc unchanged\r\n"
     ]
    }
   ],
   "source": [
    "#papermill_description=Reset_Kafka\n",
    "if reset_kafka_data:\n",
    "    #papermill_description=Initialize libraries\n",
    "    init_label_nodes(jobmanagers_qty=job_managers_qty, kafka_qty=kafka_qty)\n",
    "\n",
    "    address = \"127-0-0-1\"\n",
    "    port=30081\n",
    "\n",
    "    !kubectl delete -n kafka kafka/my-cluster\n",
    "    sleep(10)\n",
    "    #run_command(\"kubectl create -f ./kafka.yaml\", shell=False)\n",
    "    streambed.deploy_kafka(kafka_partitions, kafka_replicas, node_selector=kafka_node_selector, antiaffinity=g5k)\n",
    "    run_command(\"kubectl wait kafka/my-cluster --for=condition=Ready --timeout=300s -n kafka\", shell=False)\n",
    "    # Kafka UI\n",
    "    run_command(\"helm install -f values-kowl.yaml -n kafka kowl cloudhut/kowl\", shell=False)\n",
    "    #(ip_url, dns_url) = get_service_public_address(\"kafka\", \"manager\", \"kowl\", 80)\n",
    "    (manager_node, jobmanager_node, taskmanager_node) = get_label_nodes()\n",
    "    print(\"Kafka Kowl: {} - Ingress: {}\".format(manager_node, \"http://kowl.{}.sslip.io:{}\".format(address,port)))    \n",
    "    !kubectl apply -f ./kafka-bridge.yaml\n",
    "    !kubectl apply -f ./kafka-bridge-service.yaml"
   ]
  },
  {
   "attachments": {},
   "cell_type": "markdown",
   "id": "f122d53a",
   "metadata": {
    "papermill": {
     "duration": 0.007007,
     "end_time": "2023-08-16T01:56:29.607160",
     "exception": false,
     "start_time": "2023-08-16T01:56:29.600153",
     "status": "completed"
    },
    "tags": []
   },
   "source": [
    "You need to set Flink interpreter in per note/isolated mode to allow parallel Flink notebooks (datagen & tested query) in Zeppelin: (Zeppelin UI : Interpreters / Flink / \"The interpreter will be instantiated *Per Note* in *Isolated* process)\n",
    "```bash\n",
    "export ZEPPELIN_POD=`kubectl get pods -n manager -o=name | grep zeppelin | sed \"s/^.\\{4\\}//\"` \n",
    "export MANAGER_NODE=`kubectl get node --show-labels |grep tier=manager | awk '{print $1}'`\n",
    "\n",
    "kubectl -n manager exec $ZEPPELIN_POD -- wget -P /tmp https://repo.maven.apache.org/maven2/org/apache/flink/flink-sql-connector-kafka_2.12/1.14.2/flink-sql-connector-kafka_2.12-1.14.2.jar\n",
    "# nexmark and the rate limit connector should be both in the tmp directory\n",
    "kubectl cp -n manager ./tmp/flink-sql-connector-kafka-ratelimit_2.12-1.14.2.jar $ZEPPELIN_POD:/tmp/flink-sql-connector-kafka-ratelimit_2.12-1.14.2.jar\n",
    "kubectl cp -n manager ./tmp/nexmark-flink-0.2-SNAPSHOT.jar $ZEPPELIN_POD:/tmp/nexmark-flink-0.2-SNAPSHOT.jar\n",
    "# upload zeppelin notebooks (replace gros-108 by your manager node address/ip)\n",
    "for FILE in ./xp/streambed-nexmark/zeppelin/*.zpln; do echo $FILE; curl ${MANAGER_NODE}:30088/api/notebook/import -d @$FILE; done\n",
    "\n",
    "# remove from \n",
    "kubectl -n manager exec $ZEPPELIN_POD  -- rm /opt/flink/lib/flink-connector-kafka_2.12-1.14.2.jar\n",
    "kubectl -n manager exec $ZEPPELIN_POD  -- rm /opt/flink/lib/flink-sql-connector-kafka_2.12-1.14.2.jar\n",
    "```"
   ]
  },
  {
   "cell_type": "code",
   "execution_count": null,
   "id": "7f8f9d2b",
   "metadata": {
    "execution": {
     "iopub.execute_input": "2023-08-16T01:56:29.621795Z",
     "iopub.status.busy": "2023-08-16T01:56:29.621368Z",
     "iopub.status.idle": "2023-08-16T02:00:27.610701Z",
     "shell.execute_reply": "2023-08-16T02:00:27.610086Z"
    },
    "papermill": {
     "duration": 237.739614,
     "end_time": "2023-08-16T02:00:27.353756",
     "exception": false,
     "start_time": "2023-08-16T01:56:29.614142",
     "status": "completed"
    },
    "tags": []
   },
   "outputs": [],
   "source": [
    "#papermill_description=Initialize_data\n",
    "if reset_kafka_data:\n",
    "    streambed.deploy(\"nexmark\", streambed.flink_configuration(cpu=cpu,memory=max(memory_range),task_managers=task_managers_qty, task_slots=task_slots_per_task_manager, evenly_spread=\"true\", custom_memory=None))\n",
    "    if streambed.common.dynamic_flink_url:\n",
    "        (_, base_url) = get_service_public_address(\"default\", \"jobmanager\", \"nexmark-flink-jobmanager\", 8081)\n",
    "        streambed.common.flink_base_url = base_url\n",
    "    streambed.wait_for_task_managers(task_managers_qty=task_managers_qty, base_url=streambed.common.flink_base_url)\n",
    "\n",
    "    streambed.delete_kafka_topic(\"nexmark\")\n",
    "    sleep(10)\n",
    "    streambed.launch_job_async(notebook=\"/xp_intro_init_kafka\", params_datagen={\n",
    "        \"params\":{\n",
    "            \"TOPIC\" : \"nexmark\",\n",
    "            \"BOOTSTRAP_SERVERS\": \"my-cluster-kafka-bootstrap.kafka:9092\",\n",
    "            \"TPS\": \"1000000000\",\n",
    "            \"EVENTS_NUM\": str(events_num),\n",
    "            \"PERSON_PROPORTION\" : \"1\",\n",
    "            \"AUCTION_PROPORTION\": \"3\",\n",
    "            \"BID_PROPORTION\": \"46\",\n",
    "            \"NEXMARK_TABLE\": \"kafka\"\n",
    "        }}, params_query = {}, timeout=1200)\n"
   ]
  },
  {
   "cell_type": "code",
   "execution_count": null,
   "id": "c83c06d9",
   "metadata": {
    "papermill": {
     "duration": null,
     "end_time": null,
     "exception": null,
     "start_time": null,
     "status": "completed"
    },
    "tags": []
   },
   "outputs": [],
   "source": [
    "#papermill_description=Streambed_estimation\n",
    "initial_parallelism = 1\n",
    "\n",
    "datagen_configuration = {\n",
    "    \"parallelism\": 64,\n",
    "    \"cpu\": 4,\n",
    "    \"memory\" : 4096,\n",
    "    \"task_managers_qty\": 4,\n",
    "    \"task_slots\": 2\n",
    "}\n",
    "\n",
    "\n",
    "list_xp=[]\n",
    "for notebook in notebooks:\n",
    "    for memory in memory_range:\n",
    "        for task_slots_limit in task_slots_limits:\n",
    "            list_xp.append(\n",
    "                {\"cpu\": cpu, \n",
    "                \"memory\": memory, \n",
    "                \"run\": run, \n",
    "                \"task_slots_per_task_manager\": task_slots_per_task_manager, \n",
    "                \"task_managers_qty\": task_managers_qty,\n",
    "                \"source_parallelism\": source_parallelism, \n",
    "                \"parallelism\": initial_parallelism, \n",
    "                \"evenly_spread\": \"true\", \n",
    "                \"warmup\": warmup,\n",
    "                \"custom_memory\": None, \n",
    "                \"dichotomic_mst_tuning\": dichotomic_mst_tuning,\n",
    "                \"task_slots_limit\": task_slots_limit,\n",
    "                \"throughputs\": [10**8],\n",
    "                \"timeout\": 600,\n",
    "                \"limit_backpressure_source\": limit_backpressure_source,\n",
    "                \"monitoring_step\": monitoring_step,                \n",
    "                \"nb_runs_throughput\": nb_runs_throughput,\n",
    "                \"nb_runs_parallelism\": nb_runs_parallelism,\n",
    "                \"notebook\": notebook})\n",
    "import datetime            \n",
    "now = datetime.datetime.now()\n",
    "now_str = now.strftime(\"%Y%m%d%H%M%S\")     \n",
    "path= \"{}/{}-{}\".format(results_path, xp_name, now_str)\n",
    "results_estimation = streambed.loop_estimation(list_xp, results_path=path)"
   ]
  }
 ],
 "metadata": {
  "kernelspec": {
   "display_name": "Python 3",
   "language": "python",
   "name": "python3"
  },
  "language_info": {
   "codemirror_mode": {
    "name": "ipython",
    "version": 3
   },
   "file_extension": ".py",
   "mimetype": "text/x-python",
   "name": "python",
   "nbconvert_exporter": "python",
   "pygments_lexer": "ipython3",
   "version": "3.7.3"
  },
  "papermill": {
   "default_parameters": {},
   "duration": 350.915311,
   "end_time": "2023-08-16T02:00:27.649386",
   "environment_variables": {},
   "exception": null,
   "input_path": "estim_g5k_papermill.ipynb",
   "output_path": "test_estim.ipynb",
   "parameters": {
    "cpu": 4,
    "events_num": 1200000000,
    "g5k": false,
    "job_managers_qty": 1,
    "kafka_node_selector": "jobmanager",
    "kafka_partitions": 4,
    "kafka_qty": 1,
    "kafka_replicas": 1,
    "memory_range": [
     4096
    ],
    "nb_runs_parallelism": 1,
    "nb_runs_throughput": 3,
    "notebooks": [
     "/xp_intro_q1_kafka_custom_ratelimit"
    ],
    "reset_kafka_data": true,
    "results_path": "variable-results",
    "run": 0,
    "source_parallelism": 4,
    "task_managers_qty": 1,
    "task_slots_limits": [
     16
    ],
    "task_slots_per_task_manager": 16,
    "warmup": 120,
    "xp_name": "q5-kind"
   },
   "start_time": "2023-08-16T01:54:36.734075",
   "version": "2.4.0"
  },
  "vscode": {
   "interpreter": {
    "hash": "31f2aee4e71d21fbe5cf8b01ff0e069b9275f58929596ceb00d14d90e3e16cd6"
   }
  }
 },
 "nbformat": 4,
 "nbformat_minor": 5
}
