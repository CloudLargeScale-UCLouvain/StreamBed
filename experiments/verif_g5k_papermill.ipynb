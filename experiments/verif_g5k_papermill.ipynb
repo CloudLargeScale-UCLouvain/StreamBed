{
 "cells": [
  {
   "cell_type": "code",
   "execution_count": 22,
   "metadata": {
    "tags": [
     "parameters"
    ]
   },
   "outputs": [],
   "source": [
    "results_estimation=\"variable-results/q1_64\"\n",
    "kind=False\n",
    "g5k=True\n",
    "# infra\n",
    "job_managers_qty = 2\n",
    "kafka_qty = 0\n",
    "kafka_partitions=32\n",
    "kafka_replicas=8\n",
    "kafka_node_selector=\"jobmanager\"\n",
    "reset_kafka_data = False\n",
    "filter_data = \"\"\n",
    "task_managers_qty = 16\n",
    "source_parallelism = 32\n",
    "\n",
    "datagen_configuration = {\n",
    "    \"parallelism\": 16,\n",
    "    \"cpu\": 8,\n",
    "    \"memory\" : 16384,\n",
    "    \"task_managers_qty\": 2,\n",
    "    \"task_slots\": 8,\n",
    "    \"timeout\": 600,\n",
    "    \"notebook\": \"/xp_datagen\"\n",
    "}\n",
    "\n",
    "datagen_configuration = None \n",
    "results_path = \"verification-results/\"\n",
    "\n",
    "notebook = \"/xp_intro_q1_datagen\"\n",
    "warmup = 120\n",
    "sensitivity = 0.01\n",
    "ratio = 1\n",
    "timeout = 600\n",
    "xp_name = \"query\""
   ]
  },
  {
   "cell_type": "code",
   "execution_count": 15,
   "metadata": {},
   "outputs": [],
   "source": [
    "#papermill_description=Initialize libraries\n",
    "import sys\n",
    "import os\n",
    "from pathlib import Path \n",
    "from time import sleep\n",
    "import logging \n",
    "%run ../common/scripts.ipynb\n",
    "if \"../streambed\" not in sys.path:\n",
    "    sys.path.append(\"../streambed\")\n",
    "import streambed\n",
    "streambed.setup_logging(default_path=\"./logging.yaml\", default_level=logging.WARN)\n",
    "logger = logging.getLogger('streambed')\n",
    "if kind:\n",
    "    streambed.init_kind()\n",
    "if g5k:\n",
    "    streambed.init_g5k()\n",
    "\n",
    "logging.info(\"Execute notebook\")"
   ]
  },
  {
   "cell_type": "code",
   "execution_count": 23,
   "metadata": {},
   "outputs": [],
   "source": [
    "#papermill_description=Reset_Kafka\n",
    "if reset_kafka_data:\n",
    "    #papermill_description=Initialize libraries\n",
    "    init_label_nodes(jobmanagers_qty=job_managers_qty, kafka_qty=kafka_qty)\n",
    "\n",
    "    address = \"127-0-0-1\"\n",
    "    port=30081\n",
    "\n",
    "    !kubectl delete -n kafka kafka/my-cluster\n",
    "    sleep(10)\n",
    "    #run_command(\"kubectl create -f ./kafka.yaml\", shell=False)\n",
    "    streambed.deploy_kafka(kafka_partitions, kafka_replicas, node_selector=kafka_node_selector)\n",
    "    run_command(\"kubectl wait kafka/my-cluster --for=condition=Ready --timeout=300s -n kafka\", shell=False)\n",
    "    # Kafka UI\n",
    "    run_command(\"helm install -f values-kowl.yaml -n kafka kowl cloudhut/kowl\", shell=False)\n",
    "    #(ip_url, dns_url) = get_service_public_address(\"kafka\", \"manager\", \"kowl\", 80)\n",
    "    (manager_node, jobmanager_node, taskmanager_node) = get_label_nodes()\n",
    "    print(\"Kafka Kowl: {} - Ingress: {}\".format(manager_node, \"http://kowl.{}.sslip.io:{}\".format(address,port)))    \n",
    "    !kubectl apply -f ./kafka-bridge.yaml\n",
    "    !kubectl apply -f ./kafka-bridge-service.yaml"
   ]
  },
  {
   "cell_type": "code",
   "execution_count": 24,
   "metadata": {},
   "outputs": [],
   "source": [
    "#papermill_description=Load_estim_data\n",
    "df, parallelism = streambed.read_results(results_estimation + \".csv\")\n",
    "if filter_data != \"\":\n",
    "    df = df.query(filter_data)\n",
    "maxdf = df.loc[df.groupby([\"used_task_slots\", \"memory\"])[\"observed_source_rate\"].idxmax()]\n",
    "display(df[[\"used_task_slots\", \"memory\", \"observed_source_rate\"]])\n",
    "logger.debug(df[[\"used_task_slots\", \"memory\", \"observed_source_rate\"]])\n",
    "list_xp = []\n",
    "for i in range(len(maxdf.index)):\n",
    "    run_dict = maxdf.iloc[i].to_dict()\n",
    "    if isinstance(run_dict[\"task_parallelism\"], str) == False: \n",
    "        continue\n",
    "    observed_source_rate = run_dict[\"observed_source_rate\"]\n",
    "    run_dict[\"throughputs\"] = [int(observed_source_rate * ratio), int((ratio * observed_source_rate)*1.2), int((ratio * observed_source_rate)*1.5)]\n",
    "    run_dict[\"notebook\"] = notebook\n",
    "    if datagen_configuration is not None:\n",
    "        run_dict[\"timeout\"] = datagen_configuration[\"timeout\"]\n",
    "    run_dict[\"warmup\"] = warmup\n",
    "    run_dict[\"sensitivity\"] = sensitivity # if >sensibility => pass\n",
    "\n",
    "    run_dict[\"task_managers_qty\"] = task_managers_qty\n",
    "    run_dict[\"source_parallelism\"] = source_parallelism # count about \n",
    "    run_dict[\"timeout\"] = timeout\n",
    "    run_dict[\"file\"] = results_estimation\n",
    "    list_xp.append(run_dict)\n",
    "    "
   ]
  },
  {
   "cell_type": "code",
   "execution_count": 25,
   "metadata": {},
   "outputs": [
    {
     "data": {
      "application/vnd.jupyter.widget-view+json": {
       "model_id": "acc87bce8ddf4a4385194d9a3a69d22c",
       "version_major": 2,
       "version_minor": 0
      },
      "text/plain": [
       "  0%|          | 0/16 [00:00<?, ?it/s]"
      ]
     },
     "metadata": {},
     "output_type": "display_data"
    },
    {
     "data": {
      "application/vnd.jupyter.widget-view+json": {
       "model_id": "5ca4ba48169444eb8f165512e1a807b8",
       "version_major": 2,
       "version_minor": 0
      },
      "text/plain": [
       "  0%|          | 0/16 [00:00<?, ?it/s]"
      ]
     },
     "metadata": {},
     "output_type": "display_data"
    },
    {
     "ename": "IndexError",
     "evalue": "list index out of range",
     "output_type": "error",
     "traceback": [
      "\u001b[0;31m---------------------------------------------------------------------------\u001b[0m",
      "\u001b[0;31mIndexError\u001b[0m                                Traceback (most recent call last)",
      "\u001b[1;32m/home/grosinosky/xp/gepiciad/resource-estimator/xp/streambed-nexmark/verif_g5k_papermill.ipynb Cell 5\u001b[0m in \u001b[0;36m<module>\u001b[0;34m\u001b[0m\n\u001b[0;32m----> <a href='vscode-notebook-cell://ssh-remote%2Bnancy.g5k/home/grosinosky/xp/gepiciad/resource-estimator/xp/streambed-nexmark/verif_g5k_papermill.ipynb#W4sdnNjb2RlLXJlbW90ZQ%3D%3D?line=0'>1</a>\u001b[0m streambed\u001b[39m.\u001b[39;49mloop_verification(list_xp, datagen_configuration)\n",
      "File \u001b[0;32m~/xp/gepiciad/resource-estimator/streambed/streambed.py:517\u001b[0m, in \u001b[0;36mloop_verification\u001b[0;34m(list_xp, datagen_configuration, results_path)\u001b[0m\n\u001b[1;32m    515\u001b[0m sleep(\u001b[39m30\u001b[39m)\n\u001b[1;32m    516\u001b[0m \u001b[39m# a custom parallelism has been set, we take the list of tasks of the actual job\u001b[39;00m\n\u001b[0;32m--> 517\u001b[0m job_id \u001b[39m=\u001b[39m get_jobid_by_name(get_job_name(results_path, \u001b[39m1000\u001b[39;49m, \u001b[39m-\u001b[39;49m\u001b[39m1\u001b[39;49m), base_url\u001b[39m=\u001b[39;49mcommon\u001b[39m.\u001b[39;49mflink_base_url)[\u001b[39m0\u001b[39;49m]\n\u001b[1;32m    518\u001b[0m job_operators \u001b[39m=\u001b[39m get_job_operators_topological_order(job_id)\n\u001b[1;32m    519\u001b[0m operators \u001b[39m=\u001b[39m [operator[\u001b[39m\"\u001b[39m\u001b[39mdescription\u001b[39m\u001b[39m\"\u001b[39m] \u001b[39mfor\u001b[39;00m operator \u001b[39min\u001b[39;00m job_operators]\n",
      "\u001b[0;31mIndexError\u001b[0m: list index out of range"
     ]
    }
   ],
   "source": [
    "#papermill_description=Loop_verification\n",
    "import datetime            \n",
    "now = datetime.datetime.now()\n",
    "now_str = now.strftime(\"%Y%m%d%H%M%S\")     \n",
    "path= \"{}/{}-{}\".format(results_path, xp_name, now_str)\n",
    "\n",
    "streambed.loop_verification(list_xp, datagen_configuration, results_path=path, detail_metrics=True)"
   ]
  }
 ],
 "metadata": {
  "kernelspec": {
   "display_name": "Python 3",
   "language": "python",
   "name": "python3"
  },
  "language_info": {
   "codemirror_mode": {
    "name": "ipython",
    "version": 3
   },
   "file_extension": ".py",
   "mimetype": "text/x-python",
   "name": "python",
   "nbconvert_exporter": "python",
   "pygments_lexer": "ipython3",
   "version": "3.9.2"
  },
  "orig_nbformat": 4
 },
 "nbformat": 4,
 "nbformat_minor": 2
}
