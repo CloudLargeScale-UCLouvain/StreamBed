{
 "cells": [
  {
   "cell_type": "code",
   "execution_count": 3,
   "metadata": {},
   "outputs": [
    {
     "name": "stdout",
     "output_type": "stream",
     "text": [
      "\u001b[31mERROR: Can not perform a '--user' install. User site-packages are not visible in this virtualenv.\u001b[0m\u001b[31m\n",
      "\u001b[0mNote: you may need to restart the kernel to use updated packages.\n"
     ]
    },
    {
     "ename": "ModuleNotFoundError",
     "evalue": "No module named 'kubernetes'",
     "output_type": "error",
     "traceback": [
      "\u001b[0;31m---------------------------------------------------------------------------\u001b[0m",
      "\u001b[0;31mModuleNotFoundError\u001b[0m                       Traceback (most recent call last)",
      "\u001b[0;32m/tmp/ipykernel_4169/2584760694.py\u001b[0m in \u001b[0;36m<module>\u001b[0;34m\u001b[0m\n\u001b[1;32m      2\u001b[0m \u001b[0mget_ipython\u001b[0m\u001b[0;34m(\u001b[0m\u001b[0;34m)\u001b[0m\u001b[0;34m.\u001b[0m\u001b[0mrun_line_magic\u001b[0m\u001b[0;34m(\u001b[0m\u001b[0;34m'pip'\u001b[0m\u001b[0;34m,\u001b[0m \u001b[0;34m'install --user kubernetes tqdm pandas nbformat kubernetes'\u001b[0m\u001b[0;34m)\u001b[0m\u001b[0;34m\u001b[0m\u001b[0;34m\u001b[0m\u001b[0m\n\u001b[1;32m      3\u001b[0m \u001b[0;34m\u001b[0m\u001b[0m\n\u001b[0;32m----> 4\u001b[0;31m \u001b[0;32mfrom\u001b[0m \u001b[0mkubernetes\u001b[0m \u001b[0;32mimport\u001b[0m \u001b[0mclient\u001b[0m\u001b[0;34m,\u001b[0m \u001b[0mconfig\u001b[0m\u001b[0;34m\u001b[0m\u001b[0;34m\u001b[0m\u001b[0m\n\u001b[0m\u001b[1;32m      5\u001b[0m \u001b[0;32mfrom\u001b[0m \u001b[0mtqdm\u001b[0m\u001b[0;34m.\u001b[0m\u001b[0mnotebook\u001b[0m \u001b[0;32mimport\u001b[0m \u001b[0mtqdm\u001b[0m \u001b[0;32mas\u001b[0m \u001b[0mtqdm\u001b[0m\u001b[0;34m\u001b[0m\u001b[0;34m\u001b[0m\u001b[0m\n",
      "\u001b[0;31mModuleNotFoundError\u001b[0m: No module named 'kubernetes'"
     ]
    }
   ],
   "source": [
    "# Caution : on the first time you have to restart the Python Kernel!\n",
    "%pip install --user kubernetes tqdm pandas nbformat kubernetes\n",
    "\n",
    "from kubernetes import client, config\n",
    "from tqdm.notebook import tqdm as tqdm"
   ]
  },
  {
   "cell_type": "markdown",
   "metadata": {},
   "source": [
    "## Deploy dependencies"
   ]
  },
  {
   "cell_type": "code",
   "execution_count": null,
   "metadata": {},
   "outputs": [],
   "source": [
    "def deploy_common_modules():\n",
    "    import subprocess\n",
    "    subprocess.call(['./common_modules.sh'])\n"
   ]
  },
  {
   "cell_type": "code",
   "execution_count": null,
   "metadata": {},
   "outputs": [],
   "source": [
    "import subprocess\n",
    "import shlex\n",
    "import datetime\n",
    "from dateutil.tz import tzlocal\n",
    "import pandas as pd\n",
    "import glob\n",
    "import time\n",
    "from time import sleep \n",
    "def run_command(command, shell=True, log=True):\n",
    "    print(command)\n",
    "    if (isinstance(command, list) == False):\n",
    "        commands = [command]\n",
    "    else:\n",
    "        commands=command\n",
    "    processes = [None] * len(commands)\n",
    "    for i in range(len(commands)):\n",
    "        if log == True:\n",
    "            print (commands[i])\n",
    "        processes[i] = subprocess.Popen(shlex.split(commands[i]), stdout=subprocess.PIPE, stderr=subprocess.STDOUT, shell=shell)\n",
    "    while processes:\n",
    "        for i, process in enumerate(processes):\n",
    "            output = process.stdout.readline().decode()\n",
    "            if output == '' and process.poll() is not None:\n",
    "                processes.remove(process)\n",
    "                break\n",
    "            if output and log:\n",
    "                now=datetime.datetime.now(tzlocal())\n",
    "                strnow = now.strftime(\"%Y-%m-%d %H:%M:%S\")\n",
    "                print (\"Log {0} - {1} : \".format(i,strnow) + output.strip())\n",
    "    \n",
    "    rc = process.poll()\n",
    "    return rc"
   ]
  },
  {
   "cell_type": "code",
   "execution_count": null,
   "metadata": {},
   "outputs": [],
   "source": [
    "def init_label_nodes(jobmanagers_qty=1, kafka_qty=1):\n",
    "   \n",
    "    # Configs can be set in Configuration class directly or using helper utility\n",
    "    config.load_kube_config()\n",
    "    api_instance = client.CoreV1Api()\n",
    "\n",
    "    # Listing the cluster nodes\n",
    "    node_list = api_instance.list_node()\n",
    "    label_master = \"node-role.kubernetes.io/controlplane\";\n",
    "    label_worker = \"node-role.kubernetes.io/worker\";\n",
    "    count = 0;\n",
    "    manager_node = None\n",
    "    jobmanager_node = None\n",
    "    taskmanager_nodes = []\n",
    "    for i, node in enumerate(node_list.items):\n",
    "        print(\"%s\\t%s\" % (node.metadata.name, node.metadata.labels))\n",
    "        if (label_worker in node.metadata.labels and node.metadata.labels[label_worker] == \"true\"):\n",
    "            if count == 0:\n",
    "                body = {\n",
    "                    \"metadata\": {\n",
    "                        \"labels\": {\n",
    "                            \"tier\":\"manager\"\n",
    "                        }\n",
    "                    }\n",
    "                }\n",
    "                api_response = api_instance.patch_node(node.metadata.name, body)\n",
    "                manager_node = node.metadata.name\n",
    "            elif count <= jobmanagers_qty:\n",
    "                body = {\n",
    "                    \"metadata\": {\n",
    "                        \"labels\": {\n",
    "                            \"tier\":\"jobmanager\"\n",
    "                        }\n",
    "                    }\n",
    "                }\n",
    "                api_response = api_instance.patch_node(node.metadata.name, body)\n",
    "                jobmanager_node = node.metadata.name\n",
    "            elif count <= jobmanagers_qty + kafka_qty:\n",
    "                body = {\n",
    "                    \"metadata\": {\n",
    "                        \"labels\": {\n",
    "                            \"tier\":\"kafka\"\n",
    "                        }\n",
    "                    }\n",
    "                }\n",
    "                api_response = api_instance.patch_node(node.metadata.name, body)\n",
    "                jobmanager_node = node.metadata.name                \n",
    "            else:\n",
    "                body = {\n",
    "                    \"metadata\": {\n",
    "                        \"labels\": {\n",
    "                            \"tier\":\"taskmanager\"\n",
    "                        }\n",
    "                    }\n",
    "                }\n",
    "                api_response = api_instance.patch_node(node.metadata.name, body)\n",
    "                taskmanager_nodes.append(node.metadata.name)\n",
    "\n",
    "            count += 1 "
   ]
  },
  {
   "cell_type": "code",
   "execution_count": null,
   "metadata": {},
   "outputs": [],
   "source": [
    "def get_label_nodes(ip_address=False):\n",
    "\n",
    "        # Configs can be set in Configuration class directly or using helper utility\n",
    "    config.load_kube_config()\n",
    "    api_instance = client.CoreV1Api()\n",
    "\n",
    "    # Listing the cluster nodes\n",
    "    node_list = api_instance.list_node()\n",
    "    label_master = \"node-role.kubernetes.io/controlplane\";\n",
    "    label_worker = \"node-role.kubernetes.io/worker\";\n",
    "    count = 0;\n",
    "    manager_node = None\n",
    "    jobmanager_node = None\n",
    "    taskmanager_nodes = []\n",
    "    for i, node in enumerate(node_list.items):\n",
    "        print(\"%s\\t%s\" % (node.metadata.name, node.metadata.labels))\n",
    "        address = [address.address for address in node.status.addresses if address.type==\"InternalIP\"][0]\n",
    "        if (\"tier\" in node.metadata.labels and node.metadata.labels[\"tier\"] == \"manager\" ):\n",
    "            \n",
    "            if ip_address:\n",
    "                manager_node = address\n",
    "            else:\n",
    "                manager_node = node.metadata.name\n",
    "            \n",
    "\n",
    "        if (\"tier\" in node.metadata.labels and node.metadata.labels[\"tier\"] == \"jobmanager\" ):\n",
    "            if ip_address:\n",
    "                jobmanager_node = address\n",
    "            else:\n",
    "                jobmanager_node = node.metadata.name\n",
    "\n",
    "        if (\"tier\" in node.metadata.labels and node.metadata.labels[\"tier\"] == \"taskmanager\" ):\n",
    "            if ip_address:\n",
    "                taskmanager_nodes = address\n",
    "            else:            \n",
    "                taskmanager_nodes.append(node.metadata.name)\n",
    "    return (manager_node, jobmanager_node, taskmanager_nodes)"
   ]
  },
  {
   "cell_type": "code",
   "execution_count": null,
   "metadata": {},
   "outputs": [],
   "source": []
  }
 ],
 "metadata": {
  "kernelspec": {
   "display_name": ".venv",
   "language": "python",
   "name": "python3"
  },
  "language_info": {
   "codemirror_mode": {
    "name": "ipython",
    "version": 3
   },
   "file_extension": ".py",
   "mimetype": "text/x-python",
   "name": "python",
   "nbconvert_exporter": "python",
   "pygments_lexer": "ipython3",
   "version": "3.7.3"
  },
  "vscode": {
   "interpreter": {
    "hash": "36ef080e5c61924e607250b3851b808f4e1b54c34717f8664cb508de34b20c65"
   }
  }
 },
 "nbformat": 4,
 "nbformat_minor": 4
}
