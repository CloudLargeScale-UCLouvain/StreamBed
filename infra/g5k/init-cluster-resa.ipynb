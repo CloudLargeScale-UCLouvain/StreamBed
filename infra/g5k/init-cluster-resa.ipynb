{
 "cells": [
  {
   "attachments": {},
   "cell_type": "markdown",
   "id": "dec72ba4-8098-4b80-b5df-082282730b22",
   "metadata": {},
   "source": [
    "# Grid5k cluster installation"
   ]
  },
  {
   "cell_type": "code",
   "execution_count": 3,
   "id": "4463f60c-2533-45be-9f95-349855f04c19",
   "metadata": {},
   "outputs": [
    {
     "name": "stdout",
     "output_type": "stream",
     "text": [
      "Requirement already satisfied: kubernetes in /home/grosinosky/.local/lib/python3.9/site-packages (21.7.0)\n",
      "Requirement already satisfied: tqdm in /home/grosinosky/.local/lib/python3.9/site-packages (4.62.3)\n",
      "Requirement already satisfied: pandas in /home/grosinosky/.local/lib/python3.9/site-packages (2.0.2)\n",
      "Requirement already satisfied: nbformat in /home/grosinosky/.local/lib/python3.9/site-packages (5.1.3)\n",
      "Requirement already satisfied: google-auth>=1.0.1 in /home/grosinosky/.local/lib/python3.9/site-packages (from kubernetes) (2.6.0)\n",
      "Requirement already satisfied: websocket-client!=0.40.0,!=0.41.*,!=0.42.*,>=0.32.0 in /home/grosinosky/.local/lib/python3.9/site-packages (from kubernetes) (1.2.3)\n",
      "Requirement already satisfied: requests-oauthlib in /home/grosinosky/.local/lib/python3.9/site-packages (from kubernetes) (1.3.1)\n",
      "Requirement already satisfied: setuptools>=21.0.0 in /usr/lib/python3/dist-packages (from kubernetes) (52.0.0)\n",
      "Requirement already satisfied: six>=1.9.0 in /usr/lib/python3/dist-packages (from kubernetes) (1.16.0)\n",
      "Requirement already satisfied: pyyaml>=5.4.1 in /home/grosinosky/.local/lib/python3.9/site-packages (from kubernetes) (6.0)\n",
      "Requirement already satisfied: requests in /usr/lib/python3/dist-packages (from kubernetes) (2.25.1)\n",
      "Requirement already satisfied: urllib3>=1.24.2 in /usr/lib/python3/dist-packages (from kubernetes) (1.26.5)\n",
      "Requirement already satisfied: python-dateutil>=2.5.3 in /home/grosinosky/.local/lib/python3.9/site-packages (from kubernetes) (2.8.2)\n",
      "Requirement already satisfied: certifi>=14.05.14 in /usr/lib/python3/dist-packages (from kubernetes) (2020.6.20)\n",
      "Requirement already satisfied: cachetools<6.0,>=2.0.0 in /home/grosinosky/.local/lib/python3.9/site-packages (from google-auth>=1.0.1->kubernetes) (5.0.0)\n",
      "Requirement already satisfied: pyasn1-modules>=0.2.1 in /home/grosinosky/.local/lib/python3.9/site-packages (from google-auth>=1.0.1->kubernetes) (0.2.8)\n",
      "Requirement already satisfied: rsa<5,>=3.1.4 in /home/grosinosky/.local/lib/python3.9/site-packages (from google-auth>=1.0.1->kubernetes) (4.8)\n",
      "Requirement already satisfied: pyasn1<0.5.0,>=0.4.6 in /home/grosinosky/.local/lib/python3.9/site-packages (from pyasn1-modules>=0.2.1->google-auth>=1.0.1->kubernetes) (0.4.8)\n",
      "Requirement already satisfied: traitlets>=4.1 in /home/grosinosky/.local/lib/python3.9/site-packages (from nbformat) (5.9.0)\n",
      "Requirement already satisfied: ipython-genutils in /usr/lib/python3/dist-packages (from nbformat) (0.2.0)\n",
      "Requirement already satisfied: jsonschema!=2.5.0,>=2.4 in /home/grosinosky/.local/lib/python3.9/site-packages (from nbformat) (4.4.0)\n",
      "Requirement already satisfied: jupyter-core in /home/grosinosky/.local/lib/python3.9/site-packages (from nbformat) (5.3.0)\n",
      "Requirement already satisfied: attrs>=17.4.0 in /usr/lib/python3/dist-packages (from jsonschema!=2.5.0,>=2.4->nbformat) (20.3.0)\n",
      "Requirement already satisfied: pyrsistent!=0.17.0,!=0.17.1,!=0.17.2,>=0.14.0 in /home/grosinosky/.local/lib/python3.9/site-packages (from jsonschema!=2.5.0,>=2.4->nbformat) (0.18.1)\n",
      "Requirement already satisfied: numpy>=1.20.3 in /home/grosinosky/.local/lib/python3.9/site-packages (from pandas) (1.20.3)\n",
      "Requirement already satisfied: tzdata>=2022.1 in /home/grosinosky/.local/lib/python3.9/site-packages (from pandas) (2022.7)\n",
      "Requirement already satisfied: pytz>=2020.1 in /usr/lib/python3/dist-packages (from pandas) (2021.1)\n",
      "Requirement already satisfied: platformdirs>=2.5 in /home/grosinosky/.local/lib/python3.9/site-packages (from jupyter-core->nbformat) (3.2.0)\n",
      "Requirement already satisfied: oauthlib>=3.0.0 in /home/grosinosky/.local/lib/python3.9/site-packages (from requests-oauthlib->kubernetes) (3.2.0)\n",
      "Note: you may need to restart the kernel to use updated packages.\n"
     ]
    }
   ],
   "source": [
    "%run ../common/common.ipynb"
   ]
  },
  {
   "attachments": {},
   "cell_type": "markdown",
   "id": "4083b6eb-f5b5-4336-91da-b5b22652aeb4",
   "metadata": {},
   "source": [
    "## Prerequisites\n",
    "\n",
    "Launch this notebook using a Grid5k's Jupyter notebook on the frontend (https://intranet.grid5000.fr/notebooks). Here we do everything in Nancy.\n",
    "\n",
    "\n",
    "- install Terraform 0.14.11\n",
    "- usage Terraform Grid5000 K8S (Rancher) provider https://github.com/pmorillon/terraform-grid5000-k8s-cluster using:\n",
    "    - Terraform Grid5000 provider https://registry.terraform.io/providers/pmorillon/grid5000/0.0.7\n",
    "    - Rancher rke / https://registry.terraform.io/providers/rancher/rke/1.2.1\n",
    "\n",
    "- terraform plan\n",
    "- terraform untaint module.k8s_cluster.grid5000_job.k8s\n",
    "- terraform apply"
   ]
  },
  {
   "attachments": {},
   "cell_type": "markdown",
   "id": "6e5239b6-5adf-49cf-ae94-05df3b161501",
   "metadata": {},
   "source": [
    "## Cluster configuration\n",
    "\n",
    "Set `main.tf` with wanted values (number of nodes, walltime etc.)."
   ]
  },
  {
   "cell_type": "code",
   "execution_count": 2,
   "id": "470632fc-942c-45d7-9a2f-730586e91fb7",
   "metadata": {},
   "outputs": [
    {
     "name": "stderr",
     "output_type": "stream",
     "text": [
      "terraform: no process found\n"
     ]
    },
    {
     "name": "stdout",
     "output_type": "stream",
     "text": [
      "\u001b[0m\u001b[32mSwitched to workspace \"default\".\u001b[0m\n",
      "\u001b[0m\u001b[32mDeleted workspace \"reservation\"!\u001b[0m\n",
      "\u001b[0m\u001b[33mWARNING: \"reservation\" was non-empty.\n",
      "The resources managed by the deleted workspace may still exist,\n",
      "but are no longer manageable by Terraform since the state has\n",
      "been deleted.\n",
      "\u001b[0m\n",
      "\u001b[0m\u001b[32m\u001b[1mCreated and switched to workspace \"reservation\"!\u001b[0m\u001b[32m\n",
      "\n",
      "You're now on a new, empty workspace. Workspaces isolate their state,\n",
      "so if you run \"terraform plan\" Terraform will not see any existing state\n",
      "for this configuration.\u001b[0m\n",
      "\u001b[0m\u001b[1mInitializing modules...\u001b[0m\n",
      "\n",
      "\u001b[0m\u001b[1mInitializing the backend...\u001b[0m\n",
      "\n",
      "\u001b[0m\u001b[1mInitializing provider plugins...\u001b[0m\n",
      "- Reusing previous version of hashicorp/local from the dependency lock file\n",
      "- Reusing previous version of pmorillon/grid5000 from the dependency lock file\n",
      "- Reusing previous version of rancher/rke from the dependency lock file\n",
      "- Reusing previous version of hashicorp/null from the dependency lock file\n",
      "- Using previously-installed hashicorp/local v2.4.0\n",
      "- Using previously-installed pmorillon/grid5000 v0.0.10\n",
      "- Using previously-installed rancher/rke v1.3.0\n",
      "- Using previously-installed hashicorp/null v3.2.1\n",
      "\n",
      "\u001b[0m\u001b[1m\u001b[32mTerraform has been successfully initialized!\u001b[0m\u001b[32m\u001b[0m\n",
      "\u001b[0m\u001b[32m\n",
      "You may now begin working with Terraform. Try running \"terraform plan\" to see\n",
      "any changes that are required for your infrastructure. All Terraform commands\n",
      "should now work.\n",
      "\n",
      "If you ever set or change modules or backend configuration for Terraform,\n",
      "rerun this command to reinitialize your working directory. If you forget, other\n",
      "commands will detect it and remind you to do so if necessary.\u001b[0m\n",
      "\u001b[0m\u001b[1mmodule.k8s_cluster.grid5000_job.k8s: Creating...\u001b[0m\u001b[0m\n"
     ]
    },
    {
     "name": "stderr",
     "output_type": "stream",
     "text": [
      "\u001b[31m\n",
      "\u001b[1m\u001b[31mError: \u001b[0m\u001b[0m\u001b[1mOAR job will not be scheduled at time, job is deleted\u001b[0m\n",
      "\n",
      "\u001b[0m  on .terraform/modules/k8s_cluster/main.tf line 19, in resource \"grid5000_job\" \"k8s\":\n",
      "  19: resource \"grid5000_job\" \"k8s\" \u001b[4m{\u001b[0m\n",
      "\u001b[0m\n",
      "\u001b[0m\u001b[0m\n"
     ]
    },
    {
     "ename": "CalledProcessError",
     "evalue": "Command 'b'export RESERVATION=\"2023-06-21 19:30:00\"\\nexport PATH=$HOME/tools:$PATH\\nkillall terraform \\nterraform workspace select default  \\nterraform workspace delete -force reservation \\nterraform workspace new reservation\\nterraform init\\nterraform apply -auto-approve -var=\"reservation=$RESERVATION\"\\n'' returned non-zero exit status 1.",
     "output_type": "error",
     "traceback": [
      "\u001b[0;31m---------------------------------------------------------------------------\u001b[0m",
      "\u001b[0;31mCalledProcessError\u001b[0m                        Traceback (most recent call last)",
      "Cell \u001b[0;32mIn[2], line 1\u001b[0m\n\u001b[0;32m----> 1\u001b[0m get_ipython()\u001b[39m.\u001b[39;49mrun_cell_magic(\u001b[39m'\u001b[39;49m\u001b[39mbash\u001b[39;49m\u001b[39m'\u001b[39;49m, \u001b[39m'\u001b[39;49m\u001b[39m'\u001b[39;49m, \u001b[39m'\u001b[39;49m\u001b[39mexport RESERVATION=\u001b[39;49m\u001b[39m\"\u001b[39;49m\u001b[39m2023-06-21 19:30:00\u001b[39;49m\u001b[39m\"\u001b[39;49m\u001b[39m\\n\u001b[39;49;00m\u001b[39mexport PATH=$HOME/tools:$PATH\u001b[39;49m\u001b[39m\\n\u001b[39;49;00m\u001b[39mkillall terraform \u001b[39;49m\u001b[39m\\n\u001b[39;49;00m\u001b[39mterraform workspace select default  \u001b[39;49m\u001b[39m\\n\u001b[39;49;00m\u001b[39mterraform workspace delete -force reservation \u001b[39;49m\u001b[39m\\n\u001b[39;49;00m\u001b[39mterraform workspace new reservation\u001b[39;49m\u001b[39m\\n\u001b[39;49;00m\u001b[39mterraform init\u001b[39;49m\u001b[39m\\n\u001b[39;49;00m\u001b[39mterraform apply -auto-approve -var=\u001b[39;49m\u001b[39m\"\u001b[39;49m\u001b[39mreservation=$RESERVATION\u001b[39;49m\u001b[39m\"\u001b[39;49m\u001b[39m\\n\u001b[39;49;00m\u001b[39m'\u001b[39;49m)\n",
      "File \u001b[0;32m~/.local/lib/python3.9/site-packages/IPython/core/interactiveshell.py:2478\u001b[0m, in \u001b[0;36mInteractiveShell.run_cell_magic\u001b[0;34m(self, magic_name, line, cell)\u001b[0m\n\u001b[1;32m   2476\u001b[0m \u001b[39mwith\u001b[39;00m \u001b[39mself\u001b[39m\u001b[39m.\u001b[39mbuiltin_trap:\n\u001b[1;32m   2477\u001b[0m     args \u001b[39m=\u001b[39m (magic_arg_s, cell)\n\u001b[0;32m-> 2478\u001b[0m     result \u001b[39m=\u001b[39m fn(\u001b[39m*\u001b[39;49margs, \u001b[39m*\u001b[39;49m\u001b[39m*\u001b[39;49mkwargs)\n\u001b[1;32m   2480\u001b[0m \u001b[39m# The code below prevents the output from being displayed\u001b[39;00m\n\u001b[1;32m   2481\u001b[0m \u001b[39m# when using magics with decodator @output_can_be_silenced\u001b[39;00m\n\u001b[1;32m   2482\u001b[0m \u001b[39m# when the last Python token in the expression is a ';'.\u001b[39;00m\n\u001b[1;32m   2483\u001b[0m \u001b[39mif\u001b[39;00m \u001b[39mgetattr\u001b[39m(fn, magic\u001b[39m.\u001b[39mMAGIC_OUTPUT_CAN_BE_SILENCED, \u001b[39mFalse\u001b[39;00m):\n",
      "File \u001b[0;32m~/.local/lib/python3.9/site-packages/IPython/core/magics/script.py:154\u001b[0m, in \u001b[0;36mScriptMagics._make_script_magic.<locals>.named_script_magic\u001b[0;34m(line, cell)\u001b[0m\n\u001b[1;32m    152\u001b[0m \u001b[39melse\u001b[39;00m:\n\u001b[1;32m    153\u001b[0m     line \u001b[39m=\u001b[39m script\n\u001b[0;32m--> 154\u001b[0m \u001b[39mreturn\u001b[39;00m \u001b[39mself\u001b[39;49m\u001b[39m.\u001b[39;49mshebang(line, cell)\n",
      "File \u001b[0;32m~/.local/lib/python3.9/site-packages/IPython/core/magics/script.py:314\u001b[0m, in \u001b[0;36mScriptMagics.shebang\u001b[0;34m(self, line, cell)\u001b[0m\n\u001b[1;32m    309\u001b[0m \u001b[39mif\u001b[39;00m args\u001b[39m.\u001b[39mraise_error \u001b[39mand\u001b[39;00m p\u001b[39m.\u001b[39mreturncode \u001b[39m!=\u001b[39m \u001b[39m0\u001b[39m:\n\u001b[1;32m    310\u001b[0m     \u001b[39m# If we get here and p.returncode is still None, we must have\u001b[39;00m\n\u001b[1;32m    311\u001b[0m     \u001b[39m# killed it but not yet seen its return code. We don't wait for it,\u001b[39;00m\n\u001b[1;32m    312\u001b[0m     \u001b[39m# in case it's stuck in uninterruptible sleep. -9 = SIGKILL\u001b[39;00m\n\u001b[1;32m    313\u001b[0m     rc \u001b[39m=\u001b[39m p\u001b[39m.\u001b[39mreturncode \u001b[39mor\u001b[39;00m \u001b[39m-\u001b[39m\u001b[39m9\u001b[39m\n\u001b[0;32m--> 314\u001b[0m     \u001b[39mraise\u001b[39;00m CalledProcessError(rc, cell)\n",
      "\u001b[0;31mCalledProcessError\u001b[0m: Command 'b'export RESERVATION=\"2023-06-21 19:30:00\"\\nexport PATH=$HOME/tools:$PATH\\nkillall terraform \\nterraform workspace select default  \\nterraform workspace delete -force reservation \\nterraform workspace new reservation\\nterraform init\\nterraform apply -auto-approve -var=\"reservation=$RESERVATION\"\\n'' returned non-zero exit status 1."
     ]
    }
   ],
   "source": [
    "%%bash\n",
    "export RESERVATION=\"2023-06-21 19:30:00\"\n",
    "export PATH=$HOME/tools:$PATH\n",
    "killall terraform \n",
    "terraform workspace select default  \n",
    "terraform workspace delete -force reservation \n",
    "terraform workspace new reservation\n",
    "terraform init\n",
    "terraform apply -auto-approve -var=\"reservation=$RESERVATION\""
   ]
  },
  {
   "cell_type": "code",
   "execution_count": 47,
   "id": "7506fd34",
   "metadata": {
    "vscode": {
     "languageId": "shellscript"
    }
   },
   "outputs": [
    {
     "name": "stdout",
     "output_type": "stream",
     "text": [
      "\u001b[0m\u001b[1mmodule.k8s_cluster.grid5000_job.k8s: Refreshing state... [id=4179776]\u001b[0m\n"
     ]
    },
    {
     "name": "stderr",
     "output_type": "stream",
     "text": [
      "\u001b[31m\n",
      "\u001b[1m\u001b[31mError: \u001b[0m\u001b[0m\u001b[1moar job 4179776 is in waiting state, it will be scheduled at 2023-06-05 17:10:00 +0200 CEST, restart terraform apply later\u001b[0m\n",
      "\n",
      "\u001b[0m\u001b[0m\u001b[0m\n"
     ]
    },
    {
     "name": "stdout",
     "output_type": "stream",
     "text": [
      "\u001b[0m\u001b[1mmodule.k8s_cluster.grid5000_job.k8s: Refreshing state... [id=4179776]\u001b[0m\n"
     ]
    },
    {
     "name": "stderr",
     "output_type": "stream",
     "text": [
      "\u001b[31m\n",
      "\u001b[1m\u001b[31mError: \u001b[0m\u001b[0m\u001b[1moar job 4179776 is in waiting state, it will be scheduled at 2023-06-05 17:10:00 +0200 CEST, restart terraform apply later\u001b[0m\n",
      "\n",
      "\u001b[0m\u001b[0m\u001b[0m\n"
     ]
    },
    {
     "name": "stdout",
     "output_type": "stream",
     "text": [
      "\u001b[0m\u001b[1mmodule.k8s_cluster.grid5000_job.k8s: Refreshing state... [id=4179776]\u001b[0m\n"
     ]
    },
    {
     "name": "stderr",
     "output_type": "stream",
     "text": [
      "\u001b[31m\n",
      "\u001b[1m\u001b[31mError: \u001b[0m\u001b[0m\u001b[1moar job 4179776 is in waiting state, it will be scheduled at 2023-06-05 17:10:00 +0200 CEST, restart terraform apply later\u001b[0m\n",
      "\n",
      "\u001b[0m\u001b[0m\u001b[0m\n"
     ]
    },
    {
     "name": "stdout",
     "output_type": "stream",
     "text": [
      "Error while terminating subprocess (pid=2903518): \n"
     ]
    },
    {
     "name": "stdout",
     "output_type": "stream",
     "text": [
      "\u001b[0m\u001b[1mmodule.k8s_cluster.grid5000_job.k8s: Refreshing state... [id=4179776]\u001b[0m\n"
     ]
    },
    {
     "name": "stderr",
     "output_type": "stream",
     "text": [
      "\u001b[31m\n",
      "\u001b[1m\u001b[31mError: \u001b[0m\u001b[0m\u001b[1moar job 4179776 is in waiting state, it will be scheduled at 2023-06-05 17:10:00 +0200 CEST, restart terraform apply later\u001b[0m\n",
      "\n",
      "\u001b[0m\u001b[0m\u001b[0m\n"
     ]
    },
    {
     "name": "stdout",
     "output_type": "stream",
     "text": [
      "\u001b[0m\u001b[1mmodule.k8s_cluster.grid5000_job.k8s: Refreshing state... [id=4179776]\u001b[0m\n"
     ]
    },
    {
     "name": "stderr",
     "output_type": "stream",
     "text": [
      "\u001b[31m\n",
      "\u001b[1m\u001b[31mError: \u001b[0m\u001b[0m\u001b[1moar job 4179776 is in waiting state, it will be scheduled at 2023-06-05 17:10:00 +0200 CEST, restart terraform apply later\u001b[0m\n",
      "\n",
      "\u001b[0m\u001b[0m\u001b[0m\n"
     ]
    },
    {
     "name": "stdout",
     "output_type": "stream",
     "text": [
      "\u001b[0m\u001b[1mmodule.k8s_cluster.grid5000_job.k8s: Refreshing state... [id=4179776]\u001b[0m\n"
     ]
    },
    {
     "name": "stderr",
     "output_type": "stream",
     "text": [
      "\u001b[31m\n",
      "\u001b[1m\u001b[31mError: \u001b[0m\u001b[0m\u001b[1moar job 4179776 is in waiting state, it will be scheduled at 2023-06-05 17:10:00 +0200 CEST, restart terraform apply later\u001b[0m\n",
      "\n",
      "\u001b[0m\u001b[0m\u001b[0m\n"
     ]
    },
    {
     "name": "stdout",
     "output_type": "stream",
     "text": [
      "\u001b[0m\u001b[1mmodule.k8s_cluster.grid5000_job.k8s: Refreshing state... [id=4179776]\u001b[0m\n"
     ]
    },
    {
     "name": "stderr",
     "output_type": "stream",
     "text": [
      "\u001b[31m\n",
      "\u001b[1m\u001b[31mError: \u001b[0m\u001b[0m\u001b[1moar job 4179776 is in waiting state, it will be scheduled at 2023-06-05 17:10:00 +0200 CEST, restart terraform apply later\u001b[0m\n",
      "\n",
      "\u001b[0m\u001b[0m\u001b[0m\n"
     ]
    },
    {
     "name": "stdout",
     "output_type": "stream",
     "text": [
      "\u001b[0m\u001b[1mmodule.k8s_cluster.grid5000_job.k8s: Refreshing state... [id=4179776]\u001b[0m\n"
     ]
    },
    {
     "name": "stderr",
     "output_type": "stream",
     "text": [
      "\u001b[31m\n",
      "\u001b[1m\u001b[31mError: \u001b[0m\u001b[0m\u001b[1moar job 4179776 is in waiting state, it will be scheduled at 2023-06-05 17:10:00 +0200 CEST, restart terraform apply later\u001b[0m\n",
      "\n",
      "\u001b[0m\u001b[0m\u001b[0m\n"
     ]
    },
    {
     "name": "stdout",
     "output_type": "stream",
     "text": [
      "\u001b[0m\u001b[1mmodule.k8s_cluster.grid5000_job.k8s: Refreshing state... [id=4179776]\u001b[0m\n"
     ]
    },
    {
     "name": "stderr",
     "output_type": "stream",
     "text": [
      "\u001b[31m\n",
      "\u001b[1m\u001b[31mError: \u001b[0m\u001b[0m\u001b[1moar job 4179776 is in waiting state, it will be scheduled at 2023-06-05 17:10:00 +0200 CEST, restart terraform apply later\u001b[0m\n",
      "\n",
      "\u001b[0m\u001b[0m\u001b[0m\n"
     ]
    },
    {
     "name": "stdout",
     "output_type": "stream",
     "text": [
      "\u001b[0m\u001b[1mmodule.k8s_cluster.grid5000_job.k8s: Refreshing state... [id=4179776]\u001b[0m\n"
     ]
    },
    {
     "name": "stderr",
     "output_type": "stream",
     "text": [
      "\u001b[31m\n",
      "\u001b[1m\u001b[31mError: \u001b[0m\u001b[0m\u001b[1moar job 4179776 is in waiting state, it will be scheduled at 2023-06-05 17:10:00 +0200 CEST, restart terraform apply later\u001b[0m\n",
      "\n",
      "\u001b[0m\u001b[0m\u001b[0m\n"
     ]
    },
    {
     "name": "stdout",
     "output_type": "stream",
     "text": [
      "\u001b[0m\u001b[1mmodule.k8s_cluster.grid5000_job.k8s: Refreshing state... [id=4179776]\u001b[0m\n"
     ]
    },
    {
     "name": "stderr",
     "output_type": "stream",
     "text": [
      "\u001b[31m\n",
      "\u001b[1m\u001b[31mError: \u001b[0m\u001b[0m\u001b[1moar job 4179776 is in waiting state, it will be scheduled at 2023-06-05 17:10:00 +0200 CEST, restart terraform apply later\u001b[0m\n",
      "\n",
      "\u001b[0m\u001b[0m\u001b[0m\n"
     ]
    },
    {
     "name": "stdout",
     "output_type": "stream",
     "text": [
      "\u001b[0m\u001b[1mmodule.k8s_cluster.grid5000_job.k8s: Refreshing state... [id=4179776]\u001b[0m\n"
     ]
    },
    {
     "name": "stderr",
     "output_type": "stream",
     "text": [
      "\u001b[31m\n",
      "\u001b[1m\u001b[31mError: \u001b[0m\u001b[0m\u001b[1moar job 4179776 is in waiting state, it will be scheduled at 2023-06-05 17:10:00 +0200 CEST, restart terraform apply later\u001b[0m\n",
      "\n",
      "\u001b[0m\u001b[0m\u001b[0m\n"
     ]
    },
    {
     "name": "stdout",
     "output_type": "stream",
     "text": [
      "\u001b[0m\u001b[1mmodule.k8s_cluster.grid5000_job.k8s: Refreshing state... [id=4179776]\u001b[0m\n"
     ]
    },
    {
     "name": "stderr",
     "output_type": "stream",
     "text": [
      "\u001b[31m\n",
      "\u001b[1m\u001b[31mError: \u001b[0m\u001b[0m\u001b[1moar job 4179776 is in waiting state, it will be scheduled at 2023-06-05 17:10:00 +0200 CEST, restart terraform apply later\u001b[0m\n",
      "\n",
      "\u001b[0m\u001b[0m\u001b[0m\n"
     ]
    },
    {
     "name": "stdout",
     "output_type": "stream",
     "text": [
      "\u001b[0m\u001b[1mmodule.k8s_cluster.grid5000_job.k8s: Refreshing state... [id=4179776]\u001b[0m\n"
     ]
    },
    {
     "name": "stderr",
     "output_type": "stream",
     "text": [
      "\u001b[31m\n",
      "\u001b[1m\u001b[31mError: \u001b[0m\u001b[0m\u001b[1moar job 4179776 is in waiting state, it will be scheduled at 2023-06-05 17:10:00 +0200 CEST, restart terraform apply later\u001b[0m\n",
      "\n",
      "\u001b[0m\u001b[0m\u001b[0m\n"
     ]
    },
    {
     "name": "stdout",
     "output_type": "stream",
     "text": [
      "\u001b[0m\u001b[1mmodule.k8s_cluster.grid5000_job.k8s: Refreshing state... [id=4179776]\u001b[0m\n"
     ]
    },
    {
     "name": "stderr",
     "output_type": "stream",
     "text": [
      "\u001b[31m\n",
      "\u001b[1m\u001b[31mError: \u001b[0m\u001b[0m\u001b[1moar job 4179776 is in waiting state, it will be scheduled at 2023-06-05 17:10:00 +0200 CEST, restart terraform apply later\u001b[0m\n",
      "\n",
      "\u001b[0m\u001b[0m\u001b[0m\n"
     ]
    },
    {
     "name": "stdout",
     "output_type": "stream",
     "text": [
      "\u001b[0m\u001b[1mmodule.k8s_cluster.grid5000_job.k8s: Refreshing state... [id=4179776]\u001b[0m\n"
     ]
    },
    {
     "name": "stderr",
     "output_type": "stream",
     "text": [
      "\u001b[31m\n",
      "\u001b[1m\u001b[31mError: \u001b[0m\u001b[0m\u001b[1moar job 4179776 is in waiting state, it will be scheduled at 2023-06-05 17:10:00 +0200 CEST, restart terraform apply later\u001b[0m\n",
      "\n",
      "\u001b[0m\u001b[0m\u001b[0m\n"
     ]
    },
    {
     "name": "stdout",
     "output_type": "stream",
     "text": [
      "\u001b[0m\u001b[1mmodule.k8s_cluster.grid5000_job.k8s: Refreshing state... [id=4179776]\u001b[0m\n"
     ]
    },
    {
     "name": "stderr",
     "output_type": "stream",
     "text": [
      "\u001b[31m\n",
      "\u001b[1m\u001b[31mError: \u001b[0m\u001b[0m\u001b[1moar job 4179776 is in waiting state, it will be scheduled at 2023-06-05 17:10:00 +0200 CEST, restart terraform apply later\u001b[0m\n",
      "\n",
      "\u001b[0m\u001b[0m\u001b[0m\n"
     ]
    },
    {
     "name": "stdout",
     "output_type": "stream",
     "text": [
      "\u001b[0m\u001b[1mmodule.k8s_cluster.grid5000_job.k8s: Refreshing state... [id=4179776]\u001b[0m\n"
     ]
    },
    {
     "name": "stderr",
     "output_type": "stream",
     "text": [
      "\u001b[31m\n",
      "\u001b[1m\u001b[31mError: \u001b[0m\u001b[0m\u001b[1moar job 4179776 is in waiting state, it will be scheduled at 2023-06-05 17:10:00 +0200 CEST, restart terraform apply later\u001b[0m\n",
      "\n",
      "\u001b[0m\u001b[0m\u001b[0m\n"
     ]
    },
    {
     "name": "stdout",
     "output_type": "stream",
     "text": [
      "\u001b[0m\u001b[1mmodule.k8s_cluster.grid5000_job.k8s: Refreshing state... [id=4179776]\u001b[0m\n"
     ]
    },
    {
     "name": "stderr",
     "output_type": "stream",
     "text": [
      "\u001b[31m\n",
      "\u001b[1m\u001b[31mError: \u001b[0m\u001b[0m\u001b[1moar job 4179776 is in waiting state, it will be scheduled at 2023-06-05 17:10:00 +0200 CEST, restart terraform apply later\u001b[0m\n",
      "\n",
      "\u001b[0m\u001b[0m\u001b[0m\n"
     ]
    },
    {
     "name": "stdout",
     "output_type": "stream",
     "text": [
      "\u001b[0m\u001b[1mmodule.k8s_cluster.grid5000_job.k8s: Refreshing state... [id=4179776]\u001b[0m\n"
     ]
    },
    {
     "name": "stderr",
     "output_type": "stream",
     "text": [
      "\u001b[31m\n",
      "\u001b[1m\u001b[31mError: \u001b[0m\u001b[0m\u001b[1moar job 4179776 is in waiting state, it will be scheduled at 2023-06-05 17:10:00 +0200 CEST, restart terraform apply later\u001b[0m\n",
      "\n",
      "\u001b[0m\u001b[0m\u001b[0m\n"
     ]
    },
    {
     "name": "stdout",
     "output_type": "stream",
     "text": [
      "\u001b[0m\u001b[1mmodule.k8s_cluster.grid5000_job.k8s: Refreshing state... [id=4179776]\u001b[0m\n"
     ]
    },
    {
     "name": "stderr",
     "output_type": "stream",
     "text": [
      "\u001b[31m\n",
      "\u001b[1m\u001b[31mError: \u001b[0m\u001b[0m\u001b[1moar job 4179776 is in waiting state, it will be scheduled at 2023-06-05 17:10:00 +0200 CEST, restart terraform apply later\u001b[0m\n",
      "\n",
      "\u001b[0m\u001b[0m\u001b[0m\n"
     ]
    },
    {
     "name": "stdout",
     "output_type": "stream",
     "text": [
      "\u001b[0m\u001b[1mmodule.k8s_cluster.grid5000_job.k8s: Refreshing state... [id=4179776]\u001b[0m\n"
     ]
    },
    {
     "name": "stderr",
     "output_type": "stream",
     "text": [
      "\u001b[31m\n",
      "\u001b[1m\u001b[31mError: \u001b[0m\u001b[0m\u001b[1moar job 4179776 is in waiting state, it will be scheduled at 2023-06-05 17:10:00 +0200 CEST, restart terraform apply later\u001b[0m\n",
      "\n",
      "\u001b[0m\u001b[0m\u001b[0m\n"
     ]
    },
    {
     "name": "stdout",
     "output_type": "stream",
     "text": [
      "\u001b[0m\u001b[1mmodule.k8s_cluster.grid5000_job.k8s: Refreshing state... [id=4179776]\u001b[0m\n"
     ]
    },
    {
     "name": "stderr",
     "output_type": "stream",
     "text": [
      "\u001b[31m\n",
      "\u001b[1m\u001b[31mError: \u001b[0m\u001b[0m\u001b[1moar job 4179776 is in waiting state, it will be scheduled at 2023-06-05 17:10:00 +0200 CEST, restart terraform apply later\u001b[0m\n",
      "\n",
      "\u001b[0m\u001b[0m\u001b[0m\n"
     ]
    },
    {
     "name": "stdout",
     "output_type": "stream",
     "text": [
      "\u001b[0m\u001b[1mmodule.k8s_cluster.grid5000_job.k8s: Refreshing state... [id=4179776]\u001b[0m\n"
     ]
    },
    {
     "name": "stderr",
     "output_type": "stream",
     "text": [
      "\u001b[31m\n",
      "\u001b[1m\u001b[31mError: \u001b[0m\u001b[0m\u001b[1moar job 4179776 is in waiting state, it will be scheduled at 2023-06-05 17:10:00 +0200 CEST, restart terraform apply later\u001b[0m\n",
      "\n",
      "\u001b[0m\u001b[0m\u001b[0m\n"
     ]
    },
    {
     "name": "stdout",
     "output_type": "stream",
     "text": [
      "\u001b[0m\u001b[1mmodule.k8s_cluster.grid5000_job.k8s: Refreshing state... [id=4179776]\u001b[0m\n"
     ]
    },
    {
     "name": "stderr",
     "output_type": "stream",
     "text": [
      "\u001b[31m\n",
      "\u001b[1m\u001b[31mError: \u001b[0m\u001b[0m\u001b[1moar job 4179776 is in waiting state, it will be scheduled at 2023-06-05 17:10:00 +0200 CEST, restart terraform apply later\u001b[0m\n",
      "\n",
      "\u001b[0m\u001b[0m\u001b[0m\n"
     ]
    },
    {
     "name": "stdout",
     "output_type": "stream",
     "text": [
      "\u001b[0m\u001b[1mmodule.k8s_cluster.grid5000_job.k8s: Refreshing state... [id=4179776]\u001b[0m\n"
     ]
    },
    {
     "name": "stderr",
     "output_type": "stream",
     "text": [
      "\u001b[31m\n",
      "\u001b[1m\u001b[31mError: \u001b[0m\u001b[0m\u001b[1moar job 4179776 is in waiting state, it will be scheduled at 2023-06-05 17:10:00 +0200 CEST, restart terraform apply later\u001b[0m\n",
      "\n",
      "\u001b[0m\u001b[0m\u001b[0m\n"
     ]
    },
    {
     "name": "stdout",
     "output_type": "stream",
     "text": [
      "\u001b[0m\u001b[1mmodule.k8s_cluster.grid5000_job.k8s: Refreshing state... [id=4179776]\u001b[0m\n"
     ]
    },
    {
     "name": "stderr",
     "output_type": "stream",
     "text": [
      "\u001b[31m\n",
      "\u001b[1m\u001b[31mError: \u001b[0m\u001b[0m\u001b[1moar job 4179776 is in waiting state, it will be scheduled at 2023-06-05 17:10:00 +0200 CEST, restart terraform apply later\u001b[0m\n",
      "\n",
      "\u001b[0m\u001b[0m\u001b[0m\n"
     ]
    },
    {
     "name": "stdout",
     "output_type": "stream",
     "text": [
      "\u001b[0m\u001b[1mmodule.k8s_cluster.grid5000_job.k8s: Refreshing state... [id=4179776]\u001b[0m\n",
      "\n",
      "An execution plan has been generated and is shown below.\n",
      "Resource actions are indicated with the following symbols:\n",
      "  \u001b[32m+\u001b[0m create\n",
      "\u001b[31m-\u001b[0m/\u001b[32m+\u001b[0m destroy and then create replacement\n",
      "\u001b[0m\n",
      "Terraform will perform the following actions:\n",
      "\n",
      "\u001b[1m  # module.k8s_cluster.grid5000_deployment.k8s\u001b[0m will be created\u001b[0m\u001b[0m\n",
      "\u001b[0m  \u001b[32m+\u001b[0m\u001b[0m resource \"grid5000_deployment\" \"k8s\" {\n",
      "      \u001b[32m+\u001b[0m \u001b[0m\u001b[1m\u001b[0menvironment\u001b[0m\u001b[0m = \"debian10-x64-base\"\n",
      "      \u001b[32m+\u001b[0m \u001b[0m\u001b[1m\u001b[0mid\u001b[0m\u001b[0m          = (known after apply)\n",
      "      \u001b[32m+\u001b[0m \u001b[0m\u001b[1m\u001b[0mkey\u001b[0m\u001b[0m         = <<-EOT\n",
      "            ssh-rsa AAAAB3NzaC1yc2EAAAADAQABAAABAQDmJKA4Sl2Dq4bWGLeTxwtfaOpbPNSpg5aejzGQ7/7wKVxPpGjaNDsiNwiyfRoOVHfECJV+JTPPH4ZU04442EIoRQTrYJVPkAdmhwIWBZbWBrTkw6eSJ/qup9YChZPjw8xBqLiO3Tm2hnu6zxG0auP0iZrwH+wHGYIAscqClJ1i7vOM52xbszna74Rzt+u6VdhggA3Oxiex6tdoMzbaSKyWfkQ2+7KuunQItz2nS0UEcnTNNOk6IU8a5NCxi5wS8q2Vd84lrPcftc4dSyOpoS+T4pHkabxNSMrhICZm9zAAe+NFDv5Luu4vJ/qbmjSOth9/47Oyau6qjp9q4UMtU4yt Generated passwordless ssh key to move between sites and connect nodes\n",
      "        EOT\n",
      "      \u001b[32m+\u001b[0m \u001b[0m\u001b[1m\u001b[0mnodes\u001b[0m\u001b[0m       = (known after apply)\n",
      "      \u001b[32m+\u001b[0m \u001b[0m\u001b[1m\u001b[0msite\u001b[0m\u001b[0m        = \"nancy\"\n",
      "      \u001b[32m+\u001b[0m \u001b[0m\u001b[1m\u001b[0mstate\u001b[0m\u001b[0m       = (known after apply)\n",
      "    }\n",
      "\n",
      "\u001b[1m  # module.k8s_cluster.grid5000_job.k8s\u001b[0m is tainted, so must be \u001b[1m\u001b[31mreplaced\u001b[0m\u001b[0m\n",
      "\u001b[0m\u001b[31m-\u001b[0m/\u001b[32m+\u001b[0m\u001b[0m resource \"grid5000_job\" \"k8s\" {\n",
      "      \u001b[33m~\u001b[0m \u001b[0m\u001b[1m\u001b[0massigned_nodes\u001b[0m\u001b[0m     = [\n",
      "          \u001b[31m-\u001b[0m \u001b[0m\"gros-75.nancy.grid5000.fr\",\n",
      "          \u001b[31m-\u001b[0m \u001b[0m\"gros-76.nancy.grid5000.fr\",\n",
      "          \u001b[31m-\u001b[0m \u001b[0m\"gros-77.nancy.grid5000.fr\",\n",
      "          \u001b[31m-\u001b[0m \u001b[0m\"gros-78.nancy.grid5000.fr\",\n",
      "          \u001b[31m-\u001b[0m \u001b[0m\"gros-79.nancy.grid5000.fr\",\n",
      "        ] \u001b[33m->\u001b[0m \u001b[0m(known after apply)\n",
      "      \u001b[33m~\u001b[0m \u001b[0m\u001b[1m\u001b[0mdisks_resources\u001b[0m\u001b[0m    = [] \u001b[33m->\u001b[0m \u001b[0m(known after apply)\n",
      "      \u001b[33m~\u001b[0m \u001b[0m\u001b[1m\u001b[0mid\u001b[0m\u001b[0m                 = \"4179776\" \u001b[33m->\u001b[0m \u001b[0m(known after apply)\n",
      "        \u001b[1m\u001b[0mname\u001b[0m\u001b[0m               = \"gepiciad_resource-estimator\"\n",
      "      \u001b[31m-\u001b[0m \u001b[0m\u001b[1m\u001b[0mreservation\u001b[0m\u001b[0m        = \"2023-06-05 17:10:00\" \u001b[90m->\u001b[0m \u001b[0m\u001b[90mnull\u001b[0m\u001b[0m\n",
      "      \u001b[33m~\u001b[0m \u001b[0m\u001b[1m\u001b[0mstate\u001b[0m\u001b[0m              = \"running\" \u001b[33m->\u001b[0m \u001b[0m(known after apply)\n",
      "      \u001b[33m~\u001b[0m \u001b[0m\u001b[1m\u001b[0msubnets_resources\u001b[0m\u001b[0m  = [] \u001b[33m->\u001b[0m \u001b[0m(known after apply)\n",
      "      \u001b[33m~\u001b[0m \u001b[0m\u001b[1m\u001b[0mvlans_resources\u001b[0m\u001b[0m    = [] \u001b[33m->\u001b[0m \u001b[0m(known after apply)\n",
      "        \u001b[90m# (6 unchanged attributes hidden)\u001b[0m\u001b[0m\n",
      "    }\n",
      "\n",
      "\u001b[1m  # module.k8s_cluster.local_file.kube_cluster_yaml\u001b[0m will be created\u001b[0m\u001b[0m\n",
      "\u001b[0m  \u001b[32m+\u001b[0m\u001b[0m resource \"local_file\" \"kube_cluster_yaml\" {\n",
      "      \u001b[32m+\u001b[0m \u001b[0m\u001b[1m\u001b[0mcontent\u001b[0m\u001b[0m              = (known after apply)\n",
      "      \u001b[32m+\u001b[0m \u001b[0m\u001b[1m\u001b[0mcontent_base64sha256\u001b[0m\u001b[0m = (known after apply)\n",
      "      \u001b[32m+\u001b[0m \u001b[0m\u001b[1m\u001b[0mcontent_base64sha512\u001b[0m\u001b[0m = (known after apply)\n",
      "      \u001b[32m+\u001b[0m \u001b[0m\u001b[1m\u001b[0mcontent_md5\u001b[0m\u001b[0m          = (known after apply)\n",
      "      \u001b[32m+\u001b[0m \u001b[0m\u001b[1m\u001b[0mcontent_sha1\u001b[0m\u001b[0m         = (known after apply)\n",
      "      \u001b[32m+\u001b[0m \u001b[0m\u001b[1m\u001b[0mcontent_sha256\u001b[0m\u001b[0m       = (known after apply)\n",
      "      \u001b[32m+\u001b[0m \u001b[0m\u001b[1m\u001b[0mcontent_sha512\u001b[0m\u001b[0m       = (known after apply)\n",
      "      \u001b[32m+\u001b[0m \u001b[0m\u001b[1m\u001b[0mdirectory_permission\u001b[0m\u001b[0m = \"0777\"\n",
      "      \u001b[32m+\u001b[0m \u001b[0m\u001b[1m\u001b[0mfile_permission\u001b[0m\u001b[0m      = \"0777\"\n",
      "      \u001b[32m+\u001b[0m \u001b[0m\u001b[1m\u001b[0mfilename\u001b[0m\u001b[0m             = \"kube_config_cluster.yml\"\n",
      "      \u001b[32m+\u001b[0m \u001b[0m\u001b[1m\u001b[0mid\u001b[0m\u001b[0m                   = (known after apply)\n",
      "    }\n",
      "\n",
      "\u001b[1m  # module.k8s_cluster.null_resource.docker_install[0]\u001b[0m will be created\u001b[0m\u001b[0m\n",
      "\u001b[0m  \u001b[32m+\u001b[0m\u001b[0m resource \"null_resource\" \"docker_install\" {\n",
      "      \u001b[32m+\u001b[0m \u001b[0m\u001b[1m\u001b[0mid\u001b[0m\u001b[0m = (known after apply)\n",
      "    }\n",
      "\n",
      "\u001b[1m  # module.k8s_cluster.null_resource.docker_install[1]\u001b[0m will be created\u001b[0m\u001b[0m\n",
      "\u001b[0m  \u001b[32m+\u001b[0m\u001b[0m resource \"null_resource\" \"docker_install\" {\n",
      "      \u001b[32m+\u001b[0m \u001b[0m\u001b[1m\u001b[0mid\u001b[0m\u001b[0m = (known after apply)\n",
      "    }\n",
      "\n",
      "\u001b[1m  # module.k8s_cluster.null_resource.docker_install[2]\u001b[0m will be created\u001b[0m\u001b[0m\n",
      "\u001b[0m  \u001b[32m+\u001b[0m\u001b[0m resource \"null_resource\" \"docker_install\" {\n",
      "      \u001b[32m+\u001b[0m \u001b[0m\u001b[1m\u001b[0mid\u001b[0m\u001b[0m = (known after apply)\n",
      "    }\n",
      "\n",
      "\u001b[1m  # module.k8s_cluster.null_resource.docker_install[3]\u001b[0m will be created\u001b[0m\u001b[0m\n",
      "\u001b[0m  \u001b[32m+\u001b[0m\u001b[0m resource \"null_resource\" \"docker_install\" {\n",
      "      \u001b[32m+\u001b[0m \u001b[0m\u001b[1m\u001b[0mid\u001b[0m\u001b[0m = (known after apply)\n",
      "    }\n",
      "\n",
      "\u001b[1m  # module.k8s_cluster.null_resource.docker_install[4]\u001b[0m will be created\u001b[0m\u001b[0m\n",
      "\u001b[0m  \u001b[32m+\u001b[0m\u001b[0m resource \"null_resource\" \"docker_install\" {\n",
      "      \u001b[32m+\u001b[0m \u001b[0m\u001b[1m\u001b[0mid\u001b[0m\u001b[0m = (known after apply)\n",
      "    }\n",
      "\n",
      "\u001b[1m  # module.k8s_cluster.rke_cluster.cluster\u001b[0m will be created\u001b[0m\u001b[0m\n",
      "\u001b[0m  \u001b[32m+\u001b[0m\u001b[0m resource \"rke_cluster\" \"cluster\" {\n",
      "      \u001b[32m+\u001b[0m \u001b[0m\u001b[1m\u001b[0mapi_server_url\u001b[0m\u001b[0m            = (known after apply)\n",
      "      \u001b[32m+\u001b[0m \u001b[0m\u001b[1m\u001b[0mca_crt\u001b[0m\u001b[0m                    = (sensitive value)\n",
      "      \u001b[32m+\u001b[0m \u001b[0m\u001b[1m\u001b[0mcertificates\u001b[0m\u001b[0m              = (sensitive value)\n",
      "      \u001b[32m+\u001b[0m \u001b[0m\u001b[1m\u001b[0mclient_cert\u001b[0m\u001b[0m               = (sensitive value)\n",
      "      \u001b[32m+\u001b[0m \u001b[0m\u001b[1m\u001b[0mclient_key\u001b[0m\u001b[0m                = (sensitive value)\n",
      "      \u001b[32m+\u001b[0m \u001b[0m\u001b[1m\u001b[0mcluster_cidr\u001b[0m\u001b[0m              = (known after apply)\n",
      "      \u001b[32m+\u001b[0m \u001b[0m\u001b[1m\u001b[0mcluster_dns_server\u001b[0m\u001b[0m        = (known after apply)\n",
      "      \u001b[32m+\u001b[0m \u001b[0m\u001b[1m\u001b[0mcluster_domain\u001b[0m\u001b[0m            = (known after apply)\n",
      "      \u001b[32m+\u001b[0m \u001b[0m\u001b[1m\u001b[0mcontrol_plane_hosts\u001b[0m\u001b[0m       = (known after apply)\n",
      "      \u001b[32m+\u001b[0m \u001b[0m\u001b[1m\u001b[0mcustom_certs\u001b[0m\u001b[0m              = false\n",
      "      \u001b[32m+\u001b[0m \u001b[0m\u001b[1m\u001b[0mdind\u001b[0m\u001b[0m                      = false\n",
      "      \u001b[32m+\u001b[0m \u001b[0m\u001b[1m\u001b[0mdisable_port_check\u001b[0m\u001b[0m        = false\n",
      "      \u001b[32m+\u001b[0m \u001b[0m\u001b[1m\u001b[0metcd_hosts\u001b[0m\u001b[0m                = (known after apply)\n",
      "      \u001b[32m+\u001b[0m \u001b[0m\u001b[1m\u001b[0mid\u001b[0m\u001b[0m                        = (known after apply)\n",
      "      \u001b[32m+\u001b[0m \u001b[0m\u001b[1m\u001b[0minactive_hosts\u001b[0m\u001b[0m            = (known after apply)\n",
      "      \u001b[32m+\u001b[0m \u001b[0m\u001b[1m\u001b[0minternal_kube_config_yaml\u001b[0m\u001b[0m = (sensitive value)\n",
      "      \u001b[32m+\u001b[0m \u001b[0m\u001b[1m\u001b[0mkube_admin_user\u001b[0m\u001b[0m           = (known after apply)\n",
      "      \u001b[32m+\u001b[0m \u001b[0m\u001b[1m\u001b[0mkube_config_yaml\u001b[0m\u001b[0m          = (sensitive value)\n",
      "      \u001b[32m+\u001b[0m \u001b[0m\u001b[1m\u001b[0mkubernetes_version\u001b[0m\u001b[0m        = \"v1.22.4-rancher1-1\"\n",
      "      \u001b[32m+\u001b[0m \u001b[0m\u001b[1m\u001b[0mrke_cluster_yaml\u001b[0m\u001b[0m          = (sensitive value)\n",
      "      \u001b[32m+\u001b[0m \u001b[0m\u001b[1m\u001b[0mrke_state\u001b[0m\u001b[0m                 = (sensitive value)\n",
      "      \u001b[32m+\u001b[0m \u001b[0m\u001b[1m\u001b[0mrunning_system_images\u001b[0m\u001b[0m     = (known after apply)\n",
      "      \u001b[32m+\u001b[0m \u001b[0m\u001b[1m\u001b[0mssh_agent_auth\u001b[0m\u001b[0m            = false\n",
      "      \u001b[32m+\u001b[0m \u001b[0m\u001b[1m\u001b[0mupdate_only\u001b[0m\u001b[0m               = false\n",
      "      \u001b[32m+\u001b[0m \u001b[0m\u001b[1m\u001b[0mworker_hosts\u001b[0m\u001b[0m              = (known after apply)\n",
      "\n",
      "      \u001b[32m+\u001b[0m \u001b[0mbastion_host {\n",
      "          \u001b[32m+\u001b[0m \u001b[0m\u001b[1m\u001b[0mignore_proxy_env_vars\u001b[0m\u001b[0m = false\n",
      "          \u001b[32m+\u001b[0m \u001b[0m\u001b[1m\u001b[0mssh_agent_auth\u001b[0m\u001b[0m        = (known after apply)\n",
      "          \u001b[32m+\u001b[0m \u001b[0m\u001b[1m\u001b[0mssh_cert_path\u001b[0m\u001b[0m         = (known after apply)\n",
      "          \u001b[32m+\u001b[0m \u001b[0m\u001b[1m\u001b[0mssh_key_path\u001b[0m\u001b[0m          = (known after apply)\n",
      "        }\n",
      "\n",
      "      \u001b[32m+\u001b[0m \u001b[0mnodes {\n",
      "          \u001b[32m+\u001b[0m \u001b[0m\u001b[1m\u001b[0maddress\u001b[0m\u001b[0m          = (known after apply)\n",
      "          \u001b[32m+\u001b[0m \u001b[0m\u001b[1m\u001b[0minternal_address\u001b[0m\u001b[0m = (known after apply)\n",
      "          \u001b[32m+\u001b[0m \u001b[0m\u001b[1m\u001b[0mrole\u001b[0m\u001b[0m             = [\n",
      "              \u001b[32m+\u001b[0m \u001b[0m\"controlplane\",\n",
      "              \u001b[32m+\u001b[0m \u001b[0m\"etcd\",\n",
      "            ]\n",
      "          \u001b[32m+\u001b[0m \u001b[0m\u001b[1m\u001b[0mssh_agent_auth\u001b[0m\u001b[0m   = (known after apply)\n",
      "          \u001b[32m+\u001b[0m \u001b[0m\u001b[1m\u001b[0mssh_key\u001b[0m\u001b[0m          = (sensitive value)\n",
      "          \u001b[32m+\u001b[0m \u001b[0m\u001b[1m\u001b[0muser\u001b[0m\u001b[0m             = (sensitive value)\n",
      "        }\n",
      "      \u001b[32m+\u001b[0m \u001b[0mnodes {\n",
      "          \u001b[32m+\u001b[0m \u001b[0m\u001b[1m\u001b[0maddress\u001b[0m\u001b[0m          = (known after apply)\n",
      "          \u001b[32m+\u001b[0m \u001b[0m\u001b[1m\u001b[0minternal_address\u001b[0m\u001b[0m = (known after apply)\n",
      "          \u001b[32m+\u001b[0m \u001b[0m\u001b[1m\u001b[0mrole\u001b[0m\u001b[0m             = [\n",
      "              \u001b[32m+\u001b[0m \u001b[0m\"worker\",\n",
      "            ]\n",
      "          \u001b[32m+\u001b[0m \u001b[0m\u001b[1m\u001b[0mssh_agent_auth\u001b[0m\u001b[0m   = (known after apply)\n",
      "          \u001b[32m+\u001b[0m \u001b[0m\u001b[1m\u001b[0mssh_key\u001b[0m\u001b[0m          = (sensitive value)\n",
      "          \u001b[32m+\u001b[0m \u001b[0m\u001b[1m\u001b[0muser\u001b[0m\u001b[0m             = (sensitive value)\n",
      "        }\n",
      "      \u001b[32m+\u001b[0m \u001b[0mnodes {\n",
      "          \u001b[32m+\u001b[0m \u001b[0m\u001b[1m\u001b[0maddress\u001b[0m\u001b[0m          = (known after apply)\n",
      "          \u001b[32m+\u001b[0m \u001b[0m\u001b[1m\u001b[0minternal_address\u001b[0m\u001b[0m = (known after apply)\n",
      "          \u001b[32m+\u001b[0m \u001b[0m\u001b[1m\u001b[0mrole\u001b[0m\u001b[0m             = [\n",
      "              \u001b[32m+\u001b[0m \u001b[0m\"worker\",\n",
      "            ]\n",
      "          \u001b[32m+\u001b[0m \u001b[0m\u001b[1m\u001b[0mssh_agent_auth\u001b[0m\u001b[0m   = (known after apply)\n",
      "          \u001b[32m+\u001b[0m \u001b[0m\u001b[1m\u001b[0mssh_key\u001b[0m\u001b[0m          = (sensitive value)\n",
      "          \u001b[32m+\u001b[0m \u001b[0m\u001b[1m\u001b[0muser\u001b[0m\u001b[0m             = (sensitive value)\n",
      "        }\n",
      "      \u001b[32m+\u001b[0m \u001b[0mnodes {\n",
      "          \u001b[32m+\u001b[0m \u001b[0m\u001b[1m\u001b[0maddress\u001b[0m\u001b[0m          = (known after apply)\n",
      "          \u001b[32m+\u001b[0m \u001b[0m\u001b[1m\u001b[0minternal_address\u001b[0m\u001b[0m = (known after apply)\n",
      "          \u001b[32m+\u001b[0m \u001b[0m\u001b[1m\u001b[0mrole\u001b[0m\u001b[0m             = [\n",
      "              \u001b[32m+\u001b[0m \u001b[0m\"worker\",\n",
      "            ]\n",
      "          \u001b[32m+\u001b[0m \u001b[0m\u001b[1m\u001b[0mssh_agent_auth\u001b[0m\u001b[0m   = (known after apply)\n",
      "          \u001b[32m+\u001b[0m \u001b[0m\u001b[1m\u001b[0mssh_key\u001b[0m\u001b[0m          = (sensitive value)\n",
      "          \u001b[32m+\u001b[0m \u001b[0m\u001b[1m\u001b[0muser\u001b[0m\u001b[0m             = (sensitive value)\n",
      "        }\n",
      "      \u001b[32m+\u001b[0m \u001b[0mnodes {\n",
      "          \u001b[32m+\u001b[0m \u001b[0m\u001b[1m\u001b[0maddress\u001b[0m\u001b[0m          = (known after apply)\n",
      "          \u001b[32m+\u001b[0m \u001b[0m\u001b[1m\u001b[0minternal_address\u001b[0m\u001b[0m = (known after apply)\n",
      "          \u001b[32m+\u001b[0m \u001b[0m\u001b[1m\u001b[0mrole\u001b[0m\u001b[0m             = [\n",
      "              \u001b[32m+\u001b[0m \u001b[0m\"worker\",\n",
      "            ]\n",
      "          \u001b[32m+\u001b[0m \u001b[0m\u001b[1m\u001b[0mssh_agent_auth\u001b[0m\u001b[0m   = (known after apply)\n",
      "          \u001b[32m+\u001b[0m \u001b[0m\u001b[1m\u001b[0mssh_key\u001b[0m\u001b[0m          = (sensitive value)\n",
      "          \u001b[32m+\u001b[0m \u001b[0m\u001b[1m\u001b[0muser\u001b[0m\u001b[0m             = (sensitive value)\n",
      "        }\n",
      "    }\n",
      "\n",
      "\u001b[0m\u001b[1mPlan:\u001b[0m 9 to add, 0 to change, 1 to destroy.\u001b[0m\n",
      "\n",
      "------------------------------------------------------------------------\n",
      "\n",
      "Note: You didn't specify an \"-out\" parameter to save this plan, so Terraform\n",
      "can't guarantee that exactly these actions will be performed if\n",
      "\"terraform apply\" is subsequently run.\n",
      "\n"
     ]
    }
   ],
   "source": [
    "while ! terraform plan; do\n",
    "    sleep 10\n",
    "done"
   ]
  },
  {
   "cell_type": "code",
   "execution_count": 48,
   "id": "c7a3d486",
   "metadata": {},
   "outputs": [
    {
     "name": "stdout",
     "output_type": "stream",
     "text": [
      "\u001b[0m\u001b[1mmodule.k8s_cluster.grid5000_job.k8s: Refreshing state... [id=4179776]\u001b[0m\n",
      "\n",
      "An execution plan has been generated and is shown below.\n",
      "Resource actions are indicated with the following symbols:\n",
      "  \u001b[32m+\u001b[0m create\n",
      "\u001b[31m-\u001b[0m/\u001b[32m+\u001b[0m destroy and then create replacement\n",
      "\u001b[0m\n",
      "Terraform will perform the following actions:\n",
      "\n",
      "\u001b[1m  # module.k8s_cluster.grid5000_deployment.k8s\u001b[0m will be created\u001b[0m\u001b[0m\n",
      "\u001b[0m  \u001b[32m+\u001b[0m\u001b[0m resource \"grid5000_deployment\" \"k8s\" {\n",
      "      \u001b[32m+\u001b[0m \u001b[0m\u001b[1m\u001b[0menvironment\u001b[0m\u001b[0m = \"debian10-x64-base\"\n",
      "      \u001b[32m+\u001b[0m \u001b[0m\u001b[1m\u001b[0mid\u001b[0m\u001b[0m          = (known after apply)\n",
      "      \u001b[32m+\u001b[0m \u001b[0m\u001b[1m\u001b[0mkey\u001b[0m\u001b[0m         = <<-EOT\n",
      "            ssh-rsa AAAAB3NzaC1yc2EAAAADAQABAAABAQDmJKA4Sl2Dq4bWGLeTxwtfaOpbPNSpg5aejzGQ7/7wKVxPpGjaNDsiNwiyfRoOVHfECJV+JTPPH4ZU04442EIoRQTrYJVPkAdmhwIWBZbWBrTkw6eSJ/qup9YChZPjw8xBqLiO3Tm2hnu6zxG0auP0iZrwH+wHGYIAscqClJ1i7vOM52xbszna74Rzt+u6VdhggA3Oxiex6tdoMzbaSKyWfkQ2+7KuunQItz2nS0UEcnTNNOk6IU8a5NCxi5wS8q2Vd84lrPcftc4dSyOpoS+T4pHkabxNSMrhICZm9zAAe+NFDv5Luu4vJ/qbmjSOth9/47Oyau6qjp9q4UMtU4yt Generated passwordless ssh key to move between sites and connect nodes\n",
      "        EOT\n",
      "      \u001b[32m+\u001b[0m \u001b[0m\u001b[1m\u001b[0mnodes\u001b[0m\u001b[0m       = (known after apply)\n",
      "      \u001b[32m+\u001b[0m \u001b[0m\u001b[1m\u001b[0msite\u001b[0m\u001b[0m        = \"nancy\"\n",
      "      \u001b[32m+\u001b[0m \u001b[0m\u001b[1m\u001b[0mstate\u001b[0m\u001b[0m       = (known after apply)\n",
      "    }\n",
      "\n",
      "\u001b[1m  # module.k8s_cluster.grid5000_job.k8s\u001b[0m is tainted, so must be \u001b[1m\u001b[31mreplaced\u001b[0m\u001b[0m\n",
      "\u001b[0m\u001b[31m-\u001b[0m/\u001b[32m+\u001b[0m\u001b[0m resource \"grid5000_job\" \"k8s\" {\n",
      "      \u001b[33m~\u001b[0m \u001b[0m\u001b[1m\u001b[0massigned_nodes\u001b[0m\u001b[0m     = [\n",
      "          \u001b[31m-\u001b[0m \u001b[0m\"gros-75.nancy.grid5000.fr\",\n",
      "          \u001b[31m-\u001b[0m \u001b[0m\"gros-76.nancy.grid5000.fr\",\n",
      "          \u001b[31m-\u001b[0m \u001b[0m\"gros-77.nancy.grid5000.fr\",\n",
      "          \u001b[31m-\u001b[0m \u001b[0m\"gros-78.nancy.grid5000.fr\",\n",
      "          \u001b[31m-\u001b[0m \u001b[0m\"gros-79.nancy.grid5000.fr\",\n",
      "        ] \u001b[33m->\u001b[0m \u001b[0m(known after apply)\n",
      "      \u001b[33m~\u001b[0m \u001b[0m\u001b[1m\u001b[0mdisks_resources\u001b[0m\u001b[0m    = [] \u001b[33m->\u001b[0m \u001b[0m(known after apply)\n",
      "      \u001b[33m~\u001b[0m \u001b[0m\u001b[1m\u001b[0mid\u001b[0m\u001b[0m                 = \"4179776\" \u001b[33m->\u001b[0m \u001b[0m(known after apply)\n",
      "        \u001b[1m\u001b[0mname\u001b[0m\u001b[0m               = \"gepiciad_resource-estimator\"\n",
      "      \u001b[31m-\u001b[0m \u001b[0m\u001b[1m\u001b[0mreservation\u001b[0m\u001b[0m        = \"2023-06-05 17:10:00\" \u001b[90m->\u001b[0m \u001b[0m\u001b[90mnull\u001b[0m\u001b[0m\n",
      "      \u001b[33m~\u001b[0m \u001b[0m\u001b[1m\u001b[0mstate\u001b[0m\u001b[0m              = \"running\" \u001b[33m->\u001b[0m \u001b[0m(known after apply)\n",
      "      \u001b[33m~\u001b[0m \u001b[0m\u001b[1m\u001b[0msubnets_resources\u001b[0m\u001b[0m  = [] \u001b[33m->\u001b[0m \u001b[0m(known after apply)\n",
      "      \u001b[33m~\u001b[0m \u001b[0m\u001b[1m\u001b[0mvlans_resources\u001b[0m\u001b[0m    = [] \u001b[33m->\u001b[0m \u001b[0m(known after apply)\n",
      "        \u001b[90m# (6 unchanged attributes hidden)\u001b[0m\u001b[0m\n",
      "    }\n",
      "\n",
      "\u001b[1m  # module.k8s_cluster.local_file.kube_cluster_yaml\u001b[0m will be created\u001b[0m\u001b[0m\n",
      "\u001b[0m  \u001b[32m+\u001b[0m\u001b[0m resource \"local_file\" \"kube_cluster_yaml\" {\n",
      "      \u001b[32m+\u001b[0m \u001b[0m\u001b[1m\u001b[0mcontent\u001b[0m\u001b[0m              = (known after apply)\n",
      "      \u001b[32m+\u001b[0m \u001b[0m\u001b[1m\u001b[0mcontent_base64sha256\u001b[0m\u001b[0m = (known after apply)\n",
      "      \u001b[32m+\u001b[0m \u001b[0m\u001b[1m\u001b[0mcontent_base64sha512\u001b[0m\u001b[0m = (known after apply)\n",
      "      \u001b[32m+\u001b[0m \u001b[0m\u001b[1m\u001b[0mcontent_md5\u001b[0m\u001b[0m          = (known after apply)\n",
      "      \u001b[32m+\u001b[0m \u001b[0m\u001b[1m\u001b[0mcontent_sha1\u001b[0m\u001b[0m         = (known after apply)\n",
      "      \u001b[32m+\u001b[0m \u001b[0m\u001b[1m\u001b[0mcontent_sha256\u001b[0m\u001b[0m       = (known after apply)\n",
      "      \u001b[32m+\u001b[0m \u001b[0m\u001b[1m\u001b[0mcontent_sha512\u001b[0m\u001b[0m       = (known after apply)\n",
      "      \u001b[32m+\u001b[0m \u001b[0m\u001b[1m\u001b[0mdirectory_permission\u001b[0m\u001b[0m = \"0777\"\n",
      "      \u001b[32m+\u001b[0m \u001b[0m\u001b[1m\u001b[0mfile_permission\u001b[0m\u001b[0m      = \"0777\"\n",
      "      \u001b[32m+\u001b[0m \u001b[0m\u001b[1m\u001b[0mfilename\u001b[0m\u001b[0m             = \"kube_config_cluster.yml\"\n",
      "      \u001b[32m+\u001b[0m \u001b[0m\u001b[1m\u001b[0mid\u001b[0m\u001b[0m                   = (known after apply)\n",
      "    }\n",
      "\n",
      "\u001b[1m  # module.k8s_cluster.null_resource.docker_install[0]\u001b[0m will be created\u001b[0m\u001b[0m\n",
      "\u001b[0m  \u001b[32m+\u001b[0m\u001b[0m resource \"null_resource\" \"docker_install\" {\n",
      "      \u001b[32m+\u001b[0m \u001b[0m\u001b[1m\u001b[0mid\u001b[0m\u001b[0m = (known after apply)\n",
      "    }\n",
      "\n",
      "\u001b[1m  # module.k8s_cluster.null_resource.docker_install[1]\u001b[0m will be created\u001b[0m\u001b[0m\n",
      "\u001b[0m  \u001b[32m+\u001b[0m\u001b[0m resource \"null_resource\" \"docker_install\" {\n",
      "      \u001b[32m+\u001b[0m \u001b[0m\u001b[1m\u001b[0mid\u001b[0m\u001b[0m = (known after apply)\n",
      "    }\n",
      "\n",
      "\u001b[1m  # module.k8s_cluster.null_resource.docker_install[2]\u001b[0m will be created\u001b[0m\u001b[0m\n",
      "\u001b[0m  \u001b[32m+\u001b[0m\u001b[0m resource \"null_resource\" \"docker_install\" {\n",
      "      \u001b[32m+\u001b[0m \u001b[0m\u001b[1m\u001b[0mid\u001b[0m\u001b[0m = (known after apply)\n",
      "    }\n",
      "\n",
      "\u001b[1m  # module.k8s_cluster.null_resource.docker_install[3]\u001b[0m will be created\u001b[0m\u001b[0m\n",
      "\u001b[0m  \u001b[32m+\u001b[0m\u001b[0m resource \"null_resource\" \"docker_install\" {\n",
      "      \u001b[32m+\u001b[0m \u001b[0m\u001b[1m\u001b[0mid\u001b[0m\u001b[0m = (known after apply)\n",
      "    }\n",
      "\n",
      "\u001b[1m  # module.k8s_cluster.null_resource.docker_install[4]\u001b[0m will be created\u001b[0m\u001b[0m\n",
      "\u001b[0m  \u001b[32m+\u001b[0m\u001b[0m resource \"null_resource\" \"docker_install\" {\n",
      "      \u001b[32m+\u001b[0m \u001b[0m\u001b[1m\u001b[0mid\u001b[0m\u001b[0m = (known after apply)\n",
      "    }\n",
      "\n",
      "\u001b[1m  # module.k8s_cluster.rke_cluster.cluster\u001b[0m will be created\u001b[0m\u001b[0m\n",
      "\u001b[0m  \u001b[32m+\u001b[0m\u001b[0m resource \"rke_cluster\" \"cluster\" {\n",
      "      \u001b[32m+\u001b[0m \u001b[0m\u001b[1m\u001b[0mapi_server_url\u001b[0m\u001b[0m            = (known after apply)\n",
      "      \u001b[32m+\u001b[0m \u001b[0m\u001b[1m\u001b[0mca_crt\u001b[0m\u001b[0m                    = (sensitive value)\n",
      "      \u001b[32m+\u001b[0m \u001b[0m\u001b[1m\u001b[0mcertificates\u001b[0m\u001b[0m              = (sensitive value)\n",
      "      \u001b[32m+\u001b[0m \u001b[0m\u001b[1m\u001b[0mclient_cert\u001b[0m\u001b[0m               = (sensitive value)\n",
      "      \u001b[32m+\u001b[0m \u001b[0m\u001b[1m\u001b[0mclient_key\u001b[0m\u001b[0m                = (sensitive value)\n",
      "      \u001b[32m+\u001b[0m \u001b[0m\u001b[1m\u001b[0mcluster_cidr\u001b[0m\u001b[0m              = (known after apply)\n",
      "      \u001b[32m+\u001b[0m \u001b[0m\u001b[1m\u001b[0mcluster_dns_server\u001b[0m\u001b[0m        = (known after apply)\n",
      "      \u001b[32m+\u001b[0m \u001b[0m\u001b[1m\u001b[0mcluster_domain\u001b[0m\u001b[0m            = (known after apply)\n",
      "      \u001b[32m+\u001b[0m \u001b[0m\u001b[1m\u001b[0mcontrol_plane_hosts\u001b[0m\u001b[0m       = (known after apply)\n",
      "      \u001b[32m+\u001b[0m \u001b[0m\u001b[1m\u001b[0mcustom_certs\u001b[0m\u001b[0m              = false\n",
      "      \u001b[32m+\u001b[0m \u001b[0m\u001b[1m\u001b[0mdind\u001b[0m\u001b[0m                      = false\n",
      "      \u001b[32m+\u001b[0m \u001b[0m\u001b[1m\u001b[0mdisable_port_check\u001b[0m\u001b[0m        = false\n",
      "      \u001b[32m+\u001b[0m \u001b[0m\u001b[1m\u001b[0metcd_hosts\u001b[0m\u001b[0m                = (known after apply)\n",
      "      \u001b[32m+\u001b[0m \u001b[0m\u001b[1m\u001b[0mid\u001b[0m\u001b[0m                        = (known after apply)\n",
      "      \u001b[32m+\u001b[0m \u001b[0m\u001b[1m\u001b[0minactive_hosts\u001b[0m\u001b[0m            = (known after apply)\n",
      "      \u001b[32m+\u001b[0m \u001b[0m\u001b[1m\u001b[0minternal_kube_config_yaml\u001b[0m\u001b[0m = (sensitive value)\n",
      "      \u001b[32m+\u001b[0m \u001b[0m\u001b[1m\u001b[0mkube_admin_user\u001b[0m\u001b[0m           = (known after apply)\n",
      "      \u001b[32m+\u001b[0m \u001b[0m\u001b[1m\u001b[0mkube_config_yaml\u001b[0m\u001b[0m          = (sensitive value)\n",
      "      \u001b[32m+\u001b[0m \u001b[0m\u001b[1m\u001b[0mkubernetes_version\u001b[0m\u001b[0m        = \"v1.22.4-rancher1-1\"\n",
      "      \u001b[32m+\u001b[0m \u001b[0m\u001b[1m\u001b[0mrke_cluster_yaml\u001b[0m\u001b[0m          = (sensitive value)\n",
      "      \u001b[32m+\u001b[0m \u001b[0m\u001b[1m\u001b[0mrke_state\u001b[0m\u001b[0m                 = (sensitive value)\n",
      "      \u001b[32m+\u001b[0m \u001b[0m\u001b[1m\u001b[0mrunning_system_images\u001b[0m\u001b[0m     = (known after apply)\n",
      "      \u001b[32m+\u001b[0m \u001b[0m\u001b[1m\u001b[0mssh_agent_auth\u001b[0m\u001b[0m            = false\n",
      "      \u001b[32m+\u001b[0m \u001b[0m\u001b[1m\u001b[0mupdate_only\u001b[0m\u001b[0m               = false\n",
      "      \u001b[32m+\u001b[0m \u001b[0m\u001b[1m\u001b[0mworker_hosts\u001b[0m\u001b[0m              = (known after apply)\n",
      "\n",
      "      \u001b[32m+\u001b[0m \u001b[0mbastion_host {\n",
      "          \u001b[32m+\u001b[0m \u001b[0m\u001b[1m\u001b[0mignore_proxy_env_vars\u001b[0m\u001b[0m = false\n",
      "          \u001b[32m+\u001b[0m \u001b[0m\u001b[1m\u001b[0mssh_agent_auth\u001b[0m\u001b[0m        = (known after apply)\n",
      "          \u001b[32m+\u001b[0m \u001b[0m\u001b[1m\u001b[0mssh_cert_path\u001b[0m\u001b[0m         = (known after apply)\n",
      "          \u001b[32m+\u001b[0m \u001b[0m\u001b[1m\u001b[0mssh_key_path\u001b[0m\u001b[0m          = (known after apply)\n",
      "        }\n",
      "\n",
      "      \u001b[32m+\u001b[0m \u001b[0mnodes {\n",
      "          \u001b[32m+\u001b[0m \u001b[0m\u001b[1m\u001b[0maddress\u001b[0m\u001b[0m          = (known after apply)\n",
      "          \u001b[32m+\u001b[0m \u001b[0m\u001b[1m\u001b[0minternal_address\u001b[0m\u001b[0m = (known after apply)\n",
      "          \u001b[32m+\u001b[0m \u001b[0m\u001b[1m\u001b[0mrole\u001b[0m\u001b[0m             = [\n",
      "              \u001b[32m+\u001b[0m \u001b[0m\"controlplane\",\n",
      "              \u001b[32m+\u001b[0m \u001b[0m\"etcd\",\n",
      "            ]\n",
      "          \u001b[32m+\u001b[0m \u001b[0m\u001b[1m\u001b[0mssh_agent_auth\u001b[0m\u001b[0m   = (known after apply)\n",
      "          \u001b[32m+\u001b[0m \u001b[0m\u001b[1m\u001b[0mssh_key\u001b[0m\u001b[0m          = (sensitive value)\n",
      "          \u001b[32m+\u001b[0m \u001b[0m\u001b[1m\u001b[0muser\u001b[0m\u001b[0m             = (sensitive value)\n",
      "        }\n",
      "      \u001b[32m+\u001b[0m \u001b[0mnodes {\n",
      "          \u001b[32m+\u001b[0m \u001b[0m\u001b[1m\u001b[0maddress\u001b[0m\u001b[0m          = (known after apply)\n",
      "          \u001b[32m+\u001b[0m \u001b[0m\u001b[1m\u001b[0minternal_address\u001b[0m\u001b[0m = (known after apply)\n",
      "          \u001b[32m+\u001b[0m \u001b[0m\u001b[1m\u001b[0mrole\u001b[0m\u001b[0m             = [\n",
      "              \u001b[32m+\u001b[0m \u001b[0m\"worker\",\n",
      "            ]\n",
      "          \u001b[32m+\u001b[0m \u001b[0m\u001b[1m\u001b[0mssh_agent_auth\u001b[0m\u001b[0m   = (known after apply)\n",
      "          \u001b[32m+\u001b[0m \u001b[0m\u001b[1m\u001b[0mssh_key\u001b[0m\u001b[0m          = (sensitive value)\n",
      "          \u001b[32m+\u001b[0m \u001b[0m\u001b[1m\u001b[0muser\u001b[0m\u001b[0m             = (sensitive value)\n",
      "        }\n",
      "      \u001b[32m+\u001b[0m \u001b[0mnodes {\n",
      "          \u001b[32m+\u001b[0m \u001b[0m\u001b[1m\u001b[0maddress\u001b[0m\u001b[0m          = (known after apply)\n",
      "          \u001b[32m+\u001b[0m \u001b[0m\u001b[1m\u001b[0minternal_address\u001b[0m\u001b[0m = (known after apply)\n",
      "          \u001b[32m+\u001b[0m \u001b[0m\u001b[1m\u001b[0mrole\u001b[0m\u001b[0m             = [\n",
      "              \u001b[32m+\u001b[0m \u001b[0m\"worker\",\n",
      "            ]\n",
      "          \u001b[32m+\u001b[0m \u001b[0m\u001b[1m\u001b[0mssh_agent_auth\u001b[0m\u001b[0m   = (known after apply)\n",
      "          \u001b[32m+\u001b[0m \u001b[0m\u001b[1m\u001b[0mssh_key\u001b[0m\u001b[0m          = (sensitive value)\n",
      "          \u001b[32m+\u001b[0m \u001b[0m\u001b[1m\u001b[0muser\u001b[0m\u001b[0m             = (sensitive value)\n",
      "        }\n",
      "      \u001b[32m+\u001b[0m \u001b[0mnodes {\n",
      "          \u001b[32m+\u001b[0m \u001b[0m\u001b[1m\u001b[0maddress\u001b[0m\u001b[0m          = (known after apply)\n",
      "          \u001b[32m+\u001b[0m \u001b[0m\u001b[1m\u001b[0minternal_address\u001b[0m\u001b[0m = (known after apply)\n",
      "          \u001b[32m+\u001b[0m \u001b[0m\u001b[1m\u001b[0mrole\u001b[0m\u001b[0m             = [\n",
      "              \u001b[32m+\u001b[0m \u001b[0m\"worker\",\n",
      "            ]\n",
      "          \u001b[32m+\u001b[0m \u001b[0m\u001b[1m\u001b[0mssh_agent_auth\u001b[0m\u001b[0m   = (known after apply)\n",
      "          \u001b[32m+\u001b[0m \u001b[0m\u001b[1m\u001b[0mssh_key\u001b[0m\u001b[0m          = (sensitive value)\n",
      "          \u001b[32m+\u001b[0m \u001b[0m\u001b[1m\u001b[0muser\u001b[0m\u001b[0m             = (sensitive value)\n",
      "        }\n",
      "      \u001b[32m+\u001b[0m \u001b[0mnodes {\n",
      "          \u001b[32m+\u001b[0m \u001b[0m\u001b[1m\u001b[0maddress\u001b[0m\u001b[0m          = (known after apply)\n",
      "          \u001b[32m+\u001b[0m \u001b[0m\u001b[1m\u001b[0minternal_address\u001b[0m\u001b[0m = (known after apply)\n",
      "          \u001b[32m+\u001b[0m \u001b[0m\u001b[1m\u001b[0mrole\u001b[0m\u001b[0m             = [\n",
      "              \u001b[32m+\u001b[0m \u001b[0m\"worker\",\n",
      "            ]\n",
      "          \u001b[32m+\u001b[0m \u001b[0m\u001b[1m\u001b[0mssh_agent_auth\u001b[0m\u001b[0m   = (known after apply)\n",
      "          \u001b[32m+\u001b[0m \u001b[0m\u001b[1m\u001b[0mssh_key\u001b[0m\u001b[0m          = (sensitive value)\n",
      "          \u001b[32m+\u001b[0m \u001b[0m\u001b[1m\u001b[0muser\u001b[0m\u001b[0m             = (sensitive value)\n",
      "        }\n",
      "    }\n",
      "\n",
      "\u001b[0m\u001b[1mPlan:\u001b[0m 9 to add, 0 to change, 1 to destroy.\u001b[0m\n",
      "\n",
      "------------------------------------------------------------------------\n",
      "\n",
      "Note: You didn't specify an \"-out\" parameter to save this plan, so Terraform\n",
      "can't guarantee that exactly these actions will be performed if\n",
      "\"terraform apply\" is subsequently run.\n",
      "\n",
      "Resource instance module.k8s_cluster.grid5000_job.k8s has been successfully untainted.\n",
      "\u001b[0m\u001b[1mmodule.k8s_cluster.grid5000_job.k8s: Refreshing state... [id=4179776]\u001b[0m\n",
      "\u001b[0m\u001b[1mmodule.k8s_cluster.grid5000_job.k8s: Modifying... [id=4179776]\u001b[0m\u001b[0m\n",
      "\u001b[0m\u001b[1mmodule.k8s_cluster.grid5000_job.k8s: Modifications complete after 0s [id=4179776]\u001b[0m\u001b[0m\n",
      "\u001b[0m\u001b[1mmodule.k8s_cluster.grid5000_deployment.k8s: Creating...\u001b[0m\u001b[0m\n",
      "\u001b[0m\u001b[1mmodule.k8s_cluster.grid5000_deployment.k8s: Still creating... [10s elapsed]\u001b[0m\u001b[0m\n",
      "\u001b[0m\u001b[1mmodule.k8s_cluster.grid5000_deployment.k8s: Still creating... [20s elapsed]\u001b[0m\u001b[0m\n",
      "\u001b[0m\u001b[1mmodule.k8s_cluster.grid5000_deployment.k8s: Still creating... [30s elapsed]\u001b[0m\u001b[0m\n",
      "\u001b[0m\u001b[1mmodule.k8s_cluster.grid5000_deployment.k8s: Still creating... [40s elapsed]\u001b[0m\u001b[0m\n",
      "\u001b[0m\u001b[1mmodule.k8s_cluster.grid5000_deployment.k8s: Still creating... [50s elapsed]\u001b[0m\u001b[0m\n",
      "\u001b[0m\u001b[1mmodule.k8s_cluster.grid5000_deployment.k8s: Still creating... [1m0s elapsed]\u001b[0m\u001b[0m\n"
     ]
    }
   ],
   "source": [
    "%%bash\n",
    "terraform workspace select reservation\n",
    "terraform plan\n",
    "terraform untaint module.k8s_cluster.grid5000_job.k8s\n",
    "terraform apply -auto-approve\n"
   ]
  },
  {
   "cell_type": "code",
   "execution_count": 5,
   "id": "7c871f04-d47d-4833-aaaa-754f6eff139b",
   "metadata": {},
   "outputs": [
    {
     "name": "stdout",
     "output_type": "stream",
     "text": [
      "Job id     Name           User           Submission Date     S Queue\n",
      "---------- -------------- -------------- ------------------- - ----------\n",
      "4168130    gepiciad_resou grosinosky     2023-06-01 13:53:08 R default   \n",
      "\u001b[0m\u001b[1mmodule.k8s_cluster.grid5000_job.k8s: Still creating... [42m30s elapsed]\u001b[0m\u001b[0m\n",
      "Client Version: version.Info{Major:\"1\", Minor:\"22\", GitVersion:\"v1.22.0\", GitCommit:\"c2b5237ccd9c0f1d600d3072634ca66cefdf272f\", GitTreeState:\"clean\", BuildDate:\"2021-08-04T18:03:20Z\", GoVersion:\"go1.16.6\", Compiler:\"gc\", Platform:\"linux/amd64\"}\n",
      "Server Version: version.Info{Major:\"1\", Minor:\"22\", GitVersion:\"v1.22.4\", GitCommit:\"b695d79d4f967c403a96986f1750a35eb75e75f1\", GitTreeState:\"clean\", BuildDate:\"2021-11-17T15:42:41Z\", GoVersion:\"go1.16.10\", Compiler:\"gc\", Platform:\"linux/amd64\"}\n",
      "NAME                         STATUS     ROLES               AGE   VERSION\n",
      "gros-118.nancy.grid5000.fr   Ready      controlplane,etcd   50s   v1.22.4\n",
      "gros-119.nancy.grid5000.fr   NotReady   worker              49s   v1.22.4\n",
      "gros-12.nancy.grid5000.fr    NotReady   worker              48s   v1.22.4\n",
      "gros-121.nancy.grid5000.fr   NotReady   worker              49s   v1.22.4\n",
      "gros-122.nancy.grid5000.fr   NotReady   worker              48s   v1.22.4\n",
      "gros-123.nancy.grid5000.fr   NotReady   worker              48s   v1.22.4\n",
      "gros-14.nancy.grid5000.fr    NotReady   worker              49s   v1.22.4\n",
      "gros-17.nancy.grid5000.fr    NotReady   worker              49s   v1.22.4\n",
      "gros-22.nancy.grid5000.fr    NotReady   worker              49s   v1.22.4\n",
      "gros-28.nancy.grid5000.fr    NotReady   worker              49s   v1.22.4\n",
      "gros-3.nancy.grid5000.fr     NotReady   worker              49s   v1.22.4\n",
      "gros-45.nancy.grid5000.fr    NotReady   worker              49s   v1.22.4\n",
      "gros-49.nancy.grid5000.fr    NotReady   worker              49s   v1.22.4\n",
      "gros-5.nancy.grid5000.fr     NotReady   worker              49s   v1.22.4\n",
      "gros-50.nancy.grid5000.fr    NotReady   worker              49s   v1.22.4\n",
      "gros-51.nancy.grid5000.fr    NotReady   worker              49s   v1.22.4\n",
      "gros-52.nancy.grid5000.fr    NotReady   worker              49s   v1.22.4\n",
      "gros-53.nancy.grid5000.fr    NotReady   worker              49s   v1.22.4\n",
      "gros-54.nancy.grid5000.fr    NotReady   worker              49s   v1.22.4\n",
      "gros-55.nancy.grid5000.fr    NotReady   worker              49s   v1.22.4\n",
      "gros-56.nancy.grid5000.fr    NotReady   worker              49s   v1.22.4\n",
      "gros-57.nancy.grid5000.fr    NotReady   worker              49s   v1.22.4\n",
      "gros-58.nancy.grid5000.fr    NotReady   worker              49s   v1.22.4\n",
      "gros-59.nancy.grid5000.fr    NotReady   worker              49s   v1.22.4\n",
      "gros-6.nancy.grid5000.fr     NotReady   worker              49s   v1.22.4\n",
      "gros-60.nancy.grid5000.fr    NotReady   worker              49s   v1.22.4\n",
      "gros-61.nancy.grid5000.fr    NotReady   worker              49s   v1.22.4\n",
      "gros-62.nancy.grid5000.fr    NotReady   worker              49s   v1.22.4\n",
      "gros-63.nancy.grid5000.fr    NotReady   worker              49s   v1.22.4\n",
      "gros-64.nancy.grid5000.fr    NotReady   worker              48s   v1.22.4\n",
      "gros-65.nancy.grid5000.fr    NotReady   worker              49s   v1.22.4\n",
      "gros-66.nancy.grid5000.fr    NotReady   worker              49s   v1.22.4\n",
      "gros-67.nancy.grid5000.fr    NotReady   worker              49s   v1.22.4\n",
      "gros-68.nancy.grid5000.fr    NotReady   worker              48s   v1.22.4\n",
      "gros-69.nancy.grid5000.fr    NotReady   worker              49s   v1.22.4\n",
      "gros-7.nancy.grid5000.fr     NotReady   worker              49s   v1.22.4\n",
      "gros-70.nancy.grid5000.fr    NotReady   worker              49s   v1.22.4\n",
      "gros-71.nancy.grid5000.fr    NotReady   worker              49s   v1.22.4\n",
      "gros-72.nancy.grid5000.fr    NotReady   worker              48s   v1.22.4\n",
      "gros-73.nancy.grid5000.fr    NotReady   worker              49s   v1.22.4\n",
      "gros-74.nancy.grid5000.fr    NotReady   worker              49s   v1.22.4\n",
      "gros-75.nancy.grid5000.fr    NotReady   worker              49s   v1.22.4\n",
      "gros-76.nancy.grid5000.fr    NotReady   worker              49s   v1.22.4\n",
      "gros-78.nancy.grid5000.fr    NotReady   worker              49s   v1.22.4\n"
     ]
    }
   ],
   "source": [
    "%%bash\n",
    "mkdir -p $HOME/.kube\n",
    "cp kube_config_cluster.yml $HOME/.kube/config\n",
    "export PATH=$HOME/tools:$PATH\n",
    "#export KUBECONFIG=$PWD/kube_config_cluster.yml\n",
    "oarstat -u \n",
    "# use oardel to remove the instances\n",
    "kubectl version\n",
    "kubectl get nodes"
   ]
  },
  {
   "attachments": {},
   "cell_type": "markdown",
   "id": "0d258a6e-08a6-4069-a818-f849493de40c",
   "metadata": {},
   "source": [
    "Nodes are reachable using ssh root@<machine>\n",
    "```bash\n",
    " curl -X POST 'https://api.grid5000.fr/3.0/sites/nancy/storage/home/grosinosky/access' -H \"Content-Type: application/json\" -d '{\"termination\" : {\"job\": 3333824, \"site\": \"nancy\"}}'\n",
    "```\n",
    "This command adds the capacity to mount the g5k $HOME directory. It should be done manually if necessary.\n"
   ]
  },
  {
   "attachments": {},
   "cell_type": "markdown",
   "id": "93724019-fe72-4cdf-865a-f1ec72132479",
   "metadata": {},
   "source": [
    "## Label nodes"
   ]
  },
  {
   "cell_type": "code",
   "execution_count": 6,
   "id": "c3e66038-fa0a-49b3-bda2-11f9e70f2371",
   "metadata": {},
   "outputs": [
    {
     "name": "stdout",
     "output_type": "stream",
     "text": [
      "gros-118.nancy.grid5000.fr\t{'beta.kubernetes.io/arch': 'amd64', 'beta.kubernetes.io/os': 'linux', 'kubernetes.io/arch': 'amd64', 'kubernetes.io/hostname': 'gros-118.nancy.grid5000.fr', 'kubernetes.io/os': 'linux', 'node-role.kubernetes.io/controlplane': 'true', 'node-role.kubernetes.io/etcd': 'true'}\n",
      "gros-119.nancy.grid5000.fr\t{'beta.kubernetes.io/arch': 'amd64', 'beta.kubernetes.io/os': 'linux', 'kubernetes.io/arch': 'amd64', 'kubernetes.io/hostname': 'gros-119.nancy.grid5000.fr', 'kubernetes.io/os': 'linux', 'node-role.kubernetes.io/worker': 'true'}\n",
      "gros-12.nancy.grid5000.fr\t{'beta.kubernetes.io/arch': 'amd64', 'beta.kubernetes.io/os': 'linux', 'kubernetes.io/arch': 'amd64', 'kubernetes.io/hostname': 'gros-12.nancy.grid5000.fr', 'kubernetes.io/os': 'linux', 'node-role.kubernetes.io/worker': 'true'}\n",
      "gros-121.nancy.grid5000.fr\t{'beta.kubernetes.io/arch': 'amd64', 'beta.kubernetes.io/os': 'linux', 'kubernetes.io/arch': 'amd64', 'kubernetes.io/hostname': 'gros-121.nancy.grid5000.fr', 'kubernetes.io/os': 'linux', 'node-role.kubernetes.io/worker': 'true'}\n",
      "gros-122.nancy.grid5000.fr\t{'beta.kubernetes.io/arch': 'amd64', 'beta.kubernetes.io/os': 'linux', 'kubernetes.io/arch': 'amd64', 'kubernetes.io/hostname': 'gros-122.nancy.grid5000.fr', 'kubernetes.io/os': 'linux', 'node-role.kubernetes.io/worker': 'true'}\n",
      "gros-123.nancy.grid5000.fr\t{'beta.kubernetes.io/arch': 'amd64', 'beta.kubernetes.io/os': 'linux', 'kubernetes.io/arch': 'amd64', 'kubernetes.io/hostname': 'gros-123.nancy.grid5000.fr', 'kubernetes.io/os': 'linux', 'node-role.kubernetes.io/worker': 'true'}\n",
      "gros-14.nancy.grid5000.fr\t{'beta.kubernetes.io/arch': 'amd64', 'beta.kubernetes.io/os': 'linux', 'kubernetes.io/arch': 'amd64', 'kubernetes.io/hostname': 'gros-14.nancy.grid5000.fr', 'kubernetes.io/os': 'linux', 'node-role.kubernetes.io/worker': 'true'}\n",
      "gros-17.nancy.grid5000.fr\t{'beta.kubernetes.io/arch': 'amd64', 'beta.kubernetes.io/os': 'linux', 'kubernetes.io/arch': 'amd64', 'kubernetes.io/hostname': 'gros-17.nancy.grid5000.fr', 'kubernetes.io/os': 'linux', 'node-role.kubernetes.io/worker': 'true'}\n",
      "gros-22.nancy.grid5000.fr\t{'beta.kubernetes.io/arch': 'amd64', 'beta.kubernetes.io/os': 'linux', 'kubernetes.io/arch': 'amd64', 'kubernetes.io/hostname': 'gros-22.nancy.grid5000.fr', 'kubernetes.io/os': 'linux', 'node-role.kubernetes.io/worker': 'true'}\n",
      "gros-28.nancy.grid5000.fr\t{'beta.kubernetes.io/arch': 'amd64', 'beta.kubernetes.io/os': 'linux', 'kubernetes.io/arch': 'amd64', 'kubernetes.io/hostname': 'gros-28.nancy.grid5000.fr', 'kubernetes.io/os': 'linux', 'node-role.kubernetes.io/worker': 'true'}\n",
      "gros-3.nancy.grid5000.fr\t{'beta.kubernetes.io/arch': 'amd64', 'beta.kubernetes.io/os': 'linux', 'kubernetes.io/arch': 'amd64', 'kubernetes.io/hostname': 'gros-3.nancy.grid5000.fr', 'kubernetes.io/os': 'linux', 'node-role.kubernetes.io/worker': 'true'}\n",
      "gros-45.nancy.grid5000.fr\t{'beta.kubernetes.io/arch': 'amd64', 'beta.kubernetes.io/os': 'linux', 'kubernetes.io/arch': 'amd64', 'kubernetes.io/hostname': 'gros-45.nancy.grid5000.fr', 'kubernetes.io/os': 'linux', 'node-role.kubernetes.io/worker': 'true'}\n",
      "gros-49.nancy.grid5000.fr\t{'beta.kubernetes.io/arch': 'amd64', 'beta.kubernetes.io/os': 'linux', 'kubernetes.io/arch': 'amd64', 'kubernetes.io/hostname': 'gros-49.nancy.grid5000.fr', 'kubernetes.io/os': 'linux', 'node-role.kubernetes.io/worker': 'true'}\n",
      "gros-5.nancy.grid5000.fr\t{'beta.kubernetes.io/arch': 'amd64', 'beta.kubernetes.io/os': 'linux', 'kubernetes.io/arch': 'amd64', 'kubernetes.io/hostname': 'gros-5.nancy.grid5000.fr', 'kubernetes.io/os': 'linux', 'node-role.kubernetes.io/worker': 'true'}\n",
      "gros-50.nancy.grid5000.fr\t{'beta.kubernetes.io/arch': 'amd64', 'beta.kubernetes.io/os': 'linux', 'kubernetes.io/arch': 'amd64', 'kubernetes.io/hostname': 'gros-50.nancy.grid5000.fr', 'kubernetes.io/os': 'linux', 'node-role.kubernetes.io/worker': 'true'}\n",
      "gros-51.nancy.grid5000.fr\t{'beta.kubernetes.io/arch': 'amd64', 'beta.kubernetes.io/os': 'linux', 'kubernetes.io/arch': 'amd64', 'kubernetes.io/hostname': 'gros-51.nancy.grid5000.fr', 'kubernetes.io/os': 'linux', 'node-role.kubernetes.io/worker': 'true'}\n",
      "gros-52.nancy.grid5000.fr\t{'beta.kubernetes.io/arch': 'amd64', 'beta.kubernetes.io/os': 'linux', 'kubernetes.io/arch': 'amd64', 'kubernetes.io/hostname': 'gros-52.nancy.grid5000.fr', 'kubernetes.io/os': 'linux', 'node-role.kubernetes.io/worker': 'true'}\n",
      "gros-53.nancy.grid5000.fr\t{'beta.kubernetes.io/arch': 'amd64', 'beta.kubernetes.io/os': 'linux', 'kubernetes.io/arch': 'amd64', 'kubernetes.io/hostname': 'gros-53.nancy.grid5000.fr', 'kubernetes.io/os': 'linux', 'node-role.kubernetes.io/worker': 'true'}\n",
      "gros-54.nancy.grid5000.fr\t{'beta.kubernetes.io/arch': 'amd64', 'beta.kubernetes.io/os': 'linux', 'kubernetes.io/arch': 'amd64', 'kubernetes.io/hostname': 'gros-54.nancy.grid5000.fr', 'kubernetes.io/os': 'linux', 'node-role.kubernetes.io/worker': 'true'}\n",
      "gros-55.nancy.grid5000.fr\t{'beta.kubernetes.io/arch': 'amd64', 'beta.kubernetes.io/os': 'linux', 'kubernetes.io/arch': 'amd64', 'kubernetes.io/hostname': 'gros-55.nancy.grid5000.fr', 'kubernetes.io/os': 'linux', 'node-role.kubernetes.io/worker': 'true'}\n",
      "gros-56.nancy.grid5000.fr\t{'beta.kubernetes.io/arch': 'amd64', 'beta.kubernetes.io/os': 'linux', 'kubernetes.io/arch': 'amd64', 'kubernetes.io/hostname': 'gros-56.nancy.grid5000.fr', 'kubernetes.io/os': 'linux', 'node-role.kubernetes.io/worker': 'true'}\n",
      "gros-57.nancy.grid5000.fr\t{'beta.kubernetes.io/arch': 'amd64', 'beta.kubernetes.io/os': 'linux', 'kubernetes.io/arch': 'amd64', 'kubernetes.io/hostname': 'gros-57.nancy.grid5000.fr', 'kubernetes.io/os': 'linux', 'node-role.kubernetes.io/worker': 'true'}\n",
      "gros-58.nancy.grid5000.fr\t{'beta.kubernetes.io/arch': 'amd64', 'beta.kubernetes.io/os': 'linux', 'kubernetes.io/arch': 'amd64', 'kubernetes.io/hostname': 'gros-58.nancy.grid5000.fr', 'kubernetes.io/os': 'linux', 'node-role.kubernetes.io/worker': 'true'}\n",
      "gros-59.nancy.grid5000.fr\t{'beta.kubernetes.io/arch': 'amd64', 'beta.kubernetes.io/os': 'linux', 'kubernetes.io/arch': 'amd64', 'kubernetes.io/hostname': 'gros-59.nancy.grid5000.fr', 'kubernetes.io/os': 'linux', 'node-role.kubernetes.io/worker': 'true'}\n",
      "gros-6.nancy.grid5000.fr\t{'beta.kubernetes.io/arch': 'amd64', 'beta.kubernetes.io/os': 'linux', 'kubernetes.io/arch': 'amd64', 'kubernetes.io/hostname': 'gros-6.nancy.grid5000.fr', 'kubernetes.io/os': 'linux', 'node-role.kubernetes.io/worker': 'true'}\n",
      "gros-60.nancy.grid5000.fr\t{'beta.kubernetes.io/arch': 'amd64', 'beta.kubernetes.io/os': 'linux', 'kubernetes.io/arch': 'amd64', 'kubernetes.io/hostname': 'gros-60.nancy.grid5000.fr', 'kubernetes.io/os': 'linux', 'node-role.kubernetes.io/worker': 'true'}\n",
      "gros-61.nancy.grid5000.fr\t{'beta.kubernetes.io/arch': 'amd64', 'beta.kubernetes.io/os': 'linux', 'kubernetes.io/arch': 'amd64', 'kubernetes.io/hostname': 'gros-61.nancy.grid5000.fr', 'kubernetes.io/os': 'linux', 'node-role.kubernetes.io/worker': 'true'}\n",
      "gros-62.nancy.grid5000.fr\t{'beta.kubernetes.io/arch': 'amd64', 'beta.kubernetes.io/os': 'linux', 'kubernetes.io/arch': 'amd64', 'kubernetes.io/hostname': 'gros-62.nancy.grid5000.fr', 'kubernetes.io/os': 'linux', 'node-role.kubernetes.io/worker': 'true'}\n",
      "gros-63.nancy.grid5000.fr\t{'beta.kubernetes.io/arch': 'amd64', 'beta.kubernetes.io/os': 'linux', 'kubernetes.io/arch': 'amd64', 'kubernetes.io/hostname': 'gros-63.nancy.grid5000.fr', 'kubernetes.io/os': 'linux', 'node-role.kubernetes.io/worker': 'true'}\n",
      "gros-64.nancy.grid5000.fr\t{'beta.kubernetes.io/arch': 'amd64', 'beta.kubernetes.io/os': 'linux', 'kubernetes.io/arch': 'amd64', 'kubernetes.io/hostname': 'gros-64.nancy.grid5000.fr', 'kubernetes.io/os': 'linux', 'node-role.kubernetes.io/worker': 'true'}\n",
      "gros-65.nancy.grid5000.fr\t{'beta.kubernetes.io/arch': 'amd64', 'beta.kubernetes.io/os': 'linux', 'kubernetes.io/arch': 'amd64', 'kubernetes.io/hostname': 'gros-65.nancy.grid5000.fr', 'kubernetes.io/os': 'linux', 'node-role.kubernetes.io/worker': 'true'}\n",
      "gros-66.nancy.grid5000.fr\t{'beta.kubernetes.io/arch': 'amd64', 'beta.kubernetes.io/os': 'linux', 'kubernetes.io/arch': 'amd64', 'kubernetes.io/hostname': 'gros-66.nancy.grid5000.fr', 'kubernetes.io/os': 'linux', 'node-role.kubernetes.io/worker': 'true'}\n",
      "gros-67.nancy.grid5000.fr\t{'beta.kubernetes.io/arch': 'amd64', 'beta.kubernetes.io/os': 'linux', 'kubernetes.io/arch': 'amd64', 'kubernetes.io/hostname': 'gros-67.nancy.grid5000.fr', 'kubernetes.io/os': 'linux', 'node-role.kubernetes.io/worker': 'true'}\n",
      "gros-68.nancy.grid5000.fr\t{'beta.kubernetes.io/arch': 'amd64', 'beta.kubernetes.io/os': 'linux', 'kubernetes.io/arch': 'amd64', 'kubernetes.io/hostname': 'gros-68.nancy.grid5000.fr', 'kubernetes.io/os': 'linux', 'node-role.kubernetes.io/worker': 'true'}\n",
      "gros-69.nancy.grid5000.fr\t{'beta.kubernetes.io/arch': 'amd64', 'beta.kubernetes.io/os': 'linux', 'kubernetes.io/arch': 'amd64', 'kubernetes.io/hostname': 'gros-69.nancy.grid5000.fr', 'kubernetes.io/os': 'linux', 'node-role.kubernetes.io/worker': 'true'}\n",
      "gros-7.nancy.grid5000.fr\t{'beta.kubernetes.io/arch': 'amd64', 'beta.kubernetes.io/os': 'linux', 'kubernetes.io/arch': 'amd64', 'kubernetes.io/hostname': 'gros-7.nancy.grid5000.fr', 'kubernetes.io/os': 'linux', 'node-role.kubernetes.io/worker': 'true'}\n",
      "gros-70.nancy.grid5000.fr\t{'beta.kubernetes.io/arch': 'amd64', 'beta.kubernetes.io/os': 'linux', 'kubernetes.io/arch': 'amd64', 'kubernetes.io/hostname': 'gros-70.nancy.grid5000.fr', 'kubernetes.io/os': 'linux', 'node-role.kubernetes.io/worker': 'true'}\n",
      "gros-71.nancy.grid5000.fr\t{'beta.kubernetes.io/arch': 'amd64', 'beta.kubernetes.io/os': 'linux', 'kubernetes.io/arch': 'amd64', 'kubernetes.io/hostname': 'gros-71.nancy.grid5000.fr', 'kubernetes.io/os': 'linux', 'node-role.kubernetes.io/worker': 'true'}\n",
      "gros-72.nancy.grid5000.fr\t{'beta.kubernetes.io/arch': 'amd64', 'beta.kubernetes.io/os': 'linux', 'kubernetes.io/arch': 'amd64', 'kubernetes.io/hostname': 'gros-72.nancy.grid5000.fr', 'kubernetes.io/os': 'linux', 'node-role.kubernetes.io/worker': 'true'}\n",
      "gros-73.nancy.grid5000.fr\t{'beta.kubernetes.io/arch': 'amd64', 'beta.kubernetes.io/os': 'linux', 'kubernetes.io/arch': 'amd64', 'kubernetes.io/hostname': 'gros-73.nancy.grid5000.fr', 'kubernetes.io/os': 'linux', 'node-role.kubernetes.io/worker': 'true'}\n",
      "gros-74.nancy.grid5000.fr\t{'beta.kubernetes.io/arch': 'amd64', 'beta.kubernetes.io/os': 'linux', 'kubernetes.io/arch': 'amd64', 'kubernetes.io/hostname': 'gros-74.nancy.grid5000.fr', 'kubernetes.io/os': 'linux', 'node-role.kubernetes.io/worker': 'true'}\n",
      "gros-75.nancy.grid5000.fr\t{'beta.kubernetes.io/arch': 'amd64', 'beta.kubernetes.io/os': 'linux', 'kubernetes.io/arch': 'amd64', 'kubernetes.io/hostname': 'gros-75.nancy.grid5000.fr', 'kubernetes.io/os': 'linux', 'node-role.kubernetes.io/worker': 'true'}\n",
      "gros-76.nancy.grid5000.fr\t{'beta.kubernetes.io/arch': 'amd64', 'beta.kubernetes.io/os': 'linux', 'kubernetes.io/arch': 'amd64', 'kubernetes.io/hostname': 'gros-76.nancy.grid5000.fr', 'kubernetes.io/os': 'linux', 'node-role.kubernetes.io/worker': 'true'}\n",
      "gros-78.nancy.grid5000.fr\t{'beta.kubernetes.io/arch': 'amd64', 'beta.kubernetes.io/os': 'linux', 'kubernetes.io/arch': 'amd64', 'kubernetes.io/hostname': 'gros-78.nancy.grid5000.fr', 'kubernetes.io/os': 'linux', 'node-role.kubernetes.io/worker': 'true'}\n"
     ]
    }
   ],
   "source": [
    "init_label_nodes(jobmanagers_qty=2, kafka_qty=0)\n",
    "#init_label_nodes(jobmanagers_qty=8, kafka_qty=16)"
   ]
  },
  {
   "cell_type": "code",
   "execution_count": 7,
   "id": "d86dd1e4-70be-4f1c-9cad-a88cd72d8a50",
   "metadata": {},
   "outputs": [
    {
     "name": "stdout",
     "output_type": "stream",
     "text": [
      "gros-118.nancy.grid5000.fr\t{'beta.kubernetes.io/arch': 'amd64', 'beta.kubernetes.io/os': 'linux', 'kubernetes.io/arch': 'amd64', 'kubernetes.io/hostname': 'gros-118.nancy.grid5000.fr', 'kubernetes.io/os': 'linux', 'node-role.kubernetes.io/controlplane': 'true', 'node-role.kubernetes.io/etcd': 'true'}\n",
      "gros-119.nancy.grid5000.fr\t{'beta.kubernetes.io/arch': 'amd64', 'beta.kubernetes.io/os': 'linux', 'kubernetes.io/arch': 'amd64', 'kubernetes.io/hostname': 'gros-119.nancy.grid5000.fr', 'kubernetes.io/os': 'linux', 'node-role.kubernetes.io/worker': 'true', 'tier': 'manager'}\n",
      "gros-12.nancy.grid5000.fr\t{'beta.kubernetes.io/arch': 'amd64', 'beta.kubernetes.io/os': 'linux', 'kubernetes.io/arch': 'amd64', 'kubernetes.io/hostname': 'gros-12.nancy.grid5000.fr', 'kubernetes.io/os': 'linux', 'node-role.kubernetes.io/worker': 'true', 'tier': 'jobmanager'}\n",
      "gros-121.nancy.grid5000.fr\t{'beta.kubernetes.io/arch': 'amd64', 'beta.kubernetes.io/os': 'linux', 'kubernetes.io/arch': 'amd64', 'kubernetes.io/hostname': 'gros-121.nancy.grid5000.fr', 'kubernetes.io/os': 'linux', 'node-role.kubernetes.io/worker': 'true', 'tier': 'jobmanager'}\n",
      "gros-122.nancy.grid5000.fr\t{'beta.kubernetes.io/arch': 'amd64', 'beta.kubernetes.io/os': 'linux', 'kubernetes.io/arch': 'amd64', 'kubernetes.io/hostname': 'gros-122.nancy.grid5000.fr', 'kubernetes.io/os': 'linux', 'node-role.kubernetes.io/worker': 'true', 'tier': 'taskmanager'}\n",
      "gros-123.nancy.grid5000.fr\t{'beta.kubernetes.io/arch': 'amd64', 'beta.kubernetes.io/os': 'linux', 'kubernetes.io/arch': 'amd64', 'kubernetes.io/hostname': 'gros-123.nancy.grid5000.fr', 'kubernetes.io/os': 'linux', 'node-role.kubernetes.io/worker': 'true', 'tier': 'taskmanager'}\n",
      "gros-14.nancy.grid5000.fr\t{'beta.kubernetes.io/arch': 'amd64', 'beta.kubernetes.io/os': 'linux', 'kubernetes.io/arch': 'amd64', 'kubernetes.io/hostname': 'gros-14.nancy.grid5000.fr', 'kubernetes.io/os': 'linux', 'node-role.kubernetes.io/worker': 'true', 'tier': 'taskmanager'}\n",
      "gros-17.nancy.grid5000.fr\t{'beta.kubernetes.io/arch': 'amd64', 'beta.kubernetes.io/os': 'linux', 'kubernetes.io/arch': 'amd64', 'kubernetes.io/hostname': 'gros-17.nancy.grid5000.fr', 'kubernetes.io/os': 'linux', 'node-role.kubernetes.io/worker': 'true', 'tier': 'taskmanager'}\n",
      "gros-22.nancy.grid5000.fr\t{'beta.kubernetes.io/arch': 'amd64', 'beta.kubernetes.io/os': 'linux', 'kubernetes.io/arch': 'amd64', 'kubernetes.io/hostname': 'gros-22.nancy.grid5000.fr', 'kubernetes.io/os': 'linux', 'node-role.kubernetes.io/worker': 'true', 'tier': 'taskmanager'}\n",
      "gros-28.nancy.grid5000.fr\t{'beta.kubernetes.io/arch': 'amd64', 'beta.kubernetes.io/os': 'linux', 'kubernetes.io/arch': 'amd64', 'kubernetes.io/hostname': 'gros-28.nancy.grid5000.fr', 'kubernetes.io/os': 'linux', 'node-role.kubernetes.io/worker': 'true', 'tier': 'taskmanager'}\n",
      "gros-3.nancy.grid5000.fr\t{'beta.kubernetes.io/arch': 'amd64', 'beta.kubernetes.io/os': 'linux', 'kubernetes.io/arch': 'amd64', 'kubernetes.io/hostname': 'gros-3.nancy.grid5000.fr', 'kubernetes.io/os': 'linux', 'node-role.kubernetes.io/worker': 'true', 'tier': 'taskmanager'}\n",
      "gros-45.nancy.grid5000.fr\t{'beta.kubernetes.io/arch': 'amd64', 'beta.kubernetes.io/os': 'linux', 'kubernetes.io/arch': 'amd64', 'kubernetes.io/hostname': 'gros-45.nancy.grid5000.fr', 'kubernetes.io/os': 'linux', 'node-role.kubernetes.io/worker': 'true', 'tier': 'taskmanager'}\n",
      "gros-49.nancy.grid5000.fr\t{'beta.kubernetes.io/arch': 'amd64', 'beta.kubernetes.io/os': 'linux', 'kubernetes.io/arch': 'amd64', 'kubernetes.io/hostname': 'gros-49.nancy.grid5000.fr', 'kubernetes.io/os': 'linux', 'node-role.kubernetes.io/worker': 'true', 'tier': 'taskmanager'}\n",
      "gros-5.nancy.grid5000.fr\t{'beta.kubernetes.io/arch': 'amd64', 'beta.kubernetes.io/os': 'linux', 'kubernetes.io/arch': 'amd64', 'kubernetes.io/hostname': 'gros-5.nancy.grid5000.fr', 'kubernetes.io/os': 'linux', 'node-role.kubernetes.io/worker': 'true', 'tier': 'taskmanager'}\n",
      "gros-50.nancy.grid5000.fr\t{'beta.kubernetes.io/arch': 'amd64', 'beta.kubernetes.io/os': 'linux', 'kubernetes.io/arch': 'amd64', 'kubernetes.io/hostname': 'gros-50.nancy.grid5000.fr', 'kubernetes.io/os': 'linux', 'node-role.kubernetes.io/worker': 'true', 'tier': 'taskmanager'}\n",
      "gros-51.nancy.grid5000.fr\t{'beta.kubernetes.io/arch': 'amd64', 'beta.kubernetes.io/os': 'linux', 'kubernetes.io/arch': 'amd64', 'kubernetes.io/hostname': 'gros-51.nancy.grid5000.fr', 'kubernetes.io/os': 'linux', 'node-role.kubernetes.io/worker': 'true', 'tier': 'taskmanager'}\n",
      "gros-52.nancy.grid5000.fr\t{'beta.kubernetes.io/arch': 'amd64', 'beta.kubernetes.io/os': 'linux', 'kubernetes.io/arch': 'amd64', 'kubernetes.io/hostname': 'gros-52.nancy.grid5000.fr', 'kubernetes.io/os': 'linux', 'node-role.kubernetes.io/worker': 'true', 'tier': 'taskmanager'}\n",
      "gros-53.nancy.grid5000.fr\t{'beta.kubernetes.io/arch': 'amd64', 'beta.kubernetes.io/os': 'linux', 'kubernetes.io/arch': 'amd64', 'kubernetes.io/hostname': 'gros-53.nancy.grid5000.fr', 'kubernetes.io/os': 'linux', 'node-role.kubernetes.io/worker': 'true', 'tier': 'taskmanager'}\n",
      "gros-54.nancy.grid5000.fr\t{'beta.kubernetes.io/arch': 'amd64', 'beta.kubernetes.io/os': 'linux', 'kubernetes.io/arch': 'amd64', 'kubernetes.io/hostname': 'gros-54.nancy.grid5000.fr', 'kubernetes.io/os': 'linux', 'node-role.kubernetes.io/worker': 'true', 'tier': 'taskmanager'}\n",
      "gros-55.nancy.grid5000.fr\t{'beta.kubernetes.io/arch': 'amd64', 'beta.kubernetes.io/os': 'linux', 'kubernetes.io/arch': 'amd64', 'kubernetes.io/hostname': 'gros-55.nancy.grid5000.fr', 'kubernetes.io/os': 'linux', 'node-role.kubernetes.io/worker': 'true', 'tier': 'taskmanager'}\n",
      "gros-56.nancy.grid5000.fr\t{'beta.kubernetes.io/arch': 'amd64', 'beta.kubernetes.io/os': 'linux', 'kubernetes.io/arch': 'amd64', 'kubernetes.io/hostname': 'gros-56.nancy.grid5000.fr', 'kubernetes.io/os': 'linux', 'node-role.kubernetes.io/worker': 'true', 'tier': 'taskmanager'}\n",
      "gros-57.nancy.grid5000.fr\t{'beta.kubernetes.io/arch': 'amd64', 'beta.kubernetes.io/os': 'linux', 'kubernetes.io/arch': 'amd64', 'kubernetes.io/hostname': 'gros-57.nancy.grid5000.fr', 'kubernetes.io/os': 'linux', 'node-role.kubernetes.io/worker': 'true', 'tier': 'taskmanager'}\n",
      "gros-58.nancy.grid5000.fr\t{'beta.kubernetes.io/arch': 'amd64', 'beta.kubernetes.io/os': 'linux', 'kubernetes.io/arch': 'amd64', 'kubernetes.io/hostname': 'gros-58.nancy.grid5000.fr', 'kubernetes.io/os': 'linux', 'node-role.kubernetes.io/worker': 'true', 'tier': 'taskmanager'}\n",
      "gros-59.nancy.grid5000.fr\t{'beta.kubernetes.io/arch': 'amd64', 'beta.kubernetes.io/os': 'linux', 'kubernetes.io/arch': 'amd64', 'kubernetes.io/hostname': 'gros-59.nancy.grid5000.fr', 'kubernetes.io/os': 'linux', 'node-role.kubernetes.io/worker': 'true', 'tier': 'taskmanager'}\n",
      "gros-6.nancy.grid5000.fr\t{'beta.kubernetes.io/arch': 'amd64', 'beta.kubernetes.io/os': 'linux', 'kubernetes.io/arch': 'amd64', 'kubernetes.io/hostname': 'gros-6.nancy.grid5000.fr', 'kubernetes.io/os': 'linux', 'node-role.kubernetes.io/worker': 'true', 'tier': 'taskmanager'}\n",
      "gros-60.nancy.grid5000.fr\t{'beta.kubernetes.io/arch': 'amd64', 'beta.kubernetes.io/os': 'linux', 'kubernetes.io/arch': 'amd64', 'kubernetes.io/hostname': 'gros-60.nancy.grid5000.fr', 'kubernetes.io/os': 'linux', 'node-role.kubernetes.io/worker': 'true', 'tier': 'taskmanager'}\n",
      "gros-61.nancy.grid5000.fr\t{'beta.kubernetes.io/arch': 'amd64', 'beta.kubernetes.io/os': 'linux', 'kubernetes.io/arch': 'amd64', 'kubernetes.io/hostname': 'gros-61.nancy.grid5000.fr', 'kubernetes.io/os': 'linux', 'node-role.kubernetes.io/worker': 'true', 'tier': 'taskmanager'}\n",
      "gros-62.nancy.grid5000.fr\t{'beta.kubernetes.io/arch': 'amd64', 'beta.kubernetes.io/os': 'linux', 'kubernetes.io/arch': 'amd64', 'kubernetes.io/hostname': 'gros-62.nancy.grid5000.fr', 'kubernetes.io/os': 'linux', 'node-role.kubernetes.io/worker': 'true', 'tier': 'taskmanager'}\n",
      "gros-63.nancy.grid5000.fr\t{'beta.kubernetes.io/arch': 'amd64', 'beta.kubernetes.io/os': 'linux', 'kubernetes.io/arch': 'amd64', 'kubernetes.io/hostname': 'gros-63.nancy.grid5000.fr', 'kubernetes.io/os': 'linux', 'node-role.kubernetes.io/worker': 'true', 'tier': 'taskmanager'}\n",
      "gros-64.nancy.grid5000.fr\t{'beta.kubernetes.io/arch': 'amd64', 'beta.kubernetes.io/os': 'linux', 'kubernetes.io/arch': 'amd64', 'kubernetes.io/hostname': 'gros-64.nancy.grid5000.fr', 'kubernetes.io/os': 'linux', 'node-role.kubernetes.io/worker': 'true', 'tier': 'taskmanager'}\n",
      "gros-65.nancy.grid5000.fr\t{'beta.kubernetes.io/arch': 'amd64', 'beta.kubernetes.io/os': 'linux', 'kubernetes.io/arch': 'amd64', 'kubernetes.io/hostname': 'gros-65.nancy.grid5000.fr', 'kubernetes.io/os': 'linux', 'node-role.kubernetes.io/worker': 'true', 'tier': 'taskmanager'}\n",
      "gros-66.nancy.grid5000.fr\t{'beta.kubernetes.io/arch': 'amd64', 'beta.kubernetes.io/os': 'linux', 'kubernetes.io/arch': 'amd64', 'kubernetes.io/hostname': 'gros-66.nancy.grid5000.fr', 'kubernetes.io/os': 'linux', 'node-role.kubernetes.io/worker': 'true', 'tier': 'taskmanager'}\n",
      "gros-67.nancy.grid5000.fr\t{'beta.kubernetes.io/arch': 'amd64', 'beta.kubernetes.io/os': 'linux', 'kubernetes.io/arch': 'amd64', 'kubernetes.io/hostname': 'gros-67.nancy.grid5000.fr', 'kubernetes.io/os': 'linux', 'node-role.kubernetes.io/worker': 'true', 'tier': 'taskmanager'}\n",
      "gros-68.nancy.grid5000.fr\t{'beta.kubernetes.io/arch': 'amd64', 'beta.kubernetes.io/os': 'linux', 'kubernetes.io/arch': 'amd64', 'kubernetes.io/hostname': 'gros-68.nancy.grid5000.fr', 'kubernetes.io/os': 'linux', 'node-role.kubernetes.io/worker': 'true', 'tier': 'taskmanager'}\n",
      "gros-69.nancy.grid5000.fr\t{'beta.kubernetes.io/arch': 'amd64', 'beta.kubernetes.io/os': 'linux', 'kubernetes.io/arch': 'amd64', 'kubernetes.io/hostname': 'gros-69.nancy.grid5000.fr', 'kubernetes.io/os': 'linux', 'node-role.kubernetes.io/worker': 'true', 'tier': 'taskmanager'}\n",
      "gros-7.nancy.grid5000.fr\t{'beta.kubernetes.io/arch': 'amd64', 'beta.kubernetes.io/os': 'linux', 'kubernetes.io/arch': 'amd64', 'kubernetes.io/hostname': 'gros-7.nancy.grid5000.fr', 'kubernetes.io/os': 'linux', 'node-role.kubernetes.io/worker': 'true', 'tier': 'taskmanager'}\n",
      "gros-70.nancy.grid5000.fr\t{'beta.kubernetes.io/arch': 'amd64', 'beta.kubernetes.io/os': 'linux', 'kubernetes.io/arch': 'amd64', 'kubernetes.io/hostname': 'gros-70.nancy.grid5000.fr', 'kubernetes.io/os': 'linux', 'node-role.kubernetes.io/worker': 'true', 'tier': 'taskmanager'}\n",
      "gros-71.nancy.grid5000.fr\t{'beta.kubernetes.io/arch': 'amd64', 'beta.kubernetes.io/os': 'linux', 'kubernetes.io/arch': 'amd64', 'kubernetes.io/hostname': 'gros-71.nancy.grid5000.fr', 'kubernetes.io/os': 'linux', 'node-role.kubernetes.io/worker': 'true', 'tier': 'taskmanager'}\n",
      "gros-72.nancy.grid5000.fr\t{'beta.kubernetes.io/arch': 'amd64', 'beta.kubernetes.io/os': 'linux', 'kubernetes.io/arch': 'amd64', 'kubernetes.io/hostname': 'gros-72.nancy.grid5000.fr', 'kubernetes.io/os': 'linux', 'node-role.kubernetes.io/worker': 'true', 'tier': 'taskmanager'}\n",
      "gros-73.nancy.grid5000.fr\t{'beta.kubernetes.io/arch': 'amd64', 'beta.kubernetes.io/os': 'linux', 'kubernetes.io/arch': 'amd64', 'kubernetes.io/hostname': 'gros-73.nancy.grid5000.fr', 'kubernetes.io/os': 'linux', 'node-role.kubernetes.io/worker': 'true', 'tier': 'taskmanager'}\n",
      "gros-74.nancy.grid5000.fr\t{'beta.kubernetes.io/arch': 'amd64', 'beta.kubernetes.io/os': 'linux', 'kubernetes.io/arch': 'amd64', 'kubernetes.io/hostname': 'gros-74.nancy.grid5000.fr', 'kubernetes.io/os': 'linux', 'node-role.kubernetes.io/worker': 'true', 'tier': 'taskmanager'}\n",
      "gros-75.nancy.grid5000.fr\t{'beta.kubernetes.io/arch': 'amd64', 'beta.kubernetes.io/os': 'linux', 'kubernetes.io/arch': 'amd64', 'kubernetes.io/hostname': 'gros-75.nancy.grid5000.fr', 'kubernetes.io/os': 'linux', 'node-role.kubernetes.io/worker': 'true', 'tier': 'taskmanager'}\n",
      "gros-76.nancy.grid5000.fr\t{'beta.kubernetes.io/arch': 'amd64', 'beta.kubernetes.io/os': 'linux', 'kubernetes.io/arch': 'amd64', 'kubernetes.io/hostname': 'gros-76.nancy.grid5000.fr', 'kubernetes.io/os': 'linux', 'node-role.kubernetes.io/worker': 'true', 'tier': 'taskmanager'}\n",
      "gros-78.nancy.grid5000.fr\t{'beta.kubernetes.io/arch': 'amd64', 'beta.kubernetes.io/os': 'linux', 'kubernetes.io/arch': 'amd64', 'kubernetes.io/hostname': 'gros-78.nancy.grid5000.fr', 'kubernetes.io/os': 'linux', 'node-role.kubernetes.io/worker': 'true', 'tier': 'taskmanager'}\n"
     ]
    }
   ],
   "source": [
    "(manager_node, jobmanager_node, taskmanager_nodes) = get_label_nodes()"
   ]
  },
  {
   "cell_type": "code",
   "execution_count": 4,
   "id": "d64a7adf-953b-4685-b96b-7c4448c84270",
   "metadata": {},
   "outputs": [
    {
     "name": "stdout",
     "output_type": "stream",
     "text": [
      "../common/common_modules.sh\n",
      "../common/common_modules.sh\n",
      "Log 0 - 2023-06-21 22:53:02 : error: unable to recognize \"./cluster-role-binding-default.yaml\": no matches for kind \"ClusterRoleBinding\" in version \"rbac.authorization.k8s.io/v1beta1\"\n",
      "Log 0 - 2023-06-21 22:53:03 : customresourcedefinition.apiextensions.k8s.io/certificaterequests.cert-manager.io unchanged\n",
      "Log 0 - 2023-06-21 22:53:03 : customresourcedefinition.apiextensions.k8s.io/certificates.cert-manager.io unchanged\n",
      "Log 0 - 2023-06-21 22:53:03 : customresourcedefinition.apiextensions.k8s.io/challenges.acme.cert-manager.io unchanged\n",
      "Log 0 - 2023-06-21 22:53:03 : customresourcedefinition.apiextensions.k8s.io/clusterissuers.cert-manager.io unchanged\n",
      "Log 0 - 2023-06-21 22:53:03 : customresourcedefinition.apiextensions.k8s.io/issuers.cert-manager.io unchanged\n",
      "Log 0 - 2023-06-21 22:53:03 : customresourcedefinition.apiextensions.k8s.io/orders.acme.cert-manager.io unchanged\n",
      "Log 0 - 2023-06-21 22:53:03 : namespace/cert-manager unchanged\n",
      "Log 0 - 2023-06-21 22:53:03 : serviceaccount/cert-manager-cainjector unchanged\n",
      "Log 0 - 2023-06-21 22:53:03 : serviceaccount/cert-manager unchanged\n",
      "Log 0 - 2023-06-21 22:53:03 : serviceaccount/cert-manager-webhook unchanged\n",
      "Log 0 - 2023-06-21 22:53:03 : clusterrole.rbac.authorization.k8s.io/cert-manager-cainjector unchanged\n",
      "Log 0 - 2023-06-21 22:53:03 : clusterrole.rbac.authorization.k8s.io/cert-manager-controller-issuers unchanged\n",
      "Log 0 - 2023-06-21 22:53:03 : clusterrole.rbac.authorization.k8s.io/cert-manager-controller-clusterissuers unchanged\n",
      "Log 0 - 2023-06-21 22:53:03 : clusterrole.rbac.authorization.k8s.io/cert-manager-controller-certificates unchanged\n",
      "Log 0 - 2023-06-21 22:53:03 : clusterrole.rbac.authorization.k8s.io/cert-manager-controller-orders unchanged\n",
      "Log 0 - 2023-06-21 22:53:03 : clusterrole.rbac.authorization.k8s.io/cert-manager-controller-challenges unchanged\n",
      "Log 0 - 2023-06-21 22:53:03 : clusterrole.rbac.authorization.k8s.io/cert-manager-controller-ingress-shim unchanged\n",
      "Log 0 - 2023-06-21 22:53:03 : clusterrole.rbac.authorization.k8s.io/cert-manager-view unchanged\n",
      "Log 0 - 2023-06-21 22:53:03 : clusterrole.rbac.authorization.k8s.io/cert-manager-edit unchanged\n",
      "Log 0 - 2023-06-21 22:53:03 : clusterrole.rbac.authorization.k8s.io/cert-manager-controller-approve:cert-manager-io unchanged\n",
      "Log 0 - 2023-06-21 22:53:03 : clusterrole.rbac.authorization.k8s.io/cert-manager-controller-certificatesigningrequests unchanged\n",
      "Log 0 - 2023-06-21 22:53:03 : clusterrole.rbac.authorization.k8s.io/cert-manager-webhook:subjectaccessreviews unchanged\n",
      "Log 0 - 2023-06-21 22:53:03 : clusterrolebinding.rbac.authorization.k8s.io/cert-manager-cainjector unchanged\n",
      "Log 0 - 2023-06-21 22:53:03 : clusterrolebinding.rbac.authorization.k8s.io/cert-manager-controller-issuers unchanged\n",
      "Log 0 - 2023-06-21 22:53:03 : clusterrolebinding.rbac.authorization.k8s.io/cert-manager-controller-clusterissuers unchanged\n",
      "Log 0 - 2023-06-21 22:53:03 : clusterrolebinding.rbac.authorization.k8s.io/cert-manager-controller-certificates unchanged\n",
      "Log 0 - 2023-06-21 22:53:03 : clusterrolebinding.rbac.authorization.k8s.io/cert-manager-controller-orders unchanged\n",
      "Log 0 - 2023-06-21 22:53:03 : clusterrolebinding.rbac.authorization.k8s.io/cert-manager-controller-challenges unchanged\n",
      "Log 0 - 2023-06-21 22:53:03 : clusterrolebinding.rbac.authorization.k8s.io/cert-manager-controller-ingress-shim unchanged\n",
      "Log 0 - 2023-06-21 22:53:03 : clusterrolebinding.rbac.authorization.k8s.io/cert-manager-controller-approve:cert-manager-io unchanged\n",
      "Log 0 - 2023-06-21 22:53:03 : clusterrolebinding.rbac.authorization.k8s.io/cert-manager-controller-certificatesigningrequests unchanged\n",
      "Log 0 - 2023-06-21 22:53:03 : clusterrolebinding.rbac.authorization.k8s.io/cert-manager-webhook:subjectaccessreviews configured\n",
      "Log 0 - 2023-06-21 22:53:03 : role.rbac.authorization.k8s.io/cert-manager-cainjector:leaderelection unchanged\n",
      "Log 0 - 2023-06-21 22:53:03 : role.rbac.authorization.k8s.io/cert-manager:leaderelection unchanged\n",
      "Log 0 - 2023-06-21 22:53:03 : role.rbac.authorization.k8s.io/cert-manager-webhook:dynamic-serving unchanged\n",
      "Log 0 - 2023-06-21 22:53:03 : rolebinding.rbac.authorization.k8s.io/cert-manager-cainjector:leaderelection unchanged\n",
      "Log 0 - 2023-06-21 22:53:03 : rolebinding.rbac.authorization.k8s.io/cert-manager:leaderelection configured\n",
      "Log 0 - 2023-06-21 22:53:03 : rolebinding.rbac.authorization.k8s.io/cert-manager-webhook:dynamic-serving configured\n",
      "Log 0 - 2023-06-21 22:53:03 : service/cert-manager unchanged\n",
      "Log 0 - 2023-06-21 22:53:03 : service/cert-manager-webhook unchanged\n",
      "Log 0 - 2023-06-21 22:53:03 : deployment.apps/cert-manager-cainjector unchanged\n",
      "Log 0 - 2023-06-21 22:53:03 : deployment.apps/cert-manager unchanged\n",
      "Log 0 - 2023-06-21 22:53:03 : deployment.apps/cert-manager-webhook unchanged\n",
      "Log 0 - 2023-06-21 22:53:03 : mutatingwebhookconfiguration.admissionregistration.k8s.io/cert-manager-webhook configured\n",
      "Log 0 - 2023-06-21 22:53:03 : validatingwebhookconfiguration.admissionregistration.k8s.io/cert-manager-webhook configured\n",
      "Log 0 - 2023-06-21 22:53:03 : deployment \"cert-manager-webhook\" successfully rolled out\n",
      "Log 0 - 2023-06-21 22:53:04 : namespace/flink-operator-system unchanged\n",
      "Log 0 - 2023-06-21 22:53:04 : customresourcedefinition.apiextensions.k8s.io/flinkclusters.flinkoperator.k8s.io unchanged\n",
      "Log 0 - 2023-06-21 22:53:05 : serviceaccount/flink-operator-controller-manager unchanged\n",
      "Log 0 - 2023-06-21 22:53:05 : role.rbac.authorization.k8s.io/flink-operator-leader-election-role unchanged\n",
      "Log 0 - 2023-06-21 22:53:05 : clusterrole.rbac.authorization.k8s.io/flink-operator-manager-role configured\n",
      "Log 0 - 2023-06-21 22:53:05 : clusterrole.rbac.authorization.k8s.io/flink-operator-metrics-reader unchanged\n",
      "Log 0 - 2023-06-21 22:53:05 : clusterrole.rbac.authorization.k8s.io/flink-operator-proxy-role unchanged\n",
      "Log 0 - 2023-06-21 22:53:05 : rolebinding.rbac.authorization.k8s.io/flink-operator-leader-election-rolebinding unchanged\n",
      "Log 0 - 2023-06-21 22:53:05 : clusterrolebinding.rbac.authorization.k8s.io/flink-operator-manager-rolebinding unchanged\n",
      "Log 0 - 2023-06-21 22:53:05 : clusterrolebinding.rbac.authorization.k8s.io/flink-operator-proxy-rolebinding unchanged\n",
      "Log 0 - 2023-06-21 22:53:05 : service/flink-operator-controller-manager-metrics-service unchanged\n",
      "Log 0 - 2023-06-21 22:53:05 : service/flink-operator-webhook-service unchanged\n",
      "Log 0 - 2023-06-21 22:53:05 : deployment.apps/flink-operator-controller-manager unchanged\n",
      "Log 0 - 2023-06-21 22:53:05 : certificate.cert-manager.io/flink-operator-serving-cert unchanged\n",
      "Log 0 - 2023-06-21 22:53:05 : issuer.cert-manager.io/flink-operator-selfsigned-issuer unchanged\n",
      "Log 0 - 2023-06-21 22:53:05 : mutatingwebhookconfiguration.admissionregistration.k8s.io/flink-operator-mutating-webhook-configuration configured\n",
      "Log 0 - 2023-06-21 22:53:05 : validatingwebhookconfiguration.admissionregistration.k8s.io/flink-operator-validating-webhook-configuration configured\n",
      "Log 0 - 2023-06-21 22:53:05 : Error from server (AlreadyExists): namespaces \"manager\" already exists\n",
      "Log 0 - 2023-06-21 22:53:05 : namespace/local-path-storage unchanged\n",
      "Log 0 - 2023-06-21 22:53:05 : serviceaccount/local-path-provisioner-service-account unchanged\n",
      "Log 0 - 2023-06-21 22:53:05 : clusterrole.rbac.authorization.k8s.io/local-path-provisioner-role unchanged\n",
      "Log 0 - 2023-06-21 22:53:05 : clusterrolebinding.rbac.authorization.k8s.io/local-path-provisioner-bind unchanged\n",
      "Log 0 - 2023-06-21 22:53:05 : deployment.apps/local-path-provisioner unchanged\n",
      "Log 0 - 2023-06-21 22:53:05 : storageclass.storage.k8s.io/local-path unchanged\n",
      "Log 0 - 2023-06-21 22:53:05 : configmap/local-path-config configured\n",
      "Log 0 - 2023-06-21 22:53:06 : configmap/local-path-config configured\n",
      "Log 0 - 2023-06-21 22:53:06 : persistentvolumeclaim/pvc-manager-minio unchanged\n",
      "Log 0 - 2023-06-21 22:53:36 : WARNING: Kubernetes configuration file is group-readable. This is insecure. Location: /home/grosinosky/.kube/config\n",
      "Log 0 - 2023-06-21 22:53:36 : WARNING: Kubernetes configuration file is world-readable. This is insecure. Location: /home/grosinosky/.kube/config\n",
      "Log 0 - 2023-06-21 22:53:36 : \"minio\" already exists with the same configuration, skipping\n",
      "Log 0 - 2023-06-21 22:53:36 : WARNING: Kubernetes configuration file is group-readable. This is insecure. Location: /home/grosinosky/.kube/config\n",
      "Log 0 - 2023-06-21 22:53:36 : WARNING: Kubernetes configuration file is world-readable. This is insecure. Location: /home/grosinosky/.kube/config\n",
      "Log 0 - 2023-06-21 22:53:36 : Hang tight while we grab the latest from your chart repositories...\n",
      "Log 0 - 2023-06-21 22:53:36 : ...Successfully got an update from the \"cloudhut\" chart repository\n",
      "Log 0 - 2023-06-21 22:53:36 : ...Successfully got an update from the \"gradiant-bigdata\" chart repository\n",
      "Log 0 - 2023-06-21 22:53:36 : ...Successfully got an update from the \"minio\" chart repository\n",
      "Log 0 - 2023-06-21 22:53:37 : ...Successfully got an update from the \"grafana\" chart repository\n",
      "Log 0 - 2023-06-21 22:53:37 : ...Successfully got an update from the \"prometheus-community\" chart repository\n",
      "Log 0 - 2023-06-21 22:53:38 : ...Successfully got an update from the \"bitnami\" chart repository\n",
      "Log 0 - 2023-06-21 22:53:38 : Update Complete. ⎈Happy Helming!⎈\n",
      "Log 0 - 2023-06-21 22:53:38 : WARNING: Kubernetes configuration file is group-readable. This is insecure. Location: /home/grosinosky/.kube/config\n",
      "Log 0 - 2023-06-21 22:53:38 : WARNING: Kubernetes configuration file is world-readable. This is insecure. Location: /home/grosinosky/.kube/config\n",
      "Log 0 - 2023-06-21 22:53:38 : Error: cannot re-use a name that is still in use\n",
      "Log 0 - 2023-06-21 22:53:38 : WARNING: Kubernetes configuration file is group-readable. This is insecure. Location: /home/grosinosky/.kube/config\n",
      "Log 0 - 2023-06-21 22:53:38 : WARNING: Kubernetes configuration file is world-readable. This is insecure. Location: /home/grosinosky/.kube/config\n",
      "Log 0 - 2023-06-21 22:53:38 : \"prometheus-community\" already exists with the same configuration, skipping\n",
      "Log 0 - 2023-06-21 22:53:38 : WARNING: Kubernetes configuration file is group-readable. This is insecure. Location: /home/grosinosky/.kube/config\n",
      "Log 0 - 2023-06-21 22:53:38 : WARNING: Kubernetes configuration file is world-readable. This is insecure. Location: /home/grosinosky/.kube/config\n",
      "Log 0 - 2023-06-21 22:53:38 : Hang tight while we grab the latest from your chart repositories...\n",
      "Log 0 - 2023-06-21 22:53:38 : ...Successfully got an update from the \"cloudhut\" chart repository\n",
      "Log 0 - 2023-06-21 22:53:38 : ...Successfully got an update from the \"gradiant-bigdata\" chart repository\n",
      "Log 0 - 2023-06-21 22:53:38 : ...Successfully got an update from the \"minio\" chart repository\n",
      "Log 0 - 2023-06-21 22:53:39 : ...Successfully got an update from the \"grafana\" chart repository\n",
      "Log 0 - 2023-06-21 22:53:39 : ...Successfully got an update from the \"prometheus-community\" chart repository\n",
      "Log 0 - 2023-06-21 22:53:39 : ...Successfully got an update from the \"bitnami\" chart repository\n",
      "Log 0 - 2023-06-21 22:53:39 : Update Complete. ⎈Happy Helming!⎈\n",
      "Log 0 - 2023-06-21 22:53:39 : WARNING: Kubernetes configuration file is group-readable. This is insecure. Location: /home/grosinosky/.kube/config\n",
      "Log 0 - 2023-06-21 22:53:39 : WARNING: Kubernetes configuration file is world-readable. This is insecure. Location: /home/grosinosky/.kube/config\n",
      "Log 0 - 2023-06-21 22:53:41 : Error: cannot re-use a name that is still in use\n",
      "Log 0 - 2023-06-21 22:53:41 : podmonitor.monitoring.coreos.com/flink-pod-monitor unchanged\n",
      "Log 0 - 2023-06-21 22:53:41 : WARNING: Kubernetes configuration file is group-readable. This is insecure. Location: /home/grosinosky/.kube/config\n",
      "Log 0 - 2023-06-21 22:53:41 : WARNING: Kubernetes configuration file is world-readable. This is insecure. Location: /home/grosinosky/.kube/config\n",
      "Log 0 - 2023-06-21 22:53:41 : \"grafana\" already exists with the same configuration, skipping\n",
      "Log 0 - 2023-06-21 22:53:41 : WARNING: Kubernetes configuration file is group-readable. This is insecure. Location: /home/grosinosky/.kube/config\n",
      "Log 0 - 2023-06-21 22:53:41 : WARNING: Kubernetes configuration file is world-readable. This is insecure. Location: /home/grosinosky/.kube/config\n",
      "Log 0 - 2023-06-21 22:53:41 : Hang tight while we grab the latest from your chart repositories...\n",
      "Log 0 - 2023-06-21 22:53:41 : ...Successfully got an update from the \"gradiant-bigdata\" chart repository\n",
      "Log 0 - 2023-06-21 22:53:41 : ...Successfully got an update from the \"minio\" chart repository\n",
      "Log 0 - 2023-06-21 22:53:41 : ...Successfully got an update from the \"cloudhut\" chart repository\n",
      "Log 0 - 2023-06-21 22:53:42 : ...Successfully got an update from the \"grafana\" chart repository\n",
      "Log 0 - 2023-06-21 22:53:42 : ...Successfully got an update from the \"prometheus-community\" chart repository\n",
      "Log 0 - 2023-06-21 22:53:42 : ...Successfully got an update from the \"bitnami\" chart repository\n",
      "Log 0 - 2023-06-21 22:53:42 : Update Complete. ⎈Happy Helming!⎈\n",
      "Log 0 - 2023-06-21 22:53:42 : WARNING: Kubernetes configuration file is group-readable. This is insecure. Location: /home/grosinosky/.kube/config\n",
      "Log 0 - 2023-06-21 22:53:42 : WARNING: Kubernetes configuration file is world-readable. This is insecure. Location: /home/grosinosky/.kube/config\n",
      "Log 0 - 2023-06-21 22:53:44 : W0621 22:53:44.506601 1753807 warnings.go:70] policy/v1beta1 PodSecurityPolicy is deprecated in v1.21+, unavailable in v1.25+\n",
      "Log 0 - 2023-06-21 22:53:44 : W0621 22:53:44.508219 1753807 warnings.go:70] policy/v1beta1 PodSecurityPolicy is deprecated in v1.21+, unavailable in v1.25+\n",
      "Log 0 - 2023-06-21 22:53:44 : W0621 22:53:44.518274 1753807 warnings.go:70] policy/v1beta1 PodSecurityPolicy is deprecated in v1.21+, unavailable in v1.25+\n",
      "Log 0 - 2023-06-21 22:53:44 : W0621 22:53:44.519766 1753807 warnings.go:70] policy/v1beta1 PodSecurityPolicy is deprecated in v1.21+, unavailable in v1.25+\n",
      "Log 0 - 2023-06-21 22:53:44 : W0621 22:53:44.521205 1753807 warnings.go:70] policy/v1beta1 PodSecurityPolicy is deprecated in v1.21+, unavailable in v1.25+\n",
      "Log 0 - 2023-06-21 22:53:44 : W0621 22:53:44.523780 1753807 warnings.go:70] policy/v1beta1 PodSecurityPolicy is deprecated in v1.21+, unavailable in v1.25+\n",
      "Log 0 - 2023-06-21 22:53:44 : Release \"loki\" has been upgraded. Happy Helming!\n",
      "Log 0 - 2023-06-21 22:53:44 : NAME: loki\n",
      "Log 0 - 2023-06-21 22:53:44 : LAST DEPLOYED: Wed Jun 21 22:53:44 2023\n",
      "Log 0 - 2023-06-21 22:53:44 : NAMESPACE: manager\n",
      "Log 0 - 2023-06-21 22:53:44 : STATUS: deployed\n",
      "Log 0 - 2023-06-21 22:53:44 : REVISION: 2\n",
      "Log 0 - 2023-06-21 22:53:44 : NOTES:\n",
      "Log 0 - 2023-06-21 22:53:44 : The Loki stack has been deployed to your cluster. Loki can now be added as a datasource in Grafana.\n",
      "Log 0 - 2023-06-21 22:53:44 : \n",
      "Log 0 - 2023-06-21 22:53:44 : See http://docs.grafana.org/features/datasources/loki/ for more detail.\n",
      "Log 0 - 2023-06-21 22:53:54 : Error from server (AlreadyExists): namespaces \"kafka\" already exists\n",
      "Log 0 - 2023-06-21 22:53:55 : rolebinding.rbac.authorization.k8s.io/strimzi-cluster-operator-entity-operator-delegation unchanged\n",
      "Log 0 - 2023-06-21 22:53:55 : customresourcedefinition.apiextensions.k8s.io/strimzipodsets.core.strimzi.io unchanged\n",
      "Log 0 - 2023-06-21 22:53:55 : clusterrole.rbac.authorization.k8s.io/strimzi-kafka-client unchanged\n",
      "Log 0 - 2023-06-21 22:53:55 : customresourcedefinition.apiextensions.k8s.io/kafkausers.kafka.strimzi.io unchanged\n",
      "Log 0 - 2023-06-21 22:53:55 : clusterrolebinding.rbac.authorization.k8s.io/strimzi-cluster-operator-kafka-broker-delegation unchanged\n",
      "Log 0 - 2023-06-21 22:53:55 : configmap/strimzi-cluster-operator unchanged\n",
      "Log 0 - 2023-06-21 22:53:55 : customresourcedefinition.apiextensions.k8s.io/kafkas.kafka.strimzi.io unchanged\n",
      "Log 0 - 2023-06-21 22:53:55 : clusterrole.rbac.authorization.k8s.io/strimzi-cluster-operator-namespaced unchanged\n",
      "Log 0 - 2023-06-21 22:53:55 : customresourcedefinition.apiextensions.k8s.io/kafkatopics.kafka.strimzi.io unchanged\n",
      "Log 0 - 2023-06-21 22:53:55 : customresourcedefinition.apiextensions.k8s.io/kafkaconnects.kafka.strimzi.io unchanged\n",
      "Log 0 - 2023-06-21 22:53:55 : customresourcedefinition.apiextensions.k8s.io/kafkabridges.kafka.strimzi.io unchanged\n",
      "Log 0 - 2023-06-21 22:53:55 : customresourcedefinition.apiextensions.k8s.io/kafkaconnectors.kafka.strimzi.io unchanged\n",
      "Log 0 - 2023-06-21 22:53:55 : clusterrole.rbac.authorization.k8s.io/strimzi-entity-operator unchanged\n",
      "Log 0 - 2023-06-21 22:53:55 : clusterrole.rbac.authorization.k8s.io/strimzi-cluster-operator-global unchanged\n",
      "Log 0 - 2023-06-21 22:53:55 : clusterrolebinding.rbac.authorization.k8s.io/strimzi-cluster-operator-kafka-client-delegation unchanged\n",
      "Log 0 - 2023-06-21 22:53:55 : customresourcedefinition.apiextensions.k8s.io/kafkamirrormakers.kafka.strimzi.io unchanged\n",
      "Log 0 - 2023-06-21 22:53:55 : clusterrole.rbac.authorization.k8s.io/strimzi-kafka-broker unchanged\n",
      "Log 0 - 2023-06-21 22:53:55 : customresourcedefinition.apiextensions.k8s.io/kafkamirrormaker2s.kafka.strimzi.io unchanged\n",
      "Log 0 - 2023-06-21 22:53:55 : customresourcedefinition.apiextensions.k8s.io/kafkarebalances.kafka.strimzi.io unchanged\n",
      "Log 0 - 2023-06-21 22:53:55 : serviceaccount/strimzi-cluster-operator unchanged\n",
      "Log 0 - 2023-06-21 22:53:55 : deployment.apps/strimzi-cluster-operator configured\n",
      "Log 0 - 2023-06-21 22:53:55 : clusterrolebinding.rbac.authorization.k8s.io/strimzi-cluster-operator unchanged\n",
      "Log 0 - 2023-06-21 22:53:55 : rolebinding.rbac.authorization.k8s.io/strimzi-cluster-operator unchanged\n",
      "Log 0 - 2023-06-21 22:53:55 : WARNING: Kubernetes configuration file is group-readable. This is insecure. Location: /home/grosinosky/.kube/config\n",
      "Log 0 - 2023-06-21 22:53:55 : WARNING: Kubernetes configuration file is world-readable. This is insecure. Location: /home/grosinosky/.kube/config\n",
      "Log 0 - 2023-06-21 22:53:55 : \"cloudhut\" already exists with the same configuration, skipping\n",
      "Log 0 - 2023-06-21 22:53:55 : WARNING: Kubernetes configuration file is group-readable. This is insecure. Location: /home/grosinosky/.kube/config\n",
      "Log 0 - 2023-06-21 22:53:55 : WARNING: Kubernetes configuration file is world-readable. This is insecure. Location: /home/grosinosky/.kube/config\n",
      "Log 0 - 2023-06-21 22:53:55 : Hang tight while we grab the latest from your chart repositories...\n",
      "Log 0 - 2023-06-21 22:53:55 : ...Successfully got an update from the \"cloudhut\" chart repository\n",
      "Log 0 - 2023-06-21 22:53:55 : ...Successfully got an update from the \"gradiant-bigdata\" chart repository\n",
      "Log 0 - 2023-06-21 22:53:55 : ...Successfully got an update from the \"minio\" chart repository\n",
      "Log 0 - 2023-06-21 22:53:56 : ...Successfully got an update from the \"grafana\" chart repository\n",
      "Log 0 - 2023-06-21 22:53:56 : ...Successfully got an update from the \"prometheus-community\" chart repository\n",
      "Log 0 - 2023-06-21 22:53:56 : ...Successfully got an update from the \"bitnami\" chart repository\n",
      "Log 0 - 2023-06-21 22:53:56 : Update Complete. ⎈Happy Helming!⎈\n",
      "Log 0 - 2023-06-21 22:53:57 : configmap/zeppelin-server-conf-map unchanged\n",
      "Log 0 - 2023-06-21 22:53:57 : configmap/zeppelin-server-conf unchanged\n",
      "Log 0 - 2023-06-21 22:53:57 : persistentvolumeclaim/zeppelin-volume unchanged\n",
      "Log 0 - 2023-06-21 22:53:57 : deployment.apps/zeppelin-server configured\n",
      "Log 0 - 2023-06-21 22:53:57 : service/zeppelin-server unchanged\n",
      "Log 0 - 2023-06-21 22:53:57 : serviceaccount/zeppelin-server unchanged\n",
      "Log 0 - 2023-06-21 22:53:57 : clusterrole.rbac.authorization.k8s.io/zeppelin-server-role unchanged\n",
      "Log 0 - 2023-06-21 22:53:57 : rolebinding.rbac.authorization.k8s.io/zeppelin-server-role-binding unchanged\n",
      "Log 0 - 2023-06-21 22:53:57 : ingress.networking.k8s.io/zeppelin created\n",
      "Log 0 - 2023-06-21 22:53:58 : ingress.networking.k8s.io/minio created\n",
      "Log 0 - 2023-06-21 22:53:58 : ingress.networking.k8s.io/grafana created\n",
      "Log 0 - 2023-06-21 22:53:58 : ingress.networking.k8s.io/prometheus created\n",
      "Log 0 - 2023-06-21 22:53:58 : ingress.networking.k8s.io/zeppelin unchanged\n"
     ]
    },
    {
     "data": {
      "text/plain": [
       "0"
      ]
     },
     "execution_count": 4,
     "metadata": {},
     "output_type": "execute_result"
    }
   ],
   "source": [
    "run_command('../common/common_modules.sh')"
   ]
  },
  {
   "cell_type": "code",
   "execution_count": 9,
   "id": "1a318bd3-05d2-4d32-974f-d7dd7d6262ea",
   "metadata": {},
   "outputs": [
    {
     "name": "stdout",
     "output_type": "stream",
     "text": [
      "Access to Minio: http://gros-119.nancy.grid5000.fr:30900\n",
      "Access to Grafana: http://gros-119.nancy.grid5000.fr:30300\n",
      "Access to Prometheus: http://gros-119.nancy.grid5000.fr:30090\n",
      "Job manager address: gros-121.nancy.grid5000.fr\n",
      "Task manager addresses: ['gros-122.nancy.grid5000.fr', 'gros-123.nancy.grid5000.fr', 'gros-14.nancy.grid5000.fr', 'gros-17.nancy.grid5000.fr', 'gros-22.nancy.grid5000.fr', 'gros-28.nancy.grid5000.fr', 'gros-3.nancy.grid5000.fr', 'gros-45.nancy.grid5000.fr', 'gros-49.nancy.grid5000.fr', 'gros-5.nancy.grid5000.fr', 'gros-50.nancy.grid5000.fr', 'gros-51.nancy.grid5000.fr', 'gros-52.nancy.grid5000.fr', 'gros-53.nancy.grid5000.fr', 'gros-54.nancy.grid5000.fr', 'gros-55.nancy.grid5000.fr', 'gros-56.nancy.grid5000.fr', 'gros-57.nancy.grid5000.fr', 'gros-58.nancy.grid5000.fr', 'gros-59.nancy.grid5000.fr', 'gros-6.nancy.grid5000.fr', 'gros-60.nancy.grid5000.fr', 'gros-61.nancy.grid5000.fr', 'gros-62.nancy.grid5000.fr', 'gros-63.nancy.grid5000.fr', 'gros-64.nancy.grid5000.fr', 'gros-65.nancy.grid5000.fr', 'gros-66.nancy.grid5000.fr', 'gros-67.nancy.grid5000.fr', 'gros-68.nancy.grid5000.fr', 'gros-69.nancy.grid5000.fr', 'gros-7.nancy.grid5000.fr', 'gros-70.nancy.grid5000.fr', 'gros-71.nancy.grid5000.fr', 'gros-72.nancy.grid5000.fr', 'gros-73.nancy.grid5000.fr', 'gros-74.nancy.grid5000.fr', 'gros-75.nancy.grid5000.fr', 'gros-76.nancy.grid5000.fr', 'gros-78.nancy.grid5000.fr']\n"
     ]
    },
    {
     "name": "stdout",
     "output_type": "stream",
     "text": [
      "\u001b[0m\u001b[1mmodule.k8s_cluster.grid5000_job.k8s: Still creating... [45m1s elapsed]\u001b[0m\u001b[0m\n",
      "\u001b[0m\u001b[1mmodule.k8s_cluster.grid5000_job.k8s: Still creating... [45m11s elapsed]\u001b[0m\u001b[0m\n",
      "\u001b[0m\u001b[1mmodule.k8s_cluster.grid5000_job.k8s: Still creating... [45m21s elapsed]\u001b[0m\u001b[0m\n",
      "\u001b[0m\u001b[1mmodule.k8s_cluster.grid5000_job.k8s: Still creating... [45m31s elapsed]\u001b[0m\u001b[0m\n",
      "\u001b[0m\u001b[1mmodule.k8s_cluster.grid5000_job.k8s: Still creating... [45m41s elapsed]\u001b[0m\u001b[0m\n",
      "\u001b[0m\u001b[1mmodule.k8s_cluster.grid5000_job.k8s: Still creating... [45m51s elapsed]\u001b[0m\u001b[0m\n",
      "\u001b[0m\u001b[1mmodule.k8s_cluster.grid5000_job.k8s: Still creating... [46m1s elapsed]\u001b[0m\u001b[0m\n",
      "\u001b[0m\u001b[1mmodule.k8s_cluster.grid5000_job.k8s: Still creating... [46m11s elapsed]\u001b[0m\u001b[0m\n",
      "\u001b[0m\u001b[1mmodule.k8s_cluster.grid5000_job.k8s: Still creating... [46m21s elapsed]\u001b[0m\u001b[0m\n",
      "\u001b[0m\u001b[1mmodule.k8s_cluster.grid5000_job.k8s: Still creating... [46m31s elapsed]\u001b[0m\u001b[0m\n",
      "\u001b[0m\u001b[1mmodule.k8s_cluster.grid5000_job.k8s: Still creating... [46m41s elapsed]\u001b[0m\u001b[0m\n",
      "\u001b[0m\u001b[1mmodule.k8s_cluster.grid5000_job.k8s: Still creating... [46m51s elapsed]\u001b[0m\u001b[0m\n",
      "\u001b[0m\u001b[1mmodule.k8s_cluster.grid5000_job.k8s: Still creating... [47m1s elapsed]\u001b[0m\u001b[0m\n",
      "\u001b[0m\u001b[1mmodule.k8s_cluster.grid5000_job.k8s: Still creating... [47m11s elapsed]\u001b[0m\u001b[0m\n",
      "\u001b[0m\u001b[1mmodule.k8s_cluster.grid5000_job.k8s: Still creating... [47m21s elapsed]\u001b[0m\u001b[0m\n",
      "\u001b[0m\u001b[1mmodule.k8s_cluster.grid5000_job.k8s: Still creating... [47m31s elapsed]\u001b[0m\u001b[0m\n",
      "\u001b[0m\u001b[1mmodule.k8s_cluster.grid5000_job.k8s: Still creating... [47m41s elapsed]\u001b[0m\u001b[0m\n",
      "\u001b[0m\u001b[1mmodule.k8s_cluster.grid5000_job.k8s: Still creating... [47m51s elapsed]\u001b[0m\u001b[0m\n",
      "\u001b[0m\u001b[1mmodule.k8s_cluster.grid5000_job.k8s: Still creating... [48m1s elapsed]\u001b[0m\u001b[0m\n",
      "\u001b[0m\u001b[1mmodule.k8s_cluster.grid5000_job.k8s: Still creating... [48m11s elapsed]\u001b[0m\u001b[0m\n",
      "\u001b[0m\u001b[1mmodule.k8s_cluster.grid5000_job.k8s: Still creating... [48m21s elapsed]\u001b[0m\u001b[0m\n",
      "\u001b[0m\u001b[1mmodule.k8s_cluster.grid5000_job.k8s: Still creating... [48m31s elapsed]\u001b[0m\u001b[0m\n",
      "\u001b[0m\u001b[1mmodule.k8s_cluster.grid5000_job.k8s: Still creating... [48m41s elapsed]\u001b[0m\u001b[0m\n",
      "\u001b[0m\u001b[1mmodule.k8s_cluster.grid5000_job.k8s: Still creating... [48m51s elapsed]\u001b[0m\u001b[0m\n",
      "\u001b[0m\u001b[1mmodule.k8s_cluster.grid5000_job.k8s: Still creating... [49m1s elapsed]\u001b[0m\u001b[0m\n",
      "\u001b[0m\u001b[1mmodule.k8s_cluster.grid5000_job.k8s: Still creating... [49m11s elapsed]\u001b[0m\u001b[0m\n",
      "\u001b[0m\u001b[1mmodule.k8s_cluster.grid5000_job.k8s: Still creating... [49m21s elapsed]\u001b[0m\u001b[0m\n",
      "\u001b[0m\u001b[1mmodule.k8s_cluster.grid5000_job.k8s: Still creating... [49m31s elapsed]\u001b[0m\u001b[0m\n",
      "\u001b[0m\u001b[1mmodule.k8s_cluster.grid5000_job.k8s: Still creating... [49m41s elapsed]\u001b[0m\u001b[0m\n",
      "\u001b[0m\u001b[1mmodule.k8s_cluster.grid5000_job.k8s: Still creating... [49m51s elapsed]\u001b[0m\u001b[0m\n",
      "\u001b[0m\u001b[1mmodule.k8s_cluster.grid5000_job.k8s: Still creating... [50m1s elapsed]\u001b[0m\u001b[0m\n",
      "\u001b[0m\u001b[1mmodule.k8s_cluster.grid5000_job.k8s: Still creating... [50m11s elapsed]\u001b[0m\u001b[0m\n",
      "\u001b[0m\u001b[1mmodule.k8s_cluster.grid5000_job.k8s: Still creating... [50m21s elapsed]\u001b[0m\u001b[0m\n",
      "\u001b[0m\u001b[1mmodule.k8s_cluster.grid5000_job.k8s: Still creating... [50m31s elapsed]\u001b[0m\u001b[0m\n",
      "\u001b[0m\u001b[1mmodule.k8s_cluster.grid5000_job.k8s: Still creating... [50m41s elapsed]\u001b[0m\u001b[0m\n",
      "\u001b[0m\u001b[1mmodule.k8s_cluster.grid5000_job.k8s: Still creating... [50m51s elapsed]\u001b[0m\u001b[0m\n",
      "\u001b[0m\u001b[1mmodule.k8s_cluster.grid5000_job.k8s: Still creating... [51m1s elapsed]\u001b[0m\u001b[0m\n",
      "\u001b[0m\u001b[1mmodule.k8s_cluster.grid5000_job.k8s: Still creating... [51m11s elapsed]\u001b[0m\u001b[0m\n",
      "\u001b[0m\u001b[1mmodule.k8s_cluster.grid5000_job.k8s: Still creating... [51m21s elapsed]\u001b[0m\u001b[0m\n",
      "\u001b[0m\u001b[1mmodule.k8s_cluster.grid5000_job.k8s: Still creating... [51m31s elapsed]\u001b[0m\u001b[0m\n",
      "\u001b[0m\u001b[1mmodule.k8s_cluster.grid5000_job.k8s: Still creating... [51m41s elapsed]\u001b[0m\u001b[0m\n",
      "\u001b[0m\u001b[1mmodule.k8s_cluster.grid5000_job.k8s: Still creating... [51m51s elapsed]\u001b[0m\u001b[0m\n",
      "\u001b[0m\u001b[1mmodule.k8s_cluster.grid5000_job.k8s: Still creating... [52m1s elapsed]\u001b[0m\u001b[0m\n",
      "\u001b[0m\u001b[1mmodule.k8s_cluster.grid5000_job.k8s: Still creating... [52m11s elapsed]\u001b[0m\u001b[0m\n",
      "\u001b[0m\u001b[1mmodule.k8s_cluster.grid5000_job.k8s: Still creating... [52m21s elapsed]\u001b[0m\u001b[0m\n",
      "\u001b[0m\u001b[1mmodule.k8s_cluster.grid5000_job.k8s: Still creating... [52m31s elapsed]\u001b[0m\u001b[0m\n",
      "\u001b[0m\u001b[1mmodule.k8s_cluster.grid5000_job.k8s: Still creating... [52m41s elapsed]\u001b[0m\u001b[0m\n",
      "\u001b[0m\u001b[1mmodule.k8s_cluster.grid5000_job.k8s: Still creating... [52m51s elapsed]\u001b[0m\u001b[0m\n",
      "\u001b[0m\u001b[1mmodule.k8s_cluster.grid5000_job.k8s: Still creating... [53m1s elapsed]\u001b[0m\u001b[0m\n",
      "\u001b[0m\u001b[1mmodule.k8s_cluster.grid5000_job.k8s: Still creating... [53m11s elapsed]\u001b[0m\u001b[0m\n",
      "\u001b[0m\u001b[1mmodule.k8s_cluster.grid5000_job.k8s: Still creating... [53m21s elapsed]\u001b[0m\u001b[0m\n",
      "\u001b[0m\u001b[1mmodule.k8s_cluster.grid5000_job.k8s: Still creating... [53m31s elapsed]\u001b[0m\u001b[0m\n",
      "\u001b[0m\u001b[1mmodule.k8s_cluster.grid5000_job.k8s: Still creating... [53m41s elapsed]\u001b[0m\u001b[0m\n"
     ]
    }
   ],
   "source": [
    "print(\"Access to Minio: http://{}:30900\".format(manager_node))\n",
    "print(\"Access to Grafana: http://{}:30300\".format(manager_node))\n",
    "print(\"Access to Prometheus: http://{}:30090\".format(manager_node))\n",
    "print(\"Job manager address: {}\".format(jobmanager_node))\n",
    "print(\"Task manager addresses: {}\".format(taskmanager_nodes))"
   ]
  },
  {
   "cell_type": "code",
   "execution_count": 5,
   "id": "c59625c3",
   "metadata": {},
   "outputs": [
    {
     "name": "stdout",
     "output_type": "stream",
     "text": [
      "pod/zeppelin-server-75767d75dd-6bsv5 condition met\n"
     ]
    },
    {
     "name": "stderr",
     "output_type": "stream",
     "text": [
      "Defaulted container \"zeppelin-server\" out of: zeppelin-server, zeppelin-server-gateway, dnsmasq, flink-downloader (init)\n",
      "--2023-06-21 21:47:55--  https://repo.maven.apache.org/maven2/org/apache/flink/flink-sql-connector-kafka_2.12/1.14.2/flink-sql-connector-kafka_2.12-1.14.2.jar\n",
      "Resolving repo.maven.apache.org (repo.maven.apache.org)... 146.75.72.215, 2a04:4e42:82::215\n",
      "Connecting to repo.maven.apache.org (repo.maven.apache.org)|146.75.72.215|:443... connected.\n",
      "HTTP request sent, awaiting response... 200 OK\n",
      "Length: 3703507 (3.5M) [application/java-archive]\n",
      "Saving to: ‘/tmp/flink-sql-connector-kafka_2.12-1.14.2.jar.1’\n",
      "\n",
      "     0K .......... .......... .......... .......... ..........  1% 1.99M 2s\n",
      "    50K .......... .......... .......... .......... ..........  2% 2.46M 2s\n",
      "   100K .......... .......... .......... .......... ..........  4% 11.5M 1s\n",
      "   150K .......... .......... .......... .......... ..........  5% 3.55M 1s\n",
      "   200K .......... .......... .......... .......... ..........  6% 13.8M 1s\n",
      "   250K .......... .......... .......... .......... ..........  8% 18.8M 1s\n",
      "   300K .......... .......... .......... .......... ..........  9% 16.7M 1s\n",
      "   350K .......... .......... .......... .......... .......... 11% 20.8M 1s\n",
      "   400K .......... .......... .......... .......... .......... 12% 4.99M 1s\n",
      "   450K .......... .......... .......... .......... .......... 13% 41.5M 1s\n",
      "   500K .......... .......... .......... .......... .......... 15% 22.8M 0s\n",
      "   550K .......... .......... .......... .......... .......... 16% 48.8M 0s\n",
      "   600K .......... .......... .......... .......... .......... 17% 24.2M 0s\n",
      "   650K .......... .......... .......... .......... .......... 19% 27.1M 0s\n",
      "   700K .......... .......... .......... .......... .......... 20% 55.2M 0s\n",
      "   750K .......... .......... .......... .......... .......... 22% 33.0M 0s\n",
      "   800K .......... .......... .......... .......... .......... 23% 51.9M 0s\n",
      "   850K .......... .......... .......... .......... .......... 24% 81.1M 0s\n",
      "   900K .......... .......... .......... .......... .......... 26% 5.58M 0s\n",
      "   950K .......... .......... .......... .......... .......... 27% 43.6M 0s\n",
      "  1000K .......... .......... .......... .......... .......... 29% 51.6M 0s\n",
      "  1050K .......... .......... .......... .......... .......... 30% 90.1M 0s\n",
      "  1100K .......... .......... .......... .......... .......... 31% 60.1M 0s\n",
      "  1150K .......... .......... .......... .......... .......... 33% 51.4M 0s\n",
      "  1200K .......... .......... .......... .......... .......... 34% 53.0M 0s\n",
      "  1250K .......... .......... .......... .......... .......... 35%  323M 0s\n",
      "  1300K .......... .......... .......... .......... .......... 37% 48.2M 0s\n",
      "  1350K .......... .......... .......... .......... .......... 38% 55.1M 0s\n",
      "  1400K .......... .......... .......... .......... .......... 40% 55.2M 0s\n",
      "  1450K .......... .......... .......... .......... .......... 41% 62.3M 0s\n",
      "  1500K .......... .......... .......... .......... .......... 42% 62.7M 0s\n",
      "  1550K .......... .......... .......... .......... .......... 44%  284M 0s\n",
      "  1600K .......... .......... .......... .......... .......... 45% 84.3M 0s\n",
      "  1650K .......... .......... .......... .......... .......... 47% 57.4M 0s\n",
      "  1700K .......... .......... .......... .......... .......... 48% 97.2M 0s\n",
      "  1750K .......... .......... .......... .......... .......... 49% 52.4M 0s\n",
      "  1800K .......... .......... .......... .......... .......... 51%  403M 0s\n",
      "  1850K .......... .......... .......... .......... .......... 52% 6.57M 0s\n",
      "  1900K .......... .......... .......... .......... .......... 53%  117M 0s\n",
      "  1950K .......... .......... .......... .......... .......... 55% 47.4M 0s\n",
      "  2000K .......... .......... .......... .......... .......... 56%  450M 0s\n",
      "  2050K .......... .......... .......... .......... .......... 58%  126M 0s\n",
      "  2100K .......... .......... .......... .......... .......... 59% 77.4M 0s\n",
      "  2150K .......... .......... .......... .......... .......... 60%  122M 0s\n",
      "  2200K .......... .......... .......... .......... .......... 62% 60.7M 0s\n",
      "  2250K .......... .......... .......... .......... .......... 63%  343M 0s\n",
      "  2300K .......... .......... .......... .......... .......... 64%  206M 0s\n",
      "  2350K .......... .......... .......... .......... .......... 66% 83.6M 0s\n",
      "  2400K .......... .......... .......... .......... .......... 67%  119M 0s\n",
      "  2450K .......... .......... .......... .......... .......... 69% 88.0M 0s\n",
      "  2500K .......... .......... .......... .......... .......... 70%  127M 0s\n",
      "  2550K .......... .......... .......... .......... .......... 71%  361M 0s\n",
      "  2600K .......... .......... .......... .......... .......... 73% 97.9M 0s\n",
      "  2650K .......... .......... .......... .......... .......... 74%  135M 0s\n",
      "  2700K .......... .......... .......... .......... .......... 76% 79.5M 0s\n",
      "  2750K .......... .......... .......... .......... .......... 77%  191M 0s\n",
      "  2800K .......... .......... .......... .......... .......... 78%  423M 0s\n",
      "  2850K .......... .......... .......... .......... .......... 80% 87.7M 0s\n",
      "  2900K .......... .......... .......... .......... .......... 81%  206M 0s\n",
      "  2950K .......... .......... .......... .......... .......... 82% 94.7M 0s\n",
      "  3000K .......... .......... .......... .......... .......... 84%  364M 0s\n",
      "  3050K .......... .......... .......... .......... .......... 85%  180M 0s\n",
      "  3100K .......... .......... .......... .......... .......... 87% 85.6M 0s\n",
      "  3150K .......... .......... .......... .......... .......... 88%  231M 0s\n",
      "  3200K .......... .......... .......... .......... .......... 89%  251M 0s\n",
      "  3250K .......... .......... .......... .......... .......... 91%  229M 0s\n",
      "  3300K .......... .......... .......... .......... .......... 92%  138M 0s\n",
      "  3350K .......... .......... .......... .......... .......... 94%  103M 0s\n",
      "  3400K .......... .......... .......... .......... .......... 95%  262M 0s\n",
      "  3450K .......... .......... .......... .......... .......... 96%  127M 0s\n",
      "  3500K .......... .......... .......... .......... .......... 98%  367M 0s\n",
      "  3550K .......... .......... .......... .......... .......... 99%  175M 0s\n",
      "  3600K .......... ......                                     100%  395M=0.1s\n",
      "\n",
      "2023-06-21 21:47:55 (25.7 MB/s) - ‘/tmp/flink-sql-connector-kafka_2.12-1.14.2.jar.1’ saved [3703507/3703507]\n",
      "\n",
      "Defaulted container \"zeppelin-server\" out of: zeppelin-server, zeppelin-server-gateway, dnsmasq, flink-downloader (init)\n",
      "Defaulted container \"zeppelin-server\" out of: zeppelin-server, zeppelin-server-gateway, dnsmasq, flink-downloader (init)\n"
     ]
    },
    {
     "name": "stdout",
     "output_type": "stream",
     "text": [
      "../../xp/streambed-nexmark/zeppelin/xp_datagen_2HY61EX49.zpln\n"
     ]
    },
    {
     "name": "stderr",
     "output_type": "stream",
     "text": [
      "  % Total    % Received % Xferd  Average Speed   Time    Time     Time  Current\n",
      "                                 Dload  Upload   Total   Spent    Left  Speed\n",
      "100 20573  100  6306  100 14267  1026k  2322k --:--:-- --:--:-- --:--:-- 4018k\n"
     ]
    },
    {
     "name": "stdout",
     "output_type": "stream",
     "text": [
      "{\"exception\":\"IOException\",\"message\":\"java.io.IOException: Fail to import note: Note \\u0027/xp_datagen\\u0027 existed\",\"stacktrace\":\"java.io.IOException: java.io.IOException: Fail to import note: Note \\u0027/xp_datagen\\u0027 existed\\n\\tat org.apache.zeppelin.rest.AbstractRestApi$RestServiceCallback.onFailure(AbstractRestApi.java:54)\\n\\tat org.apache.zeppelin.service.NotebookService.importNote(NotebookService.java:312)\\n\\tat org.apache.zeppelin.rest.NotebookRestApi.importNote(NotebookRestApi.java:369)\\n\\tat sun.reflect.GeneratedMethodAccessor9.invoke(Unknown Source)\\n\\tat sun.reflect.DelegatingMethodAccessorImpl.invoke(DelegatingMethodAccessorImpl.java:43)\\n\\tat java.lang.reflect.Method.invoke(Method.java:498)\\n\\tat org.glassfish.jersey.server.model.internal.ResourceMethodInvocationHandlerFactory.lambda$static$0(ResourceMethodInvocationHandlerFactory.java:52)\\n\\tat org.glassfish.jersey.server.model.internal.AbstractJavaResourceMethodDispatcher$1.run(AbstractJavaResourceMethodDispatcher.java:124)\\n\\tat org.glassfish.jersey.server.model.internal.AbstractJavaResourceMethodDispatcher.invoke(AbstractJavaResourceMethodDispatcher.java:167)\\n\\tat org.glassfish.jersey.server.model.internal.JavaResourceMethodDispatcherProvider$ResponseOutInvoker.doDispatch(JavaResourceMethodDispatcherProvider.java:176)\\n\\tat org.glassfish.jersey.server.model.internal.AbstractJavaResourceMethodDispatcher.dispatch(AbstractJavaResourceMethodDispatcher.java:79)\\n\\tat org.glassfish.jersey.server.model.ResourceMethodInvoker.invoke(ResourceMethodInvoker.java:469)\\n\\tat org.glassfish.jersey.server.model.ResourceMethodInvoker.apply(ResourceMethodInvoker.java:391)\\n\\tat org.glassfish.jersey.server.model.ResourceMethodInvoker.apply(ResourceMethodInvoker.java:80)\\n\\tat org.glassfish.jersey.server.ServerRuntime$1.run(ServerRuntime.java:253)\\n\\tat org.glassfish.jersey.internal.Errors$1.call(Errors.java:248)\\n\\tat org.glassfish.jersey.internal.Errors$1.call(Errors.java:244)\\n\\tat org.glassfish.jersey.internal.Errors.process(Errors.java:292)\\n\\tat org.glassfish.jersey.internal.Errors.process(Errors.java:274)\\n\\tat org.glassfish.jersey.internal.Errors.process(Errors.java:244)\\n\\tat org.glassfish.jersey.process.internal.RequestScope.runInScope(RequestScope.java:265)\\n\\tat org.glassfish.jersey.server.ServerRuntime.process(ServerRuntime.java:232)\\n\\tat org.glassfish.jersey.server.ApplicationHandler.handle(ApplicationHandler.java:680)\\n\\tat org.glassfish.jersey.servlet.WebComponent.serviceImpl(WebComponent.java:394)\\n\\tat org.glassfish.jersey.servlet.WebComponent.service(WebComponent.java:346)\\n\\tat org.glassfish.jersey.servlet.ServletContainer.service(ServletContainer.java:366)\\n\\tat org.glassfish.jersey.servlet.ServletContainer.service(ServletContainer.java:319)\\n\\tat org.glassfish.jersey.servlet.ServletContainer.service(ServletContainer.java:205)\\n\\tat org.eclipse.jetty.servlet.ServletHolder.handle(ServletHolder.java:763)\\n\\tat org.eclipse.jetty.servlet.ServletHandler$CachedChain.doFilter(ServletHandler.java:1651)\\n\\tat org.apache.zeppelin.server.CorsFilter.doFilter(CorsFilter.java:64)\\n\\tat org.eclipse.jetty.servlet.ServletHandler$CachedChain.doFilter(ServletHandler.java:1638)\\n\\tat org.eclipse.jetty.servlet.ServletHandler.doHandle(ServletHandler.java:567)\\n\\tat org.eclipse.jetty.server.handler.ScopedHandler.handle(ScopedHandler.java:143)\\n\\tat org.eclipse.jetty.security.SecurityHandler.handle(SecurityHandler.java:602)\\n\\tat org.eclipse.jetty.server.handler.HandlerWrapper.handle(HandlerWrapper.java:127)\\n\\tat org.eclipse.jetty.server.handler.ScopedHandler.nextHandle(ScopedHandler.java:235)\\n\\tat org.eclipse.jetty.server.session.SessionHandler.doHandle(SessionHandler.java:1610)\\n\\tat org.eclipse.jetty.server.handler.ScopedHandler.nextHandle(ScopedHandler.java:233)\\n\\tat org.eclipse.jetty.server.handler.ContextHandler.doHandle(ContextHandler.java:1377)\\n\\tat org.eclipse.jetty.server.handler.ScopedHandler.nextScope(ScopedHandler.java:188)\\n\\tat org.eclipse.jetty.servlet.ServletHandler.doScope(ServletHandler.java:507)\\n\\tat org.eclipse.jetty.server.session.SessionHandler.doScope(SessionHandler.java:1580)\\n\\tat org.eclipse.jetty.server.handler.ScopedHandler.nextScope(ScopedHandler.java:186)\\n\\tat org.eclipse.jetty.server.handler.ContextHandler.doScope(ContextHandler.java:1292)\\n\\tat org.eclipse.jetty.server.handler.ScopedHandler.handle(ScopedHandler.java:141)\\n\\tat org.eclipse.jetty.server.handler.ContextHandlerCollection.handle(ContextHandlerCollection.java:234)\\n\\tat io.micrometer.core.instrument.binder.jetty.TimedHandler.handle(TimedHandler.java:120)\\n\\tat org.eclipse.jetty.server.handler.HandlerWrapper.handle(HandlerWrapper.java:127)\\n\\tat org.eclipse.jetty.server.Server.handle(Server.java:501)\\n\\tat org.eclipse.jetty.server.HttpChannel.lambda$handle$1(HttpChannel.java:383)\\n\\tat org.eclipse.jetty.server.HttpChannel.dispatch(HttpChannel.java:556)\\n\\tat org.eclipse.jetty.server.HttpChannel.handle(HttpChannel.java:375)\\n\\tat org.eclipse.jetty.server.HttpConnection.onFillable(HttpConnection.java:273)\\n\\tat org.eclipse.jetty.io.AbstractConnection$ReadCallback.succeeded(AbstractConnection.java:311)\\n\\tat org.eclipse.jetty.io.FillInterest.fillable(FillInterest.java:105)\\n\\tat org.eclipse.jetty.io.ChannelEndPoint$1.run(ChannelEndPoint.java:104)\\n\\tat org.eclipse.jetty.util.thread.QueuedThreadPool.runJob(QueuedThreadPool.java:806)\\n\\tat org.eclipse.jetty.util.thread.QueuedThreadPool$Runner.run(QueuedThreadPool.java:938)\\n\\tat java.lang.Thread.run(Thread.java:748)\\nCaused by: java.io.IOException: Fail to import note: Note \\u0027/xp_datagen\\u0027 existed\\n\\t... 59 more\\nCaused by: org.apache.zeppelin.notebook.exception.NotePathAlreadyExistsException: Note \\u0027/xp_datagen\\u0027 existed\\n\\tat org.apache.zeppelin.notebook.NoteManager.addOrUpdateNoteNode(NoteManager.java:124)\\n\\tat org.apache.zeppelin.notebook.NoteManager.addNote(NoteManager.java:196)\\n\\tat org.apache.zeppelin.notebook.Notebook.createNote(Notebook.java:255)\\n\\tat org.apache.zeppelin.notebook.Notebook.createNote(Notebook.java:236)\\n\\tat org.apache.zeppelin.notebook.Notebook.createNote(Notebook.java:203)\\n\\tat org.apache.zeppelin.notebook.Notebook.importNote(Notebook.java:299)\\n\\tat org.apache.zeppelin.service.NotebookService.importNote(NotebookService.java:306)\\n\\t... 58 more\\n\"}../../xp/streambed-nexmark/zeppelin/xp_intro_init_kafka_2J1RECAWT.zpln\n"
     ]
    },
    {
     "name": "stderr",
     "output_type": "stream",
     "text": [
      "  % Total    % Received % Xferd  Average Speed   Time    Time     Time  Current\n",
      "                                 Dload  Upload   Total   Spent    Left  Speed\n",
      "100 20888  100  6826  100 14062  1333k  2746k --:--:-- --:--:-- --:--:-- 5099k\n"
     ]
    },
    {
     "name": "stdout",
     "output_type": "stream",
     "text": [
      "{\"exception\":\"IOException\",\"message\":\"java.io.IOException: Fail to import note: Note \\u0027/xp_intro_init_kafka\\u0027 existed\",\"stacktrace\":\"java.io.IOException: java.io.IOException: Fail to import note: Note \\u0027/xp_intro_init_kafka\\u0027 existed\\n\\tat org.apache.zeppelin.rest.AbstractRestApi$RestServiceCallback.onFailure(AbstractRestApi.java:54)\\n\\tat org.apache.zeppelin.service.NotebookService.importNote(NotebookService.java:312)\\n\\tat org.apache.zeppelin.rest.NotebookRestApi.importNote(NotebookRestApi.java:369)\\n\\tat sun.reflect.GeneratedMethodAccessor9.invoke(Unknown Source)\\n\\tat sun.reflect.DelegatingMethodAccessorImpl.invoke(DelegatingMethodAccessorImpl.java:43)\\n\\tat java.lang.reflect.Method.invoke(Method.java:498)\\n\\tat org.glassfish.jersey.server.model.internal.ResourceMethodInvocationHandlerFactory.lambda$static$0(ResourceMethodInvocationHandlerFactory.java:52)\\n\\tat org.glassfish.jersey.server.model.internal.AbstractJavaResourceMethodDispatcher$1.run(AbstractJavaResourceMethodDispatcher.java:124)\\n\\tat org.glassfish.jersey.server.model.internal.AbstractJavaResourceMethodDispatcher.invoke(AbstractJavaResourceMethodDispatcher.java:167)\\n\\tat org.glassfish.jersey.server.model.internal.JavaResourceMethodDispatcherProvider$ResponseOutInvoker.doDispatch(JavaResourceMethodDispatcherProvider.java:176)\\n\\tat org.glassfish.jersey.server.model.internal.AbstractJavaResourceMethodDispatcher.dispatch(AbstractJavaResourceMethodDispatcher.java:79)\\n\\tat org.glassfish.jersey.server.model.ResourceMethodInvoker.invoke(ResourceMethodInvoker.java:469)\\n\\tat org.glassfish.jersey.server.model.ResourceMethodInvoker.apply(ResourceMethodInvoker.java:391)\\n\\tat org.glassfish.jersey.server.model.ResourceMethodInvoker.apply(ResourceMethodInvoker.java:80)\\n\\tat org.glassfish.jersey.server.ServerRuntime$1.run(ServerRuntime.java:253)\\n\\tat org.glassfish.jersey.internal.Errors$1.call(Errors.java:248)\\n\\tat org.glassfish.jersey.internal.Errors$1.call(Errors.java:244)\\n\\tat org.glassfish.jersey.internal.Errors.process(Errors.java:292)\\n\\tat org.glassfish.jersey.internal.Errors.process(Errors.java:274)\\n\\tat org.glassfish.jersey.internal.Errors.process(Errors.java:244)\\n\\tat org.glassfish.jersey.process.internal.RequestScope.runInScope(RequestScope.java:265)\\n\\tat org.glassfish.jersey.server.ServerRuntime.process(ServerRuntime.java:232)\\n\\tat org.glassfish.jersey.server.ApplicationHandler.handle(ApplicationHandler.java:680)\\n\\tat org.glassfish.jersey.servlet.WebComponent.serviceImpl(WebComponent.java:394)\\n\\tat org.glassfish.jersey.servlet.WebComponent.service(WebComponent.java:346)\\n\\tat org.glassfish.jersey.servlet.ServletContainer.service(ServletContainer.java:366)\\n\\tat org.glassfish.jersey.servlet.ServletContainer.service(ServletContainer.java:319)\\n\\tat org.glassfish.jersey.servlet.ServletContainer.service(ServletContainer.java:205)\\n\\tat org.eclipse.jetty.servlet.ServletHolder.handle(ServletHolder.java:763)\\n\\tat org.eclipse.jetty.servlet.ServletHandler$CachedChain.doFilter(ServletHandler.java:1651)\\n\\tat org.apache.zeppelin.server.CorsFilter.doFilter(CorsFilter.java:64)\\n\\tat org.eclipse.jetty.servlet.ServletHandler$CachedChain.doFilter(ServletHandler.java:1638)\\n\\tat org.eclipse.jetty.servlet.ServletHandler.doHandle(ServletHandler.java:567)\\n\\tat org.eclipse.jetty.server.handler.ScopedHandler.handle(ScopedHandler.java:143)\\n\\tat org.eclipse.jetty.security.SecurityHandler.handle(SecurityHandler.java:602)\\n\\tat org.eclipse.jetty.server.handler.HandlerWrapper.handle(HandlerWrapper.java:127)\\n\\tat org.eclipse.jetty.server.handler.ScopedHandler.nextHandle(ScopedHandler.java:235)\\n\\tat org.eclipse.jetty.server.session.SessionHandler.doHandle(SessionHandler.java:1610)\\n\\tat org.eclipse.jetty.server.handler.ScopedHandler.nextHandle(ScopedHandler.java:233)\\n\\tat org.eclipse.jetty.server.handler.ContextHandler.doHandle(ContextHandler.java:1377)\\n\\tat org.eclipse.jetty.server.handler.ScopedHandler.nextScope(ScopedHandler.java:188)\\n\\tat org.eclipse.jetty.servlet.ServletHandler.doScope(ServletHandler.java:507)\\n\\tat org.eclipse.jetty.server.session.SessionHandler.doScope(SessionHandler.java:1580)\\n\\tat org.eclipse.jetty.server.handler.ScopedHandler.nextScope(ScopedHandler.java:186)\\n\\tat org.eclipse.jetty.server.handler.ContextHandler.doScope(ContextHandler.java:1292)\\n\\tat org.eclipse.jetty.server.handler.ScopedHandler.handle(ScopedHandler.java:141)\\n\\tat org.eclipse.jetty.server.handler.ContextHandlerCollection.handle(ContextHandlerCollection.java:234)\\n\\tat io.micrometer.core.instrument.binder.jetty.TimedHandler.handle(TimedHandler.java:120)\\n\\tat org.eclipse.jetty.server.handler.HandlerWrapper.handle(HandlerWrapper.java:127)\\n\\tat org.eclipse.jetty.server.Server.handle(Server.java:501)\\n\\tat org.eclipse.jetty.server.HttpChannel.lambda$handle$1(HttpChannel.java:383)\\n\\tat org.eclipse.jetty.server.HttpChannel.dispatch(HttpChannel.java:556)\\n\\tat org.eclipse.jetty.server.HttpChannel.handle(HttpChannel.java:375)\\n\\tat org.eclipse.jetty.server.HttpConnection.onFillable(HttpConnection.java:273)\\n\\tat org.eclipse.jetty.io.AbstractConnection$ReadCallback.succeeded(AbstractConnection.java:311)\\n\\tat org.eclipse.jetty.io.FillInterest.fillable(FillInterest.java:105)\\n\\tat org.eclipse.jetty.io.ChannelEndPoint$1.run(ChannelEndPoint.java:104)\\n\\tat org.eclipse.jetty.util.thread.strategy.EatWhatYouKill.runTask(EatWhatYouKill.java:336)\\n\\tat org.eclipse.jetty.util.thread.strategy.EatWhatYouKill.doProduce(EatWhatYouKill.java:313)\\n\\tat org.eclipse.jetty.util.thread.strategy.EatWhatYouKill.tryProduce(EatWhatYouKill.java:171)\\n\\tat org.eclipse.jetty.util.thread.strategy.EatWhatYouKill.run(EatWhatYouKill.java:129)\\n\\tat org.eclipse.jetty.util.thread.ReservedThreadExecutor$ReservedThread.run(ReservedThreadExecutor.java:375)\\n\\tat org.eclipse.jetty.util.thread.QueuedThreadPool.runJob(QueuedThreadPool.java:806)\\n\\tat org.eclipse.jetty.util.thread.QueuedThreadPool$Runner.run(QueuedThreadPool.java:938)\\n\\tat java.lang.Thread.run(Thread.java:748)\\nCaused by: java.io.IOException: Fail to import note: Note \\u0027/xp_intro_init_kafka\\u0027 existed\\n\\t... 64 more\\nCaused by: org.apache.zeppelin.notebook.exception.NotePathAlreadyExistsException: Note \\u0027/xp_intro_init_kafka\\u0027 existed\\n\\tat org.apache.zeppelin.notebook.NoteManager.addOrUpdateNoteNode(NoteManager.java:124)\\n\\tat org.apache.zeppelin.notebook.NoteManager.addNote(NoteManager.java:196)\\n\\tat org.apache.zeppelin.notebook.Notebook.createNote(Notebook.java:255)\\n\\tat org.apache.zeppelin.notebook.Notebook.createNote(Notebook.java:236)\\n\\tat org.apache.zeppelin.notebook.Notebook.createNote(Notebook.java:203)\\n\\tat org.apache.zeppelin.notebook.Notebook.importNote(Notebook.java:299)\\n\\tat org.apache.zeppelin.service.NotebookService.importNote(NotebookService.java:306)\\n\\t... 63 more\\n\"}../../xp/streambed-nexmark/zeppelin/xp_intro_q11_kafka_2J19ME24J.zpln\n"
     ]
    },
    {
     "name": "stderr",
     "output_type": "stream",
     "text": [
      "  % Total    % Received % Xferd  Average Speed   Time    Time     Time  Current\n",
      "                                 Dload  Upload   Total   Spent    Left  Speed\n",
      "100 23476  100  6822  100 16654  1332k  3252k --:--:-- --:--:-- --:--:-- 5731k\n"
     ]
    },
    {
     "name": "stdout",
     "output_type": "stream",
     "text": [
      "{\"exception\":\"IOException\",\"message\":\"java.io.IOException: Fail to import note: Note \\u0027/xp_intro_q11_kafka\\u0027 existed\",\"stacktrace\":\"java.io.IOException: java.io.IOException: Fail to import note: Note \\u0027/xp_intro_q11_kafka\\u0027 existed\\n\\tat org.apache.zeppelin.rest.AbstractRestApi$RestServiceCallback.onFailure(AbstractRestApi.java:54)\\n\\tat org.apache.zeppelin.service.NotebookService.importNote(NotebookService.java:312)\\n\\tat org.apache.zeppelin.rest.NotebookRestApi.importNote(NotebookRestApi.java:369)\\n\\tat sun.reflect.GeneratedMethodAccessor9.invoke(Unknown Source)\\n\\tat sun.reflect.DelegatingMethodAccessorImpl.invoke(DelegatingMethodAccessorImpl.java:43)\\n\\tat java.lang.reflect.Method.invoke(Method.java:498)\\n\\tat org.glassfish.jersey.server.model.internal.ResourceMethodInvocationHandlerFactory.lambda$static$0(ResourceMethodInvocationHandlerFactory.java:52)\\n\\tat org.glassfish.jersey.server.model.internal.AbstractJavaResourceMethodDispatcher$1.run(AbstractJavaResourceMethodDispatcher.java:124)\\n\\tat org.glassfish.jersey.server.model.internal.AbstractJavaResourceMethodDispatcher.invoke(AbstractJavaResourceMethodDispatcher.java:167)\\n\\tat org.glassfish.jersey.server.model.internal.JavaResourceMethodDispatcherProvider$ResponseOutInvoker.doDispatch(JavaResourceMethodDispatcherProvider.java:176)\\n\\tat org.glassfish.jersey.server.model.internal.AbstractJavaResourceMethodDispatcher.dispatch(AbstractJavaResourceMethodDispatcher.java:79)\\n\\tat org.glassfish.jersey.server.model.ResourceMethodInvoker.invoke(ResourceMethodInvoker.java:469)\\n\\tat org.glassfish.jersey.server.model.ResourceMethodInvoker.apply(ResourceMethodInvoker.java:391)\\n\\tat org.glassfish.jersey.server.model.ResourceMethodInvoker.apply(ResourceMethodInvoker.java:80)\\n\\tat org.glassfish.jersey.server.ServerRuntime$1.run(ServerRuntime.java:253)\\n\\tat org.glassfish.jersey.internal.Errors$1.call(Errors.java:248)\\n\\tat org.glassfish.jersey.internal.Errors$1.call(Errors.java:244)\\n\\tat org.glassfish.jersey.internal.Errors.process(Errors.java:292)\\n\\tat org.glassfish.jersey.internal.Errors.process(Errors.java:274)\\n\\tat org.glassfish.jersey.internal.Errors.process(Errors.java:244)\\n\\tat org.glassfish.jersey.process.internal.RequestScope.runInScope(RequestScope.java:265)\\n\\tat org.glassfish.jersey.server.ServerRuntime.process(ServerRuntime.java:232)\\n\\tat org.glassfish.jersey.server.ApplicationHandler.handle(ApplicationHandler.java:680)\\n\\tat org.glassfish.jersey.servlet.WebComponent.serviceImpl(WebComponent.java:394)\\n\\tat org.glassfish.jersey.servlet.WebComponent.service(WebComponent.java:346)\\n\\tat org.glassfish.jersey.servlet.ServletContainer.service(ServletContainer.java:366)\\n\\tat org.glassfish.jersey.servlet.ServletContainer.service(ServletContainer.java:319)\\n\\tat org.glassfish.jersey.servlet.ServletContainer.service(ServletContainer.java:205)\\n\\tat org.eclipse.jetty.servlet.ServletHolder.handle(ServletHolder.java:763)\\n\\tat org.eclipse.jetty.servlet.ServletHandler$CachedChain.doFilter(ServletHandler.java:1651)\\n\\tat org.apache.zeppelin.server.CorsFilter.doFilter(CorsFilter.java:64)\\n\\tat org.eclipse.jetty.servlet.ServletHandler$CachedChain.doFilter(ServletHandler.java:1638)\\n\\tat org.eclipse.jetty.servlet.ServletHandler.doHandle(ServletHandler.java:567)\\n\\tat org.eclipse.jetty.server.handler.ScopedHandler.handle(ScopedHandler.java:143)\\n\\tat org.eclipse.jetty.security.SecurityHandler.handle(SecurityHandler.java:602)\\n\\tat org.eclipse.jetty.server.handler.HandlerWrapper.handle(HandlerWrapper.java:127)\\n\\tat org.eclipse.jetty.server.handler.ScopedHandler.nextHandle(ScopedHandler.java:235)\\n\\tat org.eclipse.jetty.server.session.SessionHandler.doHandle(SessionHandler.java:1610)\\n\\tat org.eclipse.jetty.server.handler.ScopedHandler.nextHandle(ScopedHandler.java:233)\\n\\tat org.eclipse.jetty.server.handler.ContextHandler.doHandle(ContextHandler.java:1377)\\n\\tat org.eclipse.jetty.server.handler.ScopedHandler.nextScope(ScopedHandler.java:188)\\n\\tat org.eclipse.jetty.servlet.ServletHandler.doScope(ServletHandler.java:507)\\n\\tat org.eclipse.jetty.server.session.SessionHandler.doScope(SessionHandler.java:1580)\\n\\tat org.eclipse.jetty.server.handler.ScopedHandler.nextScope(ScopedHandler.java:186)\\n\\tat org.eclipse.jetty.server.handler.ContextHandler.doScope(ContextHandler.java:1292)\\n\\tat org.eclipse.jetty.server.handler.ScopedHandler.handle(ScopedHandler.java:141)\\n\\tat org.eclipse.jetty.server.handler.ContextHandlerCollection.handle(ContextHandlerCollection.java:234)\\n\\tat io.micrometer.core.instrument.binder.jetty.TimedHandler.handle(TimedHandler.java:120)\\n\\tat org.eclipse.jetty.server.handler.HandlerWrapper.handle(HandlerWrapper.java:127)\\n\\tat org.eclipse.jetty.server.Server.handle(Server.java:501)\\n\\tat org.eclipse.jetty.server.HttpChannel.lambda$handle$1(HttpChannel.java:383)\\n\\tat org.eclipse.jetty.server.HttpChannel.dispatch(HttpChannel.java:556)\\n\\tat org.eclipse.jetty.server.HttpChannel.handle(HttpChannel.java:375)\\n\\tat org.eclipse.jetty.server.HttpConnection.onFillable(HttpConnection.java:273)\\n\\tat org.eclipse.jetty.io.AbstractConnection$ReadCallback.succeeded(AbstractConnection.java:311)\\n\\tat org.eclipse.jetty.io.FillInterest.fillable(FillInterest.java:105)\\n\\tat org.eclipse.jetty.io.ChannelEndPoint$1.run(ChannelEndPoint.java:104)\\n\\tat org.eclipse.jetty.util.thread.strategy.EatWhatYouKill.runTask(EatWhatYouKill.java:336)\\n\\tat org.eclipse.jetty.util.thread.strategy.EatWhatYouKill.doProduce(EatWhatYouKill.java:313)\\n\\tat org.eclipse.jetty.util.thread.strategy.EatWhatYouKill.tryProduce(EatWhatYouKill.java:171)\\n\\tat org.eclipse.jetty.util.thread.strategy.EatWhatYouKill.run(EatWhatYouKill.java:129)\\n\\tat org.eclipse.jetty.util.thread.ReservedThreadExecutor$ReservedThread.run(ReservedThreadExecutor.java:375)\\n\\tat org.eclipse.jetty.util.thread.QueuedThreadPool.runJob(QueuedThreadPool.java:806)\\n\\tat org.eclipse.jetty.util.thread.QueuedThreadPool$Runner.run(QueuedThreadPool.java:938)\\n\\tat java.lang.Thread.run(Thread.java:748)\\nCaused by: java.io.IOException: Fail to import note: Note \\u0027/xp_intro_q11_kafka\\u0027 existed\\n\\t... 64 more\\nCaused by: org.apache.zeppelin.notebook.exception.NotePathAlreadyExistsException: Note \\u0027/xp_intro_q11_kafka\\u0027 existed\\n\\tat org.apache.zeppelin.notebook.NoteManager.addOrUpdateNoteNode(NoteManager.java:124)\\n\\tat org.apache.zeppelin.notebook.NoteManager.addNote(NoteManager.java:196)\\n\\tat org.apache.zeppelin.notebook.Notebook.createNote(Notebook.java:255)\\n\\tat org.apache.zeppelin.notebook.Notebook.createNote(Notebook.java:236)\\n\\tat org.apache.zeppelin.notebook.Notebook.createNote(Notebook.java:203)\\n\\tat org.apache.zeppelin.notebook.Notebook.importNote(Notebook.java:299)\\n\\tat org.apache.zeppelin.service.NotebookService.importNote(NotebookService.java:306)\\n\\t... 63 more\\n\"}../../xp/streambed-nexmark/zeppelin/xp_intro_q11_kafka_custom_ratelimit_2HX1W7GWY.zpln\n"
     ]
    },
    {
     "name": "stderr",
     "output_type": "stream",
     "text": [
      "  % Total    % Received % Xferd  Average Speed   Time    Time     Time  Current\n",
      "                                 Dload  Upload   Total   Spent    Left  Speed\n",
      "100 24469  100  6890  100 17579  1682k  4291k --:--:-- --:--:-- --:--:-- 5973k\n"
     ]
    },
    {
     "name": "stdout",
     "output_type": "stream",
     "text": [
      "{\"exception\":\"IOException\",\"message\":\"java.io.IOException: Fail to import note: Note \\u0027/xp_intro_q11_kafka_custom_ratelimit\\u0027 existed\",\"stacktrace\":\"java.io.IOException: java.io.IOException: Fail to import note: Note \\u0027/xp_intro_q11_kafka_custom_ratelimit\\u0027 existed\\n\\tat org.apache.zeppelin.rest.AbstractRestApi$RestServiceCallback.onFailure(AbstractRestApi.java:54)\\n\\tat org.apache.zeppelin.service.NotebookService.importNote(NotebookService.java:312)\\n\\tat org.apache.zeppelin.rest.NotebookRestApi.importNote(NotebookRestApi.java:369)\\n\\tat sun.reflect.GeneratedMethodAccessor9.invoke(Unknown Source)\\n\\tat sun.reflect.DelegatingMethodAccessorImpl.invoke(DelegatingMethodAccessorImpl.java:43)\\n\\tat java.lang.reflect.Method.invoke(Method.java:498)\\n\\tat org.glassfish.jersey.server.model.internal.ResourceMethodInvocationHandlerFactory.lambda$static$0(ResourceMethodInvocationHandlerFactory.java:52)\\n\\tat org.glassfish.jersey.server.model.internal.AbstractJavaResourceMethodDispatcher$1.run(AbstractJavaResourceMethodDispatcher.java:124)\\n\\tat org.glassfish.jersey.server.model.internal.AbstractJavaResourceMethodDispatcher.invoke(AbstractJavaResourceMethodDispatcher.java:167)\\n\\tat org.glassfish.jersey.server.model.internal.JavaResourceMethodDispatcherProvider$ResponseOutInvoker.doDispatch(JavaResourceMethodDispatcherProvider.java:176)\\n\\tat org.glassfish.jersey.server.model.internal.AbstractJavaResourceMethodDispatcher.dispatch(AbstractJavaResourceMethodDispatcher.java:79)\\n\\tat org.glassfish.jersey.server.model.ResourceMethodInvoker.invoke(ResourceMethodInvoker.java:469)\\n\\tat org.glassfish.jersey.server.model.ResourceMethodInvoker.apply(ResourceMethodInvoker.java:391)\\n\\tat org.glassfish.jersey.server.model.ResourceMethodInvoker.apply(ResourceMethodInvoker.java:80)\\n\\tat org.glassfish.jersey.server.ServerRuntime$1.run(ServerRuntime.java:253)\\n\\tat org.glassfish.jersey.internal.Errors$1.call(Errors.java:248)\\n\\tat org.glassfish.jersey.internal.Errors$1.call(Errors.java:244)\\n\\tat org.glassfish.jersey.internal.Errors.process(Errors.java:292)\\n\\tat org.glassfish.jersey.internal.Errors.process(Errors.java:274)\\n\\tat org.glassfish.jersey.internal.Errors.process(Errors.java:244)\\n\\tat org.glassfish.jersey.process.internal.RequestScope.runInScope(RequestScope.java:265)\\n\\tat org.glassfish.jersey.server.ServerRuntime.process(ServerRuntime.java:232)\\n\\tat org.glassfish.jersey.server.ApplicationHandler.handle(ApplicationHandler.java:680)\\n\\tat org.glassfish.jersey.servlet.WebComponent.serviceImpl(WebComponent.java:394)\\n\\tat org.glassfish.jersey.servlet.WebComponent.service(WebComponent.java:346)\\n\\tat org.glassfish.jersey.servlet.ServletContainer.service(ServletContainer.java:366)\\n\\tat org.glassfish.jersey.servlet.ServletContainer.service(ServletContainer.java:319)\\n\\tat org.glassfish.jersey.servlet.ServletContainer.service(ServletContainer.java:205)\\n\\tat org.eclipse.jetty.servlet.ServletHolder.handle(ServletHolder.java:763)\\n\\tat org.eclipse.jetty.servlet.ServletHandler$CachedChain.doFilter(ServletHandler.java:1651)\\n\\tat org.apache.zeppelin.server.CorsFilter.doFilter(CorsFilter.java:64)\\n\\tat org.eclipse.jetty.servlet.ServletHandler$CachedChain.doFilter(ServletHandler.java:1638)\\n\\tat org.eclipse.jetty.servlet.ServletHandler.doHandle(ServletHandler.java:567)\\n\\tat org.eclipse.jetty.server.handler.ScopedHandler.handle(ScopedHandler.java:143)\\n\\tat org.eclipse.jetty.security.SecurityHandler.handle(SecurityHandler.java:602)\\n\\tat org.eclipse.jetty.server.handler.HandlerWrapper.handle(HandlerWrapper.java:127)\\n\\tat org.eclipse.jetty.server.handler.ScopedHandler.nextHandle(ScopedHandler.java:235)\\n\\tat org.eclipse.jetty.server.session.SessionHandler.doHandle(SessionHandler.java:1610)\\n\\tat org.eclipse.jetty.server.handler.ScopedHandler.nextHandle(ScopedHandler.java:233)\\n\\tat org.eclipse.jetty.server.handler.ContextHandler.doHandle(ContextHandler.java:1377)\\n\\tat org.eclipse.jetty.server.handler.ScopedHandler.nextScope(ScopedHandler.java:188)\\n\\tat org.eclipse.jetty.servlet.ServletHandler.doScope(ServletHandler.java:507)\\n\\tat org.eclipse.jetty.server.session.SessionHandler.doScope(SessionHandler.java:1580)\\n\\tat org.eclipse.jetty.server.handler.ScopedHandler.nextScope(ScopedHandler.java:186)\\n\\tat org.eclipse.jetty.server.handler.ContextHandler.doScope(ContextHandler.java:1292)\\n\\tat org.eclipse.jetty.server.handler.ScopedHandler.handle(ScopedHandler.java:141)\\n\\tat org.eclipse.jetty.server.handler.ContextHandlerCollection.handle(ContextHandlerCollection.java:234)\\n\\tat io.micrometer.core.instrument.binder.jetty.TimedHandler.handle(TimedHandler.java:120)\\n\\tat org.eclipse.jetty.server.handler.HandlerWrapper.handle(HandlerWrapper.java:127)\\n\\tat org.eclipse.jetty.server.Server.handle(Server.java:501)\\n\\tat org.eclipse.jetty.server.HttpChannel.lambda$handle$1(HttpChannel.java:383)\\n\\tat org.eclipse.jetty.server.HttpChannel.dispatch(HttpChannel.java:556)\\n\\tat org.eclipse.jetty.server.HttpChannel.handle(HttpChannel.java:375)\\n\\tat org.eclipse.jetty.server.HttpConnection.onFillable(HttpConnection.java:273)\\n\\tat org.eclipse.jetty.io.AbstractConnection$ReadCallback.succeeded(AbstractConnection.java:311)\\n\\tat org.eclipse.jetty.io.FillInterest.fillable(FillInterest.java:105)\\n\\tat org.eclipse.jetty.io.ChannelEndPoint$1.run(ChannelEndPoint.java:104)\\n\\tat org.eclipse.jetty.util.thread.strategy.EatWhatYouKill.runTask(EatWhatYouKill.java:336)\\n\\tat org.eclipse.jetty.util.thread.strategy.EatWhatYouKill.doProduce(EatWhatYouKill.java:313)\\n\\tat org.eclipse.jetty.util.thread.strategy.EatWhatYouKill.tryProduce(EatWhatYouKill.java:171)\\n\\tat org.eclipse.jetty.util.thread.strategy.EatWhatYouKill.run(EatWhatYouKill.java:129)\\n\\tat org.eclipse.jetty.util.thread.ReservedThreadExecutor$ReservedThread.run(ReservedThreadExecutor.java:375)\\n\\tat org.eclipse.jetty.util.thread.QueuedThreadPool.runJob(QueuedThreadPool.java:806)\\n\\tat org.eclipse.jetty.util.thread.QueuedThreadPool$Runner.run(QueuedThreadPool.java:938)\\n\\tat java.lang.Thread.run(Thread.java:748)\\nCaused by: java.io.IOException: Fail to import note: Note \\u0027/xp_intro_q11_kafka_custom_ratelimit\\u0027 existed\\n\\t... 64 more\\nCaused by: org.apache.zeppelin.notebook.exception.NotePathAlreadyExistsException: Note \\u0027/xp_intro_q11_kafka_custom_ratelimit\\u0027 existed\\n\\tat org.apache.zeppelin.notebook.NoteManager.addOrUpdateNoteNode(NoteManager.java:124)\\n\\tat org.apache.zeppelin.notebook.NoteManager.addNote(NoteManager.java:196)\\n\\tat org.apache.zeppelin.notebook.Notebook.createNote(Notebook.java:255)\\n\\tat org.apache.zeppelin.notebook.Notebook.createNote(Notebook.java:236)\\n\\tat org.apache.zeppelin.notebook.Notebook.createNote(Notebook.java:203)\\n\\tat org.apache.zeppelin.notebook.Notebook.importNote(Notebook.java:299)\\n\\tat org.apache.zeppelin.service.NotebookService.importNote(NotebookService.java:306)\\n\\t... 63 more\\n\"}../../xp/streambed-nexmark/zeppelin/xp_intro_q1_datagen_2HYTNPVD5.zpln\n"
     ]
    },
    {
     "name": "stderr",
     "output_type": "stream",
     "text": [
      "  % Total    % Received % Xferd  Average Speed   Time    Time     Time  Current\n",
      "                                 Dload  Upload   Total   Spent    Left  Speed\n",
      "100 23594  100  6826  100 16768  1666k  4093k --:--:-- --:--:-- --:--:-- 5760k\n"
     ]
    },
    {
     "name": "stdout",
     "output_type": "stream",
     "text": [
      "{\"exception\":\"IOException\",\"message\":\"java.io.IOException: Fail to import note: Note \\u0027/xp_intro_q1_datagen\\u0027 existed\",\"stacktrace\":\"java.io.IOException: java.io.IOException: Fail to import note: Note \\u0027/xp_intro_q1_datagen\\u0027 existed\\n\\tat org.apache.zeppelin.rest.AbstractRestApi$RestServiceCallback.onFailure(AbstractRestApi.java:54)\\n\\tat org.apache.zeppelin.service.NotebookService.importNote(NotebookService.java:312)\\n\\tat org.apache.zeppelin.rest.NotebookRestApi.importNote(NotebookRestApi.java:369)\\n\\tat sun.reflect.GeneratedMethodAccessor9.invoke(Unknown Source)\\n\\tat sun.reflect.DelegatingMethodAccessorImpl.invoke(DelegatingMethodAccessorImpl.java:43)\\n\\tat java.lang.reflect.Method.invoke(Method.java:498)\\n\\tat org.glassfish.jersey.server.model.internal.ResourceMethodInvocationHandlerFactory.lambda$static$0(ResourceMethodInvocationHandlerFactory.java:52)\\n\\tat org.glassfish.jersey.server.model.internal.AbstractJavaResourceMethodDispatcher$1.run(AbstractJavaResourceMethodDispatcher.java:124)\\n\\tat org.glassfish.jersey.server.model.internal.AbstractJavaResourceMethodDispatcher.invoke(AbstractJavaResourceMethodDispatcher.java:167)\\n\\tat org.glassfish.jersey.server.model.internal.JavaResourceMethodDispatcherProvider$ResponseOutInvoker.doDispatch(JavaResourceMethodDispatcherProvider.java:176)\\n\\tat org.glassfish.jersey.server.model.internal.AbstractJavaResourceMethodDispatcher.dispatch(AbstractJavaResourceMethodDispatcher.java:79)\\n\\tat org.glassfish.jersey.server.model.ResourceMethodInvoker.invoke(ResourceMethodInvoker.java:469)\\n\\tat org.glassfish.jersey.server.model.ResourceMethodInvoker.apply(ResourceMethodInvoker.java:391)\\n\\tat org.glassfish.jersey.server.model.ResourceMethodInvoker.apply(ResourceMethodInvoker.java:80)\\n\\tat org.glassfish.jersey.server.ServerRuntime$1.run(ServerRuntime.java:253)\\n\\tat org.glassfish.jersey.internal.Errors$1.call(Errors.java:248)\\n\\tat org.glassfish.jersey.internal.Errors$1.call(Errors.java:244)\\n\\tat org.glassfish.jersey.internal.Errors.process(Errors.java:292)\\n\\tat org.glassfish.jersey.internal.Errors.process(Errors.java:274)\\n\\tat org.glassfish.jersey.internal.Errors.process(Errors.java:244)\\n\\tat org.glassfish.jersey.process.internal.RequestScope.runInScope(RequestScope.java:265)\\n\\tat org.glassfish.jersey.server.ServerRuntime.process(ServerRuntime.java:232)\\n\\tat org.glassfish.jersey.server.ApplicationHandler.handle(ApplicationHandler.java:680)\\n\\tat org.glassfish.jersey.servlet.WebComponent.serviceImpl(WebComponent.java:394)\\n\\tat org.glassfish.jersey.servlet.WebComponent.service(WebComponent.java:346)\\n\\tat org.glassfish.jersey.servlet.ServletContainer.service(ServletContainer.java:366)\\n\\tat org.glassfish.jersey.servlet.ServletContainer.service(ServletContainer.java:319)\\n\\tat org.glassfish.jersey.servlet.ServletContainer.service(ServletContainer.java:205)\\n\\tat org.eclipse.jetty.servlet.ServletHolder.handle(ServletHolder.java:763)\\n\\tat org.eclipse.jetty.servlet.ServletHandler$CachedChain.doFilter(ServletHandler.java:1651)\\n\\tat org.apache.zeppelin.server.CorsFilter.doFilter(CorsFilter.java:64)\\n\\tat org.eclipse.jetty.servlet.ServletHandler$CachedChain.doFilter(ServletHandler.java:1638)\\n\\tat org.eclipse.jetty.servlet.ServletHandler.doHandle(ServletHandler.java:567)\\n\\tat org.eclipse.jetty.server.handler.ScopedHandler.handle(ScopedHandler.java:143)\\n\\tat org.eclipse.jetty.security.SecurityHandler.handle(SecurityHandler.java:602)\\n\\tat org.eclipse.jetty.server.handler.HandlerWrapper.handle(HandlerWrapper.java:127)\\n\\tat org.eclipse.jetty.server.handler.ScopedHandler.nextHandle(ScopedHandler.java:235)\\n\\tat org.eclipse.jetty.server.session.SessionHandler.doHandle(SessionHandler.java:1610)\\n\\tat org.eclipse.jetty.server.handler.ScopedHandler.nextHandle(ScopedHandler.java:233)\\n\\tat org.eclipse.jetty.server.handler.ContextHandler.doHandle(ContextHandler.java:1377)\\n\\tat org.eclipse.jetty.server.handler.ScopedHandler.nextScope(ScopedHandler.java:188)\\n\\tat org.eclipse.jetty.servlet.ServletHandler.doScope(ServletHandler.java:507)\\n\\tat org.eclipse.jetty.server.session.SessionHandler.doScope(SessionHandler.java:1580)\\n\\tat org.eclipse.jetty.server.handler.ScopedHandler.nextScope(ScopedHandler.java:186)\\n\\tat org.eclipse.jetty.server.handler.ContextHandler.doScope(ContextHandler.java:1292)\\n\\tat org.eclipse.jetty.server.handler.ScopedHandler.handle(ScopedHandler.java:141)\\n\\tat org.eclipse.jetty.server.handler.ContextHandlerCollection.handle(ContextHandlerCollection.java:234)\\n\\tat io.micrometer.core.instrument.binder.jetty.TimedHandler.handle(TimedHandler.java:120)\\n\\tat org.eclipse.jetty.server.handler.HandlerWrapper.handle(HandlerWrapper.java:127)\\n\\tat org.eclipse.jetty.server.Server.handle(Server.java:501)\\n\\tat org.eclipse.jetty.server.HttpChannel.lambda$handle$1(HttpChannel.java:383)\\n\\tat org.eclipse.jetty.server.HttpChannel.dispatch(HttpChannel.java:556)\\n\\tat org.eclipse.jetty.server.HttpChannel.handle(HttpChannel.java:375)\\n\\tat org.eclipse.jetty.server.HttpConnection.onFillable(HttpConnection.java:273)\\n\\tat org.eclipse.jetty.io.AbstractConnection$ReadCallback.succeeded(AbstractConnection.java:311)\\n\\tat org.eclipse.jetty.io.FillInterest.fillable(FillInterest.java:105)\\n\\tat org.eclipse.jetty.io.ChannelEndPoint$1.run(ChannelEndPoint.java:104)\\n\\tat org.eclipse.jetty.util.thread.strategy.EatWhatYouKill.runTask(EatWhatYouKill.java:336)\\n\\tat org.eclipse.jetty.util.thread.strategy.EatWhatYouKill.doProduce(EatWhatYouKill.java:313)\\n\\tat org.eclipse.jetty.util.thread.strategy.EatWhatYouKill.tryProduce(EatWhatYouKill.java:171)\\n\\tat org.eclipse.jetty.util.thread.strategy.EatWhatYouKill.run(EatWhatYouKill.java:129)\\n\\tat org.eclipse.jetty.util.thread.ReservedThreadExecutor$ReservedThread.run(ReservedThreadExecutor.java:375)\\n\\tat org.eclipse.jetty.util.thread.QueuedThreadPool.runJob(QueuedThreadPool.java:806)\\n\\tat org.eclipse.jetty.util.thread.QueuedThreadPool$Runner.run(QueuedThreadPool.java:938)\\n\\tat java.lang.Thread.run(Thread.java:748)\\nCaused by: java.io.IOException: Fail to import note: Note \\u0027/xp_intro_q1_datagen\\u0027 existed\\n\\t... 64 more\\nCaused by: org.apache.zeppelin.notebook.exception.NotePathAlreadyExistsException: Note \\u0027/xp_intro_q1_datagen\\u0027 existed\\n\\tat org.apache.zeppelin.notebook.NoteManager.addOrUpdateNoteNode(NoteManager.java:124)\\n\\tat org.apache.zeppelin.notebook.NoteManager.addNote(NoteManager.java:196)\\n\\tat org.apache.zeppelin.notebook.Notebook.createNote(Notebook.java:255)\\n\\tat org.apache.zeppelin.notebook.Notebook.createNote(Notebook.java:236)\\n\\tat org.apache.zeppelin.notebook.Notebook.createNote(Notebook.java:203)\\n\\tat org.apache.zeppelin.notebook.Notebook.importNote(Notebook.java:299)\\n\\tat org.apache.zeppelin.service.NotebookService.importNote(NotebookService.java:306)\\n\\t... 63 more\\n\"}../../xp/streambed-nexmark/zeppelin/xp_intro_q1_kafka_2HX7N1AD7.zpln\n"
     ]
    },
    {
     "name": "stderr",
     "output_type": "stream",
     "text": [
      "  % Total    % Received % Xferd  Average Speed   Time    Time     Time  Current\n",
      "                                 Dload  Upload   Total   Spent    Left  Speed\n",
      "100 40434  100  6818  100 33616   147k   729k --:--:-- --:--:-- --:--:--  877k\n"
     ]
    },
    {
     "name": "stdout",
     "output_type": "stream",
     "text": [
      "{\"exception\":\"IOException\",\"message\":\"java.io.IOException: Fail to import note: Note \\u0027/xp_intro_q1_kafka\\u0027 existed\",\"stacktrace\":\"java.io.IOException: java.io.IOException: Fail to import note: Note \\u0027/xp_intro_q1_kafka\\u0027 existed\\n\\tat org.apache.zeppelin.rest.AbstractRestApi$RestServiceCallback.onFailure(AbstractRestApi.java:54)\\n\\tat org.apache.zeppelin.service.NotebookService.importNote(NotebookService.java:312)\\n\\tat org.apache.zeppelin.rest.NotebookRestApi.importNote(NotebookRestApi.java:369)\\n\\tat sun.reflect.GeneratedMethodAccessor9.invoke(Unknown Source)\\n\\tat sun.reflect.DelegatingMethodAccessorImpl.invoke(DelegatingMethodAccessorImpl.java:43)\\n\\tat java.lang.reflect.Method.invoke(Method.java:498)\\n\\tat org.glassfish.jersey.server.model.internal.ResourceMethodInvocationHandlerFactory.lambda$static$0(ResourceMethodInvocationHandlerFactory.java:52)\\n\\tat org.glassfish.jersey.server.model.internal.AbstractJavaResourceMethodDispatcher$1.run(AbstractJavaResourceMethodDispatcher.java:124)\\n\\tat org.glassfish.jersey.server.model.internal.AbstractJavaResourceMethodDispatcher.invoke(AbstractJavaResourceMethodDispatcher.java:167)\\n\\tat org.glassfish.jersey.server.model.internal.JavaResourceMethodDispatcherProvider$ResponseOutInvoker.doDispatch(JavaResourceMethodDispatcherProvider.java:176)\\n\\tat org.glassfish.jersey.server.model.internal.AbstractJavaResourceMethodDispatcher.dispatch(AbstractJavaResourceMethodDispatcher.java:79)\\n\\tat org.glassfish.jersey.server.model.ResourceMethodInvoker.invoke(ResourceMethodInvoker.java:469)\\n\\tat org.glassfish.jersey.server.model.ResourceMethodInvoker.apply(ResourceMethodInvoker.java:391)\\n\\tat org.glassfish.jersey.server.model.ResourceMethodInvoker.apply(ResourceMethodInvoker.java:80)\\n\\tat org.glassfish.jersey.server.ServerRuntime$1.run(ServerRuntime.java:253)\\n\\tat org.glassfish.jersey.internal.Errors$1.call(Errors.java:248)\\n\\tat org.glassfish.jersey.internal.Errors$1.call(Errors.java:244)\\n\\tat org.glassfish.jersey.internal.Errors.process(Errors.java:292)\\n\\tat org.glassfish.jersey.internal.Errors.process(Errors.java:274)\\n\\tat org.glassfish.jersey.internal.Errors.process(Errors.java:244)\\n\\tat org.glassfish.jersey.process.internal.RequestScope.runInScope(RequestScope.java:265)\\n\\tat org.glassfish.jersey.server.ServerRuntime.process(ServerRuntime.java:232)\\n\\tat org.glassfish.jersey.server.ApplicationHandler.handle(ApplicationHandler.java:680)\\n\\tat org.glassfish.jersey.servlet.WebComponent.serviceImpl(WebComponent.java:394)\\n\\tat org.glassfish.jersey.servlet.WebComponent.service(WebComponent.java:346)\\n\\tat org.glassfish.jersey.servlet.ServletContainer.service(ServletContainer.java:366)\\n\\tat org.glassfish.jersey.servlet.ServletContainer.service(ServletContainer.java:319)\\n\\tat org.glassfish.jersey.servlet.ServletContainer.service(ServletContainer.java:205)\\n\\tat org.eclipse.jetty.servlet.ServletHolder.handle(ServletHolder.java:763)\\n\\tat org.eclipse.jetty.servlet.ServletHandler$CachedChain.doFilter(ServletHandler.java:1651)\\n\\tat org.apache.zeppelin.server.CorsFilter.doFilter(CorsFilter.java:64)\\n\\tat org.eclipse.jetty.servlet.ServletHandler$CachedChain.doFilter(ServletHandler.java:1638)\\n\\tat org.eclipse.jetty.servlet.ServletHandler.doHandle(ServletHandler.java:567)\\n\\tat org.eclipse.jetty.server.handler.ScopedHandler.handle(ScopedHandler.java:143)\\n\\tat org.eclipse.jetty.security.SecurityHandler.handle(SecurityHandler.java:602)\\n\\tat org.eclipse.jetty.server.handler.HandlerWrapper.handle(HandlerWrapper.java:127)\\n\\tat org.eclipse.jetty.server.handler.ScopedHandler.nextHandle(ScopedHandler.java:235)\\n\\tat org.eclipse.jetty.server.session.SessionHandler.doHandle(SessionHandler.java:1610)\\n\\tat org.eclipse.jetty.server.handler.ScopedHandler.nextHandle(ScopedHandler.java:233)\\n\\tat org.eclipse.jetty.server.handler.ContextHandler.doHandle(ContextHandler.java:1377)\\n\\tat org.eclipse.jetty.server.handler.ScopedHandler.nextScope(ScopedHandler.java:188)\\n\\tat org.eclipse.jetty.servlet.ServletHandler.doScope(ServletHandler.java:507)\\n\\tat org.eclipse.jetty.server.session.SessionHandler.doScope(SessionHandler.java:1580)\\n\\tat org.eclipse.jetty.server.handler.ScopedHandler.nextScope(ScopedHandler.java:186)\\n\\tat org.eclipse.jetty.server.handler.ContextHandler.doScope(ContextHandler.java:1292)\\n\\tat org.eclipse.jetty.server.handler.ScopedHandler.handle(ScopedHandler.java:141)\\n\\tat org.eclipse.jetty.server.handler.ContextHandlerCollection.handle(ContextHandlerCollection.java:234)\\n\\tat io.micrometer.core.instrument.binder.jetty.TimedHandler.handle(TimedHandler.java:120)\\n\\tat org.eclipse.jetty.server.handler.HandlerWrapper.handle(HandlerWrapper.java:127)\\n\\tat org.eclipse.jetty.server.Server.handle(Server.java:501)\\n\\tat org.eclipse.jetty.server.HttpChannel.lambda$handle$1(HttpChannel.java:383)\\n\\tat org.eclipse.jetty.server.HttpChannel.dispatch(HttpChannel.java:556)\\n\\tat org.eclipse.jetty.server.HttpChannel.handle(HttpChannel.java:375)\\n\\tat org.eclipse.jetty.server.HttpConnection.onFillable(HttpConnection.java:273)\\n\\tat org.eclipse.jetty.io.AbstractConnection$ReadCallback.succeeded(AbstractConnection.java:311)\\n\\tat org.eclipse.jetty.io.FillInterest.fillable(FillInterest.java:105)\\n\\tat org.eclipse.jetty.io.ChannelEndPoint$1.run(ChannelEndPoint.java:104)\\n\\tat org.eclipse.jetty.util.thread.strategy.EatWhatYouKill.runTask(EatWhatYouKill.java:336)\\n\\tat org.eclipse.jetty.util.thread.strategy.EatWhatYouKill.doProduce(EatWhatYouKill.java:313)\\n\\tat org.eclipse.jetty.util.thread.strategy.EatWhatYouKill.tryProduce(EatWhatYouKill.java:171)\\n\\tat org.eclipse.jetty.util.thread.strategy.EatWhatYouKill.run(EatWhatYouKill.java:129)\\n\\tat org.eclipse.jetty.util.thread.ReservedThreadExecutor$ReservedThread.run(ReservedThreadExecutor.java:375)\\n\\tat org.eclipse.jetty.util.thread.QueuedThreadPool.runJob(QueuedThreadPool.java:806)\\n\\tat org.eclipse.jetty.util.thread.QueuedThreadPool$Runner.run(QueuedThreadPool.java:938)\\n\\tat java.lang.Thread.run(Thread.java:748)\\nCaused by: java.io.IOException: Fail to import note: Note \\u0027/xp_intro_q1_kafka\\u0027 existed\\n\\t... 64 more\\nCaused by: org.apache.zeppelin.notebook.exception.NotePathAlreadyExistsException: Note \\u0027/xp_intro_q1_kafka\\u0027 existed\\n\\tat org.apache.zeppelin.notebook.NoteManager.addOrUpdateNoteNode(NoteManager.java:124)\\n\\tat org.apache.zeppelin.notebook.NoteManager.addNote(NoteManager.java:196)\\n\\tat org.apache.zeppelin.notebook.Notebook.createNote(Notebook.java:255)\\n\\tat org.apache.zeppelin.notebook.Notebook.createNote(Notebook.java:236)\\n\\tat org.apache.zeppelin.notebook.Notebook.createNote(Notebook.java:203)\\n\\tat org.apache.zeppelin.notebook.Notebook.importNote(Notebook.java:299)\\n\\tat org.apache.zeppelin.service.NotebookService.importNote(NotebookService.java:306)\\n\\t... 63 more\\n\"}../../xp/streambed-nexmark/zeppelin/xp_intro_q1_kafka_custom_ratelimit_2HWFJB75E.zpln\n"
     ]
    },
    {
     "name": "stderr",
     "output_type": "stream",
     "text": [
      "  % Total    % Received % Xferd  Average Speed   Time    Time     Time  Current\n",
      "                                 Dload  Upload   Total   Spent    Left  Speed\n",
      "100 30476  100  6886  100 23590  1681k  5759k --:--:-- --:--:-- --:--:-- 7440k\n"
     ]
    },
    {
     "name": "stdout",
     "output_type": "stream",
     "text": [
      "{\"exception\":\"IOException\",\"message\":\"java.io.IOException: Fail to import note: Note \\u0027/xp_intro_q1_kafka_custom_ratelimit\\u0027 existed\",\"stacktrace\":\"java.io.IOException: java.io.IOException: Fail to import note: Note \\u0027/xp_intro_q1_kafka_custom_ratelimit\\u0027 existed\\n\\tat org.apache.zeppelin.rest.AbstractRestApi$RestServiceCallback.onFailure(AbstractRestApi.java:54)\\n\\tat org.apache.zeppelin.service.NotebookService.importNote(NotebookService.java:312)\\n\\tat org.apache.zeppelin.rest.NotebookRestApi.importNote(NotebookRestApi.java:369)\\n\\tat sun.reflect.GeneratedMethodAccessor9.invoke(Unknown Source)\\n\\tat sun.reflect.DelegatingMethodAccessorImpl.invoke(DelegatingMethodAccessorImpl.java:43)\\n\\tat java.lang.reflect.Method.invoke(Method.java:498)\\n\\tat org.glassfish.jersey.server.model.internal.ResourceMethodInvocationHandlerFactory.lambda$static$0(ResourceMethodInvocationHandlerFactory.java:52)\\n\\tat org.glassfish.jersey.server.model.internal.AbstractJavaResourceMethodDispatcher$1.run(AbstractJavaResourceMethodDispatcher.java:124)\\n\\tat org.glassfish.jersey.server.model.internal.AbstractJavaResourceMethodDispatcher.invoke(AbstractJavaResourceMethodDispatcher.java:167)\\n\\tat org.glassfish.jersey.server.model.internal.JavaResourceMethodDispatcherProvider$ResponseOutInvoker.doDispatch(JavaResourceMethodDispatcherProvider.java:176)\\n\\tat org.glassfish.jersey.server.model.internal.AbstractJavaResourceMethodDispatcher.dispatch(AbstractJavaResourceMethodDispatcher.java:79)\\n\\tat org.glassfish.jersey.server.model.ResourceMethodInvoker.invoke(ResourceMethodInvoker.java:469)\\n\\tat org.glassfish.jersey.server.model.ResourceMethodInvoker.apply(ResourceMethodInvoker.java:391)\\n\\tat org.glassfish.jersey.server.model.ResourceMethodInvoker.apply(ResourceMethodInvoker.java:80)\\n\\tat org.glassfish.jersey.server.ServerRuntime$1.run(ServerRuntime.java:253)\\n\\tat org.glassfish.jersey.internal.Errors$1.call(Errors.java:248)\\n\\tat org.glassfish.jersey.internal.Errors$1.call(Errors.java:244)\\n\\tat org.glassfish.jersey.internal.Errors.process(Errors.java:292)\\n\\tat org.glassfish.jersey.internal.Errors.process(Errors.java:274)\\n\\tat org.glassfish.jersey.internal.Errors.process(Errors.java:244)\\n\\tat org.glassfish.jersey.process.internal.RequestScope.runInScope(RequestScope.java:265)\\n\\tat org.glassfish.jersey.server.ServerRuntime.process(ServerRuntime.java:232)\\n\\tat org.glassfish.jersey.server.ApplicationHandler.handle(ApplicationHandler.java:680)\\n\\tat org.glassfish.jersey.servlet.WebComponent.serviceImpl(WebComponent.java:394)\\n\\tat org.glassfish.jersey.servlet.WebComponent.service(WebComponent.java:346)\\n\\tat org.glassfish.jersey.servlet.ServletContainer.service(ServletContainer.java:366)\\n\\tat org.glassfish.jersey.servlet.ServletContainer.service(ServletContainer.java:319)\\n\\tat org.glassfish.jersey.servlet.ServletContainer.service(ServletContainer.java:205)\\n\\tat org.eclipse.jetty.servlet.ServletHolder.handle(ServletHolder.java:763)\\n\\tat org.eclipse.jetty.servlet.ServletHandler$CachedChain.doFilter(ServletHandler.java:1651)\\n\\tat org.apache.zeppelin.server.CorsFilter.doFilter(CorsFilter.java:64)\\n\\tat org.eclipse.jetty.servlet.ServletHandler$CachedChain.doFilter(ServletHandler.java:1638)\\n\\tat org.eclipse.jetty.servlet.ServletHandler.doHandle(ServletHandler.java:567)\\n\\tat org.eclipse.jetty.server.handler.ScopedHandler.handle(ScopedHandler.java:143)\\n\\tat org.eclipse.jetty.security.SecurityHandler.handle(SecurityHandler.java:602)\\n\\tat org.eclipse.jetty.server.handler.HandlerWrapper.handle(HandlerWrapper.java:127)\\n\\tat org.eclipse.jetty.server.handler.ScopedHandler.nextHandle(ScopedHandler.java:235)\\n\\tat org.eclipse.jetty.server.session.SessionHandler.doHandle(SessionHandler.java:1610)\\n\\tat org.eclipse.jetty.server.handler.ScopedHandler.nextHandle(ScopedHandler.java:233)\\n\\tat org.eclipse.jetty.server.handler.ContextHandler.doHandle(ContextHandler.java:1377)\\n\\tat org.eclipse.jetty.server.handler.ScopedHandler.nextScope(ScopedHandler.java:188)\\n\\tat org.eclipse.jetty.servlet.ServletHandler.doScope(ServletHandler.java:507)\\n\\tat org.eclipse.jetty.server.session.SessionHandler.doScope(SessionHandler.java:1580)\\n\\tat org.eclipse.jetty.server.handler.ScopedHandler.nextScope(ScopedHandler.java:186)\\n\\tat org.eclipse.jetty.server.handler.ContextHandler.doScope(ContextHandler.java:1292)\\n\\tat org.eclipse.jetty.server.handler.ScopedHandler.handle(ScopedHandler.java:141)\\n\\tat org.eclipse.jetty.server.handler.ContextHandlerCollection.handle(ContextHandlerCollection.java:234)\\n\\tat io.micrometer.core.instrument.binder.jetty.TimedHandler.handle(TimedHandler.java:120)\\n\\tat org.eclipse.jetty.server.handler.HandlerWrapper.handle(HandlerWrapper.java:127)\\n\\tat org.eclipse.jetty.server.Server.handle(Server.java:501)\\n\\tat org.eclipse.jetty.server.HttpChannel.lambda$handle$1(HttpChannel.java:383)\\n\\tat org.eclipse.jetty.server.HttpChannel.dispatch(HttpChannel.java:556)\\n\\tat org.eclipse.jetty.server.HttpChannel.handle(HttpChannel.java:375)\\n\\tat org.eclipse.jetty.server.HttpConnection.onFillable(HttpConnection.java:273)\\n\\tat org.eclipse.jetty.io.AbstractConnection$ReadCallback.succeeded(AbstractConnection.java:311)\\n\\tat org.eclipse.jetty.io.FillInterest.fillable(FillInterest.java:105)\\n\\tat org.eclipse.jetty.io.ChannelEndPoint$1.run(ChannelEndPoint.java:104)\\n\\tat org.eclipse.jetty.util.thread.strategy.EatWhatYouKill.runTask(EatWhatYouKill.java:336)\\n\\tat org.eclipse.jetty.util.thread.strategy.EatWhatYouKill.doProduce(EatWhatYouKill.java:313)\\n\\tat org.eclipse.jetty.util.thread.strategy.EatWhatYouKill.tryProduce(EatWhatYouKill.java:171)\\n\\tat org.eclipse.jetty.util.thread.strategy.EatWhatYouKill.run(EatWhatYouKill.java:129)\\n\\tat org.eclipse.jetty.util.thread.ReservedThreadExecutor$ReservedThread.run(ReservedThreadExecutor.java:375)\\n\\tat org.eclipse.jetty.util.thread.QueuedThreadPool.runJob(QueuedThreadPool.java:806)\\n\\tat org.eclipse.jetty.util.thread.QueuedThreadPool$Runner.run(QueuedThreadPool.java:938)\\n\\tat java.lang.Thread.run(Thread.java:748)\\nCaused by: java.io.IOException: Fail to import note: Note \\u0027/xp_intro_q1_kafka_custom_ratelimit\\u0027 existed\\n\\t... 64 more\\nCaused by: org.apache.zeppelin.notebook.exception.NotePathAlreadyExistsException: Note \\u0027/xp_intro_q1_kafka_custom_ratelimit\\u0027 existed\\n\\tat org.apache.zeppelin.notebook.NoteManager.addOrUpdateNoteNode(NoteManager.java:124)\\n\\tat org.apache.zeppelin.notebook.NoteManager.addNote(NoteManager.java:196)\\n\\tat org.apache.zeppelin.notebook.Notebook.createNote(Notebook.java:255)\\n\\tat org.apache.zeppelin.notebook.Notebook.createNote(Notebook.java:236)\\n\\tat org.apache.zeppelin.notebook.Notebook.createNote(Notebook.java:203)\\n\\tat org.apache.zeppelin.notebook.Notebook.importNote(Notebook.java:299)\\n\\tat org.apache.zeppelin.service.NotebookService.importNote(NotebookService.java:306)\\n\\t... 63 more\\n\"}../../xp/streambed-nexmark/zeppelin/xp_intro_q2_datagen_2J1SBKHM2.zpln\n"
     ]
    },
    {
     "name": "stderr",
     "output_type": "stream",
     "text": [
      "  % Total    % Received % Xferd  Average Speed   Time    Time     Time  Current\n",
      "                                 Dload  Upload   Total   Spent    Left  Speed\n",
      "100 29791  100  6826  100 22965  1666k  5606k --:--:-- --:--:-- --:--:-- 7273k\n"
     ]
    },
    {
     "name": "stdout",
     "output_type": "stream",
     "text": [
      "{\"exception\":\"IOException\",\"message\":\"java.io.IOException: Fail to import note: Note \\u0027/xp_intro_q2_datagen\\u0027 existed\",\"stacktrace\":\"java.io.IOException: java.io.IOException: Fail to import note: Note \\u0027/xp_intro_q2_datagen\\u0027 existed\\n\\tat org.apache.zeppelin.rest.AbstractRestApi$RestServiceCallback.onFailure(AbstractRestApi.java:54)\\n\\tat org.apache.zeppelin.service.NotebookService.importNote(NotebookService.java:312)\\n\\tat org.apache.zeppelin.rest.NotebookRestApi.importNote(NotebookRestApi.java:369)\\n\\tat sun.reflect.GeneratedMethodAccessor9.invoke(Unknown Source)\\n\\tat sun.reflect.DelegatingMethodAccessorImpl.invoke(DelegatingMethodAccessorImpl.java:43)\\n\\tat java.lang.reflect.Method.invoke(Method.java:498)\\n\\tat org.glassfish.jersey.server.model.internal.ResourceMethodInvocationHandlerFactory.lambda$static$0(ResourceMethodInvocationHandlerFactory.java:52)\\n\\tat org.glassfish.jersey.server.model.internal.AbstractJavaResourceMethodDispatcher$1.run(AbstractJavaResourceMethodDispatcher.java:124)\\n\\tat org.glassfish.jersey.server.model.internal.AbstractJavaResourceMethodDispatcher.invoke(AbstractJavaResourceMethodDispatcher.java:167)\\n\\tat org.glassfish.jersey.server.model.internal.JavaResourceMethodDispatcherProvider$ResponseOutInvoker.doDispatch(JavaResourceMethodDispatcherProvider.java:176)\\n\\tat org.glassfish.jersey.server.model.internal.AbstractJavaResourceMethodDispatcher.dispatch(AbstractJavaResourceMethodDispatcher.java:79)\\n\\tat org.glassfish.jersey.server.model.ResourceMethodInvoker.invoke(ResourceMethodInvoker.java:469)\\n\\tat org.glassfish.jersey.server.model.ResourceMethodInvoker.apply(ResourceMethodInvoker.java:391)\\n\\tat org.glassfish.jersey.server.model.ResourceMethodInvoker.apply(ResourceMethodInvoker.java:80)\\n\\tat org.glassfish.jersey.server.ServerRuntime$1.run(ServerRuntime.java:253)\\n\\tat org.glassfish.jersey.internal.Errors$1.call(Errors.java:248)\\n\\tat org.glassfish.jersey.internal.Errors$1.call(Errors.java:244)\\n\\tat org.glassfish.jersey.internal.Errors.process(Errors.java:292)\\n\\tat org.glassfish.jersey.internal.Errors.process(Errors.java:274)\\n\\tat org.glassfish.jersey.internal.Errors.process(Errors.java:244)\\n\\tat org.glassfish.jersey.process.internal.RequestScope.runInScope(RequestScope.java:265)\\n\\tat org.glassfish.jersey.server.ServerRuntime.process(ServerRuntime.java:232)\\n\\tat org.glassfish.jersey.server.ApplicationHandler.handle(ApplicationHandler.java:680)\\n\\tat org.glassfish.jersey.servlet.WebComponent.serviceImpl(WebComponent.java:394)\\n\\tat org.glassfish.jersey.servlet.WebComponent.service(WebComponent.java:346)\\n\\tat org.glassfish.jersey.servlet.ServletContainer.service(ServletContainer.java:366)\\n\\tat org.glassfish.jersey.servlet.ServletContainer.service(ServletContainer.java:319)\\n\\tat org.glassfish.jersey.servlet.ServletContainer.service(ServletContainer.java:205)\\n\\tat org.eclipse.jetty.servlet.ServletHolder.handle(ServletHolder.java:763)\\n\\tat org.eclipse.jetty.servlet.ServletHandler$CachedChain.doFilter(ServletHandler.java:1651)\\n\\tat org.apache.zeppelin.server.CorsFilter.doFilter(CorsFilter.java:64)\\n\\tat org.eclipse.jetty.servlet.ServletHandler$CachedChain.doFilter(ServletHandler.java:1638)\\n\\tat org.eclipse.jetty.servlet.ServletHandler.doHandle(ServletHandler.java:567)\\n\\tat org.eclipse.jetty.server.handler.ScopedHandler.handle(ScopedHandler.java:143)\\n\\tat org.eclipse.jetty.security.SecurityHandler.handle(SecurityHandler.java:602)\\n\\tat org.eclipse.jetty.server.handler.HandlerWrapper.handle(HandlerWrapper.java:127)\\n\\tat org.eclipse.jetty.server.handler.ScopedHandler.nextHandle(ScopedHandler.java:235)\\n\\tat org.eclipse.jetty.server.session.SessionHandler.doHandle(SessionHandler.java:1610)\\n\\tat org.eclipse.jetty.server.handler.ScopedHandler.nextHandle(ScopedHandler.java:233)\\n\\tat org.eclipse.jetty.server.handler.ContextHandler.doHandle(ContextHandler.java:1377)\\n\\tat org.eclipse.jetty.server.handler.ScopedHandler.nextScope(ScopedHandler.java:188)\\n\\tat org.eclipse.jetty.servlet.ServletHandler.doScope(ServletHandler.java:507)\\n\\tat org.eclipse.jetty.server.session.SessionHandler.doScope(SessionHandler.java:1580)\\n\\tat org.eclipse.jetty.server.handler.ScopedHandler.nextScope(ScopedHandler.java:186)\\n\\tat org.eclipse.jetty.server.handler.ContextHandler.doScope(ContextHandler.java:1292)\\n\\tat org.eclipse.jetty.server.handler.ScopedHandler.handle(ScopedHandler.java:141)\\n\\tat org.eclipse.jetty.server.handler.ContextHandlerCollection.handle(ContextHandlerCollection.java:234)\\n\\tat io.micrometer.core.instrument.binder.jetty.TimedHandler.handle(TimedHandler.java:120)\\n\\tat org.eclipse.jetty.server.handler.HandlerWrapper.handle(HandlerWrapper.java:127)\\n\\tat org.eclipse.jetty.server.Server.handle(Server.java:501)\\n\\tat org.eclipse.jetty.server.HttpChannel.lambda$handle$1(HttpChannel.java:383)\\n\\tat org.eclipse.jetty.server.HttpChannel.dispatch(HttpChannel.java:556)\\n\\tat org.eclipse.jetty.server.HttpChannel.handle(HttpChannel.java:375)\\n\\tat org.eclipse.jetty.server.HttpConnection.onFillable(HttpConnection.java:273)\\n\\tat org.eclipse.jetty.io.AbstractConnection$ReadCallback.succeeded(AbstractConnection.java:311)\\n\\tat org.eclipse.jetty.io.FillInterest.fillable(FillInterest.java:105)\\n\\tat org.eclipse.jetty.io.ChannelEndPoint$1.run(ChannelEndPoint.java:104)\\n\\tat org.eclipse.jetty.util.thread.strategy.EatWhatYouKill.runTask(EatWhatYouKill.java:336)\\n\\tat org.eclipse.jetty.util.thread.strategy.EatWhatYouKill.doProduce(EatWhatYouKill.java:313)\\n\\tat org.eclipse.jetty.util.thread.strategy.EatWhatYouKill.tryProduce(EatWhatYouKill.java:171)\\n\\tat org.eclipse.jetty.util.thread.strategy.EatWhatYouKill.run(EatWhatYouKill.java:129)\\n\\tat org.eclipse.jetty.util.thread.ReservedThreadExecutor$ReservedThread.run(ReservedThreadExecutor.java:375)\\n\\tat org.eclipse.jetty.util.thread.QueuedThreadPool.runJob(QueuedThreadPool.java:806)\\n\\tat org.eclipse.jetty.util.thread.QueuedThreadPool$Runner.run(QueuedThreadPool.java:938)\\n\\tat java.lang.Thread.run(Thread.java:748)\\nCaused by: java.io.IOException: Fail to import note: Note \\u0027/xp_intro_q2_datagen\\u0027 existed\\n\\t... 64 more\\nCaused by: org.apache.zeppelin.notebook.exception.NotePathAlreadyExistsException: Note \\u0027/xp_intro_q2_datagen\\u0027 existed\\n\\tat org.apache.zeppelin.notebook.NoteManager.addOrUpdateNoteNode(NoteManager.java:124)\\n\\tat org.apache.zeppelin.notebook.NoteManager.addNote(NoteManager.java:196)\\n\\tat org.apache.zeppelin.notebook.Notebook.createNote(Notebook.java:255)\\n\\tat org.apache.zeppelin.notebook.Notebook.createNote(Notebook.java:236)\\n\\tat org.apache.zeppelin.notebook.Notebook.createNote(Notebook.java:203)\\n\\tat org.apache.zeppelin.notebook.Notebook.importNote(Notebook.java:299)\\n\\tat org.apache.zeppelin.service.NotebookService.importNote(NotebookService.java:306)\\n\\t... 63 more\\n\"}../../xp/streambed-nexmark/zeppelin/xp_intro_q2_kafka_2HWZWDYDA.zpln\n"
     ]
    },
    {
     "name": "stderr",
     "output_type": "stream",
     "text": [
      "  % Total    % Received % Xferd  Average Speed   Time    Time     Time  Current\n",
      "                                 Dload  Upload   Total   Spent    Left  Speed\n",
      "100 21977  100  6818  100 15159  1664k  3700k --:--:-- --:--:-- --:--:-- 5365k\n"
     ]
    },
    {
     "name": "stdout",
     "output_type": "stream",
     "text": [
      "{\"exception\":\"IOException\",\"message\":\"java.io.IOException: Fail to import note: Note \\u0027/xp_intro_q2_kafka\\u0027 existed\",\"stacktrace\":\"java.io.IOException: java.io.IOException: Fail to import note: Note \\u0027/xp_intro_q2_kafka\\u0027 existed\\n\\tat org.apache.zeppelin.rest.AbstractRestApi$RestServiceCallback.onFailure(AbstractRestApi.java:54)\\n\\tat org.apache.zeppelin.service.NotebookService.importNote(NotebookService.java:312)\\n\\tat org.apache.zeppelin.rest.NotebookRestApi.importNote(NotebookRestApi.java:369)\\n\\tat sun.reflect.GeneratedMethodAccessor9.invoke(Unknown Source)\\n\\tat sun.reflect.DelegatingMethodAccessorImpl.invoke(DelegatingMethodAccessorImpl.java:43)\\n\\tat java.lang.reflect.Method.invoke(Method.java:498)\\n\\tat org.glassfish.jersey.server.model.internal.ResourceMethodInvocationHandlerFactory.lambda$static$0(ResourceMethodInvocationHandlerFactory.java:52)\\n\\tat org.glassfish.jersey.server.model.internal.AbstractJavaResourceMethodDispatcher$1.run(AbstractJavaResourceMethodDispatcher.java:124)\\n\\tat org.glassfish.jersey.server.model.internal.AbstractJavaResourceMethodDispatcher.invoke(AbstractJavaResourceMethodDispatcher.java:167)\\n\\tat org.glassfish.jersey.server.model.internal.JavaResourceMethodDispatcherProvider$ResponseOutInvoker.doDispatch(JavaResourceMethodDispatcherProvider.java:176)\\n\\tat org.glassfish.jersey.server.model.internal.AbstractJavaResourceMethodDispatcher.dispatch(AbstractJavaResourceMethodDispatcher.java:79)\\n\\tat org.glassfish.jersey.server.model.ResourceMethodInvoker.invoke(ResourceMethodInvoker.java:469)\\n\\tat org.glassfish.jersey.server.model.ResourceMethodInvoker.apply(ResourceMethodInvoker.java:391)\\n\\tat org.glassfish.jersey.server.model.ResourceMethodInvoker.apply(ResourceMethodInvoker.java:80)\\n\\tat org.glassfish.jersey.server.ServerRuntime$1.run(ServerRuntime.java:253)\\n\\tat org.glassfish.jersey.internal.Errors$1.call(Errors.java:248)\\n\\tat org.glassfish.jersey.internal.Errors$1.call(Errors.java:244)\\n\\tat org.glassfish.jersey.internal.Errors.process(Errors.java:292)\\n\\tat org.glassfish.jersey.internal.Errors.process(Errors.java:274)\\n\\tat org.glassfish.jersey.internal.Errors.process(Errors.java:244)\\n\\tat org.glassfish.jersey.process.internal.RequestScope.runInScope(RequestScope.java:265)\\n\\tat org.glassfish.jersey.server.ServerRuntime.process(ServerRuntime.java:232)\\n\\tat org.glassfish.jersey.server.ApplicationHandler.handle(ApplicationHandler.java:680)\\n\\tat org.glassfish.jersey.servlet.WebComponent.serviceImpl(WebComponent.java:394)\\n\\tat org.glassfish.jersey.servlet.WebComponent.service(WebComponent.java:346)\\n\\tat org.glassfish.jersey.servlet.ServletContainer.service(ServletContainer.java:366)\\n\\tat org.glassfish.jersey.servlet.ServletContainer.service(ServletContainer.java:319)\\n\\tat org.glassfish.jersey.servlet.ServletContainer.service(ServletContainer.java:205)\\n\\tat org.eclipse.jetty.servlet.ServletHolder.handle(ServletHolder.java:763)\\n\\tat org.eclipse.jetty.servlet.ServletHandler$CachedChain.doFilter(ServletHandler.java:1651)\\n\\tat org.apache.zeppelin.server.CorsFilter.doFilter(CorsFilter.java:64)\\n\\tat org.eclipse.jetty.servlet.ServletHandler$CachedChain.doFilter(ServletHandler.java:1638)\\n\\tat org.eclipse.jetty.servlet.ServletHandler.doHandle(ServletHandler.java:567)\\n\\tat org.eclipse.jetty.server.handler.ScopedHandler.handle(ScopedHandler.java:143)\\n\\tat org.eclipse.jetty.security.SecurityHandler.handle(SecurityHandler.java:602)\\n\\tat org.eclipse.jetty.server.handler.HandlerWrapper.handle(HandlerWrapper.java:127)\\n\\tat org.eclipse.jetty.server.handler.ScopedHandler.nextHandle(ScopedHandler.java:235)\\n\\tat org.eclipse.jetty.server.session.SessionHandler.doHandle(SessionHandler.java:1610)\\n\\tat org.eclipse.jetty.server.handler.ScopedHandler.nextHandle(ScopedHandler.java:233)\\n\\tat org.eclipse.jetty.server.handler.ContextHandler.doHandle(ContextHandler.java:1377)\\n\\tat org.eclipse.jetty.server.handler.ScopedHandler.nextScope(ScopedHandler.java:188)\\n\\tat org.eclipse.jetty.servlet.ServletHandler.doScope(ServletHandler.java:507)\\n\\tat org.eclipse.jetty.server.session.SessionHandler.doScope(SessionHandler.java:1580)\\n\\tat org.eclipse.jetty.server.handler.ScopedHandler.nextScope(ScopedHandler.java:186)\\n\\tat org.eclipse.jetty.server.handler.ContextHandler.doScope(ContextHandler.java:1292)\\n\\tat org.eclipse.jetty.server.handler.ScopedHandler.handle(ScopedHandler.java:141)\\n\\tat org.eclipse.jetty.server.handler.ContextHandlerCollection.handle(ContextHandlerCollection.java:234)\\n\\tat io.micrometer.core.instrument.binder.jetty.TimedHandler.handle(TimedHandler.java:120)\\n\\tat org.eclipse.jetty.server.handler.HandlerWrapper.handle(HandlerWrapper.java:127)\\n\\tat org.eclipse.jetty.server.Server.handle(Server.java:501)\\n\\tat org.eclipse.jetty.server.HttpChannel.lambda$handle$1(HttpChannel.java:383)\\n\\tat org.eclipse.jetty.server.HttpChannel.dispatch(HttpChannel.java:556)\\n\\tat org.eclipse.jetty.server.HttpChannel.handle(HttpChannel.java:375)\\n\\tat org.eclipse.jetty.server.HttpConnection.onFillable(HttpConnection.java:273)\\n\\tat org.eclipse.jetty.io.AbstractConnection$ReadCallback.succeeded(AbstractConnection.java:311)\\n\\tat org.eclipse.jetty.io.FillInterest.fillable(FillInterest.java:105)\\n\\tat org.eclipse.jetty.io.ChannelEndPoint$1.run(ChannelEndPoint.java:104)\\n\\tat org.eclipse.jetty.util.thread.strategy.EatWhatYouKill.runTask(EatWhatYouKill.java:336)\\n\\tat org.eclipse.jetty.util.thread.strategy.EatWhatYouKill.doProduce(EatWhatYouKill.java:313)\\n\\tat org.eclipse.jetty.util.thread.strategy.EatWhatYouKill.tryProduce(EatWhatYouKill.java:171)\\n\\tat org.eclipse.jetty.util.thread.strategy.EatWhatYouKill.run(EatWhatYouKill.java:129)\\n\\tat org.eclipse.jetty.util.thread.ReservedThreadExecutor$ReservedThread.run(ReservedThreadExecutor.java:375)\\n\\tat org.eclipse.jetty.util.thread.QueuedThreadPool.runJob(QueuedThreadPool.java:806)\\n\\tat org.eclipse.jetty.util.thread.QueuedThreadPool$Runner.run(QueuedThreadPool.java:938)\\n\\tat java.lang.Thread.run(Thread.java:748)\\nCaused by: java.io.IOException: Fail to import note: Note \\u0027/xp_intro_q2_kafka\\u0027 existed\\n\\t... 64 more\\nCaused by: org.apache.zeppelin.notebook.exception.NotePathAlreadyExistsException: Note \\u0027/xp_intro_q2_kafka\\u0027 existed\\n\\tat org.apache.zeppelin.notebook.NoteManager.addOrUpdateNoteNode(NoteManager.java:124)\\n\\tat org.apache.zeppelin.notebook.NoteManager.addNote(NoteManager.java:196)\\n\\tat org.apache.zeppelin.notebook.Notebook.createNote(Notebook.java:255)\\n\\tat org.apache.zeppelin.notebook.Notebook.createNote(Notebook.java:236)\\n\\tat org.apache.zeppelin.notebook.Notebook.createNote(Notebook.java:203)\\n\\tat org.apache.zeppelin.notebook.Notebook.importNote(Notebook.java:299)\\n\\tat org.apache.zeppelin.service.NotebookService.importNote(NotebookService.java:306)\\n\\t... 63 more\\n\"}../../xp/streambed-nexmark/zeppelin/xp_intro_q2_kafka_custom_ratelimit_2HYRX196Q.zpln\n"
     ]
    },
    {
     "name": "stderr",
     "output_type": "stream",
     "text": [
      "  % Total    % Received % Xferd  Average Speed   Time    Time     Time  Current\n",
      "                                 Dload  Upload   Total   Spent    Left  Speed\n",
      "100 24200  100  6886  100 17314  1681k  4227k --:--:-- --:--:-- --:--:-- 5908k\n"
     ]
    },
    {
     "name": "stdout",
     "output_type": "stream",
     "text": [
      "{\"exception\":\"IOException\",\"message\":\"java.io.IOException: Fail to import note: Note \\u0027/xp_intro_q2_kafka_custom_ratelimit\\u0027 existed\",\"stacktrace\":\"java.io.IOException: java.io.IOException: Fail to import note: Note \\u0027/xp_intro_q2_kafka_custom_ratelimit\\u0027 existed\\n\\tat org.apache.zeppelin.rest.AbstractRestApi$RestServiceCallback.onFailure(AbstractRestApi.java:54)\\n\\tat org.apache.zeppelin.service.NotebookService.importNote(NotebookService.java:312)\\n\\tat org.apache.zeppelin.rest.NotebookRestApi.importNote(NotebookRestApi.java:369)\\n\\tat sun.reflect.GeneratedMethodAccessor9.invoke(Unknown Source)\\n\\tat sun.reflect.DelegatingMethodAccessorImpl.invoke(DelegatingMethodAccessorImpl.java:43)\\n\\tat java.lang.reflect.Method.invoke(Method.java:498)\\n\\tat org.glassfish.jersey.server.model.internal.ResourceMethodInvocationHandlerFactory.lambda$static$0(ResourceMethodInvocationHandlerFactory.java:52)\\n\\tat org.glassfish.jersey.server.model.internal.AbstractJavaResourceMethodDispatcher$1.run(AbstractJavaResourceMethodDispatcher.java:124)\\n\\tat org.glassfish.jersey.server.model.internal.AbstractJavaResourceMethodDispatcher.invoke(AbstractJavaResourceMethodDispatcher.java:167)\\n\\tat org.glassfish.jersey.server.model.internal.JavaResourceMethodDispatcherProvider$ResponseOutInvoker.doDispatch(JavaResourceMethodDispatcherProvider.java:176)\\n\\tat org.glassfish.jersey.server.model.internal.AbstractJavaResourceMethodDispatcher.dispatch(AbstractJavaResourceMethodDispatcher.java:79)\\n\\tat org.glassfish.jersey.server.model.ResourceMethodInvoker.invoke(ResourceMethodInvoker.java:469)\\n\\tat org.glassfish.jersey.server.model.ResourceMethodInvoker.apply(ResourceMethodInvoker.java:391)\\n\\tat org.glassfish.jersey.server.model.ResourceMethodInvoker.apply(ResourceMethodInvoker.java:80)\\n\\tat org.glassfish.jersey.server.ServerRuntime$1.run(ServerRuntime.java:253)\\n\\tat org.glassfish.jersey.internal.Errors$1.call(Errors.java:248)\\n\\tat org.glassfish.jersey.internal.Errors$1.call(Errors.java:244)\\n\\tat org.glassfish.jersey.internal.Errors.process(Errors.java:292)\\n\\tat org.glassfish.jersey.internal.Errors.process(Errors.java:274)\\n\\tat org.glassfish.jersey.internal.Errors.process(Errors.java:244)\\n\\tat org.glassfish.jersey.process.internal.RequestScope.runInScope(RequestScope.java:265)\\n\\tat org.glassfish.jersey.server.ServerRuntime.process(ServerRuntime.java:232)\\n\\tat org.glassfish.jersey.server.ApplicationHandler.handle(ApplicationHandler.java:680)\\n\\tat org.glassfish.jersey.servlet.WebComponent.serviceImpl(WebComponent.java:394)\\n\\tat org.glassfish.jersey.servlet.WebComponent.service(WebComponent.java:346)\\n\\tat org.glassfish.jersey.servlet.ServletContainer.service(ServletContainer.java:366)\\n\\tat org.glassfish.jersey.servlet.ServletContainer.service(ServletContainer.java:319)\\n\\tat org.glassfish.jersey.servlet.ServletContainer.service(ServletContainer.java:205)\\n\\tat org.eclipse.jetty.servlet.ServletHolder.handle(ServletHolder.java:763)\\n\\tat org.eclipse.jetty.servlet.ServletHandler$CachedChain.doFilter(ServletHandler.java:1651)\\n\\tat org.apache.zeppelin.server.CorsFilter.doFilter(CorsFilter.java:64)\\n\\tat org.eclipse.jetty.servlet.ServletHandler$CachedChain.doFilter(ServletHandler.java:1638)\\n\\tat org.eclipse.jetty.servlet.ServletHandler.doHandle(ServletHandler.java:567)\\n\\tat org.eclipse.jetty.server.handler.ScopedHandler.handle(ScopedHandler.java:143)\\n\\tat org.eclipse.jetty.security.SecurityHandler.handle(SecurityHandler.java:602)\\n\\tat org.eclipse.jetty.server.handler.HandlerWrapper.handle(HandlerWrapper.java:127)\\n\\tat org.eclipse.jetty.server.handler.ScopedHandler.nextHandle(ScopedHandler.java:235)\\n\\tat org.eclipse.jetty.server.session.SessionHandler.doHandle(SessionHandler.java:1610)\\n\\tat org.eclipse.jetty.server.handler.ScopedHandler.nextHandle(ScopedHandler.java:233)\\n\\tat org.eclipse.jetty.server.handler.ContextHandler.doHandle(ContextHandler.java:1377)\\n\\tat org.eclipse.jetty.server.handler.ScopedHandler.nextScope(ScopedHandler.java:188)\\n\\tat org.eclipse.jetty.servlet.ServletHandler.doScope(ServletHandler.java:507)\\n\\tat org.eclipse.jetty.server.session.SessionHandler.doScope(SessionHandler.java:1580)\\n\\tat org.eclipse.jetty.server.handler.ScopedHandler.nextScope(ScopedHandler.java:186)\\n\\tat org.eclipse.jetty.server.handler.ContextHandler.doScope(ContextHandler.java:1292)\\n\\tat org.eclipse.jetty.server.handler.ScopedHandler.handle(ScopedHandler.java:141)\\n\\tat org.eclipse.jetty.server.handler.ContextHandlerCollection.handle(ContextHandlerCollection.java:234)\\n\\tat io.micrometer.core.instrument.binder.jetty.TimedHandler.handle(TimedHandler.java:120)\\n\\tat org.eclipse.jetty.server.handler.HandlerWrapper.handle(HandlerWrapper.java:127)\\n\\tat org.eclipse.jetty.server.Server.handle(Server.java:501)\\n\\tat org.eclipse.jetty.server.HttpChannel.lambda$handle$1(HttpChannel.java:383)\\n\\tat org.eclipse.jetty.server.HttpChannel.dispatch(HttpChannel.java:556)\\n\\tat org.eclipse.jetty.server.HttpChannel.handle(HttpChannel.java:375)\\n\\tat org.eclipse.jetty.server.HttpConnection.onFillable(HttpConnection.java:273)\\n\\tat org.eclipse.jetty.io.AbstractConnection$ReadCallback.succeeded(AbstractConnection.java:311)\\n\\tat org.eclipse.jetty.io.FillInterest.fillable(FillInterest.java:105)\\n\\tat org.eclipse.jetty.io.ChannelEndPoint$1.run(ChannelEndPoint.java:104)\\n\\tat org.eclipse.jetty.util.thread.strategy.EatWhatYouKill.runTask(EatWhatYouKill.java:336)\\n\\tat org.eclipse.jetty.util.thread.strategy.EatWhatYouKill.doProduce(EatWhatYouKill.java:313)\\n\\tat org.eclipse.jetty.util.thread.strategy.EatWhatYouKill.tryProduce(EatWhatYouKill.java:171)\\n\\tat org.eclipse.jetty.util.thread.strategy.EatWhatYouKill.run(EatWhatYouKill.java:129)\\n\\tat org.eclipse.jetty.util.thread.ReservedThreadExecutor$ReservedThread.run(ReservedThreadExecutor.java:375)\\n\\tat org.eclipse.jetty.util.thread.QueuedThreadPool.runJob(QueuedThreadPool.java:806)\\n\\tat org.eclipse.jetty.util.thread.QueuedThreadPool$Runner.run(QueuedThreadPool.java:938)\\n\\tat java.lang.Thread.run(Thread.java:748)\\nCaused by: java.io.IOException: Fail to import note: Note \\u0027/xp_intro_q2_kafka_custom_ratelimit\\u0027 existed\\n\\t... 64 more\\nCaused by: org.apache.zeppelin.notebook.exception.NotePathAlreadyExistsException: Note \\u0027/xp_intro_q2_kafka_custom_ratelimit\\u0027 existed\\n\\tat org.apache.zeppelin.notebook.NoteManager.addOrUpdateNoteNode(NoteManager.java:124)\\n\\tat org.apache.zeppelin.notebook.NoteManager.addNote(NoteManager.java:196)\\n\\tat org.apache.zeppelin.notebook.Notebook.createNote(Notebook.java:255)\\n\\tat org.apache.zeppelin.notebook.Notebook.createNote(Notebook.java:236)\\n\\tat org.apache.zeppelin.notebook.Notebook.createNote(Notebook.java:203)\\n\\tat org.apache.zeppelin.notebook.Notebook.importNote(Notebook.java:299)\\n\\tat org.apache.zeppelin.service.NotebookService.importNote(NotebookService.java:306)\\n\\t... 63 more\\n\"}../../xp/streambed-nexmark/zeppelin/xp_intro_q3_datagen_2HYK5ZF5G.zpln\n"
     ]
    },
    {
     "name": "stderr",
     "output_type": "stream",
     "text": [
      "  % Total    % Received % Xferd  Average Speed   Time    Time     Time  Current\n",
      "                                 Dload  Upload   Total   Spent    Left  Speed\n",
      "100 34983  100  6826  100 28157   151k   624k --:--:-- --:--:-- --:--:--  776k\n"
     ]
    },
    {
     "name": "stdout",
     "output_type": "stream",
     "text": [
      "{\"exception\":\"IOException\",\"message\":\"java.io.IOException: Fail to import note: Note \\u0027/xp_intro_q3_datagen\\u0027 existed\",\"stacktrace\":\"java.io.IOException: java.io.IOException: Fail to import note: Note \\u0027/xp_intro_q3_datagen\\u0027 existed\\n\\tat org.apache.zeppelin.rest.AbstractRestApi$RestServiceCallback.onFailure(AbstractRestApi.java:54)\\n\\tat org.apache.zeppelin.service.NotebookService.importNote(NotebookService.java:312)\\n\\tat org.apache.zeppelin.rest.NotebookRestApi.importNote(NotebookRestApi.java:369)\\n\\tat sun.reflect.GeneratedMethodAccessor9.invoke(Unknown Source)\\n\\tat sun.reflect.DelegatingMethodAccessorImpl.invoke(DelegatingMethodAccessorImpl.java:43)\\n\\tat java.lang.reflect.Method.invoke(Method.java:498)\\n\\tat org.glassfish.jersey.server.model.internal.ResourceMethodInvocationHandlerFactory.lambda$static$0(ResourceMethodInvocationHandlerFactory.java:52)\\n\\tat org.glassfish.jersey.server.model.internal.AbstractJavaResourceMethodDispatcher$1.run(AbstractJavaResourceMethodDispatcher.java:124)\\n\\tat org.glassfish.jersey.server.model.internal.AbstractJavaResourceMethodDispatcher.invoke(AbstractJavaResourceMethodDispatcher.java:167)\\n\\tat org.glassfish.jersey.server.model.internal.JavaResourceMethodDispatcherProvider$ResponseOutInvoker.doDispatch(JavaResourceMethodDispatcherProvider.java:176)\\n\\tat org.glassfish.jersey.server.model.internal.AbstractJavaResourceMethodDispatcher.dispatch(AbstractJavaResourceMethodDispatcher.java:79)\\n\\tat org.glassfish.jersey.server.model.ResourceMethodInvoker.invoke(ResourceMethodInvoker.java:469)\\n\\tat org.glassfish.jersey.server.model.ResourceMethodInvoker.apply(ResourceMethodInvoker.java:391)\\n\\tat org.glassfish.jersey.server.model.ResourceMethodInvoker.apply(ResourceMethodInvoker.java:80)\\n\\tat org.glassfish.jersey.server.ServerRuntime$1.run(ServerRuntime.java:253)\\n\\tat org.glassfish.jersey.internal.Errors$1.call(Errors.java:248)\\n\\tat org.glassfish.jersey.internal.Errors$1.call(Errors.java:244)\\n\\tat org.glassfish.jersey.internal.Errors.process(Errors.java:292)\\n\\tat org.glassfish.jersey.internal.Errors.process(Errors.java:274)\\n\\tat org.glassfish.jersey.internal.Errors.process(Errors.java:244)\\n\\tat org.glassfish.jersey.process.internal.RequestScope.runInScope(RequestScope.java:265)\\n\\tat org.glassfish.jersey.server.ServerRuntime.process(ServerRuntime.java:232)\\n\\tat org.glassfish.jersey.server.ApplicationHandler.handle(ApplicationHandler.java:680)\\n\\tat org.glassfish.jersey.servlet.WebComponent.serviceImpl(WebComponent.java:394)\\n\\tat org.glassfish.jersey.servlet.WebComponent.service(WebComponent.java:346)\\n\\tat org.glassfish.jersey.servlet.ServletContainer.service(ServletContainer.java:366)\\n\\tat org.glassfish.jersey.servlet.ServletContainer.service(ServletContainer.java:319)\\n\\tat org.glassfish.jersey.servlet.ServletContainer.service(ServletContainer.java:205)\\n\\tat org.eclipse.jetty.servlet.ServletHolder.handle(ServletHolder.java:763)\\n\\tat org.eclipse.jetty.servlet.ServletHandler$CachedChain.doFilter(ServletHandler.java:1651)\\n\\tat org.apache.zeppelin.server.CorsFilter.doFilter(CorsFilter.java:64)\\n\\tat org.eclipse.jetty.servlet.ServletHandler$CachedChain.doFilter(ServletHandler.java:1638)\\n\\tat org.eclipse.jetty.servlet.ServletHandler.doHandle(ServletHandler.java:567)\\n\\tat org.eclipse.jetty.server.handler.ScopedHandler.handle(ScopedHandler.java:143)\\n\\tat org.eclipse.jetty.security.SecurityHandler.handle(SecurityHandler.java:602)\\n\\tat org.eclipse.jetty.server.handler.HandlerWrapper.handle(HandlerWrapper.java:127)\\n\\tat org.eclipse.jetty.server.handler.ScopedHandler.nextHandle(ScopedHandler.java:235)\\n\\tat org.eclipse.jetty.server.session.SessionHandler.doHandle(SessionHandler.java:1610)\\n\\tat org.eclipse.jetty.server.handler.ScopedHandler.nextHandle(ScopedHandler.java:233)\\n\\tat org.eclipse.jetty.server.handler.ContextHandler.doHandle(ContextHandler.java:1377)\\n\\tat org.eclipse.jetty.server.handler.ScopedHandler.nextScope(ScopedHandler.java:188)\\n\\tat org.eclipse.jetty.servlet.ServletHandler.doScope(ServletHandler.java:507)\\n\\tat org.eclipse.jetty.server.session.SessionHandler.doScope(SessionHandler.java:1580)\\n\\tat org.eclipse.jetty.server.handler.ScopedHandler.nextScope(ScopedHandler.java:186)\\n\\tat org.eclipse.jetty.server.handler.ContextHandler.doScope(ContextHandler.java:1292)\\n\\tat org.eclipse.jetty.server.handler.ScopedHandler.handle(ScopedHandler.java:141)\\n\\tat org.eclipse.jetty.server.handler.ContextHandlerCollection.handle(ContextHandlerCollection.java:234)\\n\\tat io.micrometer.core.instrument.binder.jetty.TimedHandler.handle(TimedHandler.java:120)\\n\\tat org.eclipse.jetty.server.handler.HandlerWrapper.handle(HandlerWrapper.java:127)\\n\\tat org.eclipse.jetty.server.Server.handle(Server.java:501)\\n\\tat org.eclipse.jetty.server.HttpChannel.lambda$handle$1(HttpChannel.java:383)\\n\\tat org.eclipse.jetty.server.HttpChannel.dispatch(HttpChannel.java:556)\\n\\tat org.eclipse.jetty.server.HttpChannel.handle(HttpChannel.java:375)\\n\\tat org.eclipse.jetty.server.HttpConnection.onFillable(HttpConnection.java:273)\\n\\tat org.eclipse.jetty.io.AbstractConnection$ReadCallback.succeeded(AbstractConnection.java:311)\\n\\tat org.eclipse.jetty.io.FillInterest.fillable(FillInterest.java:105)\\n\\tat org.eclipse.jetty.io.ChannelEndPoint$1.run(ChannelEndPoint.java:104)\\n\\tat org.eclipse.jetty.util.thread.strategy.EatWhatYouKill.runTask(EatWhatYouKill.java:336)\\n\\tat org.eclipse.jetty.util.thread.strategy.EatWhatYouKill.doProduce(EatWhatYouKill.java:313)\\n\\tat org.eclipse.jetty.util.thread.strategy.EatWhatYouKill.tryProduce(EatWhatYouKill.java:171)\\n\\tat org.eclipse.jetty.util.thread.strategy.EatWhatYouKill.run(EatWhatYouKill.java:129)\\n\\tat org.eclipse.jetty.util.thread.ReservedThreadExecutor$ReservedThread.run(ReservedThreadExecutor.java:375)\\n\\tat org.eclipse.jetty.util.thread.QueuedThreadPool.runJob(QueuedThreadPool.java:806)\\n\\tat org.eclipse.jetty.util.thread.QueuedThreadPool$Runner.run(QueuedThreadPool.java:938)\\n\\tat java.lang.Thread.run(Thread.java:748)\\nCaused by: java.io.IOException: Fail to import note: Note \\u0027/xp_intro_q3_datagen\\u0027 existed\\n\\t... 64 more\\nCaused by: org.apache.zeppelin.notebook.exception.NotePathAlreadyExistsException: Note \\u0027/xp_intro_q3_datagen\\u0027 existed\\n\\tat org.apache.zeppelin.notebook.NoteManager.addOrUpdateNoteNode(NoteManager.java:124)\\n\\tat org.apache.zeppelin.notebook.NoteManager.addNote(NoteManager.java:196)\\n\\tat org.apache.zeppelin.notebook.Notebook.createNote(Notebook.java:255)\\n\\tat org.apache.zeppelin.notebook.Notebook.createNote(Notebook.java:236)\\n\\tat org.apache.zeppelin.notebook.Notebook.createNote(Notebook.java:203)\\n\\tat org.apache.zeppelin.notebook.Notebook.importNote(Notebook.java:299)\\n\\tat org.apache.zeppelin.service.NotebookService.importNote(NotebookService.java:306)\\n\\t... 63 more\\n\"}../../xp/streambed-nexmark/zeppelin/xp_intro_q3_kafka_2HX5D6CR4.zpln\n"
     ]
    },
    {
     "name": "stderr",
     "output_type": "stream",
     "text": [
      "  % Total    % Received % Xferd  Average Speed   Time    Time     Time  Current\n",
      "                                 Dload  Upload   Total   Spent    Left  Speed\n",
      "100 22454  100  6818  100 15636  1664k  3817k --:--:-- --:--:-- --:--:-- 5481k\n"
     ]
    },
    {
     "name": "stdout",
     "output_type": "stream",
     "text": [
      "{\"exception\":\"IOException\",\"message\":\"java.io.IOException: Fail to import note: Note \\u0027/xp_intro_q3_kafka\\u0027 existed\",\"stacktrace\":\"java.io.IOException: java.io.IOException: Fail to import note: Note \\u0027/xp_intro_q3_kafka\\u0027 existed\\n\\tat org.apache.zeppelin.rest.AbstractRestApi$RestServiceCallback.onFailure(AbstractRestApi.java:54)\\n\\tat org.apache.zeppelin.service.NotebookService.importNote(NotebookService.java:312)\\n\\tat org.apache.zeppelin.rest.NotebookRestApi.importNote(NotebookRestApi.java:369)\\n\\tat sun.reflect.GeneratedMethodAccessor9.invoke(Unknown Source)\\n\\tat sun.reflect.DelegatingMethodAccessorImpl.invoke(DelegatingMethodAccessorImpl.java:43)\\n\\tat java.lang.reflect.Method.invoke(Method.java:498)\\n\\tat org.glassfish.jersey.server.model.internal.ResourceMethodInvocationHandlerFactory.lambda$static$0(ResourceMethodInvocationHandlerFactory.java:52)\\n\\tat org.glassfish.jersey.server.model.internal.AbstractJavaResourceMethodDispatcher$1.run(AbstractJavaResourceMethodDispatcher.java:124)\\n\\tat org.glassfish.jersey.server.model.internal.AbstractJavaResourceMethodDispatcher.invoke(AbstractJavaResourceMethodDispatcher.java:167)\\n\\tat org.glassfish.jersey.server.model.internal.JavaResourceMethodDispatcherProvider$ResponseOutInvoker.doDispatch(JavaResourceMethodDispatcherProvider.java:176)\\n\\tat org.glassfish.jersey.server.model.internal.AbstractJavaResourceMethodDispatcher.dispatch(AbstractJavaResourceMethodDispatcher.java:79)\\n\\tat org.glassfish.jersey.server.model.ResourceMethodInvoker.invoke(ResourceMethodInvoker.java:469)\\n\\tat org.glassfish.jersey.server.model.ResourceMethodInvoker.apply(ResourceMethodInvoker.java:391)\\n\\tat org.glassfish.jersey.server.model.ResourceMethodInvoker.apply(ResourceMethodInvoker.java:80)\\n\\tat org.glassfish.jersey.server.ServerRuntime$1.run(ServerRuntime.java:253)\\n\\tat org.glassfish.jersey.internal.Errors$1.call(Errors.java:248)\\n\\tat org.glassfish.jersey.internal.Errors$1.call(Errors.java:244)\\n\\tat org.glassfish.jersey.internal.Errors.process(Errors.java:292)\\n\\tat org.glassfish.jersey.internal.Errors.process(Errors.java:274)\\n\\tat org.glassfish.jersey.internal.Errors.process(Errors.java:244)\\n\\tat org.glassfish.jersey.process.internal.RequestScope.runInScope(RequestScope.java:265)\\n\\tat org.glassfish.jersey.server.ServerRuntime.process(ServerRuntime.java:232)\\n\\tat org.glassfish.jersey.server.ApplicationHandler.handle(ApplicationHandler.java:680)\\n\\tat org.glassfish.jersey.servlet.WebComponent.serviceImpl(WebComponent.java:394)\\n\\tat org.glassfish.jersey.servlet.WebComponent.service(WebComponent.java:346)\\n\\tat org.glassfish.jersey.servlet.ServletContainer.service(ServletContainer.java:366)\\n\\tat org.glassfish.jersey.servlet.ServletContainer.service(ServletContainer.java:319)\\n\\tat org.glassfish.jersey.servlet.ServletContainer.service(ServletContainer.java:205)\\n\\tat org.eclipse.jetty.servlet.ServletHolder.handle(ServletHolder.java:763)\\n\\tat org.eclipse.jetty.servlet.ServletHandler$CachedChain.doFilter(ServletHandler.java:1651)\\n\\tat org.apache.zeppelin.server.CorsFilter.doFilter(CorsFilter.java:64)\\n\\tat org.eclipse.jetty.servlet.ServletHandler$CachedChain.doFilter(ServletHandler.java:1638)\\n\\tat org.eclipse.jetty.servlet.ServletHandler.doHandle(ServletHandler.java:567)\\n\\tat org.eclipse.jetty.server.handler.ScopedHandler.handle(ScopedHandler.java:143)\\n\\tat org.eclipse.jetty.security.SecurityHandler.handle(SecurityHandler.java:602)\\n\\tat org.eclipse.jetty.server.handler.HandlerWrapper.handle(HandlerWrapper.java:127)\\n\\tat org.eclipse.jetty.server.handler.ScopedHandler.nextHandle(ScopedHandler.java:235)\\n\\tat org.eclipse.jetty.server.session.SessionHandler.doHandle(SessionHandler.java:1610)\\n\\tat org.eclipse.jetty.server.handler.ScopedHandler.nextHandle(ScopedHandler.java:233)\\n\\tat org.eclipse.jetty.server.handler.ContextHandler.doHandle(ContextHandler.java:1377)\\n\\tat org.eclipse.jetty.server.handler.ScopedHandler.nextScope(ScopedHandler.java:188)\\n\\tat org.eclipse.jetty.servlet.ServletHandler.doScope(ServletHandler.java:507)\\n\\tat org.eclipse.jetty.server.session.SessionHandler.doScope(SessionHandler.java:1580)\\n\\tat org.eclipse.jetty.server.handler.ScopedHandler.nextScope(ScopedHandler.java:186)\\n\\tat org.eclipse.jetty.server.handler.ContextHandler.doScope(ContextHandler.java:1292)\\n\\tat org.eclipse.jetty.server.handler.ScopedHandler.handle(ScopedHandler.java:141)\\n\\tat org.eclipse.jetty.server.handler.ContextHandlerCollection.handle(ContextHandlerCollection.java:234)\\n\\tat io.micrometer.core.instrument.binder.jetty.TimedHandler.handle(TimedHandler.java:120)\\n\\tat org.eclipse.jetty.server.handler.HandlerWrapper.handle(HandlerWrapper.java:127)\\n\\tat org.eclipse.jetty.server.Server.handle(Server.java:501)\\n\\tat org.eclipse.jetty.server.HttpChannel.lambda$handle$1(HttpChannel.java:383)\\n\\tat org.eclipse.jetty.server.HttpChannel.dispatch(HttpChannel.java:556)\\n\\tat org.eclipse.jetty.server.HttpChannel.handle(HttpChannel.java:375)\\n\\tat org.eclipse.jetty.server.HttpConnection.onFillable(HttpConnection.java:273)\\n\\tat org.eclipse.jetty.io.AbstractConnection$ReadCallback.succeeded(AbstractConnection.java:311)\\n\\tat org.eclipse.jetty.io.FillInterest.fillable(FillInterest.java:105)\\n\\tat org.eclipse.jetty.io.ChannelEndPoint$1.run(ChannelEndPoint.java:104)\\n\\tat org.eclipse.jetty.util.thread.strategy.EatWhatYouKill.runTask(EatWhatYouKill.java:336)\\n\\tat org.eclipse.jetty.util.thread.strategy.EatWhatYouKill.doProduce(EatWhatYouKill.java:313)\\n\\tat org.eclipse.jetty.util.thread.strategy.EatWhatYouKill.tryProduce(EatWhatYouKill.java:171)\\n\\tat org.eclipse.jetty.util.thread.strategy.EatWhatYouKill.run(EatWhatYouKill.java:129)\\n\\tat org.eclipse.jetty.util.thread.ReservedThreadExecutor$ReservedThread.run(ReservedThreadExecutor.java:375)\\n\\tat org.eclipse.jetty.util.thread.QueuedThreadPool.runJob(QueuedThreadPool.java:806)\\n\\tat org.eclipse.jetty.util.thread.QueuedThreadPool$Runner.run(QueuedThreadPool.java:938)\\n\\tat java.lang.Thread.run(Thread.java:748)\\nCaused by: java.io.IOException: Fail to import note: Note \\u0027/xp_intro_q3_kafka\\u0027 existed\\n\\t... 64 more\\nCaused by: org.apache.zeppelin.notebook.exception.NotePathAlreadyExistsException: Note \\u0027/xp_intro_q3_kafka\\u0027 existed\\n\\tat org.apache.zeppelin.notebook.NoteManager.addOrUpdateNoteNode(NoteManager.java:124)\\n\\tat org.apache.zeppelin.notebook.NoteManager.addNote(NoteManager.java:196)\\n\\tat org.apache.zeppelin.notebook.Notebook.createNote(Notebook.java:255)\\n\\tat org.apache.zeppelin.notebook.Notebook.createNote(Notebook.java:236)\\n\\tat org.apache.zeppelin.notebook.Notebook.createNote(Notebook.java:203)\\n\\tat org.apache.zeppelin.notebook.Notebook.importNote(Notebook.java:299)\\n\\tat org.apache.zeppelin.service.NotebookService.importNote(NotebookService.java:306)\\n\\t... 63 more\\n\"}../../xp/streambed-nexmark/zeppelin/xp_intro_q3_kafka_custom_ratelimit_2HX3PH18J.zpln\n"
     ]
    },
    {
     "name": "stderr",
     "output_type": "stream",
     "text": [
      "  % Total    % Received % Xferd  Average Speed   Time    Time     Time  Current\n",
      "                                 Dload  Upload   Total   Spent    Left  Speed\n",
      "100 24365  100  6886  100 17479  1681k  4267k --:--:-- --:--:-- --:--:-- 5948k\n"
     ]
    },
    {
     "name": "stdout",
     "output_type": "stream",
     "text": [
      "{\"exception\":\"IOException\",\"message\":\"java.io.IOException: Fail to import note: Note \\u0027/xp_intro_q3_kafka_custom_ratelimit\\u0027 existed\",\"stacktrace\":\"java.io.IOException: java.io.IOException: Fail to import note: Note \\u0027/xp_intro_q3_kafka_custom_ratelimit\\u0027 existed\\n\\tat org.apache.zeppelin.rest.AbstractRestApi$RestServiceCallback.onFailure(AbstractRestApi.java:54)\\n\\tat org.apache.zeppelin.service.NotebookService.importNote(NotebookService.java:312)\\n\\tat org.apache.zeppelin.rest.NotebookRestApi.importNote(NotebookRestApi.java:369)\\n\\tat sun.reflect.GeneratedMethodAccessor9.invoke(Unknown Source)\\n\\tat sun.reflect.DelegatingMethodAccessorImpl.invoke(DelegatingMethodAccessorImpl.java:43)\\n\\tat java.lang.reflect.Method.invoke(Method.java:498)\\n\\tat org.glassfish.jersey.server.model.internal.ResourceMethodInvocationHandlerFactory.lambda$static$0(ResourceMethodInvocationHandlerFactory.java:52)\\n\\tat org.glassfish.jersey.server.model.internal.AbstractJavaResourceMethodDispatcher$1.run(AbstractJavaResourceMethodDispatcher.java:124)\\n\\tat org.glassfish.jersey.server.model.internal.AbstractJavaResourceMethodDispatcher.invoke(AbstractJavaResourceMethodDispatcher.java:167)\\n\\tat org.glassfish.jersey.server.model.internal.JavaResourceMethodDispatcherProvider$ResponseOutInvoker.doDispatch(JavaResourceMethodDispatcherProvider.java:176)\\n\\tat org.glassfish.jersey.server.model.internal.AbstractJavaResourceMethodDispatcher.dispatch(AbstractJavaResourceMethodDispatcher.java:79)\\n\\tat org.glassfish.jersey.server.model.ResourceMethodInvoker.invoke(ResourceMethodInvoker.java:469)\\n\\tat org.glassfish.jersey.server.model.ResourceMethodInvoker.apply(ResourceMethodInvoker.java:391)\\n\\tat org.glassfish.jersey.server.model.ResourceMethodInvoker.apply(ResourceMethodInvoker.java:80)\\n\\tat org.glassfish.jersey.server.ServerRuntime$1.run(ServerRuntime.java:253)\\n\\tat org.glassfish.jersey.internal.Errors$1.call(Errors.java:248)\\n\\tat org.glassfish.jersey.internal.Errors$1.call(Errors.java:244)\\n\\tat org.glassfish.jersey.internal.Errors.process(Errors.java:292)\\n\\tat org.glassfish.jersey.internal.Errors.process(Errors.java:274)\\n\\tat org.glassfish.jersey.internal.Errors.process(Errors.java:244)\\n\\tat org.glassfish.jersey.process.internal.RequestScope.runInScope(RequestScope.java:265)\\n\\tat org.glassfish.jersey.server.ServerRuntime.process(ServerRuntime.java:232)\\n\\tat org.glassfish.jersey.server.ApplicationHandler.handle(ApplicationHandler.java:680)\\n\\tat org.glassfish.jersey.servlet.WebComponent.serviceImpl(WebComponent.java:394)\\n\\tat org.glassfish.jersey.servlet.WebComponent.service(WebComponent.java:346)\\n\\tat org.glassfish.jersey.servlet.ServletContainer.service(ServletContainer.java:366)\\n\\tat org.glassfish.jersey.servlet.ServletContainer.service(ServletContainer.java:319)\\n\\tat org.glassfish.jersey.servlet.ServletContainer.service(ServletContainer.java:205)\\n\\tat org.eclipse.jetty.servlet.ServletHolder.handle(ServletHolder.java:763)\\n\\tat org.eclipse.jetty.servlet.ServletHandler$CachedChain.doFilter(ServletHandler.java:1651)\\n\\tat org.apache.zeppelin.server.CorsFilter.doFilter(CorsFilter.java:64)\\n\\tat org.eclipse.jetty.servlet.ServletHandler$CachedChain.doFilter(ServletHandler.java:1638)\\n\\tat org.eclipse.jetty.servlet.ServletHandler.doHandle(ServletHandler.java:567)\\n\\tat org.eclipse.jetty.server.handler.ScopedHandler.handle(ScopedHandler.java:143)\\n\\tat org.eclipse.jetty.security.SecurityHandler.handle(SecurityHandler.java:602)\\n\\tat org.eclipse.jetty.server.handler.HandlerWrapper.handle(HandlerWrapper.java:127)\\n\\tat org.eclipse.jetty.server.handler.ScopedHandler.nextHandle(ScopedHandler.java:235)\\n\\tat org.eclipse.jetty.server.session.SessionHandler.doHandle(SessionHandler.java:1610)\\n\\tat org.eclipse.jetty.server.handler.ScopedHandler.nextHandle(ScopedHandler.java:233)\\n\\tat org.eclipse.jetty.server.handler.ContextHandler.doHandle(ContextHandler.java:1377)\\n\\tat org.eclipse.jetty.server.handler.ScopedHandler.nextScope(ScopedHandler.java:188)\\n\\tat org.eclipse.jetty.servlet.ServletHandler.doScope(ServletHandler.java:507)\\n\\tat org.eclipse.jetty.server.session.SessionHandler.doScope(SessionHandler.java:1580)\\n\\tat org.eclipse.jetty.server.handler.ScopedHandler.nextScope(ScopedHandler.java:186)\\n\\tat org.eclipse.jetty.server.handler.ContextHandler.doScope(ContextHandler.java:1292)\\n\\tat org.eclipse.jetty.server.handler.ScopedHandler.handle(ScopedHandler.java:141)\\n\\tat org.eclipse.jetty.server.handler.ContextHandlerCollection.handle(ContextHandlerCollection.java:234)\\n\\tat io.micrometer.core.instrument.binder.jetty.TimedHandler.handle(TimedHandler.java:120)\\n\\tat org.eclipse.jetty.server.handler.HandlerWrapper.handle(HandlerWrapper.java:127)\\n\\tat org.eclipse.jetty.server.Server.handle(Server.java:501)\\n\\tat org.eclipse.jetty.server.HttpChannel.lambda$handle$1(HttpChannel.java:383)\\n\\tat org.eclipse.jetty.server.HttpChannel.dispatch(HttpChannel.java:556)\\n\\tat org.eclipse.jetty.server.HttpChannel.handle(HttpChannel.java:375)\\n\\tat org.eclipse.jetty.server.HttpConnection.onFillable(HttpConnection.java:273)\\n\\tat org.eclipse.jetty.io.AbstractConnection$ReadCallback.succeeded(AbstractConnection.java:311)\\n\\tat org.eclipse.jetty.io.FillInterest.fillable(FillInterest.java:105)\\n\\tat org.eclipse.jetty.io.ChannelEndPoint$1.run(ChannelEndPoint.java:104)\\n\\tat org.eclipse.jetty.util.thread.strategy.EatWhatYouKill.runTask(EatWhatYouKill.java:336)\\n\\tat org.eclipse.jetty.util.thread.strategy.EatWhatYouKill.doProduce(EatWhatYouKill.java:313)\\n\\tat org.eclipse.jetty.util.thread.strategy.EatWhatYouKill.tryProduce(EatWhatYouKill.java:171)\\n\\tat org.eclipse.jetty.util.thread.strategy.EatWhatYouKill.run(EatWhatYouKill.java:129)\\n\\tat org.eclipse.jetty.util.thread.ReservedThreadExecutor$ReservedThread.run(ReservedThreadExecutor.java:375)\\n\\tat org.eclipse.jetty.util.thread.QueuedThreadPool.runJob(QueuedThreadPool.java:806)\\n\\tat org.eclipse.jetty.util.thread.QueuedThreadPool$Runner.run(QueuedThreadPool.java:938)\\n\\tat java.lang.Thread.run(Thread.java:748)\\nCaused by: java.io.IOException: Fail to import note: Note \\u0027/xp_intro_q3_kafka_custom_ratelimit\\u0027 existed\\n\\t... 64 more\\nCaused by: org.apache.zeppelin.notebook.exception.NotePathAlreadyExistsException: Note \\u0027/xp_intro_q3_kafka_custom_ratelimit\\u0027 existed\\n\\tat org.apache.zeppelin.notebook.NoteManager.addOrUpdateNoteNode(NoteManager.java:124)\\n\\tat org.apache.zeppelin.notebook.NoteManager.addNote(NoteManager.java:196)\\n\\tat org.apache.zeppelin.notebook.Notebook.createNote(Notebook.java:255)\\n\\tat org.apache.zeppelin.notebook.Notebook.createNote(Notebook.java:236)\\n\\tat org.apache.zeppelin.notebook.Notebook.createNote(Notebook.java:203)\\n\\tat org.apache.zeppelin.notebook.Notebook.importNote(Notebook.java:299)\\n\\tat org.apache.zeppelin.service.NotebookService.importNote(NotebookService.java:306)\\n\\t... 63 more\\n\"}../../xp/streambed-nexmark/zeppelin/xp_intro_q4_kafka_2HYPWHP4N.zpln\n"
     ]
    },
    {
     "name": "stderr",
     "output_type": "stream",
     "text": [
      "  % Total    % Received % Xferd  Average Speed   Time    Time     Time  Current\n",
      "                                 Dload  Upload   Total   Spent    Left  Speed\n",
      "100 22477  100  6818  100 15659  1664k  3822k --:--:-- --:--:-- --:--:-- 5487k\n"
     ]
    },
    {
     "name": "stdout",
     "output_type": "stream",
     "text": [
      "{\"exception\":\"IOException\",\"message\":\"java.io.IOException: Fail to import note: Note \\u0027/xp_intro_q4_kafka\\u0027 existed\",\"stacktrace\":\"java.io.IOException: java.io.IOException: Fail to import note: Note \\u0027/xp_intro_q4_kafka\\u0027 existed\\n\\tat org.apache.zeppelin.rest.AbstractRestApi$RestServiceCallback.onFailure(AbstractRestApi.java:54)\\n\\tat org.apache.zeppelin.service.NotebookService.importNote(NotebookService.java:312)\\n\\tat org.apache.zeppelin.rest.NotebookRestApi.importNote(NotebookRestApi.java:369)\\n\\tat sun.reflect.GeneratedMethodAccessor9.invoke(Unknown Source)\\n\\tat sun.reflect.DelegatingMethodAccessorImpl.invoke(DelegatingMethodAccessorImpl.java:43)\\n\\tat java.lang.reflect.Method.invoke(Method.java:498)\\n\\tat org.glassfish.jersey.server.model.internal.ResourceMethodInvocationHandlerFactory.lambda$static$0(ResourceMethodInvocationHandlerFactory.java:52)\\n\\tat org.glassfish.jersey.server.model.internal.AbstractJavaResourceMethodDispatcher$1.run(AbstractJavaResourceMethodDispatcher.java:124)\\n\\tat org.glassfish.jersey.server.model.internal.AbstractJavaResourceMethodDispatcher.invoke(AbstractJavaResourceMethodDispatcher.java:167)\\n\\tat org.glassfish.jersey.server.model.internal.JavaResourceMethodDispatcherProvider$ResponseOutInvoker.doDispatch(JavaResourceMethodDispatcherProvider.java:176)\\n\\tat org.glassfish.jersey.server.model.internal.AbstractJavaResourceMethodDispatcher.dispatch(AbstractJavaResourceMethodDispatcher.java:79)\\n\\tat org.glassfish.jersey.server.model.ResourceMethodInvoker.invoke(ResourceMethodInvoker.java:469)\\n\\tat org.glassfish.jersey.server.model.ResourceMethodInvoker.apply(ResourceMethodInvoker.java:391)\\n\\tat org.glassfish.jersey.server.model.ResourceMethodInvoker.apply(ResourceMethodInvoker.java:80)\\n\\tat org.glassfish.jersey.server.ServerRuntime$1.run(ServerRuntime.java:253)\\n\\tat org.glassfish.jersey.internal.Errors$1.call(Errors.java:248)\\n\\tat org.glassfish.jersey.internal.Errors$1.call(Errors.java:244)\\n\\tat org.glassfish.jersey.internal.Errors.process(Errors.java:292)\\n\\tat org.glassfish.jersey.internal.Errors.process(Errors.java:274)\\n\\tat org.glassfish.jersey.internal.Errors.process(Errors.java:244)\\n\\tat org.glassfish.jersey.process.internal.RequestScope.runInScope(RequestScope.java:265)\\n\\tat org.glassfish.jersey.server.ServerRuntime.process(ServerRuntime.java:232)\\n\\tat org.glassfish.jersey.server.ApplicationHandler.handle(ApplicationHandler.java:680)\\n\\tat org.glassfish.jersey.servlet.WebComponent.serviceImpl(WebComponent.java:394)\\n\\tat org.glassfish.jersey.servlet.WebComponent.service(WebComponent.java:346)\\n\\tat org.glassfish.jersey.servlet.ServletContainer.service(ServletContainer.java:366)\\n\\tat org.glassfish.jersey.servlet.ServletContainer.service(ServletContainer.java:319)\\n\\tat org.glassfish.jersey.servlet.ServletContainer.service(ServletContainer.java:205)\\n\\tat org.eclipse.jetty.servlet.ServletHolder.handle(ServletHolder.java:763)\\n\\tat org.eclipse.jetty.servlet.ServletHandler$CachedChain.doFilter(ServletHandler.java:1651)\\n\\tat org.apache.zeppelin.server.CorsFilter.doFilter(CorsFilter.java:64)\\n\\tat org.eclipse.jetty.servlet.ServletHandler$CachedChain.doFilter(ServletHandler.java:1638)\\n\\tat org.eclipse.jetty.servlet.ServletHandler.doHandle(ServletHandler.java:567)\\n\\tat org.eclipse.jetty.server.handler.ScopedHandler.handle(ScopedHandler.java:143)\\n\\tat org.eclipse.jetty.security.SecurityHandler.handle(SecurityHandler.java:602)\\n\\tat org.eclipse.jetty.server.handler.HandlerWrapper.handle(HandlerWrapper.java:127)\\n\\tat org.eclipse.jetty.server.handler.ScopedHandler.nextHandle(ScopedHandler.java:235)\\n\\tat org.eclipse.jetty.server.session.SessionHandler.doHandle(SessionHandler.java:1610)\\n\\tat org.eclipse.jetty.server.handler.ScopedHandler.nextHandle(ScopedHandler.java:233)\\n\\tat org.eclipse.jetty.server.handler.ContextHandler.doHandle(ContextHandler.java:1377)\\n\\tat org.eclipse.jetty.server.handler.ScopedHandler.nextScope(ScopedHandler.java:188)\\n\\tat org.eclipse.jetty.servlet.ServletHandler.doScope(ServletHandler.java:507)\\n\\tat org.eclipse.jetty.server.session.SessionHandler.doScope(SessionHandler.java:1580)\\n\\tat org.eclipse.jetty.server.handler.ScopedHandler.nextScope(ScopedHandler.java:186)\\n\\tat org.eclipse.jetty.server.handler.ContextHandler.doScope(ContextHandler.java:1292)\\n\\tat org.eclipse.jetty.server.handler.ScopedHandler.handle(ScopedHandler.java:141)\\n\\tat org.eclipse.jetty.server.handler.ContextHandlerCollection.handle(ContextHandlerCollection.java:234)\\n\\tat io.micrometer.core.instrument.binder.jetty.TimedHandler.handle(TimedHandler.java:120)\\n\\tat org.eclipse.jetty.server.handler.HandlerWrapper.handle(HandlerWrapper.java:127)\\n\\tat org.eclipse.jetty.server.Server.handle(Server.java:501)\\n\\tat org.eclipse.jetty.server.HttpChannel.lambda$handle$1(HttpChannel.java:383)\\n\\tat org.eclipse.jetty.server.HttpChannel.dispatch(HttpChannel.java:556)\\n\\tat org.eclipse.jetty.server.HttpChannel.handle(HttpChannel.java:375)\\n\\tat org.eclipse.jetty.server.HttpConnection.onFillable(HttpConnection.java:273)\\n\\tat org.eclipse.jetty.io.AbstractConnection$ReadCallback.succeeded(AbstractConnection.java:311)\\n\\tat org.eclipse.jetty.io.FillInterest.fillable(FillInterest.java:105)\\n\\tat org.eclipse.jetty.io.ChannelEndPoint$1.run(ChannelEndPoint.java:104)\\n\\tat org.eclipse.jetty.util.thread.strategy.EatWhatYouKill.runTask(EatWhatYouKill.java:336)\\n\\tat org.eclipse.jetty.util.thread.strategy.EatWhatYouKill.doProduce(EatWhatYouKill.java:313)\\n\\tat org.eclipse.jetty.util.thread.strategy.EatWhatYouKill.tryProduce(EatWhatYouKill.java:171)\\n\\tat org.eclipse.jetty.util.thread.strategy.EatWhatYouKill.run(EatWhatYouKill.java:129)\\n\\tat org.eclipse.jetty.util.thread.ReservedThreadExecutor$ReservedThread.run(ReservedThreadExecutor.java:375)\\n\\tat org.eclipse.jetty.util.thread.QueuedThreadPool.runJob(QueuedThreadPool.java:806)\\n\\tat org.eclipse.jetty.util.thread.QueuedThreadPool$Runner.run(QueuedThreadPool.java:938)\\n\\tat java.lang.Thread.run(Thread.java:748)\\nCaused by: java.io.IOException: Fail to import note: Note \\u0027/xp_intro_q4_kafka\\u0027 existed\\n\\t... 64 more\\nCaused by: org.apache.zeppelin.notebook.exception.NotePathAlreadyExistsException: Note \\u0027/xp_intro_q4_kafka\\u0027 existed\\n\\tat org.apache.zeppelin.notebook.NoteManager.addOrUpdateNoteNode(NoteManager.java:124)\\n\\tat org.apache.zeppelin.notebook.NoteManager.addNote(NoteManager.java:196)\\n\\tat org.apache.zeppelin.notebook.Notebook.createNote(Notebook.java:255)\\n\\tat org.apache.zeppelin.notebook.Notebook.createNote(Notebook.java:236)\\n\\tat org.apache.zeppelin.notebook.Notebook.createNote(Notebook.java:203)\\n\\tat org.apache.zeppelin.notebook.Notebook.importNote(Notebook.java:299)\\n\\tat org.apache.zeppelin.service.NotebookService.importNote(NotebookService.java:306)\\n\\t... 63 more\\n\"}../../xp/streambed-nexmark/zeppelin/xp_intro_q4_kafka_custom_ratelimit_2HY28RGQG.zpln\n"
     ]
    },
    {
     "name": "stderr",
     "output_type": "stream",
     "text": [
      "  % Total    % Received % Xferd  Average Speed   Time    Time     Time  Current\n",
      "                                 Dload  Upload   Total   Spent    Left  Speed\n",
      "100 24391  100  6886  100 17505  1681k  4273k --:--:-- --:--:-- --:--:-- 5954k\n"
     ]
    },
    {
     "name": "stdout",
     "output_type": "stream",
     "text": [
      "{\"exception\":\"IOException\",\"message\":\"java.io.IOException: Fail to import note: Note \\u0027/xp_intro_q4_kafka_custom_ratelimit\\u0027 existed\",\"stacktrace\":\"java.io.IOException: java.io.IOException: Fail to import note: Note \\u0027/xp_intro_q4_kafka_custom_ratelimit\\u0027 existed\\n\\tat org.apache.zeppelin.rest.AbstractRestApi$RestServiceCallback.onFailure(AbstractRestApi.java:54)\\n\\tat org.apache.zeppelin.service.NotebookService.importNote(NotebookService.java:312)\\n\\tat org.apache.zeppelin.rest.NotebookRestApi.importNote(NotebookRestApi.java:369)\\n\\tat sun.reflect.GeneratedMethodAccessor9.invoke(Unknown Source)\\n\\tat sun.reflect.DelegatingMethodAccessorImpl.invoke(DelegatingMethodAccessorImpl.java:43)\\n\\tat java.lang.reflect.Method.invoke(Method.java:498)\\n\\tat org.glassfish.jersey.server.model.internal.ResourceMethodInvocationHandlerFactory.lambda$static$0(ResourceMethodInvocationHandlerFactory.java:52)\\n\\tat org.glassfish.jersey.server.model.internal.AbstractJavaResourceMethodDispatcher$1.run(AbstractJavaResourceMethodDispatcher.java:124)\\n\\tat org.glassfish.jersey.server.model.internal.AbstractJavaResourceMethodDispatcher.invoke(AbstractJavaResourceMethodDispatcher.java:167)\\n\\tat org.glassfish.jersey.server.model.internal.JavaResourceMethodDispatcherProvider$ResponseOutInvoker.doDispatch(JavaResourceMethodDispatcherProvider.java:176)\\n\\tat org.glassfish.jersey.server.model.internal.AbstractJavaResourceMethodDispatcher.dispatch(AbstractJavaResourceMethodDispatcher.java:79)\\n\\tat org.glassfish.jersey.server.model.ResourceMethodInvoker.invoke(ResourceMethodInvoker.java:469)\\n\\tat org.glassfish.jersey.server.model.ResourceMethodInvoker.apply(ResourceMethodInvoker.java:391)\\n\\tat org.glassfish.jersey.server.model.ResourceMethodInvoker.apply(ResourceMethodInvoker.java:80)\\n\\tat org.glassfish.jersey.server.ServerRuntime$1.run(ServerRuntime.java:253)\\n\\tat org.glassfish.jersey.internal.Errors$1.call(Errors.java:248)\\n\\tat org.glassfish.jersey.internal.Errors$1.call(Errors.java:244)\\n\\tat org.glassfish.jersey.internal.Errors.process(Errors.java:292)\\n\\tat org.glassfish.jersey.internal.Errors.process(Errors.java:274)\\n\\tat org.glassfish.jersey.internal.Errors.process(Errors.java:244)\\n\\tat org.glassfish.jersey.process.internal.RequestScope.runInScope(RequestScope.java:265)\\n\\tat org.glassfish.jersey.server.ServerRuntime.process(ServerRuntime.java:232)\\n\\tat org.glassfish.jersey.server.ApplicationHandler.handle(ApplicationHandler.java:680)\\n\\tat org.glassfish.jersey.servlet.WebComponent.serviceImpl(WebComponent.java:394)\\n\\tat org.glassfish.jersey.servlet.WebComponent.service(WebComponent.java:346)\\n\\tat org.glassfish.jersey.servlet.ServletContainer.service(ServletContainer.java:366)\\n\\tat org.glassfish.jersey.servlet.ServletContainer.service(ServletContainer.java:319)\\n\\tat org.glassfish.jersey.servlet.ServletContainer.service(ServletContainer.java:205)\\n\\tat org.eclipse.jetty.servlet.ServletHolder.handle(ServletHolder.java:763)\\n\\tat org.eclipse.jetty.servlet.ServletHandler$CachedChain.doFilter(ServletHandler.java:1651)\\n\\tat org.apache.zeppelin.server.CorsFilter.doFilter(CorsFilter.java:64)\\n\\tat org.eclipse.jetty.servlet.ServletHandler$CachedChain.doFilter(ServletHandler.java:1638)\\n\\tat org.eclipse.jetty.servlet.ServletHandler.doHandle(ServletHandler.java:567)\\n\\tat org.eclipse.jetty.server.handler.ScopedHandler.handle(ScopedHandler.java:143)\\n\\tat org.eclipse.jetty.security.SecurityHandler.handle(SecurityHandler.java:602)\\n\\tat org.eclipse.jetty.server.handler.HandlerWrapper.handle(HandlerWrapper.java:127)\\n\\tat org.eclipse.jetty.server.handler.ScopedHandler.nextHandle(ScopedHandler.java:235)\\n\\tat org.eclipse.jetty.server.session.SessionHandler.doHandle(SessionHandler.java:1610)\\n\\tat org.eclipse.jetty.server.handler.ScopedHandler.nextHandle(ScopedHandler.java:233)\\n\\tat org.eclipse.jetty.server.handler.ContextHandler.doHandle(ContextHandler.java:1377)\\n\\tat org.eclipse.jetty.server.handler.ScopedHandler.nextScope(ScopedHandler.java:188)\\n\\tat org.eclipse.jetty.servlet.ServletHandler.doScope(ServletHandler.java:507)\\n\\tat org.eclipse.jetty.server.session.SessionHandler.doScope(SessionHandler.java:1580)\\n\\tat org.eclipse.jetty.server.handler.ScopedHandler.nextScope(ScopedHandler.java:186)\\n\\tat org.eclipse.jetty.server.handler.ContextHandler.doScope(ContextHandler.java:1292)\\n\\tat org.eclipse.jetty.server.handler.ScopedHandler.handle(ScopedHandler.java:141)\\n\\tat org.eclipse.jetty.server.handler.ContextHandlerCollection.handle(ContextHandlerCollection.java:234)\\n\\tat io.micrometer.core.instrument.binder.jetty.TimedHandler.handle(TimedHandler.java:120)\\n\\tat org.eclipse.jetty.server.handler.HandlerWrapper.handle(HandlerWrapper.java:127)\\n\\tat org.eclipse.jetty.server.Server.handle(Server.java:501)\\n\\tat org.eclipse.jetty.server.HttpChannel.lambda$handle$1(HttpChannel.java:383)\\n\\tat org.eclipse.jetty.server.HttpChannel.dispatch(HttpChannel.java:556)\\n\\tat org.eclipse.jetty.server.HttpChannel.handle(HttpChannel.java:375)\\n\\tat org.eclipse.jetty.server.HttpConnection.onFillable(HttpConnection.java:273)\\n\\tat org.eclipse.jetty.io.AbstractConnection$ReadCallback.succeeded(AbstractConnection.java:311)\\n\\tat org.eclipse.jetty.io.FillInterest.fillable(FillInterest.java:105)\\n\\tat org.eclipse.jetty.io.ChannelEndPoint$1.run(ChannelEndPoint.java:104)\\n\\tat org.eclipse.jetty.util.thread.strategy.EatWhatYouKill.runTask(EatWhatYouKill.java:336)\\n\\tat org.eclipse.jetty.util.thread.strategy.EatWhatYouKill.doProduce(EatWhatYouKill.java:313)\\n\\tat org.eclipse.jetty.util.thread.strategy.EatWhatYouKill.tryProduce(EatWhatYouKill.java:171)\\n\\tat org.eclipse.jetty.util.thread.strategy.EatWhatYouKill.run(EatWhatYouKill.java:129)\\n\\tat org.eclipse.jetty.util.thread.ReservedThreadExecutor$ReservedThread.run(ReservedThreadExecutor.java:375)\\n\\tat org.eclipse.jetty.util.thread.QueuedThreadPool.runJob(QueuedThreadPool.java:806)\\n\\tat org.eclipse.jetty.util.thread.QueuedThreadPool$Runner.run(QueuedThreadPool.java:938)\\n\\tat java.lang.Thread.run(Thread.java:748)\\nCaused by: java.io.IOException: Fail to import note: Note \\u0027/xp_intro_q4_kafka_custom_ratelimit\\u0027 existed\\n\\t... 64 more\\nCaused by: org.apache.zeppelin.notebook.exception.NotePathAlreadyExistsException: Note \\u0027/xp_intro_q4_kafka_custom_ratelimit\\u0027 existed\\n\\tat org.apache.zeppelin.notebook.NoteManager.addOrUpdateNoteNode(NoteManager.java:124)\\n\\tat org.apache.zeppelin.notebook.NoteManager.addNote(NoteManager.java:196)\\n\\tat org.apache.zeppelin.notebook.Notebook.createNote(Notebook.java:255)\\n\\tat org.apache.zeppelin.notebook.Notebook.createNote(Notebook.java:236)\\n\\tat org.apache.zeppelin.notebook.Notebook.createNote(Notebook.java:203)\\n\\tat org.apache.zeppelin.notebook.Notebook.importNote(Notebook.java:299)\\n\\tat org.apache.zeppelin.service.NotebookService.importNote(NotebookService.java:306)\\n\\t... 63 more\\n\"}../../xp/streambed-nexmark/zeppelin/xp_intro_q5_kafka_2HYPCFQQ5.zpln\n"
     ]
    },
    {
     "name": "stderr",
     "output_type": "stream",
     "text": [
      "  % Total    % Received % Xferd  Average Speed   Time    Time     Time  Current\n",
      "                                 Dload  Upload   Total   Spent    Left  Speed\n",
      "100 30355  100  6818  100 23537  1664k  5746k --:--:-- --:--:-- --:--:-- 9881k\n"
     ]
    },
    {
     "name": "stdout",
     "output_type": "stream",
     "text": [
      "{\"exception\":\"IOException\",\"message\":\"java.io.IOException: Fail to import note: Note \\u0027/xp_intro_q5_kafka\\u0027 existed\",\"stacktrace\":\"java.io.IOException: java.io.IOException: Fail to import note: Note \\u0027/xp_intro_q5_kafka\\u0027 existed\\n\\tat org.apache.zeppelin.rest.AbstractRestApi$RestServiceCallback.onFailure(AbstractRestApi.java:54)\\n\\tat org.apache.zeppelin.service.NotebookService.importNote(NotebookService.java:312)\\n\\tat org.apache.zeppelin.rest.NotebookRestApi.importNote(NotebookRestApi.java:369)\\n\\tat sun.reflect.GeneratedMethodAccessor9.invoke(Unknown Source)\\n\\tat sun.reflect.DelegatingMethodAccessorImpl.invoke(DelegatingMethodAccessorImpl.java:43)\\n\\tat java.lang.reflect.Method.invoke(Method.java:498)\\n\\tat org.glassfish.jersey.server.model.internal.ResourceMethodInvocationHandlerFactory.lambda$static$0(ResourceMethodInvocationHandlerFactory.java:52)\\n\\tat org.glassfish.jersey.server.model.internal.AbstractJavaResourceMethodDispatcher$1.run(AbstractJavaResourceMethodDispatcher.java:124)\\n\\tat org.glassfish.jersey.server.model.internal.AbstractJavaResourceMethodDispatcher.invoke(AbstractJavaResourceMethodDispatcher.java:167)\\n\\tat org.glassfish.jersey.server.model.internal.JavaResourceMethodDispatcherProvider$ResponseOutInvoker.doDispatch(JavaResourceMethodDispatcherProvider.java:176)\\n\\tat org.glassfish.jersey.server.model.internal.AbstractJavaResourceMethodDispatcher.dispatch(AbstractJavaResourceMethodDispatcher.java:79)\\n\\tat org.glassfish.jersey.server.model.ResourceMethodInvoker.invoke(ResourceMethodInvoker.java:469)\\n\\tat org.glassfish.jersey.server.model.ResourceMethodInvoker.apply(ResourceMethodInvoker.java:391)\\n\\tat org.glassfish.jersey.server.model.ResourceMethodInvoker.apply(ResourceMethodInvoker.java:80)\\n\\tat org.glassfish.jersey.server.ServerRuntime$1.run(ServerRuntime.java:253)\\n\\tat org.glassfish.jersey.internal.Errors$1.call(Errors.java:248)\\n\\tat org.glassfish.jersey.internal.Errors$1.call(Errors.java:244)\\n\\tat org.glassfish.jersey.internal.Errors.process(Errors.java:292)\\n\\tat org.glassfish.jersey.internal.Errors.process(Errors.java:274)\\n\\tat org.glassfish.jersey.internal.Errors.process(Errors.java:244)\\n\\tat org.glassfish.jersey.process.internal.RequestScope.runInScope(RequestScope.java:265)\\n\\tat org.glassfish.jersey.server.ServerRuntime.process(ServerRuntime.java:232)\\n\\tat org.glassfish.jersey.server.ApplicationHandler.handle(ApplicationHandler.java:680)\\n\\tat org.glassfish.jersey.servlet.WebComponent.serviceImpl(WebComponent.java:394)\\n\\tat org.glassfish.jersey.servlet.WebComponent.service(WebComponent.java:346)\\n\\tat org.glassfish.jersey.servlet.ServletContainer.service(ServletContainer.java:366)\\n\\tat org.glassfish.jersey.servlet.ServletContainer.service(ServletContainer.java:319)\\n\\tat org.glassfish.jersey.servlet.ServletContainer.service(ServletContainer.java:205)\\n\\tat org.eclipse.jetty.servlet.ServletHolder.handle(ServletHolder.java:763)\\n\\tat org.eclipse.jetty.servlet.ServletHandler$CachedChain.doFilter(ServletHandler.java:1651)\\n\\tat org.apache.zeppelin.server.CorsFilter.doFilter(CorsFilter.java:64)\\n\\tat org.eclipse.jetty.servlet.ServletHandler$CachedChain.doFilter(ServletHandler.java:1638)\\n\\tat org.eclipse.jetty.servlet.ServletHandler.doHandle(ServletHandler.java:567)\\n\\tat org.eclipse.jetty.server.handler.ScopedHandler.handle(ScopedHandler.java:143)\\n\\tat org.eclipse.jetty.security.SecurityHandler.handle(SecurityHandler.java:602)\\n\\tat org.eclipse.jetty.server.handler.HandlerWrapper.handle(HandlerWrapper.java:127)\\n\\tat org.eclipse.jetty.server.handler.ScopedHandler.nextHandle(ScopedHandler.java:235)\\n\\tat org.eclipse.jetty.server.session.SessionHandler.doHandle(SessionHandler.java:1610)\\n\\tat org.eclipse.jetty.server.handler.ScopedHandler.nextHandle(ScopedHandler.java:233)\\n\\tat org.eclipse.jetty.server.handler.ContextHandler.doHandle(ContextHandler.java:1377)\\n\\tat org.eclipse.jetty.server.handler.ScopedHandler.nextScope(ScopedHandler.java:188)\\n\\tat org.eclipse.jetty.servlet.ServletHandler.doScope(ServletHandler.java:507)\\n\\tat org.eclipse.jetty.server.session.SessionHandler.doScope(SessionHandler.java:1580)\\n\\tat org.eclipse.jetty.server.handler.ScopedHandler.nextScope(ScopedHandler.java:186)\\n\\tat org.eclipse.jetty.server.handler.ContextHandler.doScope(ContextHandler.java:1292)\\n\\tat org.eclipse.jetty.server.handler.ScopedHandler.handle(ScopedHandler.java:141)\\n\\tat org.eclipse.jetty.server.handler.ContextHandlerCollection.handle(ContextHandlerCollection.java:234)\\n\\tat io.micrometer.core.instrument.binder.jetty.TimedHandler.handle(TimedHandler.java:120)\\n\\tat org.eclipse.jetty.server.handler.HandlerWrapper.handle(HandlerWrapper.java:127)\\n\\tat org.eclipse.jetty.server.Server.handle(Server.java:501)\\n\\tat org.eclipse.jetty.server.HttpChannel.lambda$handle$1(HttpChannel.java:383)\\n\\tat org.eclipse.jetty.server.HttpChannel.dispatch(HttpChannel.java:556)\\n\\tat org.eclipse.jetty.server.HttpChannel.handle(HttpChannel.java:375)\\n\\tat org.eclipse.jetty.server.HttpConnection.onFillable(HttpConnection.java:273)\\n\\tat org.eclipse.jetty.io.AbstractConnection$ReadCallback.succeeded(AbstractConnection.java:311)\\n\\tat org.eclipse.jetty.io.FillInterest.fillable(FillInterest.java:105)\\n\\tat org.eclipse.jetty.io.ChannelEndPoint$1.run(ChannelEndPoint.java:104)\\n\\tat org.eclipse.jetty.util.thread.strategy.EatWhatYouKill.runTask(EatWhatYouKill.java:336)\\n\\tat org.eclipse.jetty.util.thread.strategy.EatWhatYouKill.doProduce(EatWhatYouKill.java:313)\\n\\tat org.eclipse.jetty.util.thread.strategy.EatWhatYouKill.tryProduce(EatWhatYouKill.java:171)\\n\\tat org.eclipse.jetty.util.thread.strategy.EatWhatYouKill.run(EatWhatYouKill.java:129)\\n\\tat org.eclipse.jetty.util.thread.ReservedThreadExecutor$ReservedThread.run(ReservedThreadExecutor.java:375)\\n\\tat org.eclipse.jetty.util.thread.QueuedThreadPool.runJob(QueuedThreadPool.java:806)\\n\\tat org.eclipse.jetty.util.thread.QueuedThreadPool$Runner.run(QueuedThreadPool.java:938)\\n\\tat java.lang.Thread.run(Thread.java:748)\\nCaused by: java.io.IOException: Fail to import note: Note \\u0027/xp_intro_q5_kafka\\u0027 existed\\n\\t... 64 more\\nCaused by: org.apache.zeppelin.notebook.exception.NotePathAlreadyExistsException: Note \\u0027/xp_intro_q5_kafka\\u0027 existed\\n\\tat org.apache.zeppelin.notebook.NoteManager.addOrUpdateNoteNode(NoteManager.java:124)\\n\\tat org.apache.zeppelin.notebook.NoteManager.addNote(NoteManager.java:196)\\n\\tat org.apache.zeppelin.notebook.Notebook.createNote(Notebook.java:255)\\n\\tat org.apache.zeppelin.notebook.Notebook.createNote(Notebook.java:236)\\n\\tat org.apache.zeppelin.notebook.Notebook.createNote(Notebook.java:203)\\n\\tat org.apache.zeppelin.notebook.Notebook.importNote(Notebook.java:299)\\n\\tat org.apache.zeppelin.service.NotebookService.importNote(NotebookService.java:306)\\n\\t... 63 more\\n\"}../../xp/streambed-nexmark/zeppelin/xp_intro_q5_kafka_custom_2HXPE9BKG.zpln\n"
     ]
    },
    {
     "name": "stderr",
     "output_type": "stream",
     "text": [
      "  % Total    % Received % Xferd  Average Speed   Time    Time     Time  Current\n",
      "                                 Dload  Upload   Total   Spent    Left  Speed\n",
      "100 25361  100  6846  100 18515  1671k  4520k --:--:-- --:--:-- --:--:-- 6191k\n"
     ]
    },
    {
     "name": "stdout",
     "output_type": "stream",
     "text": [
      "{\"exception\":\"IOException\",\"message\":\"java.io.IOException: Fail to import note: Note \\u0027/xp_intro_q5_kafka_custom\\u0027 existed\",\"stacktrace\":\"java.io.IOException: java.io.IOException: Fail to import note: Note \\u0027/xp_intro_q5_kafka_custom\\u0027 existed\\n\\tat org.apache.zeppelin.rest.AbstractRestApi$RestServiceCallback.onFailure(AbstractRestApi.java:54)\\n\\tat org.apache.zeppelin.service.NotebookService.importNote(NotebookService.java:312)\\n\\tat org.apache.zeppelin.rest.NotebookRestApi.importNote(NotebookRestApi.java:369)\\n\\tat sun.reflect.GeneratedMethodAccessor9.invoke(Unknown Source)\\n\\tat sun.reflect.DelegatingMethodAccessorImpl.invoke(DelegatingMethodAccessorImpl.java:43)\\n\\tat java.lang.reflect.Method.invoke(Method.java:498)\\n\\tat org.glassfish.jersey.server.model.internal.ResourceMethodInvocationHandlerFactory.lambda$static$0(ResourceMethodInvocationHandlerFactory.java:52)\\n\\tat org.glassfish.jersey.server.model.internal.AbstractJavaResourceMethodDispatcher$1.run(AbstractJavaResourceMethodDispatcher.java:124)\\n\\tat org.glassfish.jersey.server.model.internal.AbstractJavaResourceMethodDispatcher.invoke(AbstractJavaResourceMethodDispatcher.java:167)\\n\\tat org.glassfish.jersey.server.model.internal.JavaResourceMethodDispatcherProvider$ResponseOutInvoker.doDispatch(JavaResourceMethodDispatcherProvider.java:176)\\n\\tat org.glassfish.jersey.server.model.internal.AbstractJavaResourceMethodDispatcher.dispatch(AbstractJavaResourceMethodDispatcher.java:79)\\n\\tat org.glassfish.jersey.server.model.ResourceMethodInvoker.invoke(ResourceMethodInvoker.java:469)\\n\\tat org.glassfish.jersey.server.model.ResourceMethodInvoker.apply(ResourceMethodInvoker.java:391)\\n\\tat org.glassfish.jersey.server.model.ResourceMethodInvoker.apply(ResourceMethodInvoker.java:80)\\n\\tat org.glassfish.jersey.server.ServerRuntime$1.run(ServerRuntime.java:253)\\n\\tat org.glassfish.jersey.internal.Errors$1.call(Errors.java:248)\\n\\tat org.glassfish.jersey.internal.Errors$1.call(Errors.java:244)\\n\\tat org.glassfish.jersey.internal.Errors.process(Errors.java:292)\\n\\tat org.glassfish.jersey.internal.Errors.process(Errors.java:274)\\n\\tat org.glassfish.jersey.internal.Errors.process(Errors.java:244)\\n\\tat org.glassfish.jersey.process.internal.RequestScope.runInScope(RequestScope.java:265)\\n\\tat org.glassfish.jersey.server.ServerRuntime.process(ServerRuntime.java:232)\\n\\tat org.glassfish.jersey.server.ApplicationHandler.handle(ApplicationHandler.java:680)\\n\\tat org.glassfish.jersey.servlet.WebComponent.serviceImpl(WebComponent.java:394)\\n\\tat org.glassfish.jersey.servlet.WebComponent.service(WebComponent.java:346)\\n\\tat org.glassfish.jersey.servlet.ServletContainer.service(ServletContainer.java:366)\\n\\tat org.glassfish.jersey.servlet.ServletContainer.service(ServletContainer.java:319)\\n\\tat org.glassfish.jersey.servlet.ServletContainer.service(ServletContainer.java:205)\\n\\tat org.eclipse.jetty.servlet.ServletHolder.handle(ServletHolder.java:763)\\n\\tat org.eclipse.jetty.servlet.ServletHandler$CachedChain.doFilter(ServletHandler.java:1651)\\n\\tat org.apache.zeppelin.server.CorsFilter.doFilter(CorsFilter.java:64)\\n\\tat org.eclipse.jetty.servlet.ServletHandler$CachedChain.doFilter(ServletHandler.java:1638)\\n\\tat org.eclipse.jetty.servlet.ServletHandler.doHandle(ServletHandler.java:567)\\n\\tat org.eclipse.jetty.server.handler.ScopedHandler.handle(ScopedHandler.java:143)\\n\\tat org.eclipse.jetty.security.SecurityHandler.handle(SecurityHandler.java:602)\\n\\tat org.eclipse.jetty.server.handler.HandlerWrapper.handle(HandlerWrapper.java:127)\\n\\tat org.eclipse.jetty.server.handler.ScopedHandler.nextHandle(ScopedHandler.java:235)\\n\\tat org.eclipse.jetty.server.session.SessionHandler.doHandle(SessionHandler.java:1610)\\n\\tat org.eclipse.jetty.server.handler.ScopedHandler.nextHandle(ScopedHandler.java:233)\\n\\tat org.eclipse.jetty.server.handler.ContextHandler.doHandle(ContextHandler.java:1377)\\n\\tat org.eclipse.jetty.server.handler.ScopedHandler.nextScope(ScopedHandler.java:188)\\n\\tat org.eclipse.jetty.servlet.ServletHandler.doScope(ServletHandler.java:507)\\n\\tat org.eclipse.jetty.server.session.SessionHandler.doScope(SessionHandler.java:1580)\\n\\tat org.eclipse.jetty.server.handler.ScopedHandler.nextScope(ScopedHandler.java:186)\\n\\tat org.eclipse.jetty.server.handler.ContextHandler.doScope(ContextHandler.java:1292)\\n\\tat org.eclipse.jetty.server.handler.ScopedHandler.handle(ScopedHandler.java:141)\\n\\tat org.eclipse.jetty.server.handler.ContextHandlerCollection.handle(ContextHandlerCollection.java:234)\\n\\tat io.micrometer.core.instrument.binder.jetty.TimedHandler.handle(TimedHandler.java:120)\\n\\tat org.eclipse.jetty.server.handler.HandlerWrapper.handle(HandlerWrapper.java:127)\\n\\tat org.eclipse.jetty.server.Server.handle(Server.java:501)\\n\\tat org.eclipse.jetty.server.HttpChannel.lambda$handle$1(HttpChannel.java:383)\\n\\tat org.eclipse.jetty.server.HttpChannel.dispatch(HttpChannel.java:556)\\n\\tat org.eclipse.jetty.server.HttpChannel.handle(HttpChannel.java:375)\\n\\tat org.eclipse.jetty.server.HttpConnection.onFillable(HttpConnection.java:273)\\n\\tat org.eclipse.jetty.io.AbstractConnection$ReadCallback.succeeded(AbstractConnection.java:311)\\n\\tat org.eclipse.jetty.io.FillInterest.fillable(FillInterest.java:105)\\n\\tat org.eclipse.jetty.io.ChannelEndPoint$1.run(ChannelEndPoint.java:104)\\n\\tat org.eclipse.jetty.util.thread.strategy.EatWhatYouKill.runTask(EatWhatYouKill.java:336)\\n\\tat org.eclipse.jetty.util.thread.strategy.EatWhatYouKill.doProduce(EatWhatYouKill.java:313)\\n\\tat org.eclipse.jetty.util.thread.strategy.EatWhatYouKill.tryProduce(EatWhatYouKill.java:171)\\n\\tat org.eclipse.jetty.util.thread.strategy.EatWhatYouKill.run(EatWhatYouKill.java:129)\\n\\tat org.eclipse.jetty.util.thread.ReservedThreadExecutor$ReservedThread.run(ReservedThreadExecutor.java:375)\\n\\tat org.eclipse.jetty.util.thread.QueuedThreadPool.runJob(QueuedThreadPool.java:806)\\n\\tat org.eclipse.jetty.util.thread.QueuedThreadPool$Runner.run(QueuedThreadPool.java:938)\\n\\tat java.lang.Thread.run(Thread.java:748)\\nCaused by: java.io.IOException: Fail to import note: Note \\u0027/xp_intro_q5_kafka_custom\\u0027 existed\\n\\t... 64 more\\nCaused by: org.apache.zeppelin.notebook.exception.NotePathAlreadyExistsException: Note \\u0027/xp_intro_q5_kafka_custom\\u0027 existed\\n\\tat org.apache.zeppelin.notebook.NoteManager.addOrUpdateNoteNode(NoteManager.java:124)\\n\\tat org.apache.zeppelin.notebook.NoteManager.addNote(NoteManager.java:196)\\n\\tat org.apache.zeppelin.notebook.Notebook.createNote(Notebook.java:255)\\n\\tat org.apache.zeppelin.notebook.Notebook.createNote(Notebook.java:236)\\n\\tat org.apache.zeppelin.notebook.Notebook.createNote(Notebook.java:203)\\n\\tat org.apache.zeppelin.notebook.Notebook.importNote(Notebook.java:299)\\n\\tat org.apache.zeppelin.service.NotebookService.importNote(NotebookService.java:306)\\n\\t... 63 more\\n\"}../../xp/streambed-nexmark/zeppelin/xp_intro_q5_kafka_custom_ratelimit_2HXS4HNMD.zpln\n"
     ]
    },
    {
     "name": "stderr",
     "output_type": "stream",
     "text": [
      "  % Total    % Received % Xferd  Average Speed   Time    Time     Time  Current\n",
      "                                 Dload  Upload   Total   Spent    Left  Speed\n",
      "100 43407  100  6886  100 36521   149k   792k --:--:-- --:--:-- --:--:--  941k\n"
     ]
    },
    {
     "name": "stdout",
     "output_type": "stream",
     "text": [
      "{\"exception\":\"IOException\",\"message\":\"java.io.IOException: Fail to import note: Note \\u0027/xp_intro_q5_kafka_custom_ratelimit\\u0027 existed\",\"stacktrace\":\"java.io.IOException: java.io.IOException: Fail to import note: Note \\u0027/xp_intro_q5_kafka_custom_ratelimit\\u0027 existed\\n\\tat org.apache.zeppelin.rest.AbstractRestApi$RestServiceCallback.onFailure(AbstractRestApi.java:54)\\n\\tat org.apache.zeppelin.service.NotebookService.importNote(NotebookService.java:312)\\n\\tat org.apache.zeppelin.rest.NotebookRestApi.importNote(NotebookRestApi.java:369)\\n\\tat sun.reflect.GeneratedMethodAccessor9.invoke(Unknown Source)\\n\\tat sun.reflect.DelegatingMethodAccessorImpl.invoke(DelegatingMethodAccessorImpl.java:43)\\n\\tat java.lang.reflect.Method.invoke(Method.java:498)\\n\\tat org.glassfish.jersey.server.model.internal.ResourceMethodInvocationHandlerFactory.lambda$static$0(ResourceMethodInvocationHandlerFactory.java:52)\\n\\tat org.glassfish.jersey.server.model.internal.AbstractJavaResourceMethodDispatcher$1.run(AbstractJavaResourceMethodDispatcher.java:124)\\n\\tat org.glassfish.jersey.server.model.internal.AbstractJavaResourceMethodDispatcher.invoke(AbstractJavaResourceMethodDispatcher.java:167)\\n\\tat org.glassfish.jersey.server.model.internal.JavaResourceMethodDispatcherProvider$ResponseOutInvoker.doDispatch(JavaResourceMethodDispatcherProvider.java:176)\\n\\tat org.glassfish.jersey.server.model.internal.AbstractJavaResourceMethodDispatcher.dispatch(AbstractJavaResourceMethodDispatcher.java:79)\\n\\tat org.glassfish.jersey.server.model.ResourceMethodInvoker.invoke(ResourceMethodInvoker.java:469)\\n\\tat org.glassfish.jersey.server.model.ResourceMethodInvoker.apply(ResourceMethodInvoker.java:391)\\n\\tat org.glassfish.jersey.server.model.ResourceMethodInvoker.apply(ResourceMethodInvoker.java:80)\\n\\tat org.glassfish.jersey.server.ServerRuntime$1.run(ServerRuntime.java:253)\\n\\tat org.glassfish.jersey.internal.Errors$1.call(Errors.java:248)\\n\\tat org.glassfish.jersey.internal.Errors$1.call(Errors.java:244)\\n\\tat org.glassfish.jersey.internal.Errors.process(Errors.java:292)\\n\\tat org.glassfish.jersey.internal.Errors.process(Errors.java:274)\\n\\tat org.glassfish.jersey.internal.Errors.process(Errors.java:244)\\n\\tat org.glassfish.jersey.process.internal.RequestScope.runInScope(RequestScope.java:265)\\n\\tat org.glassfish.jersey.server.ServerRuntime.process(ServerRuntime.java:232)\\n\\tat org.glassfish.jersey.server.ApplicationHandler.handle(ApplicationHandler.java:680)\\n\\tat org.glassfish.jersey.servlet.WebComponent.serviceImpl(WebComponent.java:394)\\n\\tat org.glassfish.jersey.servlet.WebComponent.service(WebComponent.java:346)\\n\\tat org.glassfish.jersey.servlet.ServletContainer.service(ServletContainer.java:366)\\n\\tat org.glassfish.jersey.servlet.ServletContainer.service(ServletContainer.java:319)\\n\\tat org.glassfish.jersey.servlet.ServletContainer.service(ServletContainer.java:205)\\n\\tat org.eclipse.jetty.servlet.ServletHolder.handle(ServletHolder.java:763)\\n\\tat org.eclipse.jetty.servlet.ServletHandler$CachedChain.doFilter(ServletHandler.java:1651)\\n\\tat org.apache.zeppelin.server.CorsFilter.doFilter(CorsFilter.java:64)\\n\\tat org.eclipse.jetty.servlet.ServletHandler$CachedChain.doFilter(ServletHandler.java:1638)\\n\\tat org.eclipse.jetty.servlet.ServletHandler.doHandle(ServletHandler.java:567)\\n\\tat org.eclipse.jetty.server.handler.ScopedHandler.handle(ScopedHandler.java:143)\\n\\tat org.eclipse.jetty.security.SecurityHandler.handle(SecurityHandler.java:602)\\n\\tat org.eclipse.jetty.server.handler.HandlerWrapper.handle(HandlerWrapper.java:127)\\n\\tat org.eclipse.jetty.server.handler.ScopedHandler.nextHandle(ScopedHandler.java:235)\\n\\tat org.eclipse.jetty.server.session.SessionHandler.doHandle(SessionHandler.java:1610)\\n\\tat org.eclipse.jetty.server.handler.ScopedHandler.nextHandle(ScopedHandler.java:233)\\n\\tat org.eclipse.jetty.server.handler.ContextHandler.doHandle(ContextHandler.java:1377)\\n\\tat org.eclipse.jetty.server.handler.ScopedHandler.nextScope(ScopedHandler.java:188)\\n\\tat org.eclipse.jetty.servlet.ServletHandler.doScope(ServletHandler.java:507)\\n\\tat org.eclipse.jetty.server.session.SessionHandler.doScope(SessionHandler.java:1580)\\n\\tat org.eclipse.jetty.server.handler.ScopedHandler.nextScope(ScopedHandler.java:186)\\n\\tat org.eclipse.jetty.server.handler.ContextHandler.doScope(ContextHandler.java:1292)\\n\\tat org.eclipse.jetty.server.handler.ScopedHandler.handle(ScopedHandler.java:141)\\n\\tat org.eclipse.jetty.server.handler.ContextHandlerCollection.handle(ContextHandlerCollection.java:234)\\n\\tat io.micrometer.core.instrument.binder.jetty.TimedHandler.handle(TimedHandler.java:120)\\n\\tat org.eclipse.jetty.server.handler.HandlerWrapper.handle(HandlerWrapper.java:127)\\n\\tat org.eclipse.jetty.server.Server.handle(Server.java:501)\\n\\tat org.eclipse.jetty.server.HttpChannel.lambda$handle$1(HttpChannel.java:383)\\n\\tat org.eclipse.jetty.server.HttpChannel.dispatch(HttpChannel.java:556)\\n\\tat org.eclipse.jetty.server.HttpChannel.handle(HttpChannel.java:375)\\n\\tat org.eclipse.jetty.server.HttpConnection.onFillable(HttpConnection.java:273)\\n\\tat org.eclipse.jetty.io.AbstractConnection$ReadCallback.succeeded(AbstractConnection.java:311)\\n\\tat org.eclipse.jetty.io.FillInterest.fillable(FillInterest.java:105)\\n\\tat org.eclipse.jetty.io.ChannelEndPoint$1.run(ChannelEndPoint.java:104)\\n\\tat org.eclipse.jetty.util.thread.strategy.EatWhatYouKill.runTask(EatWhatYouKill.java:336)\\n\\tat org.eclipse.jetty.util.thread.strategy.EatWhatYouKill.doProduce(EatWhatYouKill.java:313)\\n\\tat org.eclipse.jetty.util.thread.strategy.EatWhatYouKill.tryProduce(EatWhatYouKill.java:171)\\n\\tat org.eclipse.jetty.util.thread.strategy.EatWhatYouKill.run(EatWhatYouKill.java:129)\\n\\tat org.eclipse.jetty.util.thread.ReservedThreadExecutor$ReservedThread.run(ReservedThreadExecutor.java:375)\\n\\tat org.eclipse.jetty.util.thread.QueuedThreadPool.runJob(QueuedThreadPool.java:806)\\n\\tat org.eclipse.jetty.util.thread.QueuedThreadPool$Runner.run(QueuedThreadPool.java:938)\\n\\tat java.lang.Thread.run(Thread.java:748)\\nCaused by: java.io.IOException: Fail to import note: Note \\u0027/xp_intro_q5_kafka_custom_ratelimit\\u0027 existed\\n\\t... 64 more\\nCaused by: org.apache.zeppelin.notebook.exception.NotePathAlreadyExistsException: Note \\u0027/xp_intro_q5_kafka_custom_ratelimit\\u0027 existed\\n\\tat org.apache.zeppelin.notebook.NoteManager.addOrUpdateNoteNode(NoteManager.java:124)\\n\\tat org.apache.zeppelin.notebook.NoteManager.addNote(NoteManager.java:196)\\n\\tat org.apache.zeppelin.notebook.Notebook.createNote(Notebook.java:255)\\n\\tat org.apache.zeppelin.notebook.Notebook.createNote(Notebook.java:236)\\n\\tat org.apache.zeppelin.notebook.Notebook.createNote(Notebook.java:203)\\n\\tat org.apache.zeppelin.notebook.Notebook.importNote(Notebook.java:299)\\n\\tat org.apache.zeppelin.service.NotebookService.importNote(NotebookService.java:306)\\n\\t... 63 more\\n\"}../../xp/streambed-nexmark/zeppelin/xp_intro_q8_kafka_2HY93ZEVY.zpln\n"
     ]
    },
    {
     "name": "stderr",
     "output_type": "stream",
     "text": [
      "  % Total    % Received % Xferd  Average Speed   Time    Time     Time  Current\n",
      "                                 Dload  Upload   Total   Spent    Left  Speed\n",
      "100 22865  100  6818  100 16047  1664k  3917k --:--:-- --:--:-- --:--:-- 5582k\n"
     ]
    },
    {
     "name": "stdout",
     "output_type": "stream",
     "text": [
      "{\"exception\":\"IOException\",\"message\":\"java.io.IOException: Fail to import note: Note \\u0027/xp_intro_q8_kafka\\u0027 existed\",\"stacktrace\":\"java.io.IOException: java.io.IOException: Fail to import note: Note \\u0027/xp_intro_q8_kafka\\u0027 existed\\n\\tat org.apache.zeppelin.rest.AbstractRestApi$RestServiceCallback.onFailure(AbstractRestApi.java:54)\\n\\tat org.apache.zeppelin.service.NotebookService.importNote(NotebookService.java:312)\\n\\tat org.apache.zeppelin.rest.NotebookRestApi.importNote(NotebookRestApi.java:369)\\n\\tat sun.reflect.GeneratedMethodAccessor9.invoke(Unknown Source)\\n\\tat sun.reflect.DelegatingMethodAccessorImpl.invoke(DelegatingMethodAccessorImpl.java:43)\\n\\tat java.lang.reflect.Method.invoke(Method.java:498)\\n\\tat org.glassfish.jersey.server.model.internal.ResourceMethodInvocationHandlerFactory.lambda$static$0(ResourceMethodInvocationHandlerFactory.java:52)\\n\\tat org.glassfish.jersey.server.model.internal.AbstractJavaResourceMethodDispatcher$1.run(AbstractJavaResourceMethodDispatcher.java:124)\\n\\tat org.glassfish.jersey.server.model.internal.AbstractJavaResourceMethodDispatcher.invoke(AbstractJavaResourceMethodDispatcher.java:167)\\n\\tat org.glassfish.jersey.server.model.internal.JavaResourceMethodDispatcherProvider$ResponseOutInvoker.doDispatch(JavaResourceMethodDispatcherProvider.java:176)\\n\\tat org.glassfish.jersey.server.model.internal.AbstractJavaResourceMethodDispatcher.dispatch(AbstractJavaResourceMethodDispatcher.java:79)\\n\\tat org.glassfish.jersey.server.model.ResourceMethodInvoker.invoke(ResourceMethodInvoker.java:469)\\n\\tat org.glassfish.jersey.server.model.ResourceMethodInvoker.apply(ResourceMethodInvoker.java:391)\\n\\tat org.glassfish.jersey.server.model.ResourceMethodInvoker.apply(ResourceMethodInvoker.java:80)\\n\\tat org.glassfish.jersey.server.ServerRuntime$1.run(ServerRuntime.java:253)\\n\\tat org.glassfish.jersey.internal.Errors$1.call(Errors.java:248)\\n\\tat org.glassfish.jersey.internal.Errors$1.call(Errors.java:244)\\n\\tat org.glassfish.jersey.internal.Errors.process(Errors.java:292)\\n\\tat org.glassfish.jersey.internal.Errors.process(Errors.java:274)\\n\\tat org.glassfish.jersey.internal.Errors.process(Errors.java:244)\\n\\tat org.glassfish.jersey.process.internal.RequestScope.runInScope(RequestScope.java:265)\\n\\tat org.glassfish.jersey.server.ServerRuntime.process(ServerRuntime.java:232)\\n\\tat org.glassfish.jersey.server.ApplicationHandler.handle(ApplicationHandler.java:680)\\n\\tat org.glassfish.jersey.servlet.WebComponent.serviceImpl(WebComponent.java:394)\\n\\tat org.glassfish.jersey.servlet.WebComponent.service(WebComponent.java:346)\\n\\tat org.glassfish.jersey.servlet.ServletContainer.service(ServletContainer.java:366)\\n\\tat org.glassfish.jersey.servlet.ServletContainer.service(ServletContainer.java:319)\\n\\tat org.glassfish.jersey.servlet.ServletContainer.service(ServletContainer.java:205)\\n\\tat org.eclipse.jetty.servlet.ServletHolder.handle(ServletHolder.java:763)\\n\\tat org.eclipse.jetty.servlet.ServletHandler$CachedChain.doFilter(ServletHandler.java:1651)\\n\\tat org.apache.zeppelin.server.CorsFilter.doFilter(CorsFilter.java:64)\\n\\tat org.eclipse.jetty.servlet.ServletHandler$CachedChain.doFilter(ServletHandler.java:1638)\\n\\tat org.eclipse.jetty.servlet.ServletHandler.doHandle(ServletHandler.java:567)\\n\\tat org.eclipse.jetty.server.handler.ScopedHandler.handle(ScopedHandler.java:143)\\n\\tat org.eclipse.jetty.security.SecurityHandler.handle(SecurityHandler.java:602)\\n\\tat org.eclipse.jetty.server.handler.HandlerWrapper.handle(HandlerWrapper.java:127)\\n\\tat org.eclipse.jetty.server.handler.ScopedHandler.nextHandle(ScopedHandler.java:235)\\n\\tat org.eclipse.jetty.server.session.SessionHandler.doHandle(SessionHandler.java:1610)\\n\\tat org.eclipse.jetty.server.handler.ScopedHandler.nextHandle(ScopedHandler.java:233)\\n\\tat org.eclipse.jetty.server.handler.ContextHandler.doHandle(ContextHandler.java:1377)\\n\\tat org.eclipse.jetty.server.handler.ScopedHandler.nextScope(ScopedHandler.java:188)\\n\\tat org.eclipse.jetty.servlet.ServletHandler.doScope(ServletHandler.java:507)\\n\\tat org.eclipse.jetty.server.session.SessionHandler.doScope(SessionHandler.java:1580)\\n\\tat org.eclipse.jetty.server.handler.ScopedHandler.nextScope(ScopedHandler.java:186)\\n\\tat org.eclipse.jetty.server.handler.ContextHandler.doScope(ContextHandler.java:1292)\\n\\tat org.eclipse.jetty.server.handler.ScopedHandler.handle(ScopedHandler.java:141)\\n\\tat org.eclipse.jetty.server.handler.ContextHandlerCollection.handle(ContextHandlerCollection.java:234)\\n\\tat io.micrometer.core.instrument.binder.jetty.TimedHandler.handle(TimedHandler.java:120)\\n\\tat org.eclipse.jetty.server.handler.HandlerWrapper.handle(HandlerWrapper.java:127)\\n\\tat org.eclipse.jetty.server.Server.handle(Server.java:501)\\n\\tat org.eclipse.jetty.server.HttpChannel.lambda$handle$1(HttpChannel.java:383)\\n\\tat org.eclipse.jetty.server.HttpChannel.dispatch(HttpChannel.java:556)\\n\\tat org.eclipse.jetty.server.HttpChannel.handle(HttpChannel.java:375)\\n\\tat org.eclipse.jetty.server.HttpConnection.onFillable(HttpConnection.java:273)\\n\\tat org.eclipse.jetty.io.AbstractConnection$ReadCallback.succeeded(AbstractConnection.java:311)\\n\\tat org.eclipse.jetty.io.FillInterest.fillable(FillInterest.java:105)\\n\\tat org.eclipse.jetty.io.ChannelEndPoint$1.run(ChannelEndPoint.java:104)\\n\\tat org.eclipse.jetty.util.thread.strategy.EatWhatYouKill.runTask(EatWhatYouKill.java:336)\\n\\tat org.eclipse.jetty.util.thread.strategy.EatWhatYouKill.doProduce(EatWhatYouKill.java:313)\\n\\tat org.eclipse.jetty.util.thread.strategy.EatWhatYouKill.tryProduce(EatWhatYouKill.java:171)\\n\\tat org.eclipse.jetty.util.thread.strategy.EatWhatYouKill.run(EatWhatYouKill.java:129)\\n\\tat org.eclipse.jetty.util.thread.ReservedThreadExecutor$ReservedThread.run(ReservedThreadExecutor.java:375)\\n\\tat org.eclipse.jetty.util.thread.QueuedThreadPool.runJob(QueuedThreadPool.java:806)\\n\\tat org.eclipse.jetty.util.thread.QueuedThreadPool$Runner.run(QueuedThreadPool.java:938)\\n\\tat java.lang.Thread.run(Thread.java:748)\\nCaused by: java.io.IOException: Fail to import note: Note \\u0027/xp_intro_q8_kafka\\u0027 existed\\n\\t... 64 more\\nCaused by: org.apache.zeppelin.notebook.exception.NotePathAlreadyExistsException: Note \\u0027/xp_intro_q8_kafka\\u0027 existed\\n\\tat org.apache.zeppelin.notebook.NoteManager.addOrUpdateNoteNode(NoteManager.java:124)\\n\\tat org.apache.zeppelin.notebook.NoteManager.addNote(NoteManager.java:196)\\n\\tat org.apache.zeppelin.notebook.Notebook.createNote(Notebook.java:255)\\n\\tat org.apache.zeppelin.notebook.Notebook.createNote(Notebook.java:236)\\n\\tat org.apache.zeppelin.notebook.Notebook.createNote(Notebook.java:203)\\n\\tat org.apache.zeppelin.notebook.Notebook.importNote(Notebook.java:299)\\n\\tat org.apache.zeppelin.service.NotebookService.importNote(NotebookService.java:306)\\n\\t... 63 more\\n\"}../../xp/streambed-nexmark/zeppelin/xp_intro_q8_kafka_custom_ratelimit_2HXJ6DCTN.zpln\n"
     ]
    },
    {
     "name": "stderr",
     "output_type": "stream",
     "text": [
      "  % Total    % Received % Xferd  Average Speed   Time    Time     Time  Current\n",
      "                                 Dload  Upload   Total   Spent    Left  Speed\n",
      "100 25780  100  6886  100 18894  1344k  3690k --:--:-- --:--:-- --:--:-- 5035k\n",
      "Defaulted container \"zeppelin-server\" out of: zeppelin-server, zeppelin-server-gateway, dnsmasq, flink-downloader (init)\n",
      "rm: cannot remove '/opt/flink/lib/flink-connector-kafka_2.12-1.14.2.jar': No such file or directory\n",
      "command terminated with exit code 1\n",
      "Defaulted container \"zeppelin-server\" out of: zeppelin-server, zeppelin-server-gateway, dnsmasq, flink-downloader (init)\n",
      "rm: cannot remove '/opt/flink/lib/flink-sql-connector-kafka_2.12-1.14.2.jar': No such file or directory\n",
      "command terminated with exit code 1\n"
     ]
    },
    {
     "name": "stdout",
     "output_type": "stream",
     "text": [
      "{\"exception\":\"IOException\",\"message\":\"java.io.IOException: Fail to import note: Note \\u0027/xp_intro_q8_kafka_custom_ratelimit\\u0027 existed\",\"stacktrace\":\"java.io.IOException: java.io.IOException: Fail to import note: Note \\u0027/xp_intro_q8_kafka_custom_ratelimit\\u0027 existed\\n\\tat org.apache.zeppelin.rest.AbstractRestApi$RestServiceCallback.onFailure(AbstractRestApi.java:54)\\n\\tat org.apache.zeppelin.service.NotebookService.importNote(NotebookService.java:312)\\n\\tat org.apache.zeppelin.rest.NotebookRestApi.importNote(NotebookRestApi.java:369)\\n\\tat sun.reflect.GeneratedMethodAccessor9.invoke(Unknown Source)\\n\\tat sun.reflect.DelegatingMethodAccessorImpl.invoke(DelegatingMethodAccessorImpl.java:43)\\n\\tat java.lang.reflect.Method.invoke(Method.java:498)\\n\\tat org.glassfish.jersey.server.model.internal.ResourceMethodInvocationHandlerFactory.lambda$static$0(ResourceMethodInvocationHandlerFactory.java:52)\\n\\tat org.glassfish.jersey.server.model.internal.AbstractJavaResourceMethodDispatcher$1.run(AbstractJavaResourceMethodDispatcher.java:124)\\n\\tat org.glassfish.jersey.server.model.internal.AbstractJavaResourceMethodDispatcher.invoke(AbstractJavaResourceMethodDispatcher.java:167)\\n\\tat org.glassfish.jersey.server.model.internal.JavaResourceMethodDispatcherProvider$ResponseOutInvoker.doDispatch(JavaResourceMethodDispatcherProvider.java:176)\\n\\tat org.glassfish.jersey.server.model.internal.AbstractJavaResourceMethodDispatcher.dispatch(AbstractJavaResourceMethodDispatcher.java:79)\\n\\tat org.glassfish.jersey.server.model.ResourceMethodInvoker.invoke(ResourceMethodInvoker.java:469)\\n\\tat org.glassfish.jersey.server.model.ResourceMethodInvoker.apply(ResourceMethodInvoker.java:391)\\n\\tat org.glassfish.jersey.server.model.ResourceMethodInvoker.apply(ResourceMethodInvoker.java:80)\\n\\tat org.glassfish.jersey.server.ServerRuntime$1.run(ServerRuntime.java:253)\\n\\tat org.glassfish.jersey.internal.Errors$1.call(Errors.java:248)\\n\\tat org.glassfish.jersey.internal.Errors$1.call(Errors.java:244)\\n\\tat org.glassfish.jersey.internal.Errors.process(Errors.java:292)\\n\\tat org.glassfish.jersey.internal.Errors.process(Errors.java:274)\\n\\tat org.glassfish.jersey.internal.Errors.process(Errors.java:244)\\n\\tat org.glassfish.jersey.process.internal.RequestScope.runInScope(RequestScope.java:265)\\n\\tat org.glassfish.jersey.server.ServerRuntime.process(ServerRuntime.java:232)\\n\\tat org.glassfish.jersey.server.ApplicationHandler.handle(ApplicationHandler.java:680)\\n\\tat org.glassfish.jersey.servlet.WebComponent.serviceImpl(WebComponent.java:394)\\n\\tat org.glassfish.jersey.servlet.WebComponent.service(WebComponent.java:346)\\n\\tat org.glassfish.jersey.servlet.ServletContainer.service(ServletContainer.java:366)\\n\\tat org.glassfish.jersey.servlet.ServletContainer.service(ServletContainer.java:319)\\n\\tat org.glassfish.jersey.servlet.ServletContainer.service(ServletContainer.java:205)\\n\\tat org.eclipse.jetty.servlet.ServletHolder.handle(ServletHolder.java:763)\\n\\tat org.eclipse.jetty.servlet.ServletHandler$CachedChain.doFilter(ServletHandler.java:1651)\\n\\tat org.apache.zeppelin.server.CorsFilter.doFilter(CorsFilter.java:64)\\n\\tat org.eclipse.jetty.servlet.ServletHandler$CachedChain.doFilter(ServletHandler.java:1638)\\n\\tat org.eclipse.jetty.servlet.ServletHandler.doHandle(ServletHandler.java:567)\\n\\tat org.eclipse.jetty.server.handler.ScopedHandler.handle(ScopedHandler.java:143)\\n\\tat org.eclipse.jetty.security.SecurityHandler.handle(SecurityHandler.java:602)\\n\\tat org.eclipse.jetty.server.handler.HandlerWrapper.handle(HandlerWrapper.java:127)\\n\\tat org.eclipse.jetty.server.handler.ScopedHandler.nextHandle(ScopedHandler.java:235)\\n\\tat org.eclipse.jetty.server.session.SessionHandler.doHandle(SessionHandler.java:1610)\\n\\tat org.eclipse.jetty.server.handler.ScopedHandler.nextHandle(ScopedHandler.java:233)\\n\\tat org.eclipse.jetty.server.handler.ContextHandler.doHandle(ContextHandler.java:1377)\\n\\tat org.eclipse.jetty.server.handler.ScopedHandler.nextScope(ScopedHandler.java:188)\\n\\tat org.eclipse.jetty.servlet.ServletHandler.doScope(ServletHandler.java:507)\\n\\tat org.eclipse.jetty.server.session.SessionHandler.doScope(SessionHandler.java:1580)\\n\\tat org.eclipse.jetty.server.handler.ScopedHandler.nextScope(ScopedHandler.java:186)\\n\\tat org.eclipse.jetty.server.handler.ContextHandler.doScope(ContextHandler.java:1292)\\n\\tat org.eclipse.jetty.server.handler.ScopedHandler.handle(ScopedHandler.java:141)\\n\\tat org.eclipse.jetty.server.handler.ContextHandlerCollection.handle(ContextHandlerCollection.java:234)\\n\\tat io.micrometer.core.instrument.binder.jetty.TimedHandler.handle(TimedHandler.java:120)\\n\\tat org.eclipse.jetty.server.handler.HandlerWrapper.handle(HandlerWrapper.java:127)\\n\\tat org.eclipse.jetty.server.Server.handle(Server.java:501)\\n\\tat org.eclipse.jetty.server.HttpChannel.lambda$handle$1(HttpChannel.java:383)\\n\\tat org.eclipse.jetty.server.HttpChannel.dispatch(HttpChannel.java:556)\\n\\tat org.eclipse.jetty.server.HttpChannel.handle(HttpChannel.java:375)\\n\\tat org.eclipse.jetty.server.HttpConnection.onFillable(HttpConnection.java:273)\\n\\tat org.eclipse.jetty.io.AbstractConnection$ReadCallback.succeeded(AbstractConnection.java:311)\\n\\tat org.eclipse.jetty.io.FillInterest.fillable(FillInterest.java:105)\\n\\tat org.eclipse.jetty.io.ChannelEndPoint$1.run(ChannelEndPoint.java:104)\\n\\tat org.eclipse.jetty.util.thread.strategy.EatWhatYouKill.runTask(EatWhatYouKill.java:336)\\n\\tat org.eclipse.jetty.util.thread.strategy.EatWhatYouKill.doProduce(EatWhatYouKill.java:313)\\n\\tat org.eclipse.jetty.util.thread.strategy.EatWhatYouKill.tryProduce(EatWhatYouKill.java:171)\\n\\tat org.eclipse.jetty.util.thread.strategy.EatWhatYouKill.run(EatWhatYouKill.java:129)\\n\\tat org.eclipse.jetty.util.thread.ReservedThreadExecutor$ReservedThread.run(ReservedThreadExecutor.java:375)\\n\\tat org.eclipse.jetty.util.thread.QueuedThreadPool.runJob(QueuedThreadPool.java:806)\\n\\tat org.eclipse.jetty.util.thread.QueuedThreadPool$Runner.run(QueuedThreadPool.java:938)\\n\\tat java.lang.Thread.run(Thread.java:748)\\nCaused by: java.io.IOException: Fail to import note: Note \\u0027/xp_intro_q8_kafka_custom_ratelimit\\u0027 existed\\n\\t... 64 more\\nCaused by: org.apache.zeppelin.notebook.exception.NotePathAlreadyExistsException: Note \\u0027/xp_intro_q8_kafka_custom_ratelimit\\u0027 existed\\n\\tat org.apache.zeppelin.notebook.NoteManager.addOrUpdateNoteNode(NoteManager.java:124)\\n\\tat org.apache.zeppelin.notebook.NoteManager.addNote(NoteManager.java:196)\\n\\tat org.apache.zeppelin.notebook.Notebook.createNote(Notebook.java:255)\\n\\tat org.apache.zeppelin.notebook.Notebook.createNote(Notebook.java:236)\\n\\tat org.apache.zeppelin.notebook.Notebook.createNote(Notebook.java:203)\\n\\tat org.apache.zeppelin.notebook.Notebook.importNote(Notebook.java:299)\\n\\tat org.apache.zeppelin.service.NotebookService.importNote(NotebookService.java:306)\\n\\t... 63 more\\n\"}"
     ]
    },
    {
     "ename": "CalledProcessError",
     "evalue": "Command 'b'\\nexport PATH=$PATH:~/tools\\nexport ZEPPELIN_POD=`kubectl get pods -n manager -o=name | grep zeppelin | sed \"s/^.\\\\{4\\\\}//\"` \\nkubectl wait -n manager pod/$ZEPPELIN_POD --for condition=Ready --timeout=600s\\nexport MANAGER_NODE=`kubectl get node --show-labels |grep tier=manager | awk \\'{print $1}\\'`\\n\\nkubectl -n manager exec $ZEPPELIN_POD -- wget -P /tmp https://repo.maven.apache.org/maven2/org/apache/flink/flink-sql-connector-kafka_2.12/1.14.2/flink-sql-connector-kafka_2.12-1.14.2.jar\\n# nexmark and the rate limit connector should be both in the tmp directory\\nkubectl cp -n manager ../../tmp/flink-sql-connector-kafka-ratelimit_2.12-1.14.2.jar $ZEPPELIN_POD:/tmp/flink-sql-connector-kafka-ratelimit_2.12-1.14.2.jar\\nkubectl cp -n manager ../../tmp/nexmark-flink-0.2-SNAPSHOT.jar $ZEPPELIN_POD:/tmp/nexmark-flink-0.2-SNAPSHOT.jar\\n# upload zeppelin notebooks (replace gros-108 by your manager node address/ip)\\nfor FILE in ../../xp/streambed-nexmark/zeppelin/*.zpln; do echo $FILE; curl ${MANAGER_NODE}:30088/api/notebook/import -d @$FILE; done\\n\\n# remove from \\nkubectl -n manager exec $ZEPPELIN_POD  -- rm /opt/flink/lib/flink-connector-kafka_2.12-1.14.2.jar\\nkubectl -n manager exec $ZEPPELIN_POD  -- rm /opt/flink/lib/flink-sql-connector-kafka_2.12-1.14.2.jar\\n'' returned non-zero exit status 1.",
     "output_type": "error",
     "traceback": [
      "\u001b[0;31m---------------------------------------------------------------------------\u001b[0m",
      "\u001b[0;31mCalledProcessError\u001b[0m                        Traceback (most recent call last)",
      "\u001b[1;32m/home/grosinosky/xp/gepiciad/resource-estimator/infra/g5k/init-cluster-resa.ipynb Cell 15\u001b[0m in \u001b[0;36m<module>\u001b[0;34m\u001b[0m\n\u001b[0;32m----> <a href='vscode-notebook-cell://ssh-remote%2Bnancy.g5k/home/grosinosky/xp/gepiciad/resource-estimator/infra/g5k/init-cluster-resa.ipynb#X20sdnNjb2RlLXJlbW90ZQ%3D%3D?line=0'>1</a>\u001b[0m get_ipython()\u001b[39m.\u001b[39;49mrun_cell_magic(\u001b[39m'\u001b[39;49m\u001b[39mbash\u001b[39;49m\u001b[39m'\u001b[39;49m, \u001b[39m'\u001b[39;49m\u001b[39m'\u001b[39;49m, \u001b[39m'\u001b[39;49m\u001b[39m\\n\u001b[39;49;00m\u001b[39mexport PATH=$PATH:~/tools\u001b[39;49m\u001b[39m\\n\u001b[39;49;00m\u001b[39mexport ZEPPELIN_POD=`kubectl get pods -n manager -o=name | grep zeppelin | sed \u001b[39;49m\u001b[39m\"\u001b[39;49m\u001b[39ms/^.\u001b[39;49m\u001b[39m\\\\\u001b[39;49;00m\u001b[39m{\u001b[39;49m\u001b[39m4\u001b[39;49m\u001b[39m\\\\\u001b[39;49;00m\u001b[39m}//\u001b[39;49m\u001b[39m\"\u001b[39;49m\u001b[39m` \u001b[39;49m\u001b[39m\\n\u001b[39;49;00m\u001b[39mkubectl wait -n manager pod/$ZEPPELIN_POD --for condition=Ready --timeout=600s\u001b[39;49m\u001b[39m\\n\u001b[39;49;00m\u001b[39mexport MANAGER_NODE=`kubectl get node --show-labels |grep tier=manager | awk \u001b[39;49m\u001b[39m\\'\u001b[39;49;00m\u001b[39m{\u001b[39;49m\u001b[39mprint $1}\u001b[39;49m\u001b[39m\\'\u001b[39;49;00m\u001b[39m`\u001b[39;49m\u001b[39m\\n\u001b[39;49;00m\u001b[39m\\n\u001b[39;49;00m\u001b[39mkubectl -n manager exec $ZEPPELIN_POD -- wget -P /tmp https://repo.maven.apache.org/maven2/org/apache/flink/flink-sql-connector-kafka_2.12/1.14.2/flink-sql-connector-kafka_2.12-1.14.2.jar\u001b[39;49m\u001b[39m\\n\u001b[39;49;00m\u001b[39m# nexmark and the rate limit connector should be both in the tmp directory\u001b[39;49m\u001b[39m\\n\u001b[39;49;00m\u001b[39mkubectl cp -n manager ../../tmp/flink-sql-connector-kafka-ratelimit_2.12-1.14.2.jar $ZEPPELIN_POD:/tmp/flink-sql-connector-kafka-ratelimit_2.12-1.14.2.jar\u001b[39;49m\u001b[39m\\n\u001b[39;49;00m\u001b[39mkubectl cp -n manager ../../tmp/nexmark-flink-0.2-SNAPSHOT.jar $ZEPPELIN_POD:/tmp/nexmark-flink-0.2-SNAPSHOT.jar\u001b[39;49m\u001b[39m\\n\u001b[39;49;00m\u001b[39m# upload zeppelin notebooks (replace gros-108 by your manager node address/ip)\u001b[39;49m\u001b[39m\\n\u001b[39;49;00m\u001b[39mfor FILE in ../../xp/streambed-nexmark/zeppelin/*.zpln; do echo $FILE; curl $\u001b[39;49m\u001b[39m{MANAGER_NODE}\u001b[39;49;00m\u001b[39m:30088/api/notebook/import -d @$FILE; done\u001b[39;49m\u001b[39m\\n\u001b[39;49;00m\u001b[39m\\n\u001b[39;49;00m\u001b[39m# remove from \u001b[39;49m\u001b[39m\\n\u001b[39;49;00m\u001b[39mkubectl -n manager exec $ZEPPELIN_POD  -- rm /opt/flink/lib/flink-connector-kafka_2.12-1.14.2.jar\u001b[39;49m\u001b[39m\\n\u001b[39;49;00m\u001b[39mkubectl -n manager exec $ZEPPELIN_POD  -- rm /opt/flink/lib/flink-sql-connector-kafka_2.12-1.14.2.jar\u001b[39;49m\u001b[39m\\n\u001b[39;49;00m\u001b[39m'\u001b[39;49m)\n",
      "File \u001b[0;32m~/.local/lib/python3.9/site-packages/IPython/core/interactiveshell.py:2257\u001b[0m, in \u001b[0;36mInteractiveShell.run_cell_magic\u001b[0;34m(self, magic_name, line, cell)\u001b[0m\n\u001b[1;32m   2255\u001b[0m \u001b[39mwith\u001b[39;00m \u001b[39mself\u001b[39m\u001b[39m.\u001b[39mbuiltin_trap:\n\u001b[1;32m   2256\u001b[0m     args \u001b[39m=\u001b[39m (magic_arg_s, cell)\n\u001b[0;32m-> 2257\u001b[0m     result \u001b[39m=\u001b[39m fn(\u001b[39m*\u001b[39;49margs, \u001b[39m*\u001b[39;49m\u001b[39m*\u001b[39;49mkwargs)\n\u001b[1;32m   2258\u001b[0m \u001b[39mreturn\u001b[39;00m result\n",
      "File \u001b[0;32m~/.local/lib/python3.9/site-packages/IPython/core/magics/script.py:153\u001b[0m, in \u001b[0;36mScriptMagics._make_script_magic.<locals>.named_script_magic\u001b[0;34m(line, cell)\u001b[0m\n\u001b[1;32m    151\u001b[0m \u001b[39melse\u001b[39;00m:\n\u001b[1;32m    152\u001b[0m     line \u001b[39m=\u001b[39m script\n\u001b[0;32m--> 153\u001b[0m \u001b[39mreturn\u001b[39;00m \u001b[39mself\u001b[39;49m\u001b[39m.\u001b[39;49mshebang(line, cell)\n",
      "File \u001b[0;32m~/.local/lib/python3.9/site-packages/IPython/core/magics/script.py:305\u001b[0m, in \u001b[0;36mScriptMagics.shebang\u001b[0;34m(self, line, cell)\u001b[0m\n\u001b[1;32m    300\u001b[0m \u001b[39mif\u001b[39;00m args\u001b[39m.\u001b[39mraise_error \u001b[39mand\u001b[39;00m p\u001b[39m.\u001b[39mreturncode \u001b[39m!=\u001b[39m \u001b[39m0\u001b[39m:\n\u001b[1;32m    301\u001b[0m     \u001b[39m# If we get here and p.returncode is still None, we must have\u001b[39;00m\n\u001b[1;32m    302\u001b[0m     \u001b[39m# killed it but not yet seen its return code. We don't wait for it,\u001b[39;00m\n\u001b[1;32m    303\u001b[0m     \u001b[39m# in case it's stuck in uninterruptible sleep. -9 = SIGKILL\u001b[39;00m\n\u001b[1;32m    304\u001b[0m     rc \u001b[39m=\u001b[39m p\u001b[39m.\u001b[39mreturncode \u001b[39mor\u001b[39;00m \u001b[39m-\u001b[39m\u001b[39m9\u001b[39m\n\u001b[0;32m--> 305\u001b[0m     \u001b[39mraise\u001b[39;00m CalledProcessError(rc, cell)\n",
      "\u001b[0;31mCalledProcessError\u001b[0m: Command 'b'\\nexport PATH=$PATH:~/tools\\nexport ZEPPELIN_POD=`kubectl get pods -n manager -o=name | grep zeppelin | sed \"s/^.\\\\{4\\\\}//\"` \\nkubectl wait -n manager pod/$ZEPPELIN_POD --for condition=Ready --timeout=600s\\nexport MANAGER_NODE=`kubectl get node --show-labels |grep tier=manager | awk \\'{print $1}\\'`\\n\\nkubectl -n manager exec $ZEPPELIN_POD -- wget -P /tmp https://repo.maven.apache.org/maven2/org/apache/flink/flink-sql-connector-kafka_2.12/1.14.2/flink-sql-connector-kafka_2.12-1.14.2.jar\\n# nexmark and the rate limit connector should be both in the tmp directory\\nkubectl cp -n manager ../../tmp/flink-sql-connector-kafka-ratelimit_2.12-1.14.2.jar $ZEPPELIN_POD:/tmp/flink-sql-connector-kafka-ratelimit_2.12-1.14.2.jar\\nkubectl cp -n manager ../../tmp/nexmark-flink-0.2-SNAPSHOT.jar $ZEPPELIN_POD:/tmp/nexmark-flink-0.2-SNAPSHOT.jar\\n# upload zeppelin notebooks (replace gros-108 by your manager node address/ip)\\nfor FILE in ../../xp/streambed-nexmark/zeppelin/*.zpln; do echo $FILE; curl ${MANAGER_NODE}:30088/api/notebook/import -d @$FILE; done\\n\\n# remove from \\nkubectl -n manager exec $ZEPPELIN_POD  -- rm /opt/flink/lib/flink-connector-kafka_2.12-1.14.2.jar\\nkubectl -n manager exec $ZEPPELIN_POD  -- rm /opt/flink/lib/flink-sql-connector-kafka_2.12-1.14.2.jar\\n'' returned non-zero exit status 1."
     ]
    }
   ],
   "source": [
    "%%bash\n",
    "pwd\n",
    "export PATH=$PATH:~/tools\n",
    "export ZEPPELIN_POD=`kubectl get pods -n manager -o=name | grep zeppelin | sed \"s/^.\\{4\\}//\"` \n",
    "kubectl wait -n manager pod/$ZEPPELIN_POD --for condition=Ready --timeout=600s\n",
    "export MANAGER_NODE=`kubectl get node --show-labels |grep tier=manager | awk '{print $1}'`\n",
    "\n",
    "kubectl -n manager exec $ZEPPELIN_POD -- wget -P /tmp https://repo.maven.apache.org/maven2/org/apache/flink/flink-sql-connector-kafka_2.12/1.14.2/flink-sql-connector-kafka_2.12-1.14.2.jar\n",
    "# nexmark and the rate limit connector should be both in the tmp directory\n",
    "kubectl cp -n manager ../../tmp/flink-sql-connector-kafka-ratelimit_2.12-1.14.2.jar $ZEPPELIN_POD:/tmp/flink-sql-connector-kafka-ratelimit_2.12-1.14.2.jar\n",
    "kubectl cp -n manager ../../tmp/nexmark-flink-0.2-SNAPSHOT.jar $ZEPPELIN_POD:/tmp/nexmark-flink-0.2-SNAPSHOT.jar\n",
    "# upload zeppelin notebooks\n",
    "for FILE in ../../xp/streambed-nexmark/zeppelin/*.zpln; do echo $FILE; curl ${MANAGER_NODE}:30088/api/notebook/import -d @$FILE; done\n",
    "# set Flink interpreter to isolated mode (with default parameters)\n",
    "curl -X PUT  ${MANAGER_NODE}:30088/api/interpreter/setting/flink -H 'Content-Type: application/json' -d @../common/zeppelin-flink-config.json\n",
    "# remove from \n",
    "kubectl -n manager exec $ZEPPELIN_POD  -- rm /opt/flink/lib/flink-connector-kafka_2.12-1.14.2.jar\n",
    "kubectl -n manager exec $ZEPPELIN_POD  -- rm /opt/flink/lib/flink-sql-connector-kafka_2.12-1.14.2.jar\n",
    "curl -u \"admin:prom-operator\" -X POST ${MANAGER_NODE}:30300/api/dashboards/import -H 'Content-Type: application/json' -d \"{\\\"Dashboard\\\":$(cat ../common/grafana.json)}\""
   ]
  },
  {
   "attachments": {},
   "cell_type": "markdown",
   "id": "a226372e-9484-4d40-87cb-1740fd1fa8d1",
   "metadata": {},
   "source": [
    "Import [Flink dashboard](https://grafana.com/grafana/dashboards/14911) in Grafana."
   ]
  },
  {
   "attachments": {},
   "cell_type": "markdown",
   "id": "bef09532-c6d0-4ae9-afcf-0c600d131334",
   "metadata": {},
   "source": [
    "## Strimzi Kafka operator installation \n",
    "\n",
    "Installation based on https://strimzi.io/quickstarts/ and https://strimzi.io/docs/operators/in-development/quickstart.html#proc-install-product-str\n",
    "The operator and the Kafka clusters and dependencies will deploy in the kafka namespace. \n",
    "Caution: operator seems can take time to make reconciliation especially in case of non working deployment. Please check the pod operator logs if something is not working.\n",
    "\n",
    "A Kafka cluster sample is available in tpcds directory."
   ]
  }
 ],
 "metadata": {
  "kernelspec": {
   "display_name": "Python 3 (ipykernel)",
   "language": "python",
   "name": "python3"
  },
  "language_info": {
   "codemirror_mode": {
    "name": "ipython",
    "version": 3
   },
   "file_extension": ".py",
   "mimetype": "text/x-python",
   "name": "python",
   "nbconvert_exporter": "python",
   "pygments_lexer": "ipython3",
   "version": "3.9.2"
  },
  "vscode": {
   "interpreter": {
    "hash": "31f2aee4e71d21fbe5cf8b01ff0e069b9275f58929596ceb00d14d90e3e16cd6"
   }
  }
 },
 "nbformat": 4,
 "nbformat_minor": 5
}
